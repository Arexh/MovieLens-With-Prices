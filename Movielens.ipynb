{
 "cells": [
  {
   "cell_type": "code",
   "execution_count": 11,
   "id": "8ee5bbf7",
   "metadata": {},
   "outputs": [],
   "source": [
    "import tqdm\n",
    "import urllib\n",
    "import os.path\n",
    "import sqlite3\n",
    "import pandas as pd\n",
    "from bs4 import BeautifulSoup as bf\n",
    "\n",
    "\n",
    "AMAZON_URL = \"https://www.amazon.com/s?k={}&i=movies-tv\"\n",
    "AMAZON_URL_HEAD = \"https://www.amazon.com\"\n",
    "HEADERS = ['User-Agent', 'Mozilla/5.0 (Windows NT 10.0; Win64; x64) AppleWebKit/537.36 (KHTML, like Gecko) Chrome/75.0.3770.142 Safari/537.36']\n",
    "\n",
    "MOVIELENS_PATH = './'\n",
    "OUTPUT_CSV = \"./prices.csv\"\n",
    "DATABASE_PATH = \"./database.db\""
   ]
  },
  {
   "cell_type": "markdown",
   "id": "8d011ddf-b003-4358-989c-a8ade30ee1dc",
   "metadata": {},
   "source": [
    "### Load movies.csv and links.csv"
   ]
  },
  {
   "cell_type": "code",
   "execution_count": 2,
   "id": "3609c8db-de9b-4996-ae2b-a0949b1cc138",
   "metadata": {},
   "outputs": [
    {
     "name": "stdout",
     "output_type": "stream",
     "text": [
      "  movieId                               title  \\\n",
      "0       1                    Toy Story (1995)   \n",
      "1       2                      Jumanji (1995)   \n",
      "2       3             Grumpier Old Men (1995)   \n",
      "3       4            Waiting to Exhale (1995)   \n",
      "4       5  Father of the Bride Part II (1995)   \n",
      "\n",
      "                                        genres  \n",
      "0  Adventure|Animation|Children|Comedy|Fantasy  \n",
      "1                   Adventure|Children|Fantasy  \n",
      "2                               Comedy|Romance  \n",
      "3                         Comedy|Drama|Romance  \n",
      "4                                       Comedy  \n",
      "  movieId   imdbId tmdbId\n",
      "0       1  0114709    862\n",
      "1       2  0113497   8844\n",
      "2       3  0113228  15602\n",
      "3       4  0114885  31357\n",
      "4       5  0113041  11862\n"
     ]
    }
   ],
   "source": [
    "movies_df = pd.read_csv(MOVIELENS_PATH + 'movies.csv', dtype=str)\n",
    "print(movies_df.head())\n",
    "\n",
    "links_df = pd.read_csv(MOVIELENS_PATH + 'links.csv',dtype=str)\n",
    "print(links_df.head())"
   ]
  },
  {
   "cell_type": "markdown",
   "id": "c6b385a5-ae27-49e6-a586-7b2282a913b0",
   "metadata": {},
   "source": [
    "### Join movies_df and links_df by movieId"
   ]
  },
  {
   "cell_type": "code",
   "execution_count": 3,
   "id": "d6582222-a565-4911-b0fb-e060c93c322f",
   "metadata": {},
   "outputs": [
    {
     "name": "stdout",
     "output_type": "stream",
     "text": [
      "  movieId                               title  \\\n",
      "0       1                    Toy Story (1995)   \n",
      "1       2                      Jumanji (1995)   \n",
      "2       3             Grumpier Old Men (1995)   \n",
      "3       4            Waiting to Exhale (1995)   \n",
      "4       5  Father of the Bride Part II (1995)   \n",
      "\n",
      "                                        genres   imdbId tmdbId  \n",
      "0  Adventure|Animation|Children|Comedy|Fantasy  0114709    862  \n",
      "1                   Adventure|Children|Fantasy  0113497   8844  \n",
      "2                               Comedy|Romance  0113228  15602  \n",
      "3                         Comedy|Drama|Romance  0114885  31357  \n",
      "4                                       Comedy  0113041  11862  \n"
     ]
    }
   ],
   "source": [
    "merged_df = pd.merge(movies_df, links_df, on='movieId')\n",
    "print(merged_df.head())"
   ]
  },
  {
   "cell_type": "markdown",
   "id": "278c16b7-eb8b-47e0-83d9-7840079294f8",
   "metadata": {},
   "source": [
    "### Create Database and Table\n",
    "\n",
    "Table structure: movieId (int)，imdbId (varchar30), title (varchar50), pageUrl (varchar300), price (double)"
   ]
  },
  {
   "cell_type": "code",
   "execution_count": 4,
   "id": "8a62f076-8c8f-44bf-be55-e87ac945ccb5",
   "metadata": {},
   "outputs": [],
   "source": [
    "database = sqlite3.connect(DATABASE_PATH)\n",
    "cursor = database.cursor()\n",
    "cursor.execute('create table if not exists prices (movieId integer primary key, imdbId varchar(30) NOT NULL, title varchar(50) NOT NULL, pageUrl varchar(300), price double)')\n",
    "database.commit()"
   ]
  },
  {
   "cell_type": "markdown",
   "id": "d5540aee-6767-4fc6-b5cc-decd85fd2880",
   "metadata": {},
   "source": [
    "### Query exist tables"
   ]
  },
  {
   "cell_type": "code",
   "execution_count": 5,
   "id": "2a08b91a-c6c0-4470-9918-d6a65be2d6b3",
   "metadata": {},
   "outputs": [
    {
     "name": "stdout",
     "output_type": "stream",
     "text": [
      "Current table:  [('prices',)]\n"
     ]
    }
   ],
   "source": [
    "cursor.execute(\"SELECT name FROM sqlite_master WHERE type='table';\")\n",
    "print(\"Current table: \", cursor.fetchall())"
   ]
  },
  {
   "cell_type": "markdown",
   "id": "b7a7502a-bd36-46fe-a612-2850f4ee2a2e",
   "metadata": {},
   "source": [
    "### Query table structure"
   ]
  },
  {
   "cell_type": "code",
   "execution_count": 6,
   "id": "a79c5f2b-0102-41ad-8bd6-f0b119a77961",
   "metadata": {},
   "outputs": [
    {
     "name": "stdout",
     "output_type": "stream",
     "text": [
      "Table prices:  [(0, 'movieId', 'integer', 0, None, 1), (1, 'imdbId', 'varchar(30)', 1, None, 0), (2, 'title', 'varchar(50)', 1, None, 0), (3, 'pageUrl', 'varchar(300)', 0, None, 0), (4, 'price', 'double', 0, None, 0)]\n"
     ]
    }
   ],
   "source": [
    "cursor.execute(\"PRAGMA table_info(prices)\")\n",
    "print(\"Table prices: \", cursor.fetchall())"
   ]
  },
  {
   "cell_type": "markdown",
   "id": "b285d66a-8f90-4358-b2c7-71159e53fd70",
   "metadata": {},
   "source": [
    "### Insert movie data if not exist"
   ]
  },
  {
   "cell_type": "code",
   "execution_count": 7,
   "id": "6fb6dad0-f26a-4f5b-bd7e-34766dea65a8",
   "metadata": {},
   "outputs": [
    {
     "name": "stderr",
     "output_type": "stream",
     "text": [
      "Processing row 27277: 100%|██████████| 27278/27278 [00:46<00:00, 586.46it/s]\n"
     ]
    }
   ],
   "source": [
    "row_num = merged_df.shape[0]\n",
    "pbar = tqdm.trange(row_num, position=0, leave=True)\n",
    "for i in pbar:\n",
    "    pbar.set_description(\"Processing row %d\" % i)\n",
    "    row_item = merged_df.iloc[i]\n",
    "    cursor.execute(\"SELECT * FROM prices WHERE movieId = ?;\", (int(row_item['movieId']),))\n",
    "    if len(cursor.fetchall()) == 0:\n",
    "        cursor.execute(\"INSERT INTO prices (movieId, imdbId, title, pageUrl, price) VALUES (?, ?, ?, NULL, NULL)\",\n",
    "                       (int(row_item['movieId']), row_item['imdbId'], row_item['title']))\n",
    "        database.commit()"
   ]
  },
  {
   "cell_type": "markdown",
   "id": "b1de01fe-4bfc-4c50-ba4c-21f412d3538e",
   "metadata": {},
   "source": [
    "### Display first 5 data from database"
   ]
  },
  {
   "cell_type": "code",
   "execution_count": 8,
   "id": "7a38e6e2-5bab-4bca-8ce1-a888fbeb58ab",
   "metadata": {},
   "outputs": [
    {
     "name": "stdout",
     "output_type": "stream",
     "text": [
      "[(1, '0114709', 'Toy Story (1995)', None, None), (2, '0113497', 'Jumanji (1995)', None, None), (3, '0113228', 'Grumpier Old Men (1995)', None, None), (4, '0114885', 'Waiting to Exhale (1995)', None, None), (5, '0113041', 'Father of the Bride Part II (1995)', None, None), (6, '0113277', 'Heat (1995)', None, None), (7, '0114319', 'Sabrina (1995)', None, None), (8, '0112302', 'Tom and Huck (1995)', None, None), (9, '0114576', 'Sudden Death (1995)', None, None), (10, '0113189', 'GoldenEye (1995)', None, None)]\n"
     ]
    }
   ],
   "source": [
    "cursor.execute(\"SELECT * FROM prices LIMIT 0, 10;\")\n",
    "print(cursor.fetchall())"
   ]
  },
  {
   "cell_type": "code",
   "execution_count": 9,
   "id": "7d9902ad-de47-468d-9665-9771e7db5773",
   "metadata": {},
   "outputs": [],
   "source": [
    "def getPageUrl(title):\n",
    "    url = AMAZON_URL.format(title.replace(\" \", \"+\"))\n",
    "    req = urllib.request.Request(url)\n",
    "    req.add_header(HEADERS[0], HEADERS[1])\n",
    "    html = urllib.request.urlopen(req)\n",
    "    obj = bf(html.read(),'html.parser')\n",
    "    firstItem = obj.body.find_all('div',class_=\"a-section a-spacing-medium\")[0]\n",
    "    aElement = firstItem.find_all('a', class_=\"a-link-normal a-text-normal\")[0]\n",
    "    pageUrl = AMAZON_URL_HEAD + aElement['href']\n",
    "    return pageUrl\n",
    "\n",
    "def removeBrackets(title):\n",
    "    return title[:-7] + \" \" + title[-5:-1]"
   ]
  },
  {
   "cell_type": "code",
   "execution_count": 12,
   "id": "c31c5ede-1f9c-4ab6-baf6-04d64aa773e2",
   "metadata": {},
   "outputs": [
    {
     "data": {
      "text/plain": [
       "'https://www.amazon.com/Grumpier-Old-Men-Jack-Lemmon/dp/B00AUOUG8W/ref=sr_1_1?dchild=1&keywords=Grumpier+Old+Men+1995&qid=1619251071&s=movies-tv&sr=1-1'"
      ]
     },
     "execution_count": 12,
     "metadata": {},
     "output_type": "execute_result"
    }
   ],
   "source": [
    "getPageUrl(removeBrackets(\"Grumpier Old Men (1995)\"))"
   ]
  },
  {
   "cell_type": "code",
   "execution_count": null,
   "id": "38d08bc3-cc80-409b-bc82-21718bd2f7a7",
   "metadata": {},
   "outputs": [
    {
     "name": "stderr",
     "output_type": "stream",
     "text": [
      "Processing row 29:   0%|          | 28/27278 [00:56<14:48:08,  1.96s/it]"
     ]
    },
    {
     "name": "stdout",
     "output_type": "stream",
     "text": [
      "Exception at row 28\n"
     ]
    },
    {
     "name": "stderr",
     "output_type": "stream",
     "text": [
      "Processing row 42:   0%|          | 42/27278 [01:20<12:12:03,  1.61s/it]"
     ]
    },
    {
     "name": "stdout",
     "output_type": "stream",
     "text": [
      "Exception at row 41\n"
     ]
    },
    {
     "name": "stderr",
     "output_type": "stream",
     "text": [
      "Processing row 46:   0%|          | 46/27278 [01:26<10:15:49,  1.36s/it]"
     ]
    },
    {
     "name": "stdout",
     "output_type": "stream",
     "text": [
      "Exception at row 45\n"
     ]
    },
    {
     "name": "stderr",
     "output_type": "stream",
     "text": [
      "Processing row 49:   0%|          | 49/27278 [01:29<6:45:20,  1.12it/s] "
     ]
    },
    {
     "name": "stdout",
     "output_type": "stream",
     "text": [
      "Exception at row 47\n",
      "Exception at row 48\n"
     ]
    },
    {
     "name": "stderr",
     "output_type": "stream",
     "text": [
      "Processing row 50:   0%|          | 50/27278 [01:29<5:07:53,  1.47it/s]"
     ]
    },
    {
     "name": "stdout",
     "output_type": "stream",
     "text": [
      "Exception at row 49\n"
     ]
    },
    {
     "name": "stderr",
     "output_type": "stream",
     "text": [
      "Processing row 51:   0%|          | 51/27278 [01:31<8:29:28,  1.12s/it]"
     ]
    }
   ],
   "source": [
    "cursor.execute(\"SELECT * FROM prices;\")\n",
    "movie_list = cursor.fetchall()\n",
    "pbar = tqdm.tqdm(range(len(movie_list)))\n",
    "for i in pbar:\n",
    "    try:\n",
    "        pbar.set_description(\"Processing row %d\" % i)\n",
    "        m = movie_list[i]\n",
    "        movie_id = m[0]\n",
    "        movie_title = m[2]\n",
    "        page_url = m[3]\n",
    "        if page_url is None:\n",
    "            page_url = getPageUrl(removeBrackets(movie_title))\n",
    "            cursor.execute(\"UPDATE prices SET pageUrl = ? WHERE movieId = ?;\", (page_url, movie_id))\n",
    "            database.commit()\n",
    "    except UserAbort:\n",
    "        break\n",
    "    except KeyboardInterrupt:\n",
    "        sys.exit()\n",
    "        pass\n",
    "    except Exception as e:\n",
    "        print(\"Exception at row %d\" % i)\n",
    "        print(e)\n",
    "        continue"
   ]
  },
  {
   "cell_type": "code",
   "execution_count": 122,
   "id": "08f55c4d",
   "metadata": {},
   "outputs": [
    {
     "name": "stdout",
     "output_type": "stream",
     "text": [
      "[(1, '0114709', 'Toy Story (1995)', 'https://www.amazon.com/Toy-Story-Tim-Allen/dp/B0094KTAEY/ref=sr_1_1?dchild=1&keywords=Toy+Story+1995&qid=1619250694&s=movies-tv&sr=1-1', None), (2, '0113497', 'Jumanji (1995)', 'https://www.amazon.com/Jumanji-Robin-Williams/dp/B00BZBQ4GW/ref=sr_1_1?dchild=1&keywords=Jumanji+1995&qid=1619250716&s=movies-tv&sr=1-1', None), (3, '0113228', 'Grumpier Old Men (1995)', 'https://www.amazon.com/Grumpier-Old-Men-Jack-Lemmon/dp/B00AUOUG8W/ref=sr_1_1?dchild=1&keywords=Grumpier+Old+Men+1995&qid=1619250718&s=movies-tv&sr=1-1', None), (4, '0114885', 'Waiting to Exhale (1995)', 'https://www.amazon.com/gp/slredirect/picassoRedirect.html/ref=pa_sp_atf_movies-tv_sr_pg1_1?ie=UTF8&adId=A04628882O8G5S747EVCD&url=%2FWaiting-Exhale-Heartbeats-Soulfood-Feature%2Fdp%2FB013LWX212%2Fref%3Dsr_1_1_sspa%3Fdchild%3D1%26keywords%3DWaiting%2Bto%2BExhale%2B1995%26qid%3D1619250720%26s%3Dmovies-tv%26sr%3D1-1-spons%26psc%3D1%26smid%3DAB1108BA04GDD&qualifier=1619250720&id=2674661058389563&widgetName=sp_atf', None), (5, '0113041', 'Father of the Bride Part II (1995)', 'https://www.amazon.com/Father-Bride-Part-2/dp/B000006IJU/ref=sr_1_1?dchild=1&keywords=Father+of+the+Bride+Part+II+1995&qid=1619250724&s=movies-tv&sr=1-1', None), (6, '0113277', 'Heat (1995)', 'https://www.amazon.com/Goodfellas-Heat-DBFE-BD-Blu-ray/dp/B00PJH9O0G/ref=sr_1_1?dchild=1&keywords=Heat+1995&qid=1619250727&s=movies-tv&sr=1-1', None), (7, '0114319', 'Sabrina (1995)', 'https://www.amazon.com/gp/slredirect/picassoRedirect.html/ref=pa_sp_atf_movies-tv_sr_pg1_1?ie=UTF8&adId=A004958137H11V6GVC3T5&url=%2FSabrina-HD-Remastering-Audrey-Hepburn%2Fdp%2FB07NFDFNVZ%2Fref%3Dsr_1_1_sspa%3Fdchild%3D1%26keywords%3DSabrina%2B1995%26qid%3D1619250729%26s%3Dmovies-tv%26sr%3D1-1-spons%26psc%3D1&qualifier=1619250729&id=6664996667060575&widgetName=sp_atf', None), (8, '0112302', 'Tom and Huck (1995)', 'https://www.amazon.com/Tom-Huck-Jonathan-Taylor-Thomas/dp/B006G3CWL0/ref=sr_1_1?dchild=1&keywords=Tom+and+Huck+1995&qid=1619250732&s=movies-tv&sr=1-1', None), (9, '0114576', 'Sudden Death (1995)', 'https://www.amazon.com/Sudden-Death-Jean-Claude-Van-Damme/dp/B002YH1ZWO/ref=sr_1_1?dchild=1&keywords=Sudden+Death+1995&qid=1619250736&s=movies-tv&sr=1-1', None), (10, '0113189', 'GoldenEye (1995)', 'https://www.amazon.com/Goldeneye-Pierce-Brosnan-James-Bond/dp/B009GEH5NG/ref=sr_1_1?dchild=1&keywords=GoldenEye+1995&qid=1619250738&s=movies-tv&sr=1-1', None)]\n"
     ]
    }
   ],
   "source": []
  },
  {
   "cell_type": "markdown",
   "id": "dbffab32-3a1e-42b1-b1b4-11804c4bb3de",
   "metadata": {},
   "source": [
    "### Load data from database to Dataframe"
   ]
  },
  {
   "cell_type": "code",
   "execution_count": null,
   "id": "1e4585ab-9964-4e87-b9ce-b66e5903883b",
   "metadata": {},
   "outputs": [
    {
     "name": "stderr",
     "output_type": "stream",
     "text": [
      "Processing 1:  77%|███████▋  | 20920/27278 [01:58<00:37, 170.03it/s]"
     ]
    }
   ],
   "source": [
    "output_df = pd.DataFrame(columns=['movieId', 'title', 'pageUrl', 'price'])\n",
    "cursor.execute(\"SELECT * FROM prices;\")\n",
    "pbar = tqdm.tqdm(cursor.fetchall(), position=0, leave=True)\n",
    "for row in pbar:\n",
    "    pbar.set_description(\"Processing %d\" % 1)\n",
    "    row_dict = {'movieId': row[0], 'title': row[1], 'pageUrl': row[2], 'price': row[3]}\n",
    "    output_df = output_df.append(row_dict, ignore_index=True)"
   ]
  },
  {
   "cell_type": "markdown",
   "id": "84abc5d2-f9f1-4f5e-a799-01b80731e967",
   "metadata": {},
   "source": [
    "### Write into CSV file"
   ]
  },
  {
   "cell_type": "code",
   "execution_count": 121,
   "id": "ec153461-fe49-4d53-a55c-c12842db5362",
   "metadata": {},
   "outputs": [],
   "source": [
    "output_df.to_csv(OUTPUT_CSV, index=False)"
   ]
  },
  {
   "cell_type": "code",
   "execution_count": 24,
   "id": "cb038d54-b5b0-446a-a94e-328f479d4c9b",
   "metadata": {},
   "outputs": [
    {
     "data": {
      "text/plain": [
       "'Jumanji 1995'"
      ]
     },
     "execution_count": 24,
     "metadata": {},
     "output_type": "execute_result"
    }
   ],
   "source": [
    "'Jumanji (1995)'."
   ]
  },
  {
   "cell_type": "code",
   "execution_count": 2,
   "id": "2c980032-f0b9-4ea2-bb09-765e97571f11",
   "metadata": {},
   "outputs": [],
   "source": [
    "!open ."
   ]
  },
  {
   "cell_type": "code",
   "execution_count": null,
   "id": "8defd0cc-7566-4ac0-9614-d3ee50abd96d",
   "metadata": {},
   "outputs": [],
   "source": []
  }
 ],
 "metadata": {
  "kernelspec": {
   "display_name": "Python 3",
   "language": "python",
   "name": "python3"
  },
  "language_info": {
   "codemirror_mode": {
    "name": "ipython",
    "version": 3
   },
   "file_extension": ".py",
   "mimetype": "text/x-python",
   "name": "python",
   "nbconvert_exporter": "python",
   "pygments_lexer": "ipython3",
   "version": "3.9.4"
  }
 },
 "nbformat": 4,
 "nbformat_minor": 5
}
