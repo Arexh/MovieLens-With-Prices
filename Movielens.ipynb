{
 "cells": [
  {
   "cell_type": "code",
   "execution_count": 1,
   "metadata": {},
   "outputs": [],
   "source": [
    "import tqdm\n",
    "import urllib\n",
    "import os.path\n",
    "import sqlite3\n",
    "import pandas as pd\n",
    "import re\n",
    "import numpy as np\n",
    "import requests\n",
    "import requests_random_user_agent\n",
    "import threading\n",
    "from w3lib.url import safe_url_string\n",
    "from urllib.parse import urlparse, urlunparse\n",
    "from bs4 import BeautifulSoup as bf\n",
    "\n",
    "\n",
    "AMAZON_URL = \"https://www.amazon.com/s?k={}&i=movies-tv\"\n",
    "AMAZON_URL_HEAD = \"https://www.amazon.com\"\n",
    "IMDB_URL =  \"https://www.imdb.com/title/tt{}/?ref_=fn_al_tt_1\"\n",
    "\n",
    "MOVIELENS_PATH = './'\n",
    "OUTPUT_CSV = \"./prices.csv\"\n",
    "DATABASE_PATH = \"./database.db\"\n",
    "REQUEST_TIMEOUT = 5.0"
   ]
  },
  {
   "cell_type": "markdown",
   "metadata": {},
   "source": [
    "### Load movies.csv and links.csv"
   ]
  },
  {
   "cell_type": "code",
   "execution_count": 2,
   "metadata": {},
   "outputs": [
    {
     "name": "stdout",
     "output_type": "stream",
     "text": [
      "  movieId                               title  \\\n",
      "0       1                    Toy Story (1995)   \n",
      "1       2                      Jumanji (1995)   \n",
      "2       3             Grumpier Old Men (1995)   \n",
      "3       4            Waiting to Exhale (1995)   \n",
      "4       5  Father of the Bride Part II (1995)   \n",
      "\n",
      "                                        genres  \n",
      "0  Adventure|Animation|Children|Comedy|Fantasy  \n",
      "1                   Adventure|Children|Fantasy  \n",
      "2                               Comedy|Romance  \n",
      "3                         Comedy|Drama|Romance  \n",
      "4                                       Comedy  \n",
      "  movieId   imdbId tmdbId\n",
      "0       1  0114709    862\n",
      "1       2  0113497   8844\n",
      "2       3  0113228  15602\n",
      "3       4  0114885  31357\n",
      "4       5  0113041  11862\n"
     ]
    }
   ],
   "source": [
    "movies_df = pd.read_csv(MOVIELENS_PATH + 'movies.csv', dtype=str)\n",
    "print(movies_df.head())\n",
    "\n",
    "links_df = pd.read_csv(MOVIELENS_PATH + 'links.csv',dtype=str)\n",
    "print(links_df.head())"
   ]
  },
  {
   "cell_type": "markdown",
   "metadata": {},
   "source": [
    "### Join movies_df and links_df by movieId"
   ]
  },
  {
   "cell_type": "code",
   "execution_count": 4,
   "metadata": {},
   "outputs": [
    {
     "name": "stdout",
     "output_type": "stream",
     "text": [
      "  movieId                               title  \\\n",
      "0       1                    Toy Story (1995)   \n",
      "1       2                      Jumanji (1995)   \n",
      "2       3             Grumpier Old Men (1995)   \n",
      "3       4            Waiting to Exhale (1995)   \n",
      "4       5  Father of the Bride Part II (1995)   \n",
      "\n",
      "                                        genres   imdbId tmdbId  \n",
      "0  Adventure|Animation|Children|Comedy|Fantasy  0114709    862  \n",
      "1                   Adventure|Children|Fantasy  0113497   8844  \n",
      "2                               Comedy|Romance  0113228  15602  \n",
      "3                         Comedy|Drama|Romance  0114885  31357  \n",
      "4                                       Comedy  0113041  11862  \n"
     ]
    }
   ],
   "source": [
    "merged_df = pd.merge(movies_df, links_df, on='movieId')\n",
    "print(merged_df.head())"
   ]
  },
  {
   "cell_type": "markdown",
   "metadata": {},
   "source": [
    "### Create Database and Table\n",
    "\n",
    "Table structure: movieId (int)，imdbId (varchar30), title (varchar50), pageUrl (varchar300), price (double)"
   ]
  },
  {
   "cell_type": "code",
   "execution_count": 2,
   "metadata": {},
   "outputs": [],
   "source": [
    "database = sqlite3.connect(DATABASE_PATH, check_same_thread=False)\n",
    "cursor = database.cursor()\n",
    "cursor.execute('create table if not exists prices (movieId integer primary key, imdbId varchar(30) NOT NULL, title varchar(50) NOT NULL, pageUrl varchar(300), price double)')\n",
    "database.commit()"
   ]
  },
  {
   "cell_type": "markdown",
   "metadata": {},
   "source": [
    "### Query exist tables"
   ]
  },
  {
   "cell_type": "code",
   "execution_count": 5,
   "metadata": {},
   "outputs": [
    {
     "name": "stdout",
     "output_type": "stream",
     "text": [
      "Current table:  [('prices',)]\n"
     ]
    }
   ],
   "source": [
    "cursor.execute(\"SELECT name FROM sqlite_master WHERE type='table';\")\n",
    "print(\"Current table: \", cursor.fetchall())"
   ]
  },
  {
   "cell_type": "markdown",
   "metadata": {},
   "source": [
    "### Query table structure"
   ]
  },
  {
   "cell_type": "code",
   "execution_count": 6,
   "metadata": {},
   "outputs": [
    {
     "name": "stdout",
     "output_type": "stream",
     "text": [
      "Table prices:  [(0, 'movieId', 'integer', 0, None, 1), (1, 'imdbId', 'varchar(30)', 1, None, 0), (2, 'title', 'varchar(50)', 1, None, 0), (3, 'pageUrl', 'varchar(300)', 0, None, 0), (4, 'price', 'double', 0, None, 0)]\n"
     ]
    }
   ],
   "source": [
    "cursor.execute(\"PRAGMA table_info(prices)\")\n",
    "print(\"Table prices: \", cursor.fetchall())"
   ]
  },
  {
   "cell_type": "markdown",
   "metadata": {},
   "source": [
    "### Insert movie data if not exist"
   ]
  },
  {
   "cell_type": "code",
   "execution_count": 7,
   "metadata": {},
   "outputs": [
    {
     "name": "stderr",
     "output_type": "stream",
     "text": [
      "Processing row 27277: 100%|██████████| 27278/27278 [04:47<00:00, 95.04it/s]\n"
     ]
    }
   ],
   "source": [
    "row_num = merged_df.shape[0]\n",
    "pbar = tqdm.trange(row_num, position=0, leave=True)\n",
    "for i in pbar:\n",
    "    pbar.set_description(\"Processing row %d\" % i)\n",
    "    row_item = merged_df.iloc[i]\n",
    "    cursor.execute(\"SELECT * FROM prices WHERE movieId = ?;\", (int(row_item['movieId']),))\n",
    "    if len(cursor.fetchall()) == 0:\n",
    "        cursor.execute(\"INSERT INTO prices (movieId, imdbId, title, pageUrl, price) VALUES (?, ?, ?, NULL, NULL)\",\n",
    "                       (int(row_item['movieId']), row_item['imdbId'], row_item['title']))\n",
    "        database.commit()"
   ]
  },
  {
   "cell_type": "markdown",
   "metadata": {},
   "source": [
    "### Display first 5 data from database"
   ]
  },
  {
   "cell_type": "code",
   "execution_count": 7,
   "metadata": {},
   "outputs": [
    {
     "name": "stdout",
     "output_type": "stream",
     "text": [
      "[(1, '0114709', 'Toy Story (1995)', 'https://www.amazon.com/Toy-Story-Tim-Allen/dp/B0094KTAEY/ref=sr_1_1?dchild=1&keywords=Toy+Story+1995&qid=1619252106&s=movies-tv&sr=1-1', None), (2, '0113497', 'Jumanji (1995)', 'https://www.amazon.com/Jumanji-Robin-Williams/dp/B00BZBQ4GW/ref=sr_1_1?dchild=1&keywords=Jumanji+1995&qid=1619252109&s=movies-tv&sr=1-1', None), (3, '0113228', 'Grumpier Old Men (1995)', 'https://www.amazon.com/Grumpier-Old-Men-Jack-Lemmon/dp/B00AUOUG8W/ref=sr_1_1?dchild=1&keywords=Grumpier+Old+Men+1995&qid=1619252112&s=movies-tv&sr=1-1', None), (4, '0114885', 'Waiting to Exhale (1995)', 'https://www.amazon.com/Celebrated-Women-Color-Film-Waiting/dp/B003RACH3I/ref=sr_1_1?dchild=1&keywords=Waiting+to+Exhale+1995&qid=1619252113&s=movies-tv&sr=1-1', None), (5, '0113041', 'Father of the Bride Part II (1995)', 'https://www.amazon.com/Father-Bride-Part-Theatrical-Version/dp/B072R146S8/ref=sr_1_1?dchild=1&keywords=Father+of+the+Bride+Part+II+1995&qid=1619252114&s=movies-tv&sr=1-1', None), (6, '0113277', 'Heat (1995)', 'https://www.amazon.com/Heat-Michael-Mann/dp/B06XC1SNPT/ref=sr_1_1?dchild=1&keywords=Heat+1995&qid=1619252116&s=movies-tv&sr=1-1', None), (7, '0114319', 'Sabrina (1995)', 'https://www.amazon.com/Sabrina-Harrison-Ford/dp/B00377E5R2/ref=sr_1_1?dchild=1&keywords=Sabrina+1995&qid=1619252121&s=movies-tv&sr=1-1', None), (8, '0112302', 'Tom and Huck (1995)', 'https://www.amazon.com/Tom-Huck-Jonathan-Taylor-Thomas/dp/B006G3CWL0/ref=sr_1_1?dchild=1&keywords=Tom+and+Huck+1995&qid=1619252123&s=movies-tv&sr=1-1', None), (9, '0114576', 'Sudden Death (1995)', 'https://www.amazon.com/Sudden-Death-Jean-Claude-Van-Damme/dp/B002YH1ZWO/ref=sr_1_1?dchild=1&keywords=Sudden+Death+1995&qid=1619252125&s=movies-tv&sr=1-1', None), (10, '0113189', 'GoldenEye (1995)', 'https://www.amazon.com/Goldeneye-Pierce-Brosnan-James-Bond/dp/B009GEH5NG/ref=sr_1_1?dchild=1&keywords=GoldenEye+1995&qid=1619252126&s=movies-tv&sr=1-1', None)]\n"
     ]
    }
   ],
   "source": [
    "cursor.execute(\"SELECT * FROM prices LIMIT 0, 10;\")\n",
    "print(cursor.fetchall())"
   ]
  },
  {
   "cell_type": "code",
   "execution_count": 3,
   "metadata": {},
   "outputs": [],
   "source": [
    "def getPageUrl(title):\n",
    "    url = AMAZON_URL.format(title.replace(\" \", \"+\"))\n",
    "#     url = safe_url_string(url, encoding=\"utf-8\")\n",
    "    req = urllib.request.Request(url)\n",
    "    req.add_header('User-Agent', getRandomUserAgent())\n",
    "    html = urllib.request.urlopen(req, timeout=REQUEST_TIMEOUT)\n",
    "    obj = bf(html.read(),'html.parser')\n",
    "    firstItem = obj.body.find_all('div',class_=\"a-section a-spacing-medium\")[0]\n",
    "    aElement = firstItem.find_all('a', class_=\"a-link-normal a-text-normal\")[0]\n",
    "    pageUrl = AMAZON_URL_HEAD + aElement['href']\n",
    "    return pageUrl\n",
    "\n",
    "def getPageUrlFromIMDB(imdbId):\n",
    "    url = AMAZON_URL.format(title.replace(\" \", \"+\"))\n",
    "    req = urllib.request.Request(url)\n",
    "    req.add_header('User-Agent', getRandomUserAgent())\n",
    "    html = urllib.request.urlopen(req, timeout=REQUEST_TIMEOUT)\n",
    "    obj = bf(html.read(),'html.parser')\n",
    "    firstItem = obj.body.find_all('div',class_=\"a-section a-spacing-medium\")[0]\n",
    "    aElement = firstItem.find_all('a', class_=\"a-link-normal a-text-normal\")[0]\n",
    "    pageUrl = AMAZON_URL_HEAD + aElement['href']\n",
    "    return pageUrl\n",
    "\n",
    "def getMoviePrice(url):\n",
    "    req = urllib.request.Request(url)\n",
    "    req.add_header('User-Agent', getRandomUserAgent())\n",
    "    html = urllib.request.urlopen(req, timeout=REQUEST_TIMEOUT)\n",
    "    obj = bf(html.read(),'html.parser')\n",
    "    lst = [str(x) for x in obj.body.find_all('button') if 'Buy' in str(x)]\n",
    "    return float(re.findall(r'(?<=\\$)\\d{1,3}(?:[.,]\\d{3})*(?:[.,]\\d{2})', lst[0])[0])\n",
    "\n",
    "def removeBrackets(title):\n",
    "    return title[:-7] + \" \" + title[-5:-1]\n",
    "\n",
    "def urlEncodeNonAscii(b):\n",
    "    return re.sub('[\\x80-\\xFF]', lambda c: '%%%02x' % ord(c.group(0)), b)\n",
    "\n",
    "def iriToUri(iri):\n",
    "    parts= urlparse(iri)\n",
    "    return urlunparse(\n",
    "        part.encode('idna') if parti==1 else urlEncodeNonAscii(part.encode('utf-8'))\n",
    "        for parti, part in enumerate(parts)\n",
    "    )\n",
    "\n",
    "def runGetPage(movie_list):\n",
    "    pbar = tqdm.tqdm(range(len(movie_list)), position=0, leave=True)\n",
    "    for i in pbar:\n",
    "        try:\n",
    "            pbar.set_description(\"Processing row %d\" % i)\n",
    "            m = movie_list[i]\n",
    "            movie_id = m[0]\n",
    "            movie_title = m[2]\n",
    "            page_url = m[3]\n",
    "            if page_url is None:\n",
    "                page_url = getPageUrl(removeBrackets(movie_title))\n",
    "                updatePageUrl(page_url, movie_id)\n",
    "        except KeyboardInterrupt:\n",
    "            sys.exit()\n",
    "            pass\n",
    "        except Exception as e:\n",
    "            print(\"Exception at row %d\" % i)\n",
    "            print(e)\n",
    "            continue\n",
    "\n",
    "def runGetPrice(movie_list):\n",
    "    pbar = tqdm.tqdm(range(len(movie_list)), position=0, leave=True)\n",
    "    for i in pbar:\n",
    "        try:\n",
    "            pbar.set_description(\"Processing row %d\" % i)\n",
    "            m = movie_list[i]\n",
    "            movie_id = m[0]\n",
    "            page_url = m[3]\n",
    "            movie_price = m[4]\n",
    "            if page_url is not None and movie_price is None:\n",
    "                price = getMoviePrice(page_url)\n",
    "                updatePrice(price, movie_id)\n",
    "        except KeyboardInterrupt:\n",
    "            sys.exit()\n",
    "            pass\n",
    "        except Exception as e:\n",
    "            print(\"Exception at row %d\" % i)\n",
    "            print(e)\n",
    "            continue\n",
    "            \n",
    "def getRandomUserAgent():\n",
    "    s = requests.Session()\n",
    "    return s.headers['User-Agent']\n",
    "\n",
    "def list_split(items, n):\n",
    "    return [items[i:i+n] for i in range(0, len(items), n)]\n",
    "\n",
    "lock = threading.Lock()\n",
    "\n",
    "def updatePageUrl(page_url, movie_id):\n",
    "    try:\n",
    "        lock.acquire(True)\n",
    "        cursor.execute(\"UPDATE prices SET pageUrl = ? WHERE movieId = ?;\", (page_url, movie_id))\n",
    "        database.commit()\n",
    "    finally:\n",
    "        lock.release()\n",
    "        \n",
    "def updatePrice(price, movie_id):\n",
    "    try:\n",
    "        lock.acquire(True)\n",
    "        cursor.execute(\"UPDATE prices SET price = ? WHERE movieId = ?;\", (price, movie_id))\n",
    "        database.commit()\n",
    "    finally:\n",
    "        lock.release()"
   ]
  },
  {
   "cell_type": "code",
   "execution_count": 99,
   "metadata": {},
   "outputs": [],
   "source": [
    "cursor.execute(\"UPDATE prices SET pageUrl = NULL WHERE imdbId = ?;\", (\"0112682\", ))\n",
    "database.commit()"
   ]
  },
  {
   "cell_type": "code",
   "execution_count": 12,
   "metadata": {},
   "outputs": [
    {
     "data": {
      "text/plain": [
       "'https://www.amazon.com/Grumpier-Old-Men-Jack-Lemmon/dp/B00AUOUG8W/ref=sr_1_1?dchild=1&keywords=Grumpier+Old+Men+1995&qid=1619266492&s=movies-tv&sr=1-1'"
      ]
     },
     "execution_count": 12,
     "metadata": {},
     "output_type": "execute_result"
    }
   ],
   "source": [
    "getPageUrl(removeBrackets(\"Grumpier Old Men (1995)\"))"
   ]
  },
  {
   "cell_type": "code",
   "execution_count": 9,
   "metadata": {},
   "outputs": [],
   "source": []
  },
  {
   "cell_type": "code",
   "execution_count": 122,
   "metadata": {},
   "outputs": [
    {
     "name": "stdout",
     "output_type": "stream",
     "text": [
      "[]\n"
     ]
    }
   ],
   "source": [
    "imdbId = \"0114709\"\n",
    "url = IMDB_URL.format(imdbId)\n",
    "req = urllib.request.Request(url)\n",
    "req.add_header('User-Agent', getRandomUserAgent())\n",
    "html = urllib.request.urlopen(req, timeout=REQUEST_TIMEOUT)\n",
    "obj = bf(html.read(),'html.parser')\n",
    "print(obj.body.find_all('button',class_=\"buybox__button\"))"
   ]
  },
  {
   "cell_type": "markdown",
   "metadata": {},
   "source": [
    "### Load data from database to Dataframe"
   ]
  },
  {
   "cell_type": "code",
   "execution_count": null,
   "metadata": {},
   "outputs": [
    {
     "name": "stderr",
     "output_type": "stream",
     "text": [
      "Processing 1:  77%|███████▋  | 20920/27278 [01:58<00:37, 170.03it/s]"
     ]
    }
   ],
   "source": [
    "output_df = pd.DataFrame(columns=['movieId', 'title', 'pageUrl', 'price'])\n",
    "cursor.execute(\"SELECT * FROM prices;\")\n",
    "pbar = tqdm.tqdm(cursor.fetchall(), position=0, leave=True)\n",
    "for row in pbar:\n",
    "    pbar.set_description(\"Processing %d\" % 1)\n",
    "    row_dict = {'movieId': row[0], 'title': row[1], 'pageUrl': row[2], 'price': row[3]}\n",
    "    output_df = output_df.append(row_dict, ignore_index=True)"
   ]
  },
  {
   "cell_type": "markdown",
   "metadata": {},
   "source": [
    "### Write into CSV file"
   ]
  },
  {
   "cell_type": "code",
   "execution_count": 121,
   "metadata": {},
   "outputs": [],
   "source": [
    "output_df.to_csv(OUTPUT_CSV, index=False)"
   ]
  },
  {
   "cell_type": "code",
   "execution_count": 116,
   "metadata": {},
   "outputs": [
    {
     "data": {
      "text/plain": [
       "'https://www.amazon.com/Jumanji-Robin-Williams/dp/B00BZBQ4GW/ref=sr_1_1?dchild=1&keywords=Jumanji+1995&qid=1619255969&s=movies-tv&sr=1-1'"
      ]
     },
     "execution_count": 116,
     "metadata": {},
     "output_type": "execute_result"
    }
   ],
   "source": [
    "getPageUrl('Jumanji 1995')"
   ]
  },
  {
   "cell_type": "code",
   "execution_count": 62,
   "metadata": {},
   "outputs": [
    {
     "name": "stdout",
     "output_type": "stream",
     "text": [
      "\u001b[33mWARNING: Keyring is skipped due to an exception: Failed to create the collection: Prompt dismissed..\u001b[0m\n",
      "\u001b[31mERROR: Could not find a version that satisfies the requirement urlparse (from versions: none)\u001b[0m\n",
      "\u001b[31mERROR: No matching distribution found for urlparse\u001b[0m\n"
     ]
    }
   ],
   "source": [
    "!pip3 install urlparse"
   ]
  },
  {
   "cell_type": "code",
   "execution_count": 92,
   "metadata": {},
   "outputs": [
    {
     "name": "stdout",
     "output_type": "stream",
     "text": [
      "http://example.org/%C3%91%C3%B6%C3%B1-%C3%85%C5%9E%C3%87%C4%B0%C4%B0/\n"
     ]
    }
   ],
   "source": [
    "from w3lib.url import safe_url_string\n",
    "url = safe_url_string('http://example.org/Ñöñ-ÅŞÇİİ/', encoding=\"utf-8\")\n",
    "print(url)"
   ]
  },
  {
   "cell_type": "raw",
   "metadata": {},
   "source": [
    "url"
   ]
  },
  {
   "cell_type": "code",
   "execution_count": 106,
   "metadata": {},
   "outputs": [
    {
     "name": "stdout",
     "output_type": "stream",
     "text": [
      "\u001b[33mWARNING: Keyring is skipped due to an exception: Failed to create the collection: Prompt dismissed..\u001b[0m\n",
      "Collecting requests-random-user-agent\n",
      "  Downloading requests_random_user_agent-2021.4.10-py3-none-any.whl (47 kB)\n",
      "\u001b[K     |████████████████████████████████| 47 kB 1.6 MB/s eta 0:00:01\n",
      "\u001b[?25hRequirement already satisfied: requests<3.0.0,>=2.0.1 in /home/ultraman/anaconda3/lib/python3.8/site-packages (from requests-random-user-agent) (2.24.0)\n",
      "Requirement already satisfied: chardet<4,>=3.0.2 in /home/ultraman/anaconda3/lib/python3.8/site-packages (from requests<3.0.0,>=2.0.1->requests-random-user-agent) (3.0.4)\n",
      "Requirement already satisfied: certifi>=2017.4.17 in /home/ultraman/anaconda3/lib/python3.8/site-packages (from requests<3.0.0,>=2.0.1->requests-random-user-agent) (2020.6.20)\n",
      "Requirement already satisfied: idna<3,>=2.5 in /home/ultraman/anaconda3/lib/python3.8/site-packages (from requests<3.0.0,>=2.0.1->requests-random-user-agent) (2.10)\n",
      "Requirement already satisfied: urllib3!=1.25.0,!=1.25.1,<1.26,>=1.21.1 in /home/ultraman/anaconda3/lib/python3.8/site-packages (from requests<3.0.0,>=2.0.1->requests-random-user-agent) (1.25.11)\n",
      "Installing collected packages: requests-random-user-agent\n",
      "Successfully installed requests-random-user-agent-2021.4.10\n"
     ]
    }
   ],
   "source": [
    "!pip install requests-random-user-agent"
   ]
  },
  {
   "cell_type": "code",
   "execution_count": 15,
   "metadata": {},
   "outputs": [
    {
     "name": "stdout",
     "output_type": "stream",
     "text": [
      "Collecting lxml\n",
      "  Downloading lxml-4.6.3-cp39-cp39-macosx_10_9_x86_64.whl (4.6 MB)\n",
      "\u001b[K     |████████████████████████████████| 4.6 MB 609 kB/s eta 0:00:01\n",
      "\u001b[?25hInstalling collected packages: lxml\n",
      "Successfully installed lxml-4.6.3\n"
     ]
    }
   ],
   "source": [
    "!pip3 install lxml"
   ]
  },
  {
   "cell_type": "code",
   "execution_count": 4,
   "metadata": {
    "tags": []
   },
   "outputs": [],
   "source": [
    "import threading\n",
    "import requests\n",
    "from lxml import etree\n",
    "from urllib import request\n",
    "import os\n",
    "import re\n",
    "\n",
    "class PageUrl(threading.Thread):\n",
    "    def __init__(self, l, *args, **kwargs):\n",
    "        super(PageUrl, self).__init__(*args,**kwargs)\n",
    "        self.l = l\n",
    "\n",
    "    def run(self):\n",
    "        runGetPage(self.l)\n",
    "        \n",
    "class Price(threading.Thread):\n",
    "    def __init__(self, l, *args, **kwargs):\n",
    "        super(Price, self).__init__(*args,**kwargs)\n",
    "        self.l = l\n",
    "\n",
    "    def run(self):\n",
    "        runGetPrice(self.l)"
   ]
  },
  {
   "cell_type": "code",
   "execution_count": 5,
   "metadata": {
    "tags": []
   },
   "outputs": [],
   "source": [
    "cursor.execute(\"SELECT * FROM prices;\")\n",
    "movie_list = cursor.fetchall()\n",
    "WORKERS_NUM = 5\n",
    "split_list = np.array_split(movie_list, 5)"
   ]
  },
  {
   "cell_type": "code",
   "execution_count": 7,
   "metadata": {
    "collapsed": true,
    "jupyter": {
     "outputs_hidden": true
    },
    "tags": []
   },
   "outputs": [
    {
     "name": "stderr",
     "output_type": "stream",
     "text": [
      "Processing row 27:   0%|          | 22/5456 [00:00<00:49, 110.04it/s]"
     ]
    },
    {
     "name": "stdout",
     "output_type": "stream",
     "text": [
      "Exception at row 8\n",
      "'ascii' codec can't encode character '\\xed' in position 23: ordinal not in range(128)\n",
      "Exception at row 7\n",
      "'ascii' codec can't encode character '\\xc0' in position 9: ordinal not in range(128)\n",
      "Exception at row 10\n",
      "'ascii' codec can't encode character '\\xe8' in position 33: ordinal not in range(128)\n",
      "Exception at row 13\n",
      "'ascii' codec can't encode character '\\xe8' in position 40: ordinal not in range(128)\n",
      "Exception at row 19\n",
      "'ascii' codec can't encode character '\\xda' in position 29: ordinal not in range(128)\n",
      "Exception at row 20\n",
      "'ascii' codec can't encode character '\\xe1' in position 29: ordinal not in range(128)\n",
      "Exception at row 21\n",
      "'ascii' codec can't encode character '\\xe4' in position 20: ordinal not in range(128)\n",
      "Exception at row 24\n",
      "'ascii' codec can't encode character '\\xe7' in position 39: ordinal not in range(128)\n",
      "Exception at row 23\n",
      "'ascii' codec can't encode character '\\xe8' in position 52: ordinal not in range(128)\n",
      "Exception at row 28\n",
      "'ascii' codec can't encode character '\\xe9' in position 40: ordinal not in range(128)\n",
      "Exception at row 27\n",
      "'ascii' codec can't encode character '\\xfb' in position 40: ordinal not in range(128)\n"
     ]
    },
    {
     "name": "stderr",
     "output_type": "stream",
     "text": [
      "Processing row 98:   1%|▏         | 77/5456 [00:00<00:22, 234.75it/s]]"
     ]
    },
    {
     "name": "stdout",
     "output_type": "stream",
     "text": [
      "Exception at row 31\n",
      "'ascii' codec can't encode character '\\xf6' in position 36: ordinal not in range(128)\n",
      "Exception at row 52\n",
      "'ascii' codec can't encode character '\\xf6' in position 37: ordinal not in range(128)\n",
      "Exception at row 80\n",
      "'ascii' codec can't encode character '\\xf4' in position 10: ordinal not in range(128)\n",
      "Exception at row 84\n",
      "'ascii' codec can't encode character '\\xfb' in position 59: ordinal not in range(128)\n",
      "Exception at row 85\n",
      "'ascii' codec can't encode character '\\xfb' in position 46: ordinal not in range(128)\n"
     ]
    },
    {
     "name": "stderr",
     "output_type": "stream",
     "text": [
      "Processing row 241:   4%|▍         | 213/5456 [00:00<00:13, 398.75it/s]"
     ]
    },
    {
     "name": "stdout",
     "output_type": "stream",
     "text": [
      "Exception at row 113\n",
      "'ascii' codec can't encode character '\\xe9' in position 58: ordinal not in range(128)\n",
      "Exception at row 117\n",
      "'ascii' codec can't encode character '\\xe9' in position 35: ordinal not in range(128)\n",
      "Exception at row 167\n",
      "'ascii' codec can't encode character '\\xe8' in position 45: ordinal not in range(128)\n"
     ]
    },
    {
     "name": "stderr",
     "output_type": "stream",
     "text": [
      "Processing row 473:   6%|▋         | 348/5456 [00:00<00:07, 696.21it/s]"
     ]
    },
    {
     "name": "stdout",
     "output_type": "stream",
     "text": [
      "Exception at row 281\n",
      "'ascii' codec can't encode character '\\xfb' in position 25: ordinal not in range(128)\n",
      "Exception at row 290\n",
      "'ascii' codec can't encode character '\\xe9' in position 10: ordinal not in range(128)\n",
      "Exception at row 399\n",
      "'ascii' codec can't encode character '\\xed' in position 27: ordinal not in range(128)\n"
     ]
    },
    {
     "name": "stderr",
     "output_type": "stream",
     "text": [
      "Processing row 127:   2%|▏         | 102/5455 [00:02<01:29, 59.60it/s]"
     ]
    },
    {
     "name": "stdout",
     "output_type": "stream",
     "text": [
      "Exception at row 28\n",
      "list index out of range\n",
      "Exception at row 53\n",
      "'ascii' codec can't encode character '\\xf6' in position 47: ordinal not in range(128)\n",
      "Exception at row 78\n",
      "'ascii' codec can't encode character '\\xf8' in position 38: ordinal not in range(128)\n",
      "Exception at row 96\n",
      "'ascii' codec can't encode characters in position 36-37: ordinal not in range(128)\n",
      "Exception at row 99\n",
      "'ascii' codec can't encode character '\\xe1' in position 78: ordinal not in range(128)\n",
      "Exception at row 108\n",
      "'ascii' codec can't encode character '\\xfd' in position 38: ordinal not in range(128)\n",
      "Exception at row 109\n",
      "'ascii' codec can't encode character '\\xe1' in position 10: ordinal not in range(128)\n",
      "Exception at row 119\n",
      "'ascii' codec can't encode character '\\xfc' in position 75: ordinal not in range(128)\n"
     ]
    },
    {
     "name": "stderr",
     "output_type": "stream",
     "text": [
      "Processing row 227:   4%|▍         | 214/5456 [00:02<01:12, 72.28it/s] "
     ]
    },
    {
     "name": "stdout",
     "output_type": "stream",
     "text": [
      "Exception at row 157\n",
      "list index out of range\n",
      "Exception at row 185\n",
      "list index out of range\n",
      "Exception at row 186\n",
      "'ascii' codec can't encode character '\\xe0' in position 39: ordinal not in range(128)\n",
      "Exception at row 193\n",
      "'ascii' codec can't encode character '\\xe0' in position 57: ordinal not in range(128)\n",
      "Exception at row 198\n",
      "'ascii' codec can't encode character '\\xf6' in position 32: ordinal not in range(128)\n",
      "Exception at row 217\n",
      "'ascii' codec can't encode character '\\xe9' in position 28: ordinal not in range(128)\n"
     ]
    },
    {
     "name": "stderr",
     "output_type": "stream",
     "text": [
      "Processing row 501:   9%|▊         | 474/5456 [00:02<00:33, 148.11it/s]"
     ]
    },
    {
     "name": "stdout",
     "output_type": "stream",
     "text": [
      "Exception at row 215\n",
      "'ascii' codec can't encode character '\\xe4' in position 44: ordinal not in range(128)\n",
      "Exception at row 473\n",
      "list index out of range\n",
      "Exception at row 236\n",
      "'ascii' codec can't encode character '\\xe9' in position 31: ordinal not in range(128)\n",
      "Exception at row 251\n",
      "'ascii' codec can't encode character '\\xe9' in position 27: ordinal not in range(128)\n",
      "Exception at row 256\n",
      "'ascii' codec can't encode character '\\xe8' in position 60: ordinal not in range(128)\n",
      "Exception at row 267\n",
      "'ascii' codec can't encode character '\\xf3' in position 28: ordinal not in range(128)\n"
     ]
    },
    {
     "name": "stderr",
     "output_type": "stream",
     "text": [
      "Processing row 673:  11%|█▏        | 616/5456 [00:02<00:21, 228.86it/s]"
     ]
    },
    {
     "name": "stdout",
     "output_type": "stream",
     "text": [
      "Exception at row 284\n",
      "'ascii' codec can't encode character '\\xe8' in position 46: ordinal not in range(128)\n",
      "Exception at row 285\n",
      "'ascii' codec can't encode character '\\xe2' in position 31: ordinal not in range(128)\n",
      "Exception at row 565\n",
      "'ascii' codec can't encode character '\\xe5' in position 26: ordinal not in range(128)\n",
      "Exception at row 576\n",
      "'ascii' codec can't encode character '\\xe9' in position 10: ordinal not in range(128)\n",
      "Exception at row 641\n",
      "'ascii' codec can't encode character '\\xc1' in position 21: ordinal not in range(128)\n",
      "Exception at row 658\n",
      "'ascii' codec can't encode character '\\xe4' in position 36: ordinal not in range(128)\n",
      "Exception at row 670\n",
      "'ascii' codec can't encode character '\\xe9' in position 37: ordinal not in range(128)\n"
     ]
    },
    {
     "name": "stderr",
     "output_type": "stream",
     "text": [
      "Processing row 967:  17%|█▋        | 944/5456 [00:03<00:08, 553.71it/s]"
     ]
    },
    {
     "name": "stdout",
     "output_type": "stream",
     "text": [
      "Exception at row 726\n",
      "'ascii' codec can't encode character '\\xe7' in position 12: ordinal not in range(128)\n",
      "Exception at row 728\n",
      "'ascii' codec can't encode character '\\xf4' in position 30: ordinal not in range(128)\n",
      "Exception at row 777\n",
      "'ascii' codec can't encode character '\\xe9' in position 38: ordinal not in range(128)\n",
      "Exception at row 798\n",
      "'ascii' codec can't encode character '\\xfc' in position 24: ordinal not in range(128)\n",
      "Exception at row 873\n",
      "'ascii' codec can't encode character '\\xe2' in position 23: ordinal not in range(128)\n"
     ]
    },
    {
     "name": "stderr",
     "output_type": "stream",
     "text": [
      "Processing row 1108:  19%|█▉        | 1039/5456 [00:03<00:08, 537.65it/s]"
     ]
    },
    {
     "name": "stdout",
     "output_type": "stream",
     "text": [
      "Exception at row 982\n",
      "'ascii' codec can't encode character '\\xe9' in position 31: ordinal not in range(128)\n",
      "Exception at row 1038\n",
      "'ascii' codec can't encode character '\\xfa' in position 25: ordinal not in range(128)\n",
      "Exception at row 1086\n",
      "'ascii' codec can't encode character '\\xe4' in position 44: ordinal not in range(128)\n",
      "Exception at row 1094\n",
      "'ascii' codec can't encode character '\\xe8' in position 31: ordinal not in range(128)\n"
     ]
    },
    {
     "name": "stderr",
     "output_type": "stream",
     "text": [
      "Processing row 1348:  24%|██▍       | 1334/5456 [00:03<00:05, 735.50it/s]"
     ]
    },
    {
     "name": "stdout",
     "output_type": "stream",
     "text": [
      "Exception at row 1126\n",
      "'ascii' codec can't encode character '\\xe9' in position 45: ordinal not in range(128)\n",
      "Exception at row 1153\n",
      "'ascii' codec can't encode character '\\xe9' in position 55: ordinal not in range(128)\n",
      "Exception at row 1166\n",
      "'ascii' codec can't encode characters in position 34-35: ordinal not in range(128)\n",
      "Exception at row 1185\n",
      "'ascii' codec can't encode character '\\xfc' in position 33: ordinal not in range(128)\n",
      "Exception at row 1223\n",
      "'ascii' codec can't encode character '\\xbd' in position 17: ordinal not in range(128)\n",
      "Exception at row 1291\n",
      "'ascii' codec can't encode character '\\xb3' in position 14: ordinal not in range(128)\n",
      "Exception at row 1333\n",
      "'ascii' codec can't encode character '\\xe6' in position 24: ordinal not in range(128)\n"
     ]
    },
    {
     "name": "stderr",
     "output_type": "stream",
     "text": [
      "Processing row 1488:  24%|██▍       | 1334/5456 [00:03<00:05, 735.50it/s]"
     ]
    },
    {
     "name": "stdout",
     "output_type": "stream",
     "text": [
      "Exception at row 1373\n",
      "'ascii' codec can't encode character '\\xe9' in position 33: ordinal not in range(128)\n"
     ]
    },
    {
     "name": "stderr",
     "output_type": "stream",
     "text": [
      "Processing row 308:   6%|▌         | 302/5456 [00:04<01:58, 43.45it/s] "
     ]
    },
    {
     "name": "stdout",
     "output_type": "stream",
     "text": [
      "Exception at row 251\n",
      "list index out of range\n",
      "Exception at row 253\n",
      "'ascii' codec can't encode character '\\xf3' in position 51: ordinal not in range(128)\n",
      "Exception at row 301\n",
      "list index out of range\n",
      "Exception at row 127\n",
      "list index out of range\n",
      "Exception at row 276\n",
      "'ascii' codec can't encode character '\\xe4' in position 43: ordinal not in range(128)\n",
      "Exception at row 282\n",
      "'ascii' codec can't encode character '\\xed' in position 18: ordinal not in range(128)\n"
     ]
    },
    {
     "name": "stderr",
     "output_type": "stream",
     "text": [
      "Processing row 351:   6%|▌         | 335/5456 [00:04<01:06, 77.39it/s]"
     ]
    },
    {
     "name": "stdout",
     "output_type": "stream",
     "text": [
      "Exception at row 322\n",
      "'ascii' codec can't encode character '\\xf3' in position 26: ordinal not in range(128)\n",
      "Exception at row 166\n",
      "'ascii' codec can't encode character '\\xe9' in position 10: ordinal not in range(128)\n",
      "Exception at row 171\n",
      "'ascii' codec can't encode character '\\xe0' in position 62: ordinal not in range(128)\n",
      "Exception at row 320\n",
      "'ascii' codec can't encode character '\\xe6' in position 30: ordinal not in range(128)\n",
      "Exception at row 328\n",
      "'ascii' codec can't encode character '\\xe4' in position 16: ordinal not in range(128)\n",
      "Exception at row 329\n",
      "'ascii' codec can't encode character '\\xf6' in position 11: ordinal not in range(128)\n",
      "Exception at row 183\n",
      "'ascii' codec can't encode character '\\xe8' in position 36: ordinal not in range(128)\n",
      "Exception at row 190\n",
      "'ascii' codec can't encode character '\\xfc' in position 31: ordinal not in range(128)\n",
      "Exception at row 340\n",
      "'ascii' codec can't encode character '\\xe8' in position 24: ordinal not in range(128)\n",
      "Exception at row 202\n",
      "'ascii' codec can't encode characters in position 36-37: ordinal not in range(128)\n"
     ]
    },
    {
     "name": "stderr",
     "output_type": "stream",
     "text": [
      "Processing row 428:   7%|▋         | 399/5456 [00:04<00:37, 135.36it/s]"
     ]
    },
    {
     "name": "stdout",
     "output_type": "stream",
     "text": [
      "Exception at row 359\n",
      "'ascii' codec can't encode character '\\xf1' in position 16: ordinal not in range(128)\n",
      "Exception at row 368\n",
      "'ascii' codec can't encode character '\\xf6' in position 39: ordinal not in range(128)\n",
      "Exception at row 370\n",
      "'ascii' codec can't encode character '\\xe4' in position 24: ordinal not in range(128)\n",
      "Exception at row 371\n",
      "'ascii' codec can't encode character '\\xe4' in position 81: ordinal not in range(128)\n",
      "Exception at row 375\n",
      "'ascii' codec can't encode character '\\xe1' in position 29: ordinal not in range(128)\n",
      "Exception at row 398\n",
      "'ascii' codec can't encode character '\\xe9' in position 49: ordinal not in range(128)\n",
      "Exception at row 255\n",
      "'ascii' codec can't encode character '\\xe8' in position 73: ordinal not in range(128)\n",
      "Exception at row 404\n",
      "'ascii' codec can't encode character '\\xea' in position 48: ordinal not in range(128)\n",
      "Exception at row 276\n",
      "'ascii' codec can't encode character '\\xfc' in position 14: ordinal not in range(128)\n",
      "Exception at row 278\n",
      "'ascii' codec can't encode character '\\xf4' in position 57: ordinal not in range(128)\n",
      "Exception at row 279\n",
      "'ascii' codec can't encode character '\\xf4' in position 69: ordinal not in range(128)\n"
     ]
    },
    {
     "name": "stderr",
     "output_type": "stream",
     "text": [
      "Processing row 542:  10%|▉         | 542/5456 [00:05<00:15, 312.50it/s]"
     ]
    },
    {
     "name": "stdout",
     "output_type": "stream",
     "text": [
      "Exception at row 281\n",
      "'ascii' codec can't encode character '\\xe9' in position 88: ordinal not in range(128)\n",
      "Exception at row 287\n",
      "'ascii' codec can't encode character '\\xe4' in position 44: ordinal not in range(128)\n",
      "Exception at row 290\n",
      "'ascii' codec can't encode character '\\xe9' in position 29: ordinal not in range(128)\n",
      "Exception at row 457\n",
      "'ascii' codec can't encode character '\\xf6' in position 26: ordinal not in range(128)\n",
      "Exception at row 322\n",
      "'ascii' codec can't encode character '\\xe1' in position 33: ordinal not in range(128)\n",
      "Exception at row 493\n",
      "'ascii' codec can't encode character '\\xfc' in position 41: ordinal not in range(128)\n",
      "Exception at row 505\n",
      "'ascii' codec can't encode character '\\xe8' in position 63: ordinal not in range(128)\n",
      "Exception at row 510\n",
      "'ascii' codec can't encode character '\\xed' in position 18: ordinal not in range(128)\n"
     ]
    },
    {
     "name": "stderr",
     "output_type": "stream",
     "text": [
      "Processing row 664:  11%|█         | 608/5456 [00:05<00:12, 392.55it/s]"
     ]
    },
    {
     "name": "stdout",
     "output_type": "stream",
     "text": [
      "Exception at row 542\n",
      "'ascii' codec can't encode character '\\xe9' in position 10: ordinal not in range(128)\n",
      "Exception at row 554\n",
      "'ascii' codec can't encode character '\\xea' in position 10: ordinal not in range(128)\n",
      "Exception at row 559\n",
      "'ascii' codec can't encode character '\\xf3' in position 33: ordinal not in range(128)\n",
      "Exception at row 599\n",
      "'ascii' codec can't encode character '\\xf4' in position 59: ordinal not in range(128)\n",
      "Exception at row 620\n",
      "'ascii' codec can't encode character '\\xe9' in position 40: ordinal not in range(128)\n",
      "Exception at row 653\n",
      "'ascii' codec can't encode character '\\xe9' in position 30: ordinal not in range(128)\n",
      "Exception at row 658\n",
      "'ascii' codec can't encode character '\\xe9' in position 52: ordinal not in range(128)\n",
      "Exception at row 663\n",
      "'ascii' codec can't encode character '\\xdf' in position 36: ordinal not in range(128)\n",
      "Exception at row 1488\n",
      "list index out of range\n"
     ]
    },
    {
     "name": "stderr",
     "output_type": "stream",
     "text": [
      "Processing row 1538:  27%|██▋       | 1489/5456 [00:05<00:19, 200.50it/s]"
     ]
    },
    {
     "name": "stdout",
     "output_type": "stream",
     "text": [
      "Exception at row 676\n",
      "'ascii' codec can't encode character '\\xe8' in position 43: ordinal not in range(128)\n",
      "Exception at row 1521\n",
      "'ascii' codec can't encode character '\\xe9' in position 20: ordinal not in range(128)\n",
      "Exception at row 699\n",
      "'ascii' codec can't encode character '\\xf8' in position 36: ordinal not in range(128)\n",
      "Exception at row 709\n",
      "'ascii' codec can't encode character '\\xf8' in position 16: ordinal not in range(128)\n"
     ]
    },
    {
     "name": "stderr",
     "output_type": "stream",
     "text": [
      "Processing row 1743:  30%|███       | 1652/5456 [00:05<00:14, 268.25it/s]"
     ]
    },
    {
     "name": "stdout",
     "output_type": "stream",
     "text": [
      "Exception at row 718\n",
      "'ascii' codec can't encode character '\\xe8' in position 29: ordinal not in range(128)\n",
      "Exception at row 1607\n",
      "'ascii' codec can't encode character '\\xe9' in position 28: ordinal not in range(128)\n",
      "Exception at row 1651\n",
      "'ascii' codec can't encode character '\\xe9' in position 44: ordinal not in range(128)\n",
      "Exception at row 1664\n",
      "'ascii' codec can't encode character '\\xc0' in position 21: ordinal not in range(128)\n",
      "Exception at row 1693\n",
      "'ascii' codec can't encode character '\\xc9' in position 39: ordinal not in range(128)\n",
      "Exception at row 1722\n",
      "'ascii' codec can't encode character '\\xf3' in position 15: ordinal not in range(128)\n"
     ]
    },
    {
     "name": "stderr",
     "output_type": "stream",
     "text": [
      "Processing row 1936:  35%|███▌      | 1930/5456 [00:05<00:06, 520.63it/s]"
     ]
    },
    {
     "name": "stdout",
     "output_type": "stream",
     "text": [
      "Exception at row 1762\n",
      "'ascii' codec can't encode character '\\xe9' in position 29: ordinal not in range(128)\n",
      "Exception at row 1789\n",
      "'ascii' codec can't encode character '\\xe9' in position 12: ordinal not in range(128)\n",
      "Exception at row 1831\n",
      "'ascii' codec can't encode character '\\xed' in position 62: ordinal not in range(128)\n"
     ]
    },
    {
     "name": "stderr",
     "output_type": "stream",
     "text": [
      "Processing row 351:   6%|▋         | 341/5456 [00:06<02:58, 28.66it/s]/s]"
     ]
    },
    {
     "name": "stdout",
     "output_type": "stream",
     "text": [
      "Exception at row 330\n",
      "list index out of range\n",
      "Exception at row 351\n",
      "'ascii' codec can't encode character '\\xc7' in position 30: ordinal not in range(128)\n"
     ]
    },
    {
     "name": "stderr",
     "output_type": "stream",
     "text": [
      "Processing row 2009:  35%|███▌      | 1930/5456 [00:06<00:06, 520.63it/s]"
     ]
    },
    {
     "name": "stdout",
     "output_type": "stream",
     "text": [
      "Exception at row 358\n",
      "'ascii' codec can't encode character '\\xf6' in position 49: ordinal not in range(128)\n",
      "Exception at row 1979\n",
      "'ascii' codec can't encode character '\\xe8' in position 30: ordinal not in range(128)\n"
     ]
    },
    {
     "name": "stderr",
     "output_type": "stream",
     "text": [
      "Processing row 404:   7%|▋         | 362/5455 [00:06<01:34, 53.65it/s] "
     ]
    },
    {
     "name": "stdout",
     "output_type": "stream",
     "text": [
      "Exception at row 337\n",
      "list index out of range\n",
      "Exception at row 338\n",
      "'ascii' codec can't encode character '\\xe1' in position 41: ordinal not in range(128)\n",
      "Exception at row 347\n",
      "'ascii' codec can't encode character '\\xe9' in position 45: ordinal not in range(128)\n",
      "Exception at row 357\n",
      "'ascii' codec can't encode character '\\xe4' in position 19: ordinal not in range(128)\n",
      "Exception at row 388\n",
      "'ascii' codec can't encode character '\\xe9' in position 29: ordinal not in range(128)\n"
     ]
    },
    {
     "name": "stderr",
     "output_type": "stream",
     "text": [
      "Processing row 422:   7%|▋         | 367/5456 [00:06<02:50, 29.86it/s]"
     ]
    },
    {
     "name": "stdout",
     "output_type": "stream",
     "text": [
      "Exception at row 361\n",
      "list index out of range\n",
      "Exception at row 384\n",
      "'ascii' codec can't encode character '\\xfc' in position 40: ordinal not in range(128)\n"
     ]
    },
    {
     "name": "stderr",
     "output_type": "stream",
     "text": [
      "Processing row 857:  16%|█▌        | 856/5456 [00:07<00:32, 141.20it/s]"
     ]
    },
    {
     "name": "stdout",
     "output_type": "stream",
     "text": [
      "Exception at row 737\n",
      "list index out of range\n",
      "Exception at row 763\n",
      "'ascii' codec can't encode character '\\xf6' in position 17: ordinal not in range(128)\n",
      "Exception at row 767\n",
      "'ascii' codec can't encode character '\\xe4' in position 57: ordinal not in range(128)\n",
      "Exception at row 831\n",
      "'ascii' codec can't encode character '\\xf6' in position 17: ordinal not in range(128)\n",
      "Exception at row 855\n",
      "'ascii' codec can't encode character '\\xe5' in position 57: ordinal not in range(128)\n"
     ]
    },
    {
     "name": "stderr",
     "output_type": "stream",
     "text": [
      "Processing row 535:   9%|▉         | 481/5456 [00:07<01:01, 81.01it/s]"
     ]
    },
    {
     "name": "stdout",
     "output_type": "stream",
     "text": [
      "Exception at row 422\n",
      "list index out of range\n",
      "Exception at row 449\n",
      "'ascii' codec can't encode character '\\xe3' in position 36: ordinal not in range(128)\n",
      "Exception at row 454\n",
      "'ascii' codec can't encode character '\\xf4' in position 36: ordinal not in range(128)\n",
      "Exception at row 463\n",
      "'ascii' codec can't encode character '\\xe6' in position 42: ordinal not in range(128)\n",
      "Exception at row 468\n",
      "'ascii' codec can't encode character '\\xe0' in position 34: ordinal not in range(128)\n",
      "Exception at row 480\n",
      "'ascii' codec can't encode character '\\xe9' in position 10: ordinal not in range(128)\n",
      "Exception at row 487\n",
      "'ascii' codec can't encode character '\\xe4' in position 73: ordinal not in range(128)\n",
      "Exception at row 515\n",
      "'ascii' codec can't encode character '\\xe2' in position 29: ordinal not in range(128)\n",
      "Exception at row 517\n",
      "'ascii' codec can't encode character '\\xe8' in position 42: ordinal not in range(128)\n",
      "Exception at row 520\n",
      "'ascii' codec can't encode character '\\xf6' in position 47: ordinal not in range(128)\n",
      "Exception at row 534\n",
      "'ascii' codec can't encode character '\\xf6' in position 45: ordinal not in range(128)\n"
     ]
    },
    {
     "name": "stderr",
     "output_type": "stream",
     "text": [
      "Processing row 586:  10%|▉         | 539/5456 [00:07<00:40, 122.42it/s]"
     ]
    },
    {
     "name": "stdout",
     "output_type": "stream",
     "text": [
      "Exception at row 564\n",
      "'ascii' codec can't encode character '\\xe8' in position 39: ordinal not in range(128)\n"
     ]
    },
    {
     "name": "stderr",
     "output_type": "stream",
     "text": [
      "Processing row 531:  10%|▉         | 532/5455 [00:08<00:49, 99.70it/s]"
     ]
    },
    {
     "name": "stdout",
     "output_type": "stream",
     "text": [
      "Exception at row 404\n",
      "list index out of range\n",
      "Exception at row 423\n",
      "'ascii' codec can't encode character '\\xed' in position 40: ordinal not in range(128)\n",
      "Exception at row 441\n",
      "'ascii' codec can't encode character '\\xe4' in position 22: ordinal not in range(128)\n",
      "Exception at row 442\n",
      "'ascii' codec can't encode character '\\xe9' in position 58: ordinal not in range(128)\n",
      "Exception at row 469\n",
      "'ascii' codec can't encode character '\\xe2' in position 25: ordinal not in range(128)\n",
      "Exception at row 472\n",
      "'ascii' codec can't encode character '\\xe9' in position 69: ordinal not in range(128)\n",
      "Exception at row 481\n",
      "'ascii' codec can't encode character '\\xfb' in position 30: ordinal not in range(128)\n",
      "Exception at row 501\n",
      "'ascii' codec can't encode character '\\xfd' in position 38: ordinal not in range(128)\n",
      "Exception at row 506\n",
      "'ascii' codec can't encode character '\\xc9' in position 75: ordinal not in range(128)\n",
      "Exception at row 526\n",
      "'ascii' codec can't encode characters in position 10-11: ordinal not in range(128)\n",
      "Exception at row 531\n",
      "'ascii' codec can't encode character '\\xe4' in position 57: ordinal not in range(128)\n"
     ]
    },
    {
     "name": "stderr",
     "output_type": "stream",
     "text": [
      "Processing row 633:  11%|█         | 590/5455 [00:08<00:35, 137.64it/s]"
     ]
    },
    {
     "name": "stdout",
     "output_type": "stream",
     "text": [
      "Exception at row 546\n",
      "'ascii' codec can't encode character '\\xfc' in position 30: ordinal not in range(128)\n",
      "Exception at row 549\n",
      "'ascii' codec can't encode character '\\xf6' in position 19: ordinal not in range(128)\n",
      "Exception at row 550\n",
      "'ascii' codec can't encode character '\\xe1' in position 40: ordinal not in range(128)\n",
      "Exception at row 559\n",
      "'ascii' codec can't encode characters in position 34-35: ordinal not in range(128)\n",
      "Exception at row 560\n",
      "'ascii' codec can't encode character '\\xe4' in position 38: ordinal not in range(128)\n",
      "Exception at row 591\n",
      "'ascii' codec can't encode character '\\xf3' in position 31: ordinal not in range(128)\n",
      "Exception at row 612\n",
      "'ascii' codec can't encode character '\\xfc' in position 32: ordinal not in range(128)\n",
      "Exception at row 618\n",
      "'ascii' codec can't encode character '\\xed' in position 57: ordinal not in range(128)\n",
      "Exception at row 621\n",
      "'ascii' codec can't encode character '\\xf4' in position 27: ordinal not in range(128)\n",
      "Exception at row 624\n",
      "'ascii' codec can't encode character '\\xed' in position 54: ordinal not in range(128)\n",
      "Exception at row 630\n",
      "'ascii' codec can't encode character '\\xf1' in position 21: ordinal not in range(128)\n",
      "Exception at row 632\n",
      "'ascii' codec can't encode character '\\xfb' in position 24: ordinal not in range(128)\n"
     ]
    },
    {
     "name": "stderr",
     "output_type": "stream",
     "text": [
      "Processing row 2019:  35%|███▌      | 1930/5456 [00:08<00:06, 520.63it/s]"
     ]
    },
    {
     "name": "stdout",
     "output_type": "stream",
     "text": [
      "Exception at row 633\n",
      "'ascii' codec can't encode character '\\xe9' in position 23: ordinal not in range(128)\n",
      "Exception at row 641\n",
      "'ascii' codec can't encode character '\\xdf' in position 46: ordinal not in range(128)\n",
      "Exception at row 653\n",
      "'ascii' codec can't encode character '\\xe4' in position 24: ordinal not in range(128)\n",
      "Exception at row 857\n",
      "list index out of range\n"
     ]
    },
    {
     "name": "stderr",
     "output_type": "stream",
     "text": [
      "Processing row 911:  17%|█▋        | 904/5456 [00:09<01:03, 71.89it/s]]s]"
     ]
    },
    {
     "name": "stdout",
     "output_type": "stream",
     "text": [
      "Exception at row 655\n",
      "'ascii' codec can't encode character '\\xe4' in position 23: ordinal not in range(128)\n",
      "Exception at row 2045\n",
      "'ascii' codec can't encode character '\\xe4' in position 37: ordinal not in range(128)\n",
      "Exception at row 2047\n",
      "'ascii' codec can't encode character '\\xf6' in position 25: ordinal not in range(128)\n",
      "Exception at row 684\n",
      "'ascii' codec can't encode characters in position 22-23: ordinal not in range(128)\n",
      "Exception at row 685\n",
      "'ascii' codec can't encode character '\\xf6' in position 30: ordinal not in range(128)\n",
      "Exception at row 892\n",
      "'ascii' codec can't encode character '\\xf4' in position 27: ordinal not in range(128)\n",
      "Exception at row 703\n",
      "'ascii' codec can't encode character '\\xf4' in position 81: ordinal not in range(128)\n",
      "Exception at row 707\n",
      "'ascii' codec can't encode character '\\xe1' in position 33: ordinal not in range(128)\n"
     ]
    },
    {
     "name": "stderr",
     "output_type": "stream",
     "text": [
      "Processing row 766:  14%|█▎        | 746/5455 [00:09<00:24, 191.72it/s]"
     ]
    },
    {
     "name": "stdout",
     "output_type": "stream",
     "text": [
      "Exception at row 708\n",
      "'ascii' codec can't encode character '\\xfc' in position 40: ordinal not in range(128)\n",
      "Exception at row 718\n",
      "'ascii' codec can't encode character '\\xfb' in position 52: ordinal not in range(128)\n",
      "Exception at row 723\n",
      "'ascii' codec can't encode character '\\xe4' in position 67: ordinal not in range(128)\n",
      "Exception at row 940\n",
      "'ascii' codec can't encode character '\\xe9' in position 40: ordinal not in range(128)\n",
      "Exception at row 947\n",
      "'ascii' codec can't encode character '\\xe8' in position 71: ordinal not in range(128)\n",
      "Exception at row 764\n",
      "'ascii' codec can't encode character '\\xf1' in position 42: ordinal not in range(128)\n",
      "Exception at row 765\n",
      "'ascii' codec can't encode character '\\xe8' in position 37: ordinal not in range(128)\n",
      "Exception at row 586\n",
      "list index out of range\n"
     ]
    },
    {
     "name": "stderr",
     "output_type": "stream",
     "text": [
      "Processing row 813:  15%|█▍        | 804/5455 [00:09<00:23, 198.40it/s]s]"
     ]
    },
    {
     "name": "stdout",
     "output_type": "stream",
     "text": [
      "Exception at row 973\n",
      "'ascii' codec can't encode character '\\xe1' in position 30: ordinal not in range(128)\n",
      "Exception at row 592\n",
      "'ascii' codec can't encode character '\\xdf' in position 29: ordinal not in range(128)\n",
      "Exception at row 774\n",
      "'ascii' codec can't encode character '\\xe4' in position 27: ordinal not in range(128)\n",
      "Exception at row 776\n",
      "'ascii' codec can't encode character '\\xe1' in position 30: ordinal not in range(128)\n",
      "Exception at row 783\n",
      "'ascii' codec can't encode character '\\xe2' in position 50: ordinal not in range(128)\n",
      "Exception at row 987\n",
      "'ascii' codec can't encode character '\\xe2' in position 53: ordinal not in range(128)\n",
      "Exception at row 988\n",
      "'ascii' codec can't encode character '\\xe2' in position 59: ordinal not in range(128)\n",
      "Exception at row 608\n",
      "'ascii' codec can't encode character '\\xc0' in position 41: ordinal not in range(128)\n",
      "Exception at row 795\n",
      "'ascii' codec can't encode character '\\xf3' in position 32: ordinal not in range(128)\n",
      "Exception at row 616\n",
      "'ascii' codec can't encode character '\\xe9' in position 27: ordinal not in range(128)\n",
      "Exception at row 1016\n",
      "'ascii' codec can't encode character '\\xf9' in position 77: ordinal not in range(128)\n"
     ]
    },
    {
     "name": "stderr",
     "output_type": "stream",
     "text": [
      "Processing row 686:  12%|█▏        | 666/5456 [00:09<00:47, 100.49it/s]s]"
     ]
    },
    {
     "name": "stdout",
     "output_type": "stream",
     "text": [
      "Exception at row 819\n",
      "'ascii' codec can't encode character '\\xfb' in position 48: ordinal not in range(128)\n",
      "Exception at row 1023\n",
      "'ascii' codec can't encode character '\\xe8' in position 41: ordinal not in range(128)\n",
      "Exception at row 823\n",
      "'ascii' codec can't encode character '\\xe9' in position 44: ordinal not in range(128)\n",
      "Exception at row 834\n",
      "'ascii' codec can't encode character '\\xe0' in position 34: ordinal not in range(128)\n",
      "Exception at row 659\n",
      "'ascii' codec can't encode character '\\xe9' in position 26: ordinal not in range(128)\n",
      "Exception at row 1047\n",
      "'ascii' codec can't encode character '\\xe4' in position 29: ordinal not in range(128)\n",
      "Exception at row 849\n",
      "'ascii' codec can't encode character '\\xfb' in position 35: ordinal not in range(128)\n",
      "Exception at row 671\n",
      "'ascii' codec can't encode character '\\xfc' in position 120: ordinal not in range(128)\n",
      "Exception at row 863\n",
      "'ascii' codec can't encode character '\\xf4' in position 80: ordinal not in range(128)\n"
     ]
    },
    {
     "name": "stderr",
     "output_type": "stream",
     "text": [
      "Processing row 727:  13%|█▎        | 713/5456 [00:09<00:39, 119.28it/s]s]"
     ]
    },
    {
     "name": "stdout",
     "output_type": "stream",
     "text": [
      "Exception at row 864\n",
      "'ascii' codec can't encode character '\\xe9' in position 33: ordinal not in range(128)\n",
      "Exception at row 686\n",
      "'ascii' codec can't encode character '\\xe0' in position 39: ordinal not in range(128)\n",
      "Exception at row 868\n",
      "'ascii' codec can't encode character '\\xe9' in position 62: ordinal not in range(128)\n",
      "Exception at row 870\n",
      "'ascii' codec can't encode character '\\xe9' in position 42: ordinal not in range(128)\n",
      "Exception at row 872\n",
      "'ascii' codec can't encode character '\\xe9' in position 38: ordinal not in range(128)\n",
      "Exception at row 693\n",
      "'ascii' codec can't encode character '\\xf3' in position 34: ordinal not in range(128)\n",
      "Exception at row 879\n",
      "'ascii' codec can't encode character '\\xe9' in position 42: ordinal not in range(128)\n",
      "Exception at row 702\n",
      "'ascii' codec can't encode character '\\xe4' in position 36: ordinal not in range(128)\n",
      "Exception at row 881\n",
      "'ascii' codec can't encode character '\\xe4' in position 25: ordinal not in range(128)\n",
      "Exception at row 885\n",
      "'ascii' codec can't encode character '\\xe4' in position 18: ordinal not in range(128)\n",
      "Exception at row 886\n",
      "Exception at row 716\n",
      "'ascii' codec can't encode character '\\xe9' in position 34: ordinal not in range(128)\n"
     ]
    },
    {
     "name": "stderr",
     "output_type": "stream",
     "text": [
      "Processing row 872:  15%|█▌        | 837/5456 [00:10<00:17, 259.64it/s]"
     ]
    },
    {
     "name": "stdout",
     "output_type": "stream",
     "text": [
      "Exception at row 727\n",
      "'ascii' codec can't encode character '\\xe0' in position 20: ordinal not in range(128)\n",
      "Exception at row 731\n",
      "'ascii' codec can't encode character '\\xe4' in position 57: ordinal not in range(128)\n",
      "Exception at row 764\n",
      "'ascii' codec can't encode character '\\xe8' in position 34: ordinal not in range(128)\n",
      "Exception at row 789\n",
      "'ascii' codec can't encode character '\\xed' in position 35: ordinal not in range(128)\n",
      "Exception at row 795\n",
      "'ascii' codec can't encode character '\\xfb' in position 40: ordinal not in range(128)\n",
      "Exception at row 810\n",
      "'ascii' codec can't encode character '\\xe9' in position 12: ordinal not in range(128)\n",
      "Exception at row 819\n",
      "'ascii' codec can't encode character '\\xea' in position 30: ordinal not in range(128)\n",
      "Exception at row 830\n",
      "'ascii' codec can't encode character '\\xc0' in position 19: ordinal not in range(128)\n",
      "Exception at row 834\n",
      "'ascii' codec can't encode character '\\xf4' in position 29: ordinal not in range(128)\n",
      "Exception at row 836\n",
      "'ascii' codec can't encode character '\\xe9' in position 51: ordinal not in range(128)\n"
     ]
    },
    {
     "name": "stderr",
     "output_type": "stream",
     "text": [
      "Processing row 956:  17%|█▋        | 912/5456 [00:10<00:12, 353.72it/s]"
     ]
    },
    {
     "name": "stdout",
     "output_type": "stream",
     "text": [
      "Exception at row 877\n",
      "'ascii' codec can't encode character '\\xe9' in position 15: ordinal not in range(128)\n",
      "Exception at row 890\n",
      "'ascii' codec can't encode character '\\xea' in position 36: ordinal not in range(128)\n",
      "Exception at row 894\n",
      "'ascii' codec can't encode character '\\xe8' in position 25: ordinal not in range(128)\n",
      "Exception at row 901\n",
      "'ascii' codec can't encode character '\\xe8' in position 21: ordinal not in range(128)\n",
      "Exception at row 922\n",
      "'ascii' codec can't encode character '\\xe9' in position 19: ordinal not in range(128)\n",
      "Exception at row 930\n",
      "'ascii' codec can't encode character '\\xc9' in position 18: ordinal not in range(128)\n",
      "Exception at row 931\n",
      "'ascii' codec can't encode character '\\xfb' in position 36: ordinal not in range(128)\n"
     ]
    },
    {
     "name": "stderr",
     "output_type": "stream",
     "text": [
      "Processing row 983:  18%|█▊        | 970/5455 [00:10<00:26, 169.33it/s]"
     ]
    },
    {
     "name": "stdout",
     "output_type": "stream",
     "text": [
      "'ascii' codec can't encode character '\\xf6' in position 25: ordinal not in range(128)\n",
      "Exception at row 949\n",
      "'ascii' codec can't encode character '\\xe8' in position 40: ordinal not in range(128)\n",
      "Exception at row 952\n",
      "'ascii' codec can't encode character '\\xe8' in position 38: ordinal not in range(128)\n",
      "Exception at row 953\n",
      "'ascii' codec can't encode character '\\xe9' in position 14: ordinal not in range(128)\n",
      "Exception at row 963\n",
      "'ascii' codec can't encode characters in position 10-11: ordinal not in range(128)\n",
      "Exception at row 969\n",
      "'ascii' codec can't encode characters in position 10-11: ordinal not in range(128)\n",
      "Exception at row 971\n",
      "'ascii' codec can't encode character '\\xfb' in position 56: ordinal not in range(128)\n",
      "Exception at row 972\n",
      "'ascii' codec can't encode character '\\xf6' in position 19: ordinal not in range(128)\n"
     ]
    },
    {
     "name": "stderr",
     "output_type": "stream",
     "text": [
      "Processing row 967:  18%|█▊        | 960/5456 [00:11<00:51, 88.02it/s] "
     ]
    },
    {
     "name": "stdout",
     "output_type": "stream",
     "text": [
      "Exception at row 956\n",
      "list index out of range\n",
      "Exception at row 960\n",
      "'ascii' codec can't encode character '\\xf4' in position 46: ordinal not in range(128)\n"
     ]
    },
    {
     "name": "stderr",
     "output_type": "stream",
     "text": [
      "Processing row 2106:  37%|███▋      | 2036/5456 [00:12<00:30, 111.35it/s]"
     ]
    },
    {
     "name": "stdout",
     "output_type": "stream",
     "text": [
      "Exception at row 2048\n",
      "list index out of range\n",
      "Exception at row 2091\n",
      "'ascii' codec can't encode character '\\xe9' in position 10: ordinal not in range(128)\n"
     ]
    },
    {
     "name": "stderr",
     "output_type": "stream",
     "text": [
      "Processing row 1036:  18%|█▊        | 1001/5455 [00:12<01:32, 48.22it/s]"
     ]
    },
    {
     "name": "stdout",
     "output_type": "stream",
     "text": [
      "Exception at row 983\n",
      "list index out of range\n",
      "Exception at row 1013\n",
      "'ascii' codec can't encode character '\\xf6' in position 19: ordinal not in range(128)\n",
      "Exception at row 1021\n",
      "'ascii' codec can't encode character '\\xe4' in position 25: ordinal not in range(128)\n",
      "Exception at row 1034\n",
      "'ascii' codec can't encode character '\\xf6' in position 26: ordinal not in range(128)\n"
     ]
    },
    {
     "name": "stderr",
     "output_type": "stream",
     "text": [
      "Processing row 1018:  18%|█▊        | 995/5456 [00:13<01:25, 51.98it/s]"
     ]
    },
    {
     "name": "stdout",
     "output_type": "stream",
     "text": [
      "Exception at row 967\n",
      "list index out of range\n",
      "Exception at row 974\n",
      "'ascii' codec can't encode character '\\xe3' in position 19: ordinal not in range(128)\n",
      "Exception at row 978\n",
      "'ascii' codec can't encode character '\\xe9' in position 37: ordinal not in range(128)\n",
      "Exception at row 980\n",
      "'ascii' codec can't encode character '\\xf3' in position 36: ordinal not in range(128)\n",
      "Exception at row 1004\n",
      "'ascii' codec can't encode character '\\xed' in position 12: ordinal not in range(128)\n",
      "Exception at row 1014\n",
      "'ascii' codec can't encode character '\\xed' in position 36: ordinal not in range(128)\n"
     ]
    },
    {
     "name": "stderr",
     "output_type": "stream",
     "text": [
      "Processing row 2170:  40%|███▉      | 2167/5456 [00:13<00:57, 57.03it/s] "
     ]
    },
    {
     "name": "stdout",
     "output_type": "stream",
     "text": [
      "Exception at row 2106\n",
      "list index out of range\n",
      "Exception at row 1092\n",
      "list index out of range\n",
      "Exception at row 1109\n",
      "'ascii' codec can't encode character '\\xe0' in position 32: ordinal not in range(128)\n",
      "Exception at row 1110\n",
      "'ascii' codec can't encode character '\\xf6' in position 29: ordinal not in range(128)\n",
      "Exception at row 1112\n",
      "'ascii' codec can't encode character '\\xfd' in position 26: ordinal not in range(128)\n"
     ]
    },
    {
     "name": "stderr",
     "output_type": "stream",
     "text": [
      "Processing row 1146:  21%|██        | 1123/5456 [00:15<01:02, 69.01it/s]"
     ]
    },
    {
     "name": "stdout",
     "output_type": "stream",
     "text": [
      "Exception at row 1018\n",
      "list index out of range\n",
      "Exception at row 1075\n",
      "'ascii' codec can't encode character '\\xe9' in position 38: ordinal not in range(128)\n",
      "Exception at row 1077\n",
      "'ascii' codec can't encode character '\\xf4' in position 23: ordinal not in range(128)\n",
      "Exception at row 1107\n",
      "'ascii' codec can't encode character '\\xa1' in position 23: ordinal not in range(128)\n",
      "Exception at row 1122\n",
      "'ascii' codec can't encode character '\\xed' in position 27: ordinal not in range(128)\n"
     ]
    },
    {
     "name": "stderr",
     "output_type": "stream",
     "text": [
      "Processing row 1157:  21%|██        | 1120/5456 [00:15<04:16, 16.93it/s]"
     ]
    },
    {
     "name": "stdout",
     "output_type": "stream",
     "text": [
      "Exception at row 1113\n",
      "list index out of range\n",
      "Exception at row 1114\n",
      "'ascii' codec can't encode character '\\xf9' in position 29: ordinal not in range(128)\n",
      "Exception at row 1117\n",
      "'ascii' codec can't encode character '\\xea' in position 39: ordinal not in range(128)\n",
      "Exception at row 1135\n",
      "'ascii' codec can't encode character '\\xe8' in position 13: ordinal not in range(128)\n"
     ]
    },
    {
     "name": "stderr",
     "output_type": "stream",
     "text": [
      "Processing row 1046:  19%|█▉        | 1037/5455 [00:16<02:12, 33.43it/s]"
     ]
    },
    {
     "name": "stdout",
     "output_type": "stream",
     "text": [
      "Exception at row 2239\n",
      "'ascii' codec can't encode character '\\xe8' in position 36: ordinal not in range(128)\n",
      "Exception at row 1041\n",
      "list index out of range\n",
      "Exception at row 1044\n",
      "'ascii' codec can't encode characters in position 10-11: ordinal not in range(128)\n",
      "Exception at row 1045\n",
      "'ascii' codec can't encode characters in position 10-11: ordinal not in range(128)\n"
     ]
    },
    {
     "name": "stderr",
     "output_type": "stream",
     "text": [
      "Processing row 1276:  23%|██▎       | 1264/5456 [00:17<01:27, 47.82it/s]"
     ]
    },
    {
     "name": "stdout",
     "output_type": "stream",
     "text": [
      "Exception at row 1157\n",
      "list index out of range\n",
      "Exception at row 1188\n",
      "'ascii' codec can't encode character '\\xe2' in position 55: ordinal not in range(128)\n",
      "Exception at row 1206\n",
      "'ascii' codec can't encode character '\\xee' in position 38: ordinal not in range(128)\n",
      "Exception at row 1246\n",
      "'ascii' codec can't encode character '\\xe9' in position 47: ordinal not in range(128)\n",
      "Exception at row 1264\n",
      "'ascii' codec can't encode character '\\xe9' in position 31: ordinal not in range(128)\n"
     ]
    },
    {
     "name": "stderr",
     "output_type": "stream",
     "text": [
      "Processing row 1199:  21%|██▏       | 1166/5456 [00:17<01:40, 42.87it/s]"
     ]
    },
    {
     "name": "stdout",
     "output_type": "stream",
     "text": [
      "Exception at row 1046\n",
      "list index out of range\n",
      "Exception at row 1147\n",
      "'ascii' codec can't encode character '\\xfb' in position 39: ordinal not in range(128)\n",
      "Exception at row 1160\n",
      "'ascii' codec can't encode character '\\xe5' in position 30: ordinal not in range(128)\n",
      "Exception at row 1167\n",
      "'ascii' codec can't encode character '\\xe0' in position 35: ordinal not in range(128)\n",
      "Exception at row 1090\n",
      "'ascii' codec can't encode character '\\xe4' in position 34: ordinal not in range(128)\n",
      "Exception at row 1095\n",
      "'ascii' codec can't encode character '\\xe8' in position 39: ordinal not in range(128)\n"
     ]
    },
    {
     "name": "stderr",
     "output_type": "stream",
     "text": [
      "Processing row 1236:  22%|██▏       | 1207/5456 [00:17<01:17, 54.71it/s]"
     ]
    },
    {
     "name": "stdout",
     "output_type": "stream",
     "text": [
      "Exception at row 1206\n",
      "'ascii' codec can't encode character '\\xca' in position 28: ordinal not in range(128)\n",
      "Exception at row 1215\n",
      "'ascii' codec can't encode character '\\xfc' in position 37: ordinal not in range(128)\n",
      "Exception at row 1217\n",
      "'ascii' codec can't encode character '\\xe8' in position 37: ordinal not in range(128)\n",
      "Exception at row 1225\n",
      "'ascii' codec can't encode character '\\xe6' in position 36: ordinal not in range(128)\n"
     ]
    },
    {
     "name": "stderr",
     "output_type": "stream",
     "text": [
      "Processing row 1371:  25%|██▍       | 1360/5456 [00:19<01:13, 56.09it/s]"
     ]
    },
    {
     "name": "stdout",
     "output_type": "stream",
     "text": [
      "Exception at row 1276\n",
      "list index out of range\n",
      "Exception at row 1280\n",
      "'ascii' codec can't encode character '\\xf4' in position 18: ordinal not in range(128)\n",
      "Exception at row 1293\n",
      "'ascii' codec can't encode character '\\xed' in position 73: ordinal not in range(128)\n",
      "Exception at row 1332\n",
      "'ascii' codec can't encode character '\\xe9' in position 62: ordinal not in range(128)\n",
      "Exception at row 1340\n",
      "'ascii' codec can't encode character '\\xe0' in position 38: ordinal not in range(128)\n",
      "Exception at row 1357\n",
      "'ascii' codec can't encode characters in position 55-56: ordinal not in range(128)\n",
      "Exception at row 1101\n",
      "list index out of range\n",
      "Exception at row 1364\n",
      "'ascii' codec can't encode character '\\xf4' in position 26: ordinal not in range(128)\n",
      "Exception at row 1370\n",
      "'ascii' codec can't encode character '\\xe8' in position 24: ordinal not in range(128)\n"
     ]
    },
    {
     "name": "stderr",
     "output_type": "stream",
     "text": [
      "Processing row 1266:  23%|██▎       | 1240/5456 [00:19<01:52, 37.63it/s]"
     ]
    },
    {
     "name": "stdout",
     "output_type": "stream",
     "text": [
      "Exception at row 1262\n",
      "'ascii' codec can't encode character '\\xe0' in position 47: ordinal not in range(128)\n"
     ]
    },
    {
     "name": "stderr",
     "output_type": "stream",
     "text": [
      "Processing row 1310:  23%|██▎       | 1267/5456 [00:20<01:52, 37.22it/s]"
     ]
    },
    {
     "name": "stdout",
     "output_type": "stream",
     "text": [
      "Exception at row 1266\n",
      "list index out of range\n",
      "Exception at row 1291\n",
      "'ascii' codec can't encode character '\\xfb' in position 24: ordinal not in range(128)\n",
      "Exception at row 1292\n",
      "'ascii' codec can't encode character '\\xf3' in position 30: ordinal not in range(128)\n",
      "Exception at row 1303\n",
      "'ascii' codec can't encode character '\\xd4' in position 18: ordinal not in range(128)\n"
     ]
    },
    {
     "name": "stderr",
     "output_type": "stream",
     "text": [
      "Processing row 1381:  25%|██▍       | 1360/5456 [00:20<01:13, 56.09it/s]"
     ]
    },
    {
     "name": "stdout",
     "output_type": "stream",
     "text": [
      "Exception at row 1109\n",
      "'ascii' codec can't encode character '\\xe8' in position 48: ordinal not in range(128)\n"
     ]
    },
    {
     "name": "stderr",
     "output_type": "stream",
     "text": [
      "Processing row 2400:  44%|████▍     | 2396/5456 [00:22<01:19, 38.32it/s]"
     ]
    },
    {
     "name": "stdout",
     "output_type": "stream",
     "text": [
      "Exception at row 2393\n",
      "'ascii' codec can't encode character '\\xa1' in position 9: ordinal not in range(128)\n",
      "Exception at row 1120\n",
      "Exception at row 2395list index out of range\n",
      "\n",
      "'ascii' codec can't encode character '\\xe0' in position 33: ordinal not in range(128)\n",
      "Exception at row 2398\n",
      "'ascii' codec can't encode character '\\xed' in position 33: ordinal not in range(128)\n",
      "Exception at row 1312\n",
      "'ascii' codec can't encode character '\\xe0' in position 30: ordinal not in range(128)\n"
     ]
    },
    {
     "name": "stderr",
     "output_type": "stream",
     "text": [
      "Processing row 1241:  23%|██▎       | 1234/5455 [00:22<01:35, 44.25it/s]"
     ]
    },
    {
     "name": "stdout",
     "output_type": "stream",
     "text": [
      "Exception at row 1135\n",
      "'ascii' codec can't encode character '\\xe4' in position 25: ordinal not in range(128)\n",
      "Exception at row 2410\n",
      "'ascii' codec can't encode character '\\xe8' in position 36: ordinal not in range(128)\n",
      "Exception at row 1162\n",
      "'ascii' codec can't encode character '\\xf6' in position 20: ordinal not in range(128)\n",
      "Exception at row 1169\n",
      "'ascii' codec can't encode character '\\xe8' in position 40: ordinal not in range(128)\n",
      "Exception at row 1211\n",
      "'ascii' codec can't encode character '\\xe1' in position 23: ordinal not in range(128)\n",
      "Exception at row 1212\n",
      "'ascii' codec can't encode character '\\xda' in position 24: ordinal not in range(128)\n",
      "Exception at row 1233\n",
      "'ascii' codec can't encode character '\\xea' in position 54: ordinal not in range(128)\n",
      "Exception at row 1235\n",
      "'ascii' codec can't encode character '\\xe9' in position 34: ordinal not in range(128)\n"
     ]
    },
    {
     "name": "stderr",
     "output_type": "stream",
     "text": [
      "Processing row 1302:  23%|██▎       | 1234/5455 [00:22<01:35, 44.25it/s]"
     ]
    },
    {
     "name": "stdout",
     "output_type": "stream",
     "text": [
      "Exception at row 1241\n",
      "'ascii' codec can't encode character '\\xe9' in position 26: ordinal not in range(128)\n",
      "Exception at row 1248\n",
      "'ascii' codec can't encode character '\\xf9' in position 39: ordinal not in range(128)\n",
      "Exception at row 1249\n",
      "'ascii' codec can't encode character '\\xf3' in position 45: ordinal not in range(128)\n",
      "Exception at row 1261\n",
      "'ascii' codec can't encode character '\\xe9' in position 41: ordinal not in range(128)\n"
     ]
    },
    {
     "name": "stderr",
     "output_type": "stream",
     "text": [
      "Processing row 1398:  25%|██▍       | 1349/5456 [00:24<03:11, 21.44it/s]"
     ]
    },
    {
     "name": "stdout",
     "output_type": "stream",
     "text": [
      "Exception at row 1390\n",
      "'ascii' codec can't encode character '\\xf4' in position 27: ordinal not in range(128)\n",
      "Exception at row 1391\n",
      "'ascii' codec can't encode character '\\xe9' in position 33: ordinal not in range(128)\n",
      "Exception at row 1375\n",
      "'ascii' codec can't encode character '\\xe9' in position 26: ordinal not in range(128)\n"
     ]
    },
    {
     "name": "stderr",
     "output_type": "stream",
     "text": [
      "Processing row 1326:  24%|██▍       | 1303/5455 [00:25<01:54, 36.37it/s]"
     ]
    },
    {
     "name": "stdout",
     "output_type": "stream",
     "text": [
      "Exception at row 1315\n",
      "'ascii' codec can't encode character '\\xea' in position 45: ordinal not in range(128)\n"
     ]
    },
    {
     "name": "stderr",
     "output_type": "stream",
     "text": [
      "Processing row 2438:  45%|████▍     | 2432/5456 [00:26<01:43, 29.33it/s]"
     ]
    },
    {
     "name": "stdout",
     "output_type": "stream",
     "text": [
      "Exception at row 1326\n",
      "list index out of range\n",
      "Exception at row 1328\n",
      "'ascii' codec can't encode character '\\xf4' in position 62: ordinal not in range(128)\n",
      "Exception at row 1335\n",
      "'ascii' codec can't encode characters in position 51-52: ordinal not in range(128)\n"
     ]
    },
    {
     "name": "stderr",
     "output_type": "stream",
     "text": [
      "Processing row 1451:  26%|██▌       | 1399/5456 [00:26<02:53, 23.35it/s]"
     ]
    },
    {
     "name": "stdout",
     "output_type": "stream",
     "text": [
      "Exception at row 1398\n",
      "list index out of range\n",
      "Exception at row 2459\n",
      "'ascii' codec can't encode character '\\xc9' in position 31: ordinal not in range(128)\n"
     ]
    },
    {
     "name": "stderr",
     "output_type": "stream",
     "text": [
      "Processing row 1456:  25%|██▍       | 1344/5455 [00:28<02:49, 24.28it/s]"
     ]
    },
    {
     "name": "stdout",
     "output_type": "stream",
     "text": [
      "Exception at row 1338\n",
      "list index out of range\n",
      "Exception at row 1419\n",
      "'ascii' codec can't encode character '\\xf3' in position 59: ordinal not in range(128)\n",
      "Exception at row 1420\n",
      "'ascii' codec can't encode character '\\xe9' in position 12: ordinal not in range(128)\n",
      "Exception at row 1446\n",
      "'ascii' codec can't encode character '\\xed' in position 31: ordinal not in range(128)\n"
     ]
    },
    {
     "name": "stderr",
     "output_type": "stream",
     "text": [
      "Processing row 1480:  27%|██▋       | 1452/5456 [00:28<02:46, 24.03it/s]"
     ]
    },
    {
     "name": "stdout",
     "output_type": "stream",
     "text": [
      "Exception at row 1456\n",
      "'ascii' codec can't encode character '\\xf2' in position 44: ordinal not in range(128)\n",
      "Exception at row 1466\n",
      "'ascii' codec can't encode character '\\xc5' in position 31: ordinal not in range(128)\n",
      "Exception at row 1474\n",
      "'ascii' codec can't encode character '\\xb0' in position 23: ordinal not in range(128)\n"
     ]
    },
    {
     "name": "stderr",
     "output_type": "stream",
     "text": [
      "Processing row 2565:  45%|████▌     | 2477/5456 [00:29<02:48, 17.70it/s]"
     ]
    },
    {
     "name": "stdout",
     "output_type": "stream",
     "text": [
      "Exception at row 2490\n",
      "'ascii' codec can't encode character '\\xea' in position 40: ordinal not in range(128)\n",
      "Exception at row 2500\n",
      "'ascii' codec can't encode character '\\xed' in position 60: ordinal not in range(128)\n",
      "Exception at row 2506\n",
      "'ascii' codec can't encode character '\\xe7' in position 53: ordinal not in range(128)\n",
      "Exception at row 2518\n",
      "'ascii' codec can't encode character '\\xf4' in position 10: ordinal not in range(128)\n"
     ]
    },
    {
     "name": "stderr",
     "output_type": "stream",
     "text": [
      "Processing row 1456:  26%|██▌       | 1420/5456 [00:30<05:22, 12.52it/s]"
     ]
    },
    {
     "name": "stdout",
     "output_type": "stream",
     "text": [
      "Exception at row 1460\n",
      "'ascii' codec can't encode character '\\xe1' in position 16: ordinal not in range(128)\n",
      "Exception at row 1470\n",
      "'ascii' codec can't encode character '\\xea' in position 54: ordinal not in range(128)\n",
      "Exception at row 1473\n",
      "'ascii' codec can't encode character '\\xe9' in position 28: ordinal not in range(128)\n",
      "Exception at row 1425\n",
      "'ascii' codec can't encode character '\\xfc' in position 31: ordinal not in range(128)\n",
      "Exception at row 1441\n",
      "'ascii' codec can't encode character '\\xf3' in position 62: ordinal not in range(128)\n",
      "Exception at row 1447\n",
      "'ascii' codec can't encode character '\\xe1' in position 28: ordinal not in range(128)\n"
     ]
    },
    {
     "name": "stderr",
     "output_type": "stream",
     "text": [
      "Processing row 1498:  27%|██▋       | 1477/5455 [00:32<02:35, 25.60it/s]"
     ]
    },
    {
     "name": "stdout",
     "output_type": "stream",
     "text": [
      "Exception at row 1480\n",
      "'ascii' codec can't encode character '\\xe9' in position 50: ordinal not in range(128)\n",
      "Exception at row 1481\n",
      "'ascii' codec can't encode character '\\xc0' in position 22: ordinal not in range(128)\n",
      "Exception at row 1483\n",
      "'ascii' codec can't encode character '\\xf3' in position 45: ordinal not in range(128)\n",
      "Exception at row 1493\n",
      "'ascii' codec can't encode character '\\xf4' in position 30: ordinal not in range(128)\n"
     ]
    },
    {
     "name": "stderr",
     "output_type": "stream",
     "text": [
      "Processing row 1484:  27%|██▋       | 1457/5456 [00:32<05:01, 13.25it/s]"
     ]
    },
    {
     "name": "stdout",
     "output_type": "stream",
     "text": [
      "Exception at row 1482\n",
      "'ascii' codec can't encode character '\\xf4' in position 59: ordinal not in range(128)\n"
     ]
    },
    {
     "name": "stderr",
     "output_type": "stream",
     "text": [
      "Processing row 1510:  27%|██▋       | 1485/5456 [00:33<04:09, 15.92it/s]"
     ]
    },
    {
     "name": "stdout",
     "output_type": "stream",
     "text": [
      "Exception at row 1484\n",
      "list index out of range\n",
      "Exception at row 1504\n",
      "'ascii' codec can't encode character '\\xc0' in position 9: ordinal not in range(128)\n",
      "Exception at row 1509\n",
      "'ascii' codec can't encode character '\\xe3' in position 27: ordinal not in range(128)\n"
     ]
    },
    {
     "name": "stderr",
     "output_type": "stream",
     "text": [
      "Processing row 2761:  50%|█████     | 2753/5456 [00:34<00:44, 60.37it/s]"
     ]
    },
    {
     "name": "stdout",
     "output_type": "stream",
     "text": [
      "Exception at row 1496\n",
      "'ascii' codec can't encode character '\\xea' in position 47: ordinal not in range(128)\n",
      "Exception at row 1500\n",
      "'ascii' codec can't encode character '\\xe9' in position 38: ordinal not in range(128)\n",
      "Exception at row 2610\n",
      "'ascii' codec can't encode character '\\xee' in position 28: ordinal not in range(128)\n",
      "Exception at row 2619\n",
      "'ascii' codec can't encode character '\\xfb' in position 45: ordinal not in range(128)\n",
      "Exception at row 2656\n",
      "'ascii' codec can't encode character '\\xe9' in position 10: ordinal not in range(128)\n",
      "Exception at row 2674\n",
      "'ascii' codec can't encode character '\\xe1' in position 24: ordinal not in range(128)\n",
      "Exception at row 2690\n",
      "'ascii' codec can't encode character '\\xec' in position 94: ordinal not in range(128)\n"
     ]
    },
    {
     "name": "stderr",
     "output_type": "stream",
     "text": [
      "Processing row 1528:  28%|██▊       | 1505/5455 [00:35<03:26, 19.11it/s]"
     ]
    },
    {
     "name": "stdout",
     "output_type": "stream",
     "text": [
      "Exception at row 1504\n",
      "'ascii' codec can't encode character '\\xe1' in position 35: ordinal not in range(128)\n"
     ]
    },
    {
     "name": "stderr",
     "output_type": "stream",
     "text": [
      "Processing row 1621:  29%|██▉       | 1601/5456 [00:37<02:28, 26.01it/s]"
     ]
    },
    {
     "name": "stdout",
     "output_type": "stream",
     "text": [
      "Exception at row 1531\n",
      "'ascii' codec can't encode character '\\xe4' in position 16: ordinal not in range(128)\n",
      "Exception at row 1541\n",
      "'ascii' codec can't encode character '\\xe0' in position 35: ordinal not in range(128)\n",
      "Exception at row 1542\n",
      "'ascii' codec can't encode character '\\xf4' in position 23: ordinal not in range(128)\n",
      "Exception at row 1550\n",
      "'ascii' codec can't encode character '\\xd4' in position 30: ordinal not in range(128)\n",
      "Exception at row 1568\n",
      "'ascii' codec can't encode character '\\xe9' in position 35: ordinal not in range(128)\n",
      "Exception at row 1600\n",
      "'ascii' codec can't encode character '\\xe8' in position 35: ordinal not in range(128)\n"
     ]
    },
    {
     "name": "stderr",
     "output_type": "stream",
     "text": [
      "Processing row 1562:  28%|██▊       | 1519/5456 [00:37<05:48, 11.28it/s]"
     ]
    },
    {
     "name": "stdout",
     "output_type": "stream",
     "text": [
      "Exception at row 1621\n",
      "list index out of range\n",
      "Exception at row 1532\n",
      "'ascii' codec can't encode character '\\xe5' in position 48: ordinal not in range(128)\n",
      "Exception at row 1559\n",
      "'ascii' codec can't encode character '\\xfb' in position 64: ordinal not in range(128)\n"
     ]
    },
    {
     "name": "stderr",
     "output_type": "stream",
     "text": [
      "Processing row 1618:  29%|██▉       | 1587/5455 [00:38<02:20, 27.51it/s]"
     ]
    },
    {
     "name": "stdout",
     "output_type": "stream",
     "text": [
      "Exception at row 1540\n",
      "'ascii' codec can't encode character '\\xf3' in position 34: ordinal not in range(128)\n",
      "Exception at row 1545\n",
      "'ascii' codec can't encode character '\\xe7' in position 46: ordinal not in range(128)\n",
      "Exception at row 1568\n",
      "'ascii' codec can't encode character '\\xe0' in position 16: ordinal not in range(128)\n",
      "Exception at row 1574\n",
      "'ascii' codec can't encode characters in position 22-23: ordinal not in range(128)\n",
      "Exception at row 1584\n",
      "'ascii' codec can't encode character '\\xe9' in position 34: ordinal not in range(128)\n",
      "Exception at row 1586\n",
      "'ascii' codec can't encode character '\\xe0' in position 28: ordinal not in range(128)\n",
      "Exception at row 1599\n",
      "'ascii' codec can't encode character '\\xe0' in position 45: ordinal not in range(128)\n",
      "Exception at row 1600\n",
      "'ascii' codec can't encode character '\\xe1' in position 16: ordinal not in range(128)\n",
      "Exception at row 1606\n",
      "'ascii' codec can't encode character '\\xe1' in position 31: ordinal not in range(128)\n",
      "Exception at row 1617\n",
      "'ascii' codec can't encode character '\\xe9' in position 51: ordinal not in range(128)\n"
     ]
    },
    {
     "name": "stderr",
     "output_type": "stream",
     "text": [
      "Processing row 2837:  51%|█████▏    | 2806/5456 [00:38<01:27, 30.32it/s]"
     ]
    },
    {
     "name": "stdout",
     "output_type": "stream",
     "text": [
      "Exception at row 2783\n",
      "'ascii' codec can't encode character '\\xe9' in position 27: ordinal not in range(128)\n",
      "Exception at row 2819\n",
      "'ascii' codec can't encode character '\\xfb' in position 30: ordinal not in range(128)\n"
     ]
    },
    {
     "name": "stderr",
     "output_type": "stream",
     "text": [
      "Processing row 1699:  30%|███       | 1642/5456 [00:39<02:48, 22.63it/s]"
     ]
    },
    {
     "name": "stdout",
     "output_type": "stream",
     "text": [
      "Exception at row 1564\n",
      "'ascii' codec can't encode character '\\xe9' in position 23: ordinal not in range(128)\n",
      "Exception at row 1641\n",
      "'ascii' codec can't encode character '\\u2019' in position 17: ordinal not in range(128)\n",
      "Exception at row 1670\n",
      "'ascii' codec can't encode character '\\xf3' in position 33: ordinal not in range(128)\n"
     ]
    },
    {
     "name": "stderr",
     "output_type": "stream",
     "text": [
      "Processing row 1669:  30%|██▉       | 1619/5455 [00:40<02:50, 22.56it/s]"
     ]
    },
    {
     "name": "stdout",
     "output_type": "stream",
     "text": [
      "Exception at row 1619\n",
      "'ascii' codec can't encode character '\\xed' in position 21: ordinal not in range(128)\n",
      "Exception at row 1625\n",
      "'ascii' codec can't encode character '\\xe9' in position 48: ordinal not in range(128)\n",
      "Exception at row 1631\n",
      "'ascii' codec can't encode characters in position 23-24: ordinal not in range(128)\n",
      "Exception at row 1638\n",
      "'ascii' codec can't encode character '\\xfc' in position 59: ordinal not in range(128)\n",
      "Exception at row 1655\n",
      "'ascii' codec can't encode character '\\xe4' in position 10: ordinal not in range(128)\n"
     ]
    },
    {
     "name": "stderr",
     "output_type": "stream",
     "text": [
      "Processing row 1585:  29%|██▊       | 1568/5456 [00:41<05:33, 11.65it/s]"
     ]
    },
    {
     "name": "stdout",
     "output_type": "stream",
     "text": [
      "Exception at row 1565\n",
      "list index out of range\n",
      "Exception at row 1578\n",
      "'ascii' codec can't encode character '\\xe4' in position 35: ordinal not in range(128)\n"
     ]
    },
    {
     "name": "stderr",
     "output_type": "stream",
     "text": [
      "Processing row 1821:  33%|███▎      | 1789/5456 [00:42<01:27, 41.92it/s]"
     ]
    },
    {
     "name": "stdout",
     "output_type": "stream",
     "text": [
      "Exception at row 1699\n",
      "list index out of range\n",
      "Exception at row 1729\n",
      "'ascii' codec can't encode character '\\xf8' in position 39: ordinal not in range(128)\n",
      "Exception at row 1733\n",
      "'ascii' codec can't encode character '\\xe9' in position 52: ordinal not in range(128)\n",
      "Exception at row 1797\n",
      "'ascii' codec can't encode character '\\xf3' in position 26: ordinal not in range(128)\n"
     ]
    },
    {
     "name": "stderr",
     "output_type": "stream",
     "text": [
      "Processing row 1845:  33%|███▎      | 1825/5456 [00:42<01:12, 49.95it/s]"
     ]
    },
    {
     "name": "stdout",
     "output_type": "stream",
     "text": [
      "Exception at row 1828\n",
      "'ascii' codec can't encode character '\\xe4' in position 47: ordinal not in range(128)\n"
     ]
    },
    {
     "name": "stderr",
     "output_type": "stream",
     "text": [
      "Processing row 1683:  31%|███       | 1670/5455 [00:43<03:19, 18.93it/s]"
     ]
    },
    {
     "name": "stdout",
     "output_type": "stream",
     "text": [
      "Exception at row 1677\n",
      "'ascii' codec can't encode character '\\xe1' in position 28: ordinal not in range(128)\n"
     ]
    },
    {
     "name": "stderr",
     "output_type": "stream",
     "text": [
      "Processing row 1648:  29%|██▉       | 1586/5456 [00:44<06:33,  9.83it/s]"
     ]
    },
    {
     "name": "stdout",
     "output_type": "stream",
     "text": [
      "Exception at row 1594\n",
      "'ascii' codec can't encode character '\\xf3' in position 26: ordinal not in range(128)\n",
      "Exception at row 1611\n",
      "'ascii' codec can't encode character '\\xe7' in position 24: ordinal not in range(128)\n",
      "Exception at row 1625\n",
      "'ascii' codec can't encode character '\\xe9' in position 14: ordinal not in range(128)\n"
     ]
    },
    {
     "name": "stderr",
     "output_type": "stream",
     "text": [
      "Processing row 2901:  53%|█████▎    | 2882/5456 [00:44<01:45, 24.40it/s]"
     ]
    },
    {
     "name": "stdout",
     "output_type": "stream",
     "text": [
      "Exception at row 2895\n",
      "list index out of range\n"
     ]
    },
    {
     "name": "stderr",
     "output_type": "stream",
     "text": [
      "Processing row 1896:  34%|███▍      | 1855/5456 [00:45<01:59, 30.10it/s]"
     ]
    },
    {
     "name": "stdout",
     "output_type": "stream",
     "text": [
      "Exception at row 1859\n",
      "'ascii' codec can't encode character '\\xe1' in position 81: ordinal not in range(128)\n",
      "Exception at row 1874\n",
      "'ascii' codec can't encode character '\\xed' in position 25: ordinal not in range(128)\n",
      "Exception at row 1879\n",
      "'ascii' codec can't encode character '\\xe9' in position 18: ordinal not in range(128)\n",
      "Exception at row 1891\n",
      "'ascii' codec can't encode character '\\xf4' in position 27: ordinal not in range(128)\n",
      "Exception at row 1895\n",
      "'ascii' codec can't encode character '\\xe4' in position 40: ordinal not in range(128)\n"
     ]
    },
    {
     "name": "stderr",
     "output_type": "stream",
     "text": [
      "Processing row 1695:  31%|███       | 1684/5455 [00:46<04:14, 14.81it/s]"
     ]
    },
    {
     "name": "stdout",
     "output_type": "stream",
     "text": [
      "Exception at row 1648\n",
      "list index out of range\n",
      "Exception at row 1651\n",
      "'ascii' codec can't encode character '\\xe1' in position 24: ordinal not in range(128)\n",
      "Exception at row 1656\n",
      "'ascii' codec can't encode character '\\xfd' in position 26: ordinal not in range(128)\n",
      "Exception at row 1660\n",
      "'ascii' codec can't encode character '\\xe9' in position 25: ordinal not in range(128)\n"
     ]
    },
    {
     "name": "stderr",
     "output_type": "stream",
     "text": [
      "Processing row 2903:  53%|█████▎    | 2902/5456 [00:46<02:34, 16.57it/s]"
     ]
    },
    {
     "name": "stdout",
     "output_type": "stream",
     "text": [
      "Exception at row 2901\n",
      "list index out of range\n"
     ]
    },
    {
     "name": "stderr",
     "output_type": "stream",
     "text": [
      "Processing row 1686:  30%|███       | 1663/5456 [00:48<05:06, 12.37it/s]"
     ]
    },
    {
     "name": "stdout",
     "output_type": "stream",
     "text": [
      "Exception at row 1663\n",
      "'ascii' codec can't encode character '\\xea' in position 58: ordinal not in range(128)\n",
      "Exception at row 1666\n",
      "'ascii' codec can't encode character '\\xc0' in position 17: ordinal not in range(128)\n",
      "Exception at row 1678\n",
      "'ascii' codec can't encode character '\\xe9' in position 37: ordinal not in range(128)\n"
     ]
    },
    {
     "name": "stderr",
     "output_type": "stream",
     "text": [
      "Processing row 1694:  31%|███       | 1687/5456 [00:50<04:50, 12.98it/s]"
     ]
    },
    {
     "name": "stdout",
     "output_type": "stream",
     "text": [
      "Exception at row 1686\n",
      "list index out of range\n"
     ]
    },
    {
     "name": "stderr",
     "output_type": "stream",
     "text": [
      "Processing row 1715:  31%|███       | 1696/5455 [00:50<07:03,  8.87it/s]"
     ]
    },
    {
     "name": "stdout",
     "output_type": "stream",
     "text": [
      "Exception at row 1704\n",
      "'ascii' codec can't encode character '\\xed' in position 47: ordinal not in range(128)\n",
      "Exception at row 1714\n",
      "'ascii' codec can't encode character '\\xed' in position 29: ordinal not in range(128)\n"
     ]
    },
    {
     "name": "stderr",
     "output_type": "stream",
     "text": [
      "Processing row 2032:  37%|███▋      | 2029/5456 [00:51<01:35, 36.06it/s]"
     ]
    },
    {
     "name": "stdout",
     "output_type": "stream",
     "text": [
      "Exception at row 1905\n",
      "'ascii' codec can't encode character '\\xf4' in position 13: ordinal not in range(128)\n",
      "Exception at row 1922\n",
      "'ascii' codec can't encode character '\\xf6' in position 34: ordinal not in range(128)\n",
      "Exception at row 1932\n",
      "'ascii' codec can't encode character '\\xef' in position 16: ordinal not in range(128)\n",
      "Exception at row 1964\n",
      "'ascii' codec can't encode character '\\xbf' in position 36: ordinal not in range(128)\n",
      "Exception at row 1990\n",
      "'ascii' codec can't encode character '\\xf9' in position 38: ordinal not in range(128)\n",
      "Exception at row 1993\n",
      "'ascii' codec can't encode character '\\xe9' in position 66: ordinal not in range(128)\n",
      "Exception at row 2000\n",
      "'ascii' codec can't encode character '\\xee' in position 32: ordinal not in range(128)\n",
      "Exception at row 2004\n",
      "'ascii' codec can't encode character '\\xe4' in position 36: ordinal not in range(128)\n",
      "Exception at row 2007\n",
      "'ascii' codec can't encode character '\\xf4' in position 36: ordinal not in range(128)\n",
      "Exception at row 2008\n",
      "'ascii' codec can't encode character '\\xf9' in position 46: ordinal not in range(128)\n",
      "Exception at row 2022\n",
      "'ascii' codec can't encode character '\\xe9' in position 49: ordinal not in range(128)\n",
      "Exception at row 2031\n",
      "'ascii' codec can't encode character '\\xe4' in position 22: ordinal not in range(128)\n"
     ]
    },
    {
     "name": "stderr",
     "output_type": "stream",
     "text": [
      "Processing row 1769:  31%|███       | 1695/5456 [00:51<05:40, 11.03it/s]"
     ]
    },
    {
     "name": "stdout",
     "output_type": "stream",
     "text": [
      "Exception at row 2041\n",
      "'ascii' codec can't encode character '\\xe4' in position 37: ordinal not in range(128)\n",
      "Exception at row 1694\n",
      "list index out of range\n",
      "Exception at row 1768\n",
      "'ascii' codec can't encode character '\\xe9' in position 30: ordinal not in range(128)\n"
     ]
    },
    {
     "name": "stderr",
     "output_type": "stream",
     "text": [
      "Processing row 2930:  54%|█████▎    | 2926/5456 [00:52<04:33,  9.24it/s]"
     ]
    },
    {
     "name": "stdout",
     "output_type": "stream",
     "text": [
      "Exception at row 2925\n",
      "list index out of range\n"
     ]
    },
    {
     "name": "stderr",
     "output_type": "stream",
     "text": [
      "Processing row 1780:  32%|███▏      | 1770/5456 [00:53<03:12, 19.17it/s]"
     ]
    },
    {
     "name": "stdout",
     "output_type": "stream",
     "text": [
      "Exception at row 1777\n",
      "'ascii' codec can't encode character '\\xf4' in position 54: ordinal not in range(128)\n"
     ]
    },
    {
     "name": "stderr",
     "output_type": "stream",
     "text": [
      "Processing row 2139:  38%|███▊      | 2066/5456 [00:54<02:12, 25.52it/s]"
     ]
    },
    {
     "name": "stdout",
     "output_type": "stream",
     "text": [
      "Exception at row 1715\n",
      "list index out of range\n",
      "Exception at row 2085\n",
      "'ascii' codec can't encode character '\\xf9' in position 61: ordinal not in range(128)\n",
      "Exception at row 2095\n",
      "'ascii' codec can't encode character '\\xdf' in position 71: ordinal not in range(128)\n",
      "Exception at row 2117\n",
      "'ascii' codec can't encode character '\\xe4' in position 33: ordinal not in range(128)\n",
      "Exception at row 2118\n",
      "'ascii' codec can't encode character '\\xe5' in position 34: ordinal not in range(128)\n"
     ]
    },
    {
     "name": "stderr",
     "output_type": "stream",
     "text": [
      "Processing row 1795:  33%|███▎      | 1781/5456 [00:55<03:47, 16.16it/s]"
     ]
    },
    {
     "name": "stdout",
     "output_type": "stream",
     "text": [
      "Exception at row 1780\n",
      "list index out of range\n",
      "Exception at row 1782\n",
      "'ascii' codec can't encode character '\\xe3' in position 35: ordinal not in range(128)\n",
      "Exception at row 1785\n",
      "'ascii' codec can't encode character '\\xe6' in position 42: ordinal not in range(128)\n"
     ]
    },
    {
     "name": "stderr",
     "output_type": "stream",
     "text": [
      "Processing row 2970:  54%|█████▍    | 2933/5456 [00:56<06:17,  6.69it/s]"
     ]
    },
    {
     "name": "stdout",
     "output_type": "stream",
     "text": [
      "Exception at row 2967\n",
      "'ascii' codec can't encode character '\\xe9' in position 12: ordinal not in range(128)\n"
     ]
    },
    {
     "name": "stderr",
     "output_type": "stream",
     "text": [
      "Processing row 2174:  39%|███▉      | 2140/5456 [00:56<01:58, 27.97it/s]"
     ]
    },
    {
     "name": "stdout",
     "output_type": "stream",
     "text": [
      "Exception at row 2161\n",
      "'ascii' codec can't encode character '\\xf4' in position 26: ordinal not in range(128)\n"
     ]
    },
    {
     "name": "stderr",
     "output_type": "stream",
     "text": [
      "Processing row 3063:  55%|█████▌    | 3022/5456 [00:58<02:24, 16.82it/s]"
     ]
    },
    {
     "name": "stdout",
     "output_type": "stream",
     "text": [
      "Exception at row 2970\n",
      "list index out of range\n",
      "Exception at row 2174\n",
      "list index out of range\n",
      "Exception at row 2197\n",
      "'ascii' codec can't encode character '\\xe9' in position 40: ordinal not in range(128)\n",
      "Exception at row 3005\n",
      "'ascii' codec can't encode character '\\xfb' in position 23: ordinal not in range(128)\n",
      "Exception at row 2218\n",
      "'ascii' codec can't encode character '\\xe8' in position 18: ordinal not in range(128)\n",
      "Exception at row 2224\n",
      "'ascii' codec can't encode character '\\xf4' in position 41: ordinal not in range(128)\n",
      "Exception at row 2231\n",
      "'ascii' codec can't encode character '\\xf4' in position 34: ordinal not in range(128)\n",
      "Exception at row 2232\n",
      "'ascii' codec can't encode character '\\xe9' in position 24: ordinal not in range(128)\n"
     ]
    },
    {
     "name": "stderr",
     "output_type": "stream",
     "text": [
      "Processing row 3094:  57%|█████▋    | 3085/5456 [00:58<01:18, 30.34it/s]"
     ]
    },
    {
     "name": "stdout",
     "output_type": "stream",
     "text": [
      "Exception at row 1740\n",
      "'ascii' codec can't encode character '\\xe8' in position 37: ordinal not in range(128)\n",
      "Exception at row 1745\n",
      "'ascii' codec can't encode character '\\xe5' in position 38: ordinal not in range(128)\n"
     ]
    },
    {
     "name": "stderr",
     "output_type": "stream",
     "text": [
      "Processing row 3152:  57%|█████▋    | 3105/5456 [00:59<01:16, 30.73it/s]"
     ]
    },
    {
     "name": "stdout",
     "output_type": "stream",
     "text": [
      "Exception at row 3094\n",
      "list index out of range\n",
      "Exception at row 3140\n",
      "'ascii' codec can't encode character '\\xe1' in position 33: ordinal not in range(128)\n",
      "Exception at row 3150\n",
      "'ascii' codec can't encode character '\\xf6' in position 32: ordinal not in range(128)\n"
     ]
    },
    {
     "name": "stderr",
     "output_type": "stream",
     "text": [
      "Processing row 1858:  33%|███▎      | 1806/5455 [01:01<03:52, 15.70it/s]"
     ]
    },
    {
     "name": "stdout",
     "output_type": "stream",
     "text": [
      "Exception at row 1764\n",
      "'ascii' codec can't encode character '\\xc9' in position 23: ordinal not in range(128)\n",
      "Exception at row 1772\n",
      "'ascii' codec can't encode character '\\xe9' in position 35: ordinal not in range(128)\n",
      "Exception at row 1777\n",
      "'ascii' codec can't encode character '\\xe1' in position 43: ordinal not in range(128)\n",
      "Exception at row 1787\n",
      "'ascii' codec can't encode character '\\xe4' in position 42: ordinal not in range(128)\n",
      "Exception at row 1803\n",
      "'ascii' codec can't encode character '\\xe0' in position 23: ordinal not in range(128)\n",
      "Exception at row 3152\n",
      "list index out of range\n",
      "Exception at row 3154\n",
      "'ascii' codec can't encode character '\\xf6' in position 21: ordinal not in range(128)\n",
      "Exception at row 1841\n",
      "'ascii' codec can't encode character '\\xe4' in position 32: ordinal not in range(128)\n",
      "Exception at row 1857\n",
      "'ascii' codec can't encode character '\\xed' in position 27: ordinal not in range(128)\n"
     ]
    },
    {
     "name": "stderr",
     "output_type": "stream",
     "text": [
      "Processing row 1817:  33%|███▎      | 1809/5456 [01:01<07:09,  8.49it/s]"
     ]
    },
    {
     "name": "stdout",
     "output_type": "stream",
     "text": [
      "Exception at row 1858\n",
      "'ascii' codec can't encode character '\\xc0' in position 9: ordinal not in range(128)\n",
      "Exception at row 1878\n",
      "'ascii' codec can't encode character '\\xfa' in position 23: ordinal not in range(128)\n",
      "Exception at row 1882\n",
      "'ascii' codec can't encode character '\\xe9' in position 17: ordinal not in range(128)\n",
      "Exception at row 1904\n",
      "'ascii' codec can't encode character '\\xe9' in position 39: ordinal not in range(128)\n",
      "Exception at row 1905\n",
      "'ascii' codec can't encode character '\\xe9' in position 65: ordinal not in range(128)\n",
      "Exception at row 1906\n",
      "'ascii' codec can't encode character '\\xe9' in position 37: ordinal not in range(128)\n",
      "Exception at row 1937\n",
      "'ascii' codec can't encode character '\\xe6' in position 25: ordinal not in range(128)\n",
      "Exception at row 1808\n",
      "list index out of range\n",
      "Exception at row 1945\n",
      "'ascii' codec can't encode character '\\xc0' in position 34: ordinal not in range(128)\n",
      "Exception at row 1809\n",
      "'ascii' codec can't encode character '\\xe8' in position 51: ordinal not in range(128)\n",
      "Exception at row 1953\n",
      "'ascii' codec can't encode character '\\xfb' in position 35: ordinal not in range(128)\n"
     ]
    },
    {
     "name": "stderr",
     "output_type": "stream",
     "text": [
      "Processing row 1910:  34%|███▍      | 1855/5456 [01:01<03:44, 16.02it/s]"
     ]
    },
    {
     "name": "stdout",
     "output_type": "stream",
     "text": [
      "Exception at row 1834\n",
      "'ascii' codec can't encode character '\\xb7' in position 13: ordinal not in range(128)\n",
      "Exception at row 1856\n",
      "'ascii' codec can't encode character '\\xf4' in position 39: ordinal not in range(128)\n",
      "Exception at row 1877\n",
      "'ascii' codec can't encode character '\\xf4' in position 29: ordinal not in range(128)\n",
      "Exception at row 1888\n",
      "'ascii' codec can't encode character '\\xea' in position 40: ordinal not in range(128)\n",
      "Exception at row 1901\n",
      "'ascii' codec can't encode character '\\xfb' in position 65: ordinal not in range(128)\n"
     ]
    },
    {
     "name": "stderr",
     "output_type": "stream",
     "text": [
      "Processing row 2272:  42%|████▏     | 2268/5456 [01:02<02:26, 21.80it/s]"
     ]
    },
    {
     "name": "stdout",
     "output_type": "stream",
     "text": [
      "Exception at row 2250\n",
      "list index out of range\n"
     ]
    },
    {
     "name": "stderr",
     "output_type": "stream",
     "text": [
      "Processing row 3221:  58%|█████▊    | 3165/5456 [01:03<01:59, 19.14it/s]"
     ]
    },
    {
     "name": "stdout",
     "output_type": "stream",
     "text": [
      "Exception at row 1957\n",
      "list index out of range\n",
      "Exception at row 1958\n",
      "'ascii' codec can't encode character '\\xf4' in position 51: ordinal not in range(128)\n",
      "Exception at row 3179\n",
      "'ascii' codec can't encode character '\\xe9' in position 35: ordinal not in range(128)\n"
     ]
    },
    {
     "name": "stderr",
     "output_type": "stream",
     "text": [
      "Processing row 1986:  36%|███▌      | 1971/5456 [01:03<01:49, 31.79it/s]"
     ]
    },
    {
     "name": "stdout",
     "output_type": "stream",
     "text": [
      "Exception at row 1920\n",
      "'ascii' codec can't encode character '\\xe2' in position 44: ordinal not in range(128)\n",
      "Exception at row 1926\n",
      "'ascii' codec can't encode character '\\xe6' in position 22: ordinal not in range(128)\n",
      "Exception at row 1928\n",
      "'ascii' codec can't encode character '\\xe6' in position 35: ordinal not in range(128)\n",
      "Exception at row 1941\n",
      "'ascii' codec can't encode character '\\xee' in position 39: ordinal not in range(128)\n",
      "Exception at row 1960\n",
      "'ascii' codec can't encode character '\\xe9' in position 15: ordinal not in range(128)\n",
      "Exception at row 1970\n",
      "'ascii' codec can't encode character '\\xea' in position 35: ordinal not in range(128)\n"
     ]
    },
    {
     "name": "stderr",
     "output_type": "stream",
     "text": [
      "Processing row 2432:  44%|████▎     | 2380/5456 [01:04<01:17, 39.84it/s]"
     ]
    },
    {
     "name": "stdout",
     "output_type": "stream",
     "text": [
      "Exception at row 2282\n",
      "'ascii' codec can't encode character '\\xf3' in position 40: ordinal not in range(128)\n",
      "Exception at row 2315\n",
      "'ascii' codec can't encode character '\\xf4' in position 44: ordinal not in range(128)\n",
      "Exception at row 2356\n",
      "'ascii' codec can't encode character '\\xe2' in position 33: ordinal not in range(128)\n",
      "Exception at row 2361\n",
      "'ascii' codec can't encode character '\\xe8' in position 26: ordinal not in range(128)\n",
      "Exception at row 2379\n",
      "'ascii' codec can't encode character '\\xe9' in position 23: ordinal not in range(128)\n",
      "Exception at row 2423\n",
      "'ascii' codec can't encode character '\\xe8' in position 30: ordinal not in range(128)\n",
      "Exception at row 2426\n",
      "'ascii' codec can't encode character '\\xe9' in position 45: ordinal not in range(128)\n"
     ]
    },
    {
     "name": "stderr",
     "output_type": "stream",
     "text": [
      "Processing row 2024:  36%|███▌      | 1977/5455 [01:06<02:52, 20.15it/s]"
     ]
    },
    {
     "name": "stdout",
     "output_type": "stream",
     "text": [
      "Exception at row 1976\n",
      "list index out of range\n",
      "Exception at row 2020\n",
      "'ascii' codec can't encode character '\\xf4' in position 62: ordinal not in range(128)\n"
     ]
    },
    {
     "name": "stderr",
     "output_type": "stream",
     "text": [
      "Processing row 2045:  37%|███▋      | 1997/5456 [01:07<03:03, 18.80it/s]"
     ]
    },
    {
     "name": "stdout",
     "output_type": "stream",
     "text": [
      "Exception at row 3239\n",
      "list index out of range\n",
      "Exception at row 2020\n",
      "'ascii' codec can't encode character '\\xe5' in position 32: ordinal not in range(128)\n",
      "Exception at row 2028\n",
      "'ascii' codec can't encode character '\\xe9' in position 41: ordinal not in range(128)\n"
     ]
    },
    {
     "name": "stderr",
     "output_type": "stream",
     "text": [
      "Processing row 2105:  38%|███▊      | 2071/5456 [01:09<02:26, 23.17it/s]"
     ]
    },
    {
     "name": "stdout",
     "output_type": "stream",
     "text": [
      "Exception at row 2070\n",
      "list index out of range\n",
      "Exception at row 2075\n",
      "'ascii' codec can't encode character '\\xf3' in position 13: ordinal not in range(128)\n",
      "Exception at row 2099\n",
      "'ascii' codec can't encode character '\\xe4' in position 26: ordinal not in range(128)\n"
     ]
    },
    {
     "name": "stderr",
     "output_type": "stream",
     "text": [
      "Processing row 3284:  60%|██████    | 3283/5456 [01:10<02:12, 16.39it/s]"
     ]
    },
    {
     "name": "stdout",
     "output_type": "stream",
     "text": [
      "Exception at row 3281\n",
      "'ascii' codec can't encode character '\\xe9' in position 30: ordinal not in range(128)\n"
     ]
    },
    {
     "name": "stderr",
     "output_type": "stream",
     "text": [
      "Processing row 3299:  60%|██████    | 3289/5456 [01:10<02:06, 17.20it/s]"
     ]
    },
    {
     "name": "stdout",
     "output_type": "stream",
     "text": [
      "Exception at row 2462\n",
      "'ascii' codec can't encode character '\\xe9' in position 47: ordinal not in range(128)\n"
     ]
    },
    {
     "name": "stderr",
     "output_type": "stream",
     "text": [
      "Processing row 2215:  40%|███▉      | 2161/5456 [01:12<01:38, 33.40it/s]"
     ]
    },
    {
     "name": "stdout",
     "output_type": "stream",
     "text": [
      "Exception at row 3299\n",
      "list index out of range\n",
      "Exception at row 2113\n",
      "'ascii' codec can't encode character '\\xfb' in position 29: ordinal not in range(128)\n",
      "Exception at row 2115\n",
      "'ascii' codec can't encode characters in position 26-27: ordinal not in range(128)\n",
      "Exception at row 2158\n",
      "'ascii' codec can't encode character '\\xe4' in position 86: ordinal not in range(128)\n",
      "Exception at row 2160\n",
      "'ascii' codec can't encode character '\\xfb' in position 25: ordinal not in range(128)\n",
      "Exception at row 2167\n",
      "'ascii' codec can't encode character '\\xd4' in position 55: ordinal not in range(128)\n",
      "Exception at row 2168\n",
      "'ascii' codec can't encode character '\\xd4' in position 55: ordinal not in range(128)\n",
      "Exception at row 2198\n",
      "'ascii' codec can't encode character '\\xf4' in position 29: ordinal not in range(128)\n",
      "Exception at row 2201\n",
      "'ascii' codec can't encode character '\\xf3' in position 11: ordinal not in range(128)\n",
      "Exception at row 2209\n",
      "'ascii' codec can't encode character '\\xf4' in position 24: ordinal not in range(128)\n",
      "Exception at row 2215"
     ]
    },
    {
     "name": "stderr",
     "output_type": "stream",
     "text": [
      "Processing row 2220:  41%|████      | 2216/5456 [01:12<01:04, 50.31it/s]"
     ]
    },
    {
     "name": "stdout",
     "output_type": "stream",
     "text": [
      "\n",
      "'ascii' codec can't encode character '\\xe4' in position 10: ordinal not in range(128)\n"
     ]
    },
    {
     "name": "stderr",
     "output_type": "stream",
     "text": [
      "Processing row 2606:  47%|████▋     | 2553/5456 [01:13<01:38, 29.54it/s]"
     ]
    },
    {
     "name": "stdout",
     "output_type": "stream",
     "text": [
      "Exception at row 2481\n",
      "'ascii' codec can't encode character '\\xc1' in position 35: ordinal not in range(128)\n",
      "Exception at row 2509\n",
      "'ascii' codec can't encode character '\\xf1' in position 37: ordinal not in range(128)\n",
      "Exception at row 2517\n",
      "'ascii' codec can't encode character '\\xf3' in position 40: ordinal not in range(128)\n",
      "Exception at row 2520\n",
      "'ascii' codec can't encode character '\\xe8' in position 27: ordinal not in range(128)\n",
      "Exception at row 2545\n",
      "'ascii' codec can't encode character '\\xe9' in position 36: ordinal not in range(128)\n",
      "Exception at row 2552\n",
      "'ascii' codec can't encode character '\\xe8' in position 28: ordinal not in range(128)\n",
      "Exception at row 2558\n",
      "'ascii' codec can't encode character '\\xed' in position 48: ordinal not in range(128)\n",
      "Exception at row 2594\n",
      "'ascii' codec can't encode character '\\xea' in position 29: ordinal not in range(128)\n"
     ]
    },
    {
     "name": "stderr",
     "output_type": "stream",
     "text": [
      "Processing row 2130:  38%|███▊      | 2093/5455 [01:13<02:38, 21.19it/s]"
     ]
    },
    {
     "name": "stdout",
     "output_type": "stream",
     "text": [
      "Exception at row 2037\n",
      "'ascii' codec can't encode character '\\xe9' in position 10: ordinal not in range(128)\n",
      "Exception at row 2059\n",
      "'ascii' codec can't encode character '\\xea' in position 32: ordinal not in range(128)\n",
      "Exception at row 2062\n",
      "'ascii' codec can't encode character '\\xf3' in position 41: ordinal not in range(128)\n",
      "Exception at row 2063\n",
      "'ascii' codec can't encode character '\\xe9' in position 30: ordinal not in range(128)\n",
      "Exception at row 2066\n",
      "'ascii' codec can't encode character '\\xe9' in position 38: ordinal not in range(128)\n",
      "Exception at row 2087\n",
      "'ascii' codec can't encode character '\\xe9' in position 28: ordinal not in range(128)\n",
      "Exception at row 2090\n",
      "'ascii' codec can't encode character '\\xe9' in position 15: ordinal not in range(128)\n",
      "Exception at row 2111\n",
      "'ascii' codec can't encode character '\\xe9' in position 20: ordinal not in range(128)\n",
      "Exception at row 2116\n",
      "'ascii' codec can't encode character '\\xe9' in position 21: ordinal not in range(128)\n",
      "Exception at row 2120\n",
      "'ascii' codec can't encode character '\\xe5' in position 31: ordinal not in range(128)\n"
     ]
    },
    {
     "name": "stderr",
     "output_type": "stream",
     "text": [
      "Processing row 3338:  61%|██████    | 3304/5456 [01:13<03:36,  9.95it/s]"
     ]
    },
    {
     "name": "stdout",
     "output_type": "stream",
     "text": [
      "Exception at row 3303\n",
      "list index out of range\n"
     ]
    },
    {
     "name": "stderr",
     "output_type": "stream",
     "text": [
      "Processing row 2134:  39%|███▉      | 2131/5455 [01:15<02:31, 21.89it/s]"
     ]
    },
    {
     "name": "stdout",
     "output_type": "stream",
     "text": [
      "Exception at row 2130\n",
      "list index out of range\n"
     ]
    },
    {
     "name": "stderr",
     "output_type": "stream",
     "text": [
      "Processing row 2205:  39%|███▉      | 2149/5455 [01:16<02:54, 18.92it/s]"
     ]
    },
    {
     "name": "stdout",
     "output_type": "stream",
     "text": [
      "Exception at row 2134\n",
      "list index out of range\n",
      "Exception at row 2136\n",
      "'ascii' codec can't encode character '\\xe4' in position 45: ordinal not in range(128)\n",
      "Exception at row 2145\n",
      "'ascii' codec can't encode character '\\xf4' in position 69: ordinal not in range(128)\n",
      "Exception at row 2154\n",
      "'ascii' codec can't encode character '\\xed' in position 35: ordinal not in range(128)\n",
      "Exception at row 2161\n",
      "'ascii' codec can't encode character '\\xe9' in position 44: ordinal not in range(128)\n"
     ]
    },
    {
     "name": "stderr",
     "output_type": "stream",
     "text": [
      "Processing row 2685:  49%|████▉     | 2667/5456 [01:17<01:28, 31.41it/s]"
     ]
    },
    {
     "name": "stdout",
     "output_type": "stream",
     "text": [
      "Exception at row 2646\n",
      "'ascii' codec can't encode character '\\xfb' in position 29: ordinal not in range(128)\n",
      "Exception at row 2223\n",
      "'ascii' codec can't encode character '\\xeb' in position 42: ordinal not in range(128)\n",
      "Exception at row 2236\n",
      "'ascii' codec can't encode character '\\xf4' in position 47: ordinal not in range(128)\n"
     ]
    },
    {
     "name": "stderr",
     "output_type": "stream",
     "text": [
      "Processing row 2287:  41%|████      | 2246/5456 [01:17<02:49, 18.96it/s]"
     ]
    },
    {
     "name": "stdout",
     "output_type": "stream",
     "text": [
      "Exception at row 2241\n",
      "'ascii' codec can't encode characters in position 24-25: ordinal not in range(128)\n"
     ]
    },
    {
     "name": "stderr",
     "output_type": "stream",
     "text": [
      "Processing row 2265:  41%|████      | 2239/5455 [01:18<01:49, 29.42it/s]"
     ]
    },
    {
     "name": "stdout",
     "output_type": "stream",
     "text": [
      "Exception at row 2205\n",
      "list index out of range\n",
      "Exception at row 2224\n",
      "'ascii' codec can't encode character '\\xfb' in position 50: ordinal not in range(128)\n",
      "Exception at row 2238\n",
      "'ascii' codec can't encode character '\\xf2' in position 36: ordinal not in range(128)\n",
      "Exception at row 2263\n",
      "'ascii' codec can't encode character '\\xe4' in position 42: ordinal not in range(128)\n",
      "Exception at row 2264\n",
      "'ascii' codec can't encode character '\\xf6' in position 38: ordinal not in range(128)\n"
     ]
    },
    {
     "name": "stderr",
     "output_type": "stream",
     "text": [
      "Processing row 2733:  50%|████▉     | 2726/5456 [01:18<01:28, 30.79it/s]"
     ]
    },
    {
     "name": "stdout",
     "output_type": "stream",
     "text": [
      "Exception at row 2701\n",
      "list index out of range\n"
     ]
    },
    {
     "name": "stderr",
     "output_type": "stream",
     "text": [
      "Processing row 2445:  44%|████▍     | 2401/5456 [01:19<01:13, 41.76it/s]"
     ]
    },
    {
     "name": "stdout",
     "output_type": "stream",
     "text": [
      "Exception at row 2314\n",
      "'ascii' codec can't encode character '\\xf4' in position 44: ordinal not in range(128)\n",
      "Exception at row 2324\n",
      "'ascii' codec can't encode character '\\xf4' in position 46: ordinal not in range(128)\n",
      "Exception at row 2356\n",
      "'ascii' codec can't encode character '\\xf4' in position 37: ordinal not in range(128)\n",
      "Exception at row 2387\n",
      "'ascii' codec can't encode character '\\xe9' in position 38: ordinal not in range(128)\n",
      "Exception at row 2434\n",
      "'ascii' codec can't encode character '\\xfb' in position 10: ordinal not in range(128)\n",
      "Exception at row 2439\n",
      "'ascii' codec can't encode character '\\xed' in position 28: ordinal not in range(128)\n"
     ]
    },
    {
     "name": "stderr",
     "output_type": "stream",
     "text": [
      "Processing row 2736:  50%|████▉     | 2726/5456 [01:20<01:28, 30.79it/s]"
     ]
    },
    {
     "name": "stdout",
     "output_type": "stream",
     "text": [
      "Exception at row 3442\n",
      "'ascii' codec can't encode character '\\xf4' in position 37: ordinal not in range(128)\n"
     ]
    },
    {
     "name": "stderr",
     "output_type": "stream",
     "text": [
      "Processing row 2467:  45%|████▍     | 2446/5456 [01:21<01:27, 34.53it/s]"
     ]
    },
    {
     "name": "stdout",
     "output_type": "stream",
     "text": [
      "Exception at row 2462\n",
      "'ascii' codec can't encode character '\\xf4' in position 41: ordinal not in range(128)\n"
     ]
    },
    {
     "name": "stderr",
     "output_type": "stream",
     "text": [
      "Processing row 2540:  47%|████▋     | 2540/5456 [01:23<01:09, 42.21it/s]"
     ]
    },
    {
     "name": "stdout",
     "output_type": "stream",
     "text": [
      "Exception at row 2467\n",
      "list index out of range\n",
      "Exception at row 2482\n",
      "'ascii' codec can't encode character '\\xe4' in position 37: ordinal not in range(128)\n",
      "Exception at row 2490\n",
      "'ascii' codec can't encode character '\\xdf' in position 54: ordinal not in range(128)\n",
      "Exception at row 2512\n",
      "'ascii' codec can't encode character '\\xfd' in position 20: ordinal not in range(128)\n",
      "Exception at row 2527\n",
      "'ascii' codec can't encode character '\\xe8' in position 15: ordinal not in range(128)\n",
      "Exception at row 2533\n",
      "'ascii' codec can't encode character '\\xe9' in position 12: ordinal not in range(128)\n",
      "Exception at row 2539\n",
      "'ascii' codec can't encode character '\\xf6' in position 56: ordinal not in range(128)\n"
     ]
    },
    {
     "name": "stderr",
     "output_type": "stream",
     "text": [
      "Processing row 2319:  42%|████▏     | 2305/5455 [01:25<02:53, 18.20it/s]"
     ]
    },
    {
     "name": "stdout",
     "output_type": "stream",
     "text": [
      "Exception at row 2267\n",
      "'ascii' codec can't encode character '\\xf6' in position 35: ordinal not in range(128)\n",
      "Exception at row 2269\n",
      "'ascii' codec can't encode characters in position 14-15: ordinal not in range(128)\n",
      "Exception at row 2287\n",
      "'ascii' codec can't encode character '\\xe4' in position 52: ordinal not in range(128)\n",
      "Exception at row 2289\n",
      "'ascii' codec can't encode character '\\xf1' in position 43: ordinal not in range(128)\n",
      "Exception at row 2291\n",
      "'ascii' codec can't encode character '\\xed' in position 25: ordinal not in range(128)\n",
      "Exception at row 2293\n",
      "'ascii' codec can't encode character '\\xe8' in position 14: ordinal not in range(128)\n",
      "Exception at row 2305\n",
      "'ascii' codec can't encode character '\\xe0' in position 41: ordinal not in range(128)\n",
      "Exception at row 2317\n",
      "'ascii' codec can't encode character '\\xe4' in position 20: ordinal not in range(128)\n"
     ]
    },
    {
     "name": "stderr",
     "output_type": "stream",
     "text": [
      "Processing row 2349:  43%|████▎     | 2325/5455 [01:25<02:29, 20.93it/s]"
     ]
    },
    {
     "name": "stdout",
     "output_type": "stream",
     "text": [
      "Exception at row 2333\n",
      "'ascii' codec can't encode character '\\xe8' in position 53: ordinal not in range(128)\n",
      "Exception at row 2339\n",
      "'ascii' codec can't encode character '\\xf4' in position 43: ordinal not in range(128)\n"
     ]
    },
    {
     "name": "stderr",
     "output_type": "stream",
     "text": [
      "Processing row 3478:  63%|██████▎   | 3456/5456 [01:26<02:49, 11.81it/s]"
     ]
    },
    {
     "name": "stdout",
     "output_type": "stream",
     "text": [
      "Exception at row 3455\n",
      "list index out of range\n"
     ]
    },
    {
     "name": "stderr",
     "output_type": "stream",
     "text": [
      "Processing row 3509:  64%|██████▍   | 3479/5456 [01:28<02:47, 11.77it/s]"
     ]
    },
    {
     "name": "stdout",
     "output_type": "stream",
     "text": [
      "Exception at row 3501\n",
      "'ascii' codec can't encode character '\\xee' in position 25: ordinal not in range(128)\n"
     ]
    },
    {
     "name": "stderr",
     "output_type": "stream",
     "text": [
      "Processing row 3512:  64%|██████▍   | 3510/5456 [01:30<02:30, 12.96it/s]"
     ]
    },
    {
     "name": "stdout",
     "output_type": "stream",
     "text": [
      "Exception at row 2380\n",
      "'ascii' codec can't encode character '\\xe4' in position 25: ordinal not in range(128)\n",
      "Exception at row 2400\n",
      "'ascii' codec can't encode character '\\xa1' in position 9: ordinal not in range(128)\n"
     ]
    },
    {
     "name": "stderr",
     "output_type": "stream",
     "text": [
      "Processing row 2640:  48%|████▊     | 2638/5456 [01:31<02:04, 22.64it/s]"
     ]
    },
    {
     "name": "stdout",
     "output_type": "stream",
     "text": [
      "Exception at row 2593\n",
      "'ascii' codec can't encode character '\\xe5' in position 24: ordinal not in range(128)\n",
      "Exception at row 2599\n",
      "'ascii' codec can't encode character '\\xe9' in position 10: ordinal not in range(128)\n",
      "Exception at row 2602\n",
      "'ascii' codec can't encode character '\\xf6' in position 51: ordinal not in range(128)\n",
      "Exception at row 2634\n",
      "'ascii' codec can't encode character '\\xf4' in position 45: ordinal not in range(128)\n",
      "Exception at row 2637\n",
      "'ascii' codec can't encode character '\\xe4' in position 44: ordinal not in range(128)\n"
     ]
    },
    {
     "name": "stderr",
     "output_type": "stream",
     "text": [
      "Processing row 2695:  49%|████▉     | 2674/5456 [01:34<02:31, 18.36it/s]"
     ]
    },
    {
     "name": "stdout",
     "output_type": "stream",
     "text": [
      "Exception at row 2657\n",
      "'ascii' codec can't encode character '\\xea' in position 43: ordinal not in range(128)\n",
      "Exception at row 2691\n",
      "'ascii' codec can't encode character '\\xe4' in position 29: ordinal not in range(128)\n"
     ]
    },
    {
     "name": "stderr",
     "output_type": "stream",
     "text": [
      "Processing row 2475:  45%|████▌     | 2456/5455 [01:35<03:28, 14.37it/s]"
     ]
    },
    {
     "name": "stdout",
     "output_type": "stream",
     "text": [
      "Exception at row 2450\n",
      "'ascii' codec can't encode character '\\xf3' in position 16: ordinal not in range(128)\n",
      "Exception at row 2451\n",
      "'ascii' codec can't encode character '\\xe4' in position 19: ordinal not in range(128)\n",
      "Exception at row 2467\n",
      "'ascii' codec can't encode characters in position 32-33: ordinal not in range(128)\n",
      "Exception at row 2471\n",
      "'ascii' codec can't encode character '\\xf4' in position 76: ordinal not in range(128)\n"
     ]
    },
    {
     "name": "stderr",
     "output_type": "stream",
     "text": [
      "Processing row 2718:  49%|████▉     | 2700/5456 [01:41<02:43, 16.82it/s]"
     ]
    },
    {
     "name": "stdout",
     "output_type": "stream",
     "text": [
      "Exception at row 2706\n",
      "'ascii' codec can't encode character '\\xe4' in position 19: ordinal not in range(128)\n",
      "Exception at row 2714\n",
      "'ascii' codec can't encode character '\\xf4' in position 52: ordinal not in range(128)\n",
      "Exception at row 2715\n",
      "'ascii' codec can't encode character '\\xf4' in position 69: ordinal not in range(128)\n"
     ]
    },
    {
     "name": "stderr",
     "output_type": "stream",
     "text": [
      "Processing row 2511:  45%|████▌     | 2476/5455 [01:42<05:43,  8.68it/s]"
     ]
    },
    {
     "name": "stdout",
     "output_type": "stream",
     "text": [
      "Exception at row 2477\n",
      "'ascii' codec can't encode character '\\xe4' in position 16: ordinal not in range(128)\n",
      "Exception at row 2493\n",
      "'ascii' codec can't encode character '\\xe9' in position 23: ordinal not in range(128)\n",
      "Exception at row 2500\n",
      "'ascii' codec can't encode character '\\xe9' in position 34: ordinal not in range(128)\n",
      "Exception at row 2501\n",
      "'ascii' codec can't encode character '\\xe4' in position 42: ordinal not in range(128)\n"
     ]
    },
    {
     "name": "stderr",
     "output_type": "stream",
     "text": [
      "Processing row 2609:  47%|████▋     | 2581/5455 [01:44<02:36, 18.34it/s]"
     ]
    },
    {
     "name": "stdout",
     "output_type": "stream",
     "text": [
      "Exception at row 2515\n",
      "'ascii' codec can't encode character '\\xe9' in position 12: ordinal not in range(128)\n",
      "Exception at row 2527\n",
      "'ascii' codec can't encode character '\\xe4' in position 33: ordinal not in range(128)\n",
      "Exception at row 2547\n",
      "'ascii' codec can't encode character '\\xf8' in position 47: ordinal not in range(128)\n",
      "Exception at row 2563\n",
      "'ascii' codec can't encode character '\\xee' in position 33: ordinal not in range(128)\n",
      "Exception at row 2570\n",
      "'ascii' codec can't encode character '\\xa1' in position 9: ordinal not in range(128)\n",
      "Exception at row 2582\n",
      "'ascii' codec can't encode character '\\xf4' in position 30: ordinal not in range(128)\n",
      "Exception at row 2608\n",
      "'ascii' codec can't encode character '\\xe9' in position 25: ordinal not in range(128)\n"
     ]
    },
    {
     "name": "stderr",
     "output_type": "stream",
     "text": [
      "Processing row 2631:  48%|████▊     | 2627/5455 [01:48<02:59, 15.79it/s]"
     ]
    },
    {
     "name": "stdout",
     "output_type": "stream",
     "text": [
      "Exception at row 2624\n",
      "list index out of range\n"
     ]
    },
    {
     "name": "stderr",
     "output_type": "stream",
     "text": [
      "Processing row 2672:  48%|████▊     | 2639/5455 [01:50<03:38, 12.91it/s]"
     ]
    },
    {
     "name": "stdout",
     "output_type": "stream",
     "text": [
      "Exception at row 2671\n",
      "'ascii' codec can't encode character '\\xe0' in position 18: ordinal not in range(128)\n"
     ]
    },
    {
     "name": "stderr",
     "output_type": "stream",
     "text": [
      "Processing row 2710:  49%|████▉     | 2673/5455 [01:52<03:05, 14.96it/s]"
     ]
    },
    {
     "name": "stdout",
     "output_type": "stream",
     "text": [
      "Exception at row 2672\n",
      "list index out of range\n",
      "Exception at row 2673\n",
      "'ascii' codec can't encode character '\\xe0' in position 59: ordinal not in range(128)\n",
      "Exception at row 2676\n",
      "'ascii' codec can't encode character '\\xb3' in position 44: ordinal not in range(128)\n",
      "Exception at row 2691\n",
      "'ascii' codec can't encode character '\\xf3' in position 27: ordinal not in range(128)\n",
      "Exception at row 2697\n",
      "'ascii' codec can't encode character '\\xf1' in position 31: ordinal not in range(128)\n"
     ]
    },
    {
     "name": "stderr",
     "output_type": "stream",
     "text": [
      "Processing row 2769:  50%|█████     | 2732/5456 [01:53<09:15,  4.91it/s]"
     ]
    },
    {
     "name": "stdout",
     "output_type": "stream",
     "text": [
      "Exception at row 2710\n",
      "list index out of range\n",
      "Exception at row 2741\n",
      "'ascii' codec can't encode character '\\xe9' in position 19: ordinal not in range(128)\n",
      "Exception at row 2750\n",
      "'ascii' codec can't encode character '\\xf3' in position 26: ordinal not in range(128)\n"
     ]
    },
    {
     "name": "stderr",
     "output_type": "stream",
     "text": [
      "Processing row 2799:  51%|█████     | 2769/5455 [01:56<02:01, 22.19it/s]"
     ]
    },
    {
     "name": "stdout",
     "output_type": "stream",
     "text": [
      "Exception at row 2778\n",
      "'ascii' codec can't encode character '\\xfc' in position 34: ordinal not in range(128)\n",
      "Exception at row 2784\n",
      "'ascii' codec can't encode character '\\xe4' in position 10: ordinal not in range(128)\n",
      "Exception at row 2740\n",
      "'ascii' codec can't encode character '\\xe5' in position 55: ordinal not in range(128)\n",
      "Exception at row 2787\n",
      "'ascii' codec can't encode characters in position 27-28: ordinal not in range(128)\n",
      "Exception at row 2742\n",
      "'ascii' codec can't encode character '\\xe8' in position 14: ordinal not in range(128)\n",
      "Exception at row 2768\n",
      "'ascii' codec can't encode character '\\xf4' in position 62: ordinal not in range(128)\n",
      "Exception at row 2769\n",
      "'ascii' codec can't encode character '\\xf4' in position 68: ordinal not in range(128)\n",
      "Exception at row 2774\n",
      "'ascii' codec can't encode character '\\xe9' in position 43: ordinal not in range(128)\n",
      "Exception at row 2775\n",
      "'ascii' codec can't encode character '\\xf4' in position 51: ordinal not in range(128)\n",
      "Exception at row 2776\n",
      "'ascii' codec can't encode character '\\xf4' in position 121: ordinal not in range(128)\n",
      "Exception at row 2782\n",
      "'ascii' codec can't encode character '\\xf4' in position 62: ordinal not in range(128)\n"
     ]
    },
    {
     "name": "stderr",
     "output_type": "stream",
     "text": [
      "Processing row 2805:  51%|█████▏    | 2800/5455 [01:58<02:14, 19.72it/s]"
     ]
    },
    {
     "name": "stdout",
     "output_type": "stream",
     "text": [
      "Exception at row 2826\n",
      "'ascii' codec can't encode character '\\xe9' in position 22: ordinal not in range(128)\n"
     ]
    },
    {
     "name": "stderr",
     "output_type": "stream",
     "text": [
      "Processing row 2806:  51%|█████▏    | 2800/5455 [02:00<02:14, 19.72it/s]"
     ]
    },
    {
     "name": "stdout",
     "output_type": "stream",
     "text": [
      "Exception at row 2837\n",
      "'ascii' codec can't encode character '\\xe0' in position 21: ordinal not in range(128)\n"
     ]
    },
    {
     "name": "stderr",
     "output_type": "stream",
     "text": [
      "Processing row 2846:  52%|█████▏    | 2835/5456 [02:01<04:42,  9.27it/s]"
     ]
    },
    {
     "name": "stdout",
     "output_type": "stream",
     "text": [
      "Exception at row 2839\n",
      "list index out of range\n",
      "Exception at row 2840\n",
      "'ascii' codec can't encode character '\\xea' in position 53: ordinal not in range(128)\n"
     ]
    },
    {
     "name": "stderr",
     "output_type": "stream",
     "text": [
      "Processing row 2771:  51%|█████     | 2764/5456 [02:03<18:04,  2.48it/s]"
     ]
    },
    {
     "name": "stdout",
     "output_type": "stream",
     "text": [
      "Exception at row 2847\n",
      "'ascii' codec can't encode character '\\xe8' in position 35: ordinal not in range(128)\n"
     ]
    },
    {
     "name": "stderr",
     "output_type": "stream",
     "text": [
      "Processing row 3536:  65%|██████▍   | 3534/5456 [02:05<38:57,  1.22s/it]"
     ]
    },
    {
     "name": "stdout",
     "output_type": "stream",
     "text": [
      "Exception at row 3535\n",
      "'ascii' codec can't encode character '\\xbd' in position 11: ordinal not in range(128)\n"
     ]
    },
    {
     "name": "stderr",
     "output_type": "stream",
     "text": [
      "Processing row 2851:  52%|█████▏    | 2848/5456 [02:07<06:07,  7.09it/s]"
     ]
    },
    {
     "name": "stdout",
     "output_type": "stream",
     "text": [
      "Exception at row 2850\n",
      "IncompleteRead(479900 bytes read)\n"
     ]
    },
    {
     "name": "stderr",
     "output_type": "stream",
     "text": [
      "Processing row 2775:  51%|█████     | 2775/5456 [02:11<30:24,  1.47it/s]"
     ]
    },
    {
     "name": "stdout",
     "output_type": "stream",
     "text": [
      "Exception at row 2774\n",
      "list index out of range\n"
     ]
    },
    {
     "name": "stderr",
     "output_type": "stream",
     "text": [
      "Processing row 3541:  65%|██████▍   | 3538/5456 [02:11<44:16,  1.39s/it]"
     ]
    },
    {
     "name": "stdout",
     "output_type": "stream",
     "text": [
      "Exception at row 2853\n",
      "'ascii' codec can't encode character '\\xf4' in position 78: ordinal not in range(128)\n"
     ]
    },
    {
     "name": "stderr",
     "output_type": "stream",
     "text": [
      "Processing row 3542:  65%|██████▍   | 3542/5456 [02:13<30:59,  1.03it/s]"
     ]
    },
    {
     "name": "stdout",
     "output_type": "stream",
     "text": [
      "Exception at row 2776\n",
      "list index out of range\n"
     ]
    },
    {
     "name": "stderr",
     "output_type": "stream",
     "text": [
      "Processing row 2778:  51%|█████     | 2775/5456 [02:14<30:24,  1.47it/s]"
     ]
    },
    {
     "name": "stdout",
     "output_type": "stream",
     "text": [
      "Exception at row 2777\n",
      "list index out of range\n"
     ]
    },
    {
     "name": "stderr",
     "output_type": "stream",
     "text": [
      "Processing row 3543:  65%|██████▍   | 3543/5456 [02:15<36:04,  1.13s/it]"
     ]
    },
    {
     "name": "stdout",
     "output_type": "stream",
     "text": [
      "Exception at row 2857\n",
      "'ascii' codec can't encode character '\\xf4' in position 69: ordinal not in range(128)\n"
     ]
    },
    {
     "name": "stderr",
     "output_type": "stream",
     "text": [
      "Processing row 2779:  51%|█████     | 2775/5456 [02:15<30:24,  1.47it/s]"
     ]
    },
    {
     "name": "stdout",
     "output_type": "stream",
     "text": [
      "Exception at row 2778\n",
      "list index out of range\n"
     ]
    },
    {
     "name": "stderr",
     "output_type": "stream",
     "text": [
      "Processing row 3545:  65%|██████▍   | 3544/5456 [02:17<38:51,  1.22s/it]"
     ]
    },
    {
     "name": "stdout",
     "output_type": "stream",
     "text": [
      "Exception at row 3543\n",
      "list index out of range\n"
     ]
    },
    {
     "name": "stderr",
     "output_type": "stream",
     "text": [
      "Processing row 2861:  52%|█████▏    | 2859/5456 [02:17<15:10,  2.85it/s]"
     ]
    },
    {
     "name": "stdout",
     "output_type": "stream",
     "text": [
      "Exception at row 2860\n",
      "'ascii' codec can't encode character '\\xe9' in position 31: ordinal not in range(128)\n"
     ]
    },
    {
     "name": "stderr",
     "output_type": "stream",
     "text": [
      "Processing row 3552:  65%|██████▌   | 3549/5456 [02:20<24:10,  1.31it/s]"
     ]
    },
    {
     "name": "stdout",
     "output_type": "stream",
     "text": [
      "Exception at row 3548\n",
      "list index out of range\n"
     ]
    },
    {
     "name": "stderr",
     "output_type": "stream",
     "text": [
      "Processing row 2824:  52%|█████▏    | 2821/5455 [02:21<15:37,  2.81it/s]"
     ]
    },
    {
     "name": "stdout",
     "output_type": "stream",
     "text": [
      "Exception at row 2821\n",
      "'ascii' codec can't encode character '\\xf4' in position 55: ordinal not in range(128)\n",
      "Exception at row 2822\n",
      "'ascii' codec can't encode character '\\xf4' in position 51: ordinal not in range(128)\n"
     ]
    },
    {
     "name": "stderr",
     "output_type": "stream",
     "text": [
      "Processing row 2866:  53%|█████▎    | 2865/5456 [02:23<19:57,  2.16it/s]"
     ]
    },
    {
     "name": "stdout",
     "output_type": "stream",
     "text": [
      "Exception at row 2865\n",
      "'ascii' codec can't encode character '\\xe9' in position 49: ordinal not in range(128)\n"
     ]
    },
    {
     "name": "stderr",
     "output_type": "stream",
     "text": [
      "Processing row 3556:  65%|██████▌   | 3554/5456 [02:24<26:38,  1.19it/s]"
     ]
    },
    {
     "name": "stdout",
     "output_type": "stream",
     "text": [
      "Exception at row 3554\n",
      "'ascii' codec can't encode character '\\xe9' in position 29: ordinal not in range(128)\n"
     ]
    },
    {
     "name": "stderr",
     "output_type": "stream",
     "text": [
      "Processing row 2867:  53%|█████▎    | 2865/5456 [02:25<19:57,  2.16it/s]"
     ]
    },
    {
     "name": "stdout",
     "output_type": "stream",
     "text": [
      "Exception at row 2866\n",
      "list index out of range\n"
     ]
    },
    {
     "name": "stderr",
     "output_type": "stream",
     "text": [
      "Processing row 3558:  65%|██████▌   | 3558/5456 [02:27<26:43,  1.18it/s]"
     ]
    },
    {
     "name": "stdout",
     "output_type": "stream",
     "text": [
      "Exception at row 3557\n",
      "list index out of range\n"
     ]
    },
    {
     "name": "stderr",
     "output_type": "stream",
     "text": [
      "Processing row 2833:  52%|█████▏    | 2831/5455 [02:35<28:36,  1.53it/s]t]"
     ]
    },
    {
     "name": "stdout",
     "output_type": "stream",
     "text": [
      "Exception at row 2831\n",
      "'ascii' codec can't encode character '\\xf4' in position 52: ordinal not in range(128)\n",
      "Exception at row 2832\n",
      "'ascii' codec can't encode character '\\xf4' in position 69: ordinal not in range(128)\n"
     ]
    },
    {
     "name": "stderr",
     "output_type": "stream",
     "text": [
      "Processing row 3562:  65%|██████▌   | 3561/5456 [02:37<1:06:12,  2.10s/it]"
     ]
    },
    {
     "name": "stdout",
     "output_type": "stream",
     "text": [
      "Exception at row 3561\n",
      "'ascii' codec can't encode character '\\xe0' in position 78: ordinal not in range(128)\n"
     ]
    },
    {
     "name": "stderr",
     "output_type": "stream",
     "text": [
      "Processing row 2792:  51%|█████     | 2789/5456 [02:39<51:22,  1.16s/it]"
     ]
    },
    {
     "name": "stdout",
     "output_type": "stream",
     "text": [
      "Exception at row 2791\n",
      "'ascii' codec can't encode character '\\xe6' in position 42: ordinal not in range(128)\n"
     ]
    },
    {
     "name": "stderr",
     "output_type": "stream",
     "text": [
      "Processing row 2795:  51%|█████     | 2793/5456 [02:45<56:35,  1.28s/it]t]"
     ]
    },
    {
     "name": "stdout",
     "output_type": "stream",
     "text": [
      "Exception at row 2794\n",
      "'ascii' codec can't encode character '\\xe9' in position 47: ordinal not in range(128)\n"
     ]
    },
    {
     "name": "stderr",
     "output_type": "stream",
     "text": [
      "Processing row 2839:  52%|█████▏    | 2838/5455 [02:48<46:32,  1.07s/it]t]"
     ]
    },
    {
     "name": "stdout",
     "output_type": "stream",
     "text": [
      "Exception at row 2838\n",
      "'ascii' codec can't encode character '\\xf4' in position 49: ordinal not in range(128)\n"
     ]
    },
    {
     "name": "stderr",
     "output_type": "stream",
     "text": [
      "Processing row 3569:  65%|██████▌   | 3569/5456 [02:57<1:45:50,  3.37s/it]"
     ]
    },
    {
     "name": "stdout",
     "output_type": "stream",
     "text": [
      "Exception at row 2842\n",
      "list index out of range\n",
      "Exception at row 2843\n",
      "'ascii' codec can't encode character '\\xe2' in position 19: ordinal not in range(128)\n"
     ]
    },
    {
     "name": "stderr",
     "output_type": "stream",
     "text": [
      "Processing row 3572:  65%|██████▌   | 3572/5456 [03:03<1:09:42,  2.22s/it]"
     ]
    },
    {
     "name": "stdout",
     "output_type": "stream",
     "text": [
      "Exception at row 3571\n",
      "list index out of range\n"
     ]
    },
    {
     "name": "stderr",
     "output_type": "stream",
     "text": [
      "Processing row 2887:  53%|█████▎    | 2886/5456 [03:07<1:20:12,  1.87s/it]"
     ]
    },
    {
     "name": "stdout",
     "output_type": "stream",
     "text": [
      "Exception at row 2886\n",
      "'ascii' codec can't encode character '\\xe4' in position 30: ordinal not in range(128)\n"
     ]
    },
    {
     "name": "stderr",
     "output_type": "stream",
     "text": [
      "Processing row 2807:  51%|█████▏    | 2806/5456 [03:08<1:10:33,  1.60s/it]"
     ]
    },
    {
     "name": "stdout",
     "output_type": "stream",
     "text": [
      "Exception at row 2806\n",
      "'ascii' codec can't encode character '\\xe9' in position 11: ordinal not in range(128)\n"
     ]
    },
    {
     "name": "stderr",
     "output_type": "stream",
     "text": [
      "Processing row 2891:  53%|█████▎    | 2890/5456 [03:16<1:30:46,  2.12s/it]"
     ]
    },
    {
     "name": "stdout",
     "output_type": "stream",
     "text": [
      "Exception at row 2890\n",
      "'ascii' codec can't encode character '\\xbd' in position 15: ordinal not in range(128)\n"
     ]
    },
    {
     "name": "stderr",
     "output_type": "stream",
     "text": [
      "Processing row 2855:  52%|█████▏    | 2853/5455 [03:17<1:25:50,  1.98s/it]"
     ]
    },
    {
     "name": "stdout",
     "output_type": "stream",
     "text": [
      "Exception at row 2853\n",
      "'ascii' codec can't encode character '\\xfb' in position 30: ordinal not in range(128)\n",
      "Exception at row 2854\n",
      "'ascii' codec can't encode character '\\xf4' in position 29: ordinal not in range(128)\n"
     ]
    },
    {
     "name": "stderr",
     "output_type": "stream",
     "text": [
      "Processing row 2857:  52%|█████▏    | 2856/5455 [03:19<55:05,  1.27s/it]  "
     ]
    },
    {
     "name": "stdout",
     "output_type": "stream",
     "text": [
      "Exception at row 2856\n",
      "'ascii' codec can't encode character '\\xe1' in position 52: ordinal not in range(128)\n"
     ]
    },
    {
     "name": "stderr",
     "output_type": "stream",
     "text": [
      "Processing row 2894:  53%|█████▎    | 2893/5456 [03:21<1:27:33,  2.05s/it]"
     ]
    },
    {
     "name": "stdout",
     "output_type": "stream",
     "text": [
      "Exception at row 2893\n",
      "'ascii' codec can't encode character '\\xe9' in position 46: ordinal not in range(128)\n"
     ]
    },
    {
     "name": "stderr",
     "output_type": "stream",
     "text": [
      "Processing row 2863:  52%|█████▏    | 2862/5455 [03:29<1:18:31,  1.82s/it]"
     ]
    },
    {
     "name": "stdout",
     "output_type": "stream",
     "text": [
      "Exception at row 2862\n",
      "'ascii' codec can't encode character '\\xf8' in position 46: ordinal not in range(128)\n"
     ]
    },
    {
     "name": "stderr",
     "output_type": "stream",
     "text": [
      "Processing row 2866:  53%|█████▎    | 2864/5455 [03:32<1:03:54,  1.48s/it]"
     ]
    },
    {
     "name": "stdout",
     "output_type": "stream",
     "text": [
      "Exception at row 2864\n",
      "'ascii' codec can't encode character '\\xe5' in position 41: ordinal not in range(128)\n"
     ]
    },
    {
     "name": "stderr",
     "output_type": "stream",
     "text": [
      "Processing row 2867:  53%|█████▎    | 2867/5455 [03:34<52:09,  1.21s/it]  "
     ]
    },
    {
     "name": "stdout",
     "output_type": "stream",
     "text": [
      "Exception at row 3582\n",
      "list index out of range\n"
     ]
    },
    {
     "name": "stderr",
     "output_type": "stream",
     "text": [
      "Processing row 2871:  53%|█████▎    | 2871/5455 [03:43<1:21:14,  1.89s/it]"
     ]
    },
    {
     "name": "stdout",
     "output_type": "stream",
     "text": [
      "Exception at row 2904\n",
      "'ascii' codec can't encode character '\\xf8' in position 21: ordinal not in range(128)\n"
     ]
    },
    {
     "name": "stderr",
     "output_type": "stream",
     "text": [
      "Processing row 3591:  66%|██████▌   | 3590/5456 [03:49<1:08:04,  2.19s/it]"
     ]
    },
    {
     "name": "stdout",
     "output_type": "stream",
     "text": [
      "Exception at row 3590\n",
      "'ascii' codec can't encode character '\\xf9' in position 58: ordinal not in range(128)\n"
     ]
    },
    {
     "name": "stderr",
     "output_type": "stream",
     "text": [
      "Processing row 2828:  52%|█████▏    | 2828/5456 [03:58<1:27:14,  1.99s/it]"
     ]
    },
    {
     "name": "stdout",
     "output_type": "stream",
     "text": [
      "Exception at row 2827\n",
      "list index out of range\n"
     ]
    },
    {
     "name": "stderr",
     "output_type": "stream",
     "text": [
      "Processing row 2916:  53%|█████▎    | 2915/5456 [04:01<1:22:42,  1.95s/it]"
     ]
    },
    {
     "name": "stdout",
     "output_type": "stream",
     "text": [
      "Exception at row 2915\n",
      "'ascii' codec can't encode character '\\xe3' in position 24: ordinal not in range(128)\n"
     ]
    },
    {
     "name": "stderr",
     "output_type": "stream",
     "text": [
      "Processing row 2881:  53%|█████▎    | 2881/5455 [04:07<1:58:16,  2.76s/it]"
     ]
    },
    {
     "name": "stdout",
     "output_type": "stream",
     "text": [
      "Exception at row 2918\n",
      "list index out of range\n"
     ]
    },
    {
     "name": "stderr",
     "output_type": "stream",
     "text": [
      "Processing row 2835:  52%|█████▏    | 2834/5456 [04:10<1:27:10,  1.99s/it]"
     ]
    },
    {
     "name": "stdout",
     "output_type": "stream",
     "text": [
      "Exception at row 2834\n",
      "'ascii' codec can't encode character '\\xf3' in position 39: ordinal not in range(128)\n"
     ]
    },
    {
     "name": "stderr",
     "output_type": "stream",
     "text": [
      "Processing row 2922:  54%|█████▎    | 2921/5456 [04:15<2:05:28,  2.97s/it]"
     ]
    },
    {
     "name": "stdout",
     "output_type": "stream",
     "text": [
      "Exception at row 2921\n",
      "'ascii' codec can't encode character '\\xf4' in position 21: ordinal not in range(128)\n"
     ]
    },
    {
     "name": "stderr",
     "output_type": "stream",
     "text": [
      "Processing row 2895:  53%|█████▎    | 2894/5455 [04:41<1:40:32,  2.36s/it]"
     ]
    },
    {
     "name": "stdout",
     "output_type": "stream",
     "text": [
      "Exception at row 2894\n",
      "'ascii' codec can't encode character '\\xe7' in position 39: ordinal not in range(128)\n"
     ]
    },
    {
     "name": "stderr",
     "output_type": "stream",
     "text": [
      "Processing row 3617:  66%|██████▋   | 3617/5456 [04:44<1:03:53,  2.08s/it]"
     ]
    },
    {
     "name": "stdout",
     "output_type": "stream",
     "text": [
      "Exception at row 3616\n",
      "list index out of range\n"
     ]
    },
    {
     "name": "stderr",
     "output_type": "stream",
     "text": [
      "Processing row 2937:  54%|█████▍    | 2936/5456 [04:54<2:19:48,  3.33s/it]"
     ]
    },
    {
     "name": "stdout",
     "output_type": "stream",
     "text": [
      "Exception at row 2936\n",
      "'ascii' codec can't encode character '\\xe4' in position 19: ordinal not in range(128)\n"
     ]
    },
    {
     "name": "stderr",
     "output_type": "stream",
     "text": [
      "Processing row 2900:  53%|█████▎    | 2899/5455 [04:55<1:48:45,  2.55s/it]"
     ]
    },
    {
     "name": "stdout",
     "output_type": "stream",
     "text": [
      "Exception at row 2899\n",
      "'ascii' codec can't encode character '\\xfc' in position 21: ordinal not in range(128)\n"
     ]
    },
    {
     "name": "stderr",
     "output_type": "stream",
     "text": [
      "Processing row 2902:  53%|█████▎    | 2901/5455 [04:58<1:25:43,  2.01s/it]"
     ]
    },
    {
     "name": "stdout",
     "output_type": "stream",
     "text": [
      "Exception at row 2901\n",
      "'ascii' codec can't encode character '\\xf4' in position 54: ordinal not in range(128)\n"
     ]
    },
    {
     "name": "stderr",
     "output_type": "stream",
     "text": [
      "Processing row 2906:  53%|█████▎    | 2904/5455 [05:05<1:33:14,  2.19s/it]"
     ]
    },
    {
     "name": "stdout",
     "output_type": "stream",
     "text": [
      "Exception at row 2904\n",
      "'ascii' codec can't encode character '\\xf4' in position 44: ordinal not in range(128)\n",
      "Exception at row 2905\n",
      "'ascii' codec can't encode character '\\xf4' in position 48: ordinal not in range(128)\n"
     ]
    },
    {
     "name": "stderr",
     "output_type": "stream",
     "text": [
      "Processing row 3623:  66%|██████▋   | 3623/5456 [05:06<2:05:46,  4.12s/it]"
     ]
    },
    {
     "name": "stdout",
     "output_type": "stream",
     "text": [
      "Exception at row 3622\n",
      "list index out of range\n"
     ]
    },
    {
     "name": "stderr",
     "output_type": "stream",
     "text": [
      "Processing row 2948:  54%|█████▍    | 2948/5456 [05:21<1:56:39,  2.79s/it]"
     ]
    },
    {
     "name": "stdout",
     "output_type": "stream",
     "text": [
      "Exception at row 2912\n",
      "list index out of range\n"
     ]
    },
    {
     "name": "stderr",
     "output_type": "stream",
     "text": [
      "Processing row 2949:  54%|█████▍    | 2949/5456 [05:21<1:33:46,  2.24s/it]"
     ]
    },
    {
     "name": "stdout",
     "output_type": "stream",
     "text": [
      "Exception at row 2948\n",
      "list index out of range\n"
     ]
    },
    {
     "name": "stderr",
     "output_type": "stream",
     "text": [
      "Processing row 2954:  54%|█████▍    | 2953/5456 [05:35<2:06:20,  3.03s/it]"
     ]
    },
    {
     "name": "stdout",
     "output_type": "stream",
     "text": [
      "Exception at row 2953\n",
      "'ascii' codec can't encode character '\\xa3' in position 11: ordinal not in range(128)\n"
     ]
    },
    {
     "name": "stderr",
     "output_type": "stream",
     "text": [
      "Processing row 2921:  54%|█████▎    | 2921/5455 [05:36<1:24:33,  2.00s/it]"
     ]
    },
    {
     "name": "stdout",
     "output_type": "stream",
     "text": [
      "Exception at row 2954\n",
      "list index out of range\n"
     ]
    },
    {
     "name": "stderr",
     "output_type": "stream",
     "text": [
      "Processing row 2956:  54%|█████▍    | 2956/5456 [05:38<1:18:41,  1.89s/it]"
     ]
    },
    {
     "name": "stdout",
     "output_type": "stream",
     "text": [
      "Exception at row 2921\n",
      "list index out of range\n"
     ]
    },
    {
     "name": "stderr",
     "output_type": "stream",
     "text": [
      "Processing row 2925:  54%|█████▎    | 2925/5455 [05:44<1:19:10,  1.88s/it]"
     ]
    },
    {
     "name": "stdout",
     "output_type": "stream",
     "text": [
      "Exception at row 2924\n",
      "list index out of range\n"
     ]
    },
    {
     "name": "stderr",
     "output_type": "stream",
     "text": [
      "Processing row 2888:  53%|█████▎    | 2886/5456 [06:15<1:45:39,  2.47s/it]"
     ]
    },
    {
     "name": "stdout",
     "output_type": "stream",
     "text": [
      "Exception at row 2886\n",
      "'ascii' codec can't encode character '\\xf6' in position 33: ordinal not in range(128)\n",
      "Exception at row 2887\n",
      "'ascii' codec can't encode character '\\xfc' in position 51: ordinal not in range(128)\n"
     ]
    },
    {
     "name": "stderr",
     "output_type": "stream",
     "text": [
      "Processing row 2938:  54%|█████▍    | 2936/5455 [06:18<2:25:32,  3.47s/it]"
     ]
    },
    {
     "name": "stdout",
     "output_type": "stream",
     "text": [
      "Exception at row 2936\n",
      "'ascii' codec can't encode character '\\xf4' in position 54: ordinal not in range(128)\n",
      "Exception at row 2937\n",
      "'ascii' codec can't encode character '\\xf4' in position 63: ordinal not in range(128)\n"
     ]
    },
    {
     "name": "stderr",
     "output_type": "stream",
     "text": [
      "Processing row 2893:  53%|█████▎    | 2893/5456 [06:26<1:15:16,  1.76s/it]"
     ]
    },
    {
     "name": "stdout",
     "output_type": "stream",
     "text": [
      "Exception at row 2892\n",
      "list index out of range\n"
     ]
    },
    {
     "name": "stderr",
     "output_type": "stream",
     "text": [
      "Processing row 2942:  54%|█████▍    | 2941/5455 [06:30<2:00:13,  2.87s/it]"
     ]
    },
    {
     "name": "stdout",
     "output_type": "stream",
     "text": [
      "Exception at row 2941\n",
      "'ascii' codec can't encode character '\\xe9' in position 18: ordinal not in range(128)\n"
     ]
    },
    {
     "name": "stderr",
     "output_type": "stream",
     "text": [
      "Processing row 2896:  53%|█████▎    | 2896/5456 [06:31<1:19:49,  1.87s/it]"
     ]
    },
    {
     "name": "stdout",
     "output_type": "stream",
     "text": [
      "Exception at row 2895\n",
      "list index out of range\n"
     ]
    },
    {
     "name": "stderr",
     "output_type": "stream",
     "text": [
      "Processing row 2977:  55%|█████▍    | 2977/5456 [06:32<1:54:57,  2.78s/it]"
     ]
    },
    {
     "name": "stdout",
     "output_type": "stream",
     "text": [
      "Exception at row 2942\n",
      "list index out of range\n"
     ]
    },
    {
     "name": "stderr",
     "output_type": "stream",
     "text": [
      "Processing row 3659:  67%|██████▋   | 3658/5456 [06:38<1:09:03,  2.30s/it]"
     ]
    },
    {
     "name": "stdout",
     "output_type": "stream",
     "text": [
      "Exception at row 3658\n",
      "'ascii' codec can't encode character '\\xe9' in position 37: ordinal not in range(128)\n"
     ]
    },
    {
     "name": "stderr",
     "output_type": "stream",
     "text": [
      "Processing row 2950:  54%|█████▍    | 2947/5455 [06:47<2:22:25,  3.41s/it]"
     ]
    },
    {
     "name": "stdout",
     "output_type": "stream",
     "text": [
      "Exception at row 2947\n",
      "'ascii' codec can't encode character '\\xfc' in position 10: ordinal not in range(128)\n",
      "Exception at row 2948\n",
      "'ascii' codec can't encode character '\\xf4' in position 56: ordinal not in range(128)\n",
      "Exception at row 2949\n",
      "'ascii' codec can't encode character '\\xf4' in position 51: ordinal not in range(128)\n"
     ]
    },
    {
     "name": "stderr",
     "output_type": "stream",
     "text": [
      "Processing row 2986:  55%|█████▍    | 2986/5456 [06:53<1:43:46,  2.52s/it]"
     ]
    },
    {
     "name": "stdout",
     "output_type": "stream",
     "text": [
      "Exception at row 2985\n",
      "list index out of range\n"
     ]
    },
    {
     "name": "stderr",
     "output_type": "stream",
     "text": [
      "Processing row 2956:  54%|█████▍    | 2956/5455 [06:56<1:02:45,  1.51s/it]"
     ]
    },
    {
     "name": "stdout",
     "output_type": "stream",
     "text": [
      "Exception at row 2904\n",
      "'ascii' codec can't encode character '\\xfc' in position 25: ordinal not in range(128)\n"
     ]
    },
    {
     "name": "stderr",
     "output_type": "stream",
     "text": [
      "Processing row 2906:  53%|█████▎    | 2906/5456 [06:58<1:18:43,  1.85s/it]"
     ]
    },
    {
     "name": "stdout",
     "output_type": "stream",
     "text": [
      "Exception at row 2905\n",
      "list index out of range\n"
     ]
    },
    {
     "name": "stderr",
     "output_type": "stream",
     "text": [
      "Processing row 2992:  55%|█████▍    | 2992/5456 [07:10<1:44:04,  2.53s/it]"
     ]
    },
    {
     "name": "stdout",
     "output_type": "stream",
     "text": [
      "Exception at row 2991\n",
      "list index out of range\n"
     ]
    },
    {
     "name": "stderr",
     "output_type": "stream",
     "text": [
      "Processing row 2915:  53%|█████▎    | 2914/5456 [07:15<1:55:02,  2.72s/it]"
     ]
    },
    {
     "name": "stdout",
     "output_type": "stream",
     "text": [
      "Exception at row 2914\n",
      "'ascii' codec can't encode character '\\xc2' in position 26: ordinal not in range(128)\n"
     ]
    },
    {
     "name": "stderr",
     "output_type": "stream",
     "text": [
      "Processing row 2916:  53%|█████▎    | 2916/5456 [07:16<1:10:06,  1.66s/it]"
     ]
    },
    {
     "name": "stdout",
     "output_type": "stream",
     "text": [
      "Exception at row 2915\n",
      "list index out of range\n"
     ]
    },
    {
     "name": "stderr",
     "output_type": "stream",
     "text": [
      "Processing row 2967:  54%|█████▍    | 2967/5455 [07:21<1:37:20,  2.35s/it]"
     ]
    },
    {
     "name": "stdout",
     "output_type": "stream",
     "text": [
      "Exception at row 2918\n",
      "'ascii' codec can't encode character '\\xe9' in position 46: ordinal not in range(128)\n"
     ]
    },
    {
     "name": "stderr",
     "output_type": "stream",
     "text": [
      "Processing row 3002:  55%|█████▌    | 3001/5456 [07:29<1:27:40,  2.14s/it]"
     ]
    },
    {
     "name": "stdout",
     "output_type": "stream",
     "text": [
      "Exception at row 3001\n",
      "'ascii' codec can't encode character '\\xbd' in position 15: ordinal not in range(128)\n"
     ]
    },
    {
     "name": "stderr",
     "output_type": "stream",
     "text": [
      "Processing row 3004:  55%|█████▌    | 3004/5456 [07:34<1:15:31,  1.85s/it]"
     ]
    },
    {
     "name": "stdout",
     "output_type": "stream",
     "text": [
      "Exception at row 2972\n",
      "'ascii' codec can't encode character '\\xe0' in position 48: ordinal not in range(128)\n"
     ]
    },
    {
     "name": "stderr",
     "output_type": "stream",
     "text": [
      "Processing row 2975:  55%|█████▍    | 2974/5455 [07:36<1:16:41,  1.85s/it]"
     ]
    },
    {
     "name": "stdout",
     "output_type": "stream",
     "text": [
      "Exception at row 2974\n",
      "'ascii' codec can't encode character '\\xe9' in position 22: ordinal not in range(128)\n"
     ]
    },
    {
     "name": "stderr",
     "output_type": "stream",
     "text": [
      "Processing row 3007:  55%|█████▌    | 3006/5456 [07:38<1:21:35,  2.00s/it]"
     ]
    },
    {
     "name": "stdout",
     "output_type": "stream",
     "text": [
      "Exception at row 3006\n",
      "'ascii' codec can't encode character '\\xed' in position 38: ordinal not in range(128)\n"
     ]
    },
    {
     "name": "stderr",
     "output_type": "stream",
     "text": [
      "Processing row 2928:  54%|█████▎    | 2928/5456 [07:40<1:33:20,  2.22s/it]"
     ]
    },
    {
     "name": "stdout",
     "output_type": "stream",
     "text": [
      "Exception at row 2927\n",
      "list index out of range\n"
     ]
    },
    {
     "name": "stderr",
     "output_type": "stream",
     "text": [
      "Processing row 2979:  55%|█████▍    | 2978/5455 [07:42<1:10:29,  1.71s/it]"
     ]
    },
    {
     "name": "stdout",
     "output_type": "stream",
     "text": [
      "Exception at row 2978\n",
      "'ascii' codec can't encode character '\\xe4' in position 19: ordinal not in range(128)\n"
     ]
    },
    {
     "name": "stderr",
     "output_type": "stream",
     "text": [
      "Processing row 3686:  68%|██████▊   | 3684/5456 [07:45<1:21:52,  2.77s/it]"
     ]
    },
    {
     "name": "stdout",
     "output_type": "stream",
     "text": [
      "Exception at row 3009\n",
      "list index out of range\n",
      "Exception at row 3010\n",
      "'ascii' codec can't encode character '\\xfc' in position 11: ordinal not in range(128)\n"
     ]
    },
    {
     "name": "stderr",
     "output_type": "stream",
     "text": [
      "Processing row 3687:  68%|██████▊   | 3687/5456 [07:45<42:00,  1.42s/it]  "
     ]
    },
    {
     "name": "stdout",
     "output_type": "stream",
     "text": [
      "Exception at row 3686\n",
      "list index out of range\n"
     ]
    },
    {
     "name": "stderr",
     "output_type": "stream",
     "text": [
      "Processing row 2983:  55%|█████▍    | 2981/5455 [07:49<1:35:13,  2.31s/it]"
     ]
    },
    {
     "name": "stdout",
     "output_type": "stream",
     "text": [
      "Exception at row 2982\n",
      "'ascii' codec can't encode character '\\xfb' in position 32: ordinal not in range(128)\n"
     ]
    },
    {
     "name": "stderr",
     "output_type": "stream",
     "text": [
      "Processing row 3016:  55%|█████▌    | 3015/5456 [07:54<1:22:29,  2.03s/it]"
     ]
    },
    {
     "name": "stdout",
     "output_type": "stream",
     "text": [
      "Exception at row 3015\n",
      "'ascii' codec can't encode character '\\xe5' in position 35: ordinal not in range(128)\n"
     ]
    },
    {
     "name": "stderr",
     "output_type": "stream",
     "text": [
      "Processing row 3018:  55%|█████▌    | 3018/5456 [07:59<1:09:42,  1.72s/it]"
     ]
    },
    {
     "name": "stdout",
     "output_type": "stream",
     "text": [
      "Exception at row 2944\n",
      "list index out of range\n"
     ]
    },
    {
     "name": "stderr",
     "output_type": "stream",
     "text": [
      "Processing row 3695:  68%|██████▊   | 3695/5456 [08:02<51:41,  1.76s/it]  "
     ]
    },
    {
     "name": "stdout",
     "output_type": "stream",
     "text": [
      "Exception at row 3694\n",
      "list index out of range\n"
     ]
    },
    {
     "name": "stderr",
     "output_type": "stream",
     "text": [
      "Processing row 2958:  54%|█████▍    | 2957/5456 [08:16<48:55,  1.17s/it]t]"
     ]
    },
    {
     "name": "stdout",
     "output_type": "stream",
     "text": [
      "Exception at row 3025\n",
      "'ascii' codec can't encode character '\\xe9' in position 10: ordinal not in range(128)\n"
     ]
    },
    {
     "name": "stderr",
     "output_type": "stream",
     "text": [
      "Processing row 3006:  54%|█████▍    | 2972/5456 [08:25<20:47,  1.99it/s]t]"
     ]
    },
    {
     "name": "stdout",
     "output_type": "stream",
     "text": [
      "Exception at row 2984\n",
      "'ascii' codec can't encode character '\\xfb' in position 34: ordinal not in range(128)\n"
     ]
    },
    {
     "name": "stderr",
     "output_type": "stream",
     "text": [
      "Processing row 3032:  56%|█████▌    | 3031/5456 [08:26<1:16:27,  1.89s/it]"
     ]
    },
    {
     "name": "stdout",
     "output_type": "stream",
     "text": [
      "Exception at row 3030\n",
      "list index out of range\n"
     ]
    },
    {
     "name": "stderr",
     "output_type": "stream",
     "text": [
      "Processing row 3032:  55%|█████▌    | 3018/5456 [08:29<06:43,  6.04it/s]t]"
     ]
    },
    {
     "name": "stdout",
     "output_type": "stream",
     "text": [
      "Exception at row 3030\n",
      "'ascii' codec can't encode character '\\xe0' in position 27: ordinal not in range(128)\n"
     ]
    },
    {
     "name": "stderr",
     "output_type": "stream",
     "text": [
      "Processing row 3710:  68%|██████▊   | 3708/5456 [08:30<1:26:23,  2.97s/it]"
     ]
    },
    {
     "name": "stdout",
     "output_type": "stream",
     "text": [
      "Exception at row 3708\n",
      "'ascii' codec can't encode character '\\xe9' in position 12: ordinal not in range(128)\n"
     ]
    },
    {
     "name": "stderr",
     "output_type": "stream",
     "text": [
      "Processing row 3105:  56%|█████▌    | 3058/5456 [08:31<03:39, 10.91it/s]t]"
     ]
    },
    {
     "name": "stdout",
     "output_type": "stream",
     "text": [
      "Exception at row 3054\n",
      "'ascii' codec can't encode character '\\xe9' in position 22: ordinal not in range(128)\n",
      "Exception at row 3090\n",
      "'ascii' codec can't encode character '\\xf4' in position 74: ordinal not in range(128)\n",
      "Exception at row 3096\n",
      "'ascii' codec can't encode character '\\xf4' in position 96: ordinal not in range(128)\n",
      "Exception at row 3097\n",
      "'ascii' codec can't encode character '\\xfb' in position 31: ordinal not in range(128)\n"
     ]
    },
    {
     "name": "stderr",
     "output_type": "stream",
     "text": [
      "Processing row 3121:  57%|█████▋    | 3106/5456 [08:34<02:40, 14.65it/s]t]"
     ]
    },
    {
     "name": "stdout",
     "output_type": "stream",
     "text": [
      "Exception at row 3115\n",
      "'ascii' codec can't encode character '\\xe9' in position 34: ordinal not in range(128)\n"
     ]
    },
    {
     "name": "stderr",
     "output_type": "stream",
     "text": [
      "Processing row 3146:  57%|█████▋    | 3122/5456 [08:37<03:32, 10.99it/s]t]"
     ]
    },
    {
     "name": "stdout",
     "output_type": "stream",
     "text": [
      "Exception at row 3144\n",
      "'ascii' codec can't encode character '\\xe8' in position 52: ordinal not in range(128)\n"
     ]
    },
    {
     "name": "stderr",
     "output_type": "stream",
     "text": [
      "Processing row 3719:  68%|██████▊   | 3719/5456 [08:38<28:15,  1.02it/s]t]"
     ]
    },
    {
     "name": "stdout",
     "output_type": "stream",
     "text": [
      "Exception at row 3718\n",
      "list index out of range\n"
     ]
    },
    {
     "name": "stderr",
     "output_type": "stream",
     "text": [
      "Processing row 3012:  55%|█████▌    | 3009/5455 [08:42<1:37:36,  2.39s/it]"
     ]
    },
    {
     "name": "stdout",
     "output_type": "stream",
     "text": [
      "Exception at row 3011\n",
      "'ascii' codec can't encode character '\\xe9' in position 30: ordinal not in range(128)\n"
     ]
    },
    {
     "name": "stderr",
     "output_type": "stream",
     "text": [
      "Processing row 3727:  68%|██████▊   | 3722/5456 [08:45<42:50,  1.48s/it]  "
     ]
    },
    {
     "name": "stdout",
     "output_type": "stream",
     "text": [
      "Exception at row 3725\n",
      "'ascii' codec can't encode character '\\xf8' in position 37: ordinal not in range(128)\n"
     ]
    },
    {
     "name": "stderr",
     "output_type": "stream",
     "text": [
      "Processing row 3166:  58%|█████▊    | 3152/5456 [08:45<06:13,  6.17it/s]"
     ]
    },
    {
     "name": "stdout",
     "output_type": "stream",
     "text": [
      "Exception at row 3151\n",
      "list index out of range\n"
     ]
    },
    {
     "name": "stderr",
     "output_type": "stream",
     "text": [
      "Processing row 3015:  55%|█████▌    | 3014/5455 [08:47<1:02:11,  1.53s/it]"
     ]
    },
    {
     "name": "stdout",
     "output_type": "stream",
     "text": [
      "Exception at row 3014\n",
      "'ascii' codec can't encode character '\\xf4' in position 42: ordinal not in range(128)\n"
     ]
    },
    {
     "name": "stderr",
     "output_type": "stream",
     "text": [
      "Processing row 3204:  58%|█████▊    | 3167/5456 [08:48<06:15,  6.09it/s]"
     ]
    },
    {
     "name": "stdout",
     "output_type": "stream",
     "text": [
      "Exception at row 3173\n",
      "'ascii' codec can't encode character '\\xf6' in position 34: ordinal not in range(128)\n",
      "Exception at row 3195\n",
      "'ascii' codec can't encode character '\\xe9' in position 47: ordinal not in range(128)\n",
      "Exception at row 3196\n",
      "'ascii' codec can't encode character '\\xf4' in position 25: ordinal not in range(128)\n",
      "Exception at row 3197\n",
      "'ascii' codec can't encode character '\\xe9' in position 35: ordinal not in range(128)\n",
      "Exception at row 3198\n",
      "'ascii' codec can't encode character '\\xfb' in position 88: ordinal not in range(128)\n",
      "Exception at row 3203\n",
      "'ascii' codec can't encode character '\\xe9' in position 39: ordinal not in range(128)\n"
     ]
    },
    {
     "name": "stderr",
     "output_type": "stream",
     "text": [
      "Processing row 3217:  59%|█████▉    | 3214/5456 [08:52<04:58,  7.51it/s]t]"
     ]
    },
    {
     "name": "stdout",
     "output_type": "stream",
     "text": [
      "Exception at row 3213\n",
      "'ascii' codec can't encode character '\\xe9' in position 35: ordinal not in range(128)\n"
     ]
    },
    {
     "name": "stderr",
     "output_type": "stream",
     "text": [
      "Processing row 3054:  56%|█████▌    | 3049/5456 [08:54<1:09:24,  1.73s/it]"
     ]
    },
    {
     "name": "stdout",
     "output_type": "stream",
     "text": [
      "Exception at row 3050\n",
      "'ascii' codec can't encode character '\\xed' in position 25: ordinal not in range(128)\n",
      "Exception at row 3051\n",
      "'ascii' codec can't encode character '\\xe4' in position 22: ordinal not in range(128)\n"
     ]
    },
    {
     "name": "stderr",
     "output_type": "stream",
     "text": [
      "Processing row 3757:  69%|██████▊   | 3744/5456 [08:57<14:46,  1.93it/s]"
     ]
    },
    {
     "name": "stdout",
     "output_type": "stream",
     "text": [
      "Exception at row 3752\n",
      "'ascii' codec can't encode character '\\xe9' in position 45: ordinal not in range(128)\n"
     ]
    },
    {
     "name": "stderr",
     "output_type": "stream",
     "text": [
      "Processing row 3758:  69%|██████▉   | 3758/5456 [09:02<12:03,  2.35it/s]  "
     ]
    },
    {
     "name": "stdout",
     "output_type": "stream",
     "text": [
      "Exception at row 3757\n",
      "list index out of range\n"
     ]
    },
    {
     "name": "stderr",
     "output_type": "stream",
     "text": [
      "Processing row 3225:  59%|█████▉    | 3224/5456 [09:05<33:06,  1.12it/s]t]"
     ]
    },
    {
     "name": "stdout",
     "output_type": "stream",
     "text": [
      "Exception at row 3761\n",
      "'ascii' codec can't encode character '\\xe9' in position 12: ordinal not in range(128)\n"
     ]
    },
    {
     "name": "stderr",
     "output_type": "stream",
     "text": [
      "Processing row 3029:  55%|█████▌    | 3025/5455 [09:07<1:30:39,  2.24s/it]"
     ]
    },
    {
     "name": "stdout",
     "output_type": "stream",
     "text": [
      "Exception at row 3228\n",
      "'ascii' codec can't encode character '\\xe4' in position 59: ordinal not in range(128)\n",
      "Exception at row 3025\n",
      "'ascii' codec can't encode character '\\xe1' in position 30: ordinal not in range(128)\n",
      "Exception at row 3026\n",
      "'ascii' codec can't encode character '\\xf3' in position 16: ordinal not in range(128)\n"
     ]
    },
    {
     "name": "stderr",
     "output_type": "stream",
     "text": [
      "Processing row 3230:  59%|█████▉    | 3230/5456 [09:07<22:50,  1.62it/s]"
     ]
    },
    {
     "name": "stdout",
     "output_type": "stream",
     "text": [
      "Exception at row 3229\n",
      "list index out of range\n"
     ]
    },
    {
     "name": "stderr",
     "output_type": "stream",
     "text": [
      "Processing row 3062:  56%|█████▌    | 3062/5456 [09:09<39:05,  1.02it/s]  "
     ]
    },
    {
     "name": "stdout",
     "output_type": "stream",
     "text": [
      "Exception at row 3061\n",
      "list index out of range\n"
     ]
    },
    {
     "name": "stderr",
     "output_type": "stream",
     "text": [
      "Processing row 3888:  71%|███████   | 3849/5456 [09:12<03:04,  8.72it/s]"
     ]
    },
    {
     "name": "stdout",
     "output_type": "stream",
     "text": [
      "Exception at row 3876\n",
      "'ascii' codec can't encode character '\\xe0' in position 55: ordinal not in range(128)\n"
     ]
    },
    {
     "name": "stderr",
     "output_type": "stream",
     "text": [
      "Processing row 3034:  56%|█████▌    | 3032/5455 [09:13<57:59,  1.44s/it]"
     ]
    },
    {
     "name": "stdout",
     "output_type": "stream",
     "text": [
      "Exception at row 3032\n",
      "'ascii' codec can't encode character '\\xc0' in position 23: ordinal not in range(128)\n"
     ]
    },
    {
     "name": "stderr",
     "output_type": "stream",
     "text": [
      "Processing row 3921:  71%|███████▏  | 3889/5456 [09:14<02:11, 11.96it/s]"
     ]
    },
    {
     "name": "stdout",
     "output_type": "stream",
     "text": [
      "Exception at row 3888\n",
      "list index out of range\n",
      "Exception at row 3898\n",
      "'ascii' codec can't encode character '\\xe8' in position 12: ordinal not in range(128)\n",
      "Exception at row 3910\n",
      "'ascii' codec can't encode character '\\xf3' in position 49: ordinal not in range(128)\n"
     ]
    },
    {
     "name": "stderr",
     "output_type": "stream",
     "text": [
      "Processing row 3035:  56%|█████▌    | 3035/5455 [09:16<46:16,  1.15s/it]t]"
     ]
    },
    {
     "name": "stdout",
     "output_type": "stream",
     "text": [
      "Exception at row 3921\n",
      "list index out of range\n"
     ]
    },
    {
     "name": "stderr",
     "output_type": "stream",
     "text": [
      "Processing row 3237:  59%|█████▉    | 3237/5456 [09:19<43:40,  1.18s/it]t]"
     ]
    },
    {
     "name": "stdout",
     "output_type": "stream",
     "text": [
      "Exception at row 3236\n",
      "list index out of range\n"
     ]
    },
    {
     "name": "stderr",
     "output_type": "stream",
     "text": [
      "Processing row 3942:  72%|███████▏  | 3934/5456 [09:19<02:42,  9.39it/s]"
     ]
    },
    {
     "name": "stdout",
     "output_type": "stream",
     "text": [
      "Exception at row 3933\n",
      "list index out of range\n"
     ]
    },
    {
     "name": "stderr",
     "output_type": "stream",
     "text": [
      "Processing row 3040:  56%|█████▌    | 3040/5455 [09:23<50:01,  1.24s/it]t]"
     ]
    },
    {
     "name": "stdout",
     "output_type": "stream",
     "text": [
      "Exception at row 3239\n",
      "'ascii' codec can't encode character '\\xe0' in position 41: ordinal not in range(128)\n"
     ]
    },
    {
     "name": "stderr",
     "output_type": "stream",
     "text": [
      "Processing row 3045:  56%|█████▌    | 3041/5455 [09:24<45:15,  1.13s/it]"
     ]
    },
    {
     "name": "stdout",
     "output_type": "stream",
     "text": [
      "Exception at row 3040\n",
      "list index out of range\n",
      "Exception at row 3043\n",
      "'ascii' codec can't encode character '\\xf4' in position 43: ordinal not in range(128)\n"
     ]
    },
    {
     "name": "stderr",
     "output_type": "stream",
     "text": [
      "Processing row 3053:  56%|█████▌    | 3048/5455 [09:28<31:30,  1.27it/s]t]"
     ]
    },
    {
     "name": "stdout",
     "output_type": "stream",
     "text": [
      "Exception at row 3052\n",
      "'ascii' codec can't encode character '\\xe9' in position 23: ordinal not in range(128)\n"
     ]
    },
    {
     "name": "stderr",
     "output_type": "stream",
     "text": [
      "Processing row 3078:  56%|█████▋    | 3078/5456 [09:35<41:24,  1.04s/it]  "
     ]
    },
    {
     "name": "stdout",
     "output_type": "stream",
     "text": [
      "Exception at row 3077\n",
      "list index out of range\n"
     ]
    },
    {
     "name": "stderr",
     "output_type": "stream",
     "text": [
      "Processing row 3079:  56%|█████▌    | 3055/5455 [09:35<43:40,  1.09s/it]"
     ]
    },
    {
     "name": "stdout",
     "output_type": "stream",
     "text": [
      "Exception at row 3058\n",
      "'ascii' codec can't encode character '\\xd3' in position 14: ordinal not in range(128)\n"
     ]
    },
    {
     "name": "stderr",
     "output_type": "stream",
     "text": [
      "Processing row 3099:  56%|█████▋    | 3080/5455 [09:37<10:52,  3.64it/s]t]"
     ]
    },
    {
     "name": "stdout",
     "output_type": "stream",
     "text": [
      "Exception at row 3079\n",
      "list index out of range\n",
      "Exception at row 3085\n",
      "'ascii' codec can't encode character '\\xe9' in position 39: ordinal not in range(128)\n",
      "Exception at row 3092\n",
      "'ascii' codec can't encode character '\\xe0' in position 53: ordinal not in range(128)\n"
     ]
    },
    {
     "name": "stderr",
     "output_type": "stream",
     "text": [
      "Processing row 3121:  57%|█████▋    | 3100/5455 [09:39<07:58,  4.92it/s]t]"
     ]
    },
    {
     "name": "stdout",
     "output_type": "stream",
     "text": [
      "Exception at row 3102\n",
      "'ascii' codec can't encode character '\\xf3' in position 35: ordinal not in range(128)\n",
      "Exception at row 3116\n",
      "'ascii' codec can't encode character '\\xfb' in position 22: ordinal not in range(128)\n"
     ]
    },
    {
     "name": "stderr",
     "output_type": "stream",
     "text": [
      "Processing row 3257:  59%|█████▉    | 3213/5455 [09:41<01:35, 23.53it/s]"
     ]
    },
    {
     "name": "stdout",
     "output_type": "stream",
     "text": [
      "Exception at row 3121\n",
      "list index out of range\n",
      "Exception at row 3126\n",
      "'ascii' codec can't encode character '\\xe0' in position 37: ordinal not in range(128)\n",
      "Exception at row 3148\n",
      "'ascii' codec can't encode character '\\xb0' in position 12: ordinal not in range(128)\n",
      "Exception at row 3178\n",
      "'ascii' codec can't encode character '\\xc1' in position 21: ordinal not in range(128)\n",
      "Exception at row 3200\n",
      "'ascii' codec can't encode character '\\xe6' in position 38: ordinal not in range(128)\n",
      "Exception at row 3212\n",
      "'ascii' codec can't encode character '\\xe9' in position 38: ordinal not in range(128)\n",
      "Exception at row 3215\n",
      "'ascii' codec can't encode character '\\xe9' in position 19: ordinal not in range(128)\n",
      "Exception at row 3232\n",
      "'ascii' codec can't encode character '\\xe1' in position 43: ordinal not in range(128)\n",
      "Exception at row 3236\n",
      "'ascii' codec can't encode character '\\xfb' in position 24: ordinal not in range(128)\n",
      "Exception at row 3238\n",
      "'ascii' codec can't encode character '\\xfb' in position 33: ordinal not in range(128)\n",
      "Exception at row 3243\n",
      "'ascii' codec can't encode character '\\xed' in position 33: ordinal not in range(128)\n",
      "Exception at row 3257\n",
      "'ascii' codec can't encode character '\\xe4' in position 39: ordinal not in range(128)\n"
     ]
    },
    {
     "name": "stderr",
     "output_type": "stream",
     "text": [
      "Processing row 3269:  60%|█████▉    | 3267/5455 [09:41<00:59, 36.85it/s]"
     ]
    },
    {
     "name": "stdout",
     "output_type": "stream",
     "text": [
      "Exception at row 3267\n",
      "'ascii' codec can't encode character '\\xe0' in position 47: ordinal not in range(128)\n"
     ]
    },
    {
     "name": "stderr",
     "output_type": "stream",
     "text": [
      "Processing row 3247:  59%|█████▉    | 3246/5456 [09:43<1:55:53,  3.15s/it]"
     ]
    },
    {
     "name": "stdout",
     "output_type": "stream",
     "text": [
      "Exception at row 3246\n",
      "'ascii' codec can't encode character '\\xe4' in position 33: ordinal not in range(128)\n"
     ]
    },
    {
     "name": "stderr",
     "output_type": "stream",
     "text": [
      "Processing row 3968:  73%|███████▎  | 3968/5456 [09:48<24:15,  1.02it/s]t]"
     ]
    },
    {
     "name": "stdout",
     "output_type": "stream",
     "text": [
      "Exception at row 3967\n",
      "list index out of range\n"
     ]
    },
    {
     "name": "stderr",
     "output_type": "stream",
     "text": [
      "Processing row 3133:  57%|█████▋    | 3089/5456 [09:52<58:10,  1.47s/it]  "
     ]
    },
    {
     "name": "stdout",
     "output_type": "stream",
     "text": [
      "Exception at row 3099\n",
      "'ascii' codec can't encode character '\\xe8' in position 44: ordinal not in range(128)\n",
      "Exception at row 3103\n",
      "'ascii' codec can't encode character '\\xee' in position 30: ordinal not in range(128)\n",
      "Exception at row 3107\n",
      "'ascii' codec can't encode character '\\xe9' in position 10: ordinal not in range(128)\n",
      "Exception at row 3113\n",
      "'ascii' codec can't encode character '\\xe9' in position 49: ordinal not in range(128)\n",
      "Exception at row 3129\n",
      "'ascii' codec can't encode character '\\xe2' in position 60: ordinal not in range(128)\n"
     ]
    },
    {
     "name": "stderr",
     "output_type": "stream",
     "text": [
      "Processing row 3205:  57%|█████▋    | 3134/5456 [09:54<06:43,  5.75it/s]"
     ]
    },
    {
     "name": "stdout",
     "output_type": "stream",
     "text": [
      "Exception at row 3134\n",
      "'ascii' codec can't encode character '\\xe9' in position 18: ordinal not in range(128)\n",
      "Exception at row 3136\n",
      "'ascii' codec can't encode character '\\xf4' in position 67: ordinal not in range(128)\n",
      "Exception at row 3147\n",
      "'ascii' codec can't encode character '\\xe9' in position 46: ordinal not in range(128)\n",
      "Exception at row 3166\n",
      "'ascii' codec can't encode character '\\xe8' in position 30: ordinal not in range(128)\n",
      "Exception at row 3194\n",
      "'ascii' codec can't encode character '\\xf6' in position 80: ordinal not in range(128)\n",
      "Exception at row 3195\n",
      "'ascii' codec can't encode character '\\xf6' in position 77: ordinal not in range(128)\n"
     ]
    },
    {
     "name": "stderr",
     "output_type": "stream",
     "text": [
      "Processing row 3314:  60%|██████    | 3291/5456 [09:55<01:16, 28.22it/s]t]"
     ]
    },
    {
     "name": "stdout",
     "output_type": "stream",
     "text": [
      "Exception at row 3223\n",
      "'ascii' codec can't encode character '\\xe9' in position 47: ordinal not in range(128)\n",
      "Exception at row 3232\n",
      "'ascii' codec can't encode character '\\xe9' in position 62: ordinal not in range(128)\n",
      "Exception at row 3252\n",
      "'ascii' codec can't encode character '\\xe9' in position 21: ordinal not in range(128)\n",
      "Exception at row 3256\n",
      "'ascii' codec can't encode character '\\xdf' in position 35: ordinal not in range(128)\n",
      "Exception at row 3265\n",
      "'ascii' codec can't encode character '\\xed' in position 13: ordinal not in range(128)\n",
      "Exception at row 3290\n",
      "'ascii' codec can't encode character '\\xf8' in position 11: ordinal not in range(128)\n",
      "Exception at row 3309\n",
      "'ascii' codec can't encode character '\\xe4' in position 42: ordinal not in range(128)\n"
     ]
    },
    {
     "name": "stderr",
     "output_type": "stream",
     "text": [
      "Processing row 3322:  61%|██████    | 3317/5456 [09:58<01:34, 22.68it/s]t]"
     ]
    },
    {
     "name": "stdout",
     "output_type": "stream",
     "text": [
      "Exception at row 3318\n",
      "'ascii' codec can't encode character '\\xe8' in position 20: ordinal not in range(128)\n",
      "Exception at row 3321\n",
      "'ascii' codec can't encode character '\\xf3' in position 35: ordinal not in range(128)\n"
     ]
    },
    {
     "name": "stderr",
     "output_type": "stream",
     "text": [
      "Processing row 3289:  60%|█████▉    | 3267/5455 [10:00<00:59, 36.85it/s]t]"
     ]
    },
    {
     "name": "stdout",
     "output_type": "stream",
     "text": [
      "Exception at row 3324\n",
      "'ascii' codec can't encode character '\\xe0' in position 43: ordinal not in range(128)\n"
     ]
    },
    {
     "name": "stderr",
     "output_type": "stream",
     "text": [
      "Processing row 3979:  73%|███████▎  | 3978/5456 [10:05<31:37,  1.28s/it]t]"
     ]
    },
    {
     "name": "stdout",
     "output_type": "stream",
     "text": [
      "Exception at row 3978\n",
      "'ascii' codec can't encode character '\\xf6' in position 24: ordinal not in range(128)\n"
     ]
    },
    {
     "name": "stderr",
     "output_type": "stream",
     "text": [
      "Processing row 3982:  73%|███████▎  | 3980/5456 [10:07<29:31,  1.20s/it]t]"
     ]
    },
    {
     "name": "stdout",
     "output_type": "stream",
     "text": [
      "Exception at row 3980\n",
      "'ascii' codec can't encode character '\\xdf' in position 50: ordinal not in range(128)\n",
      "Exception at row 3981\n",
      "'ascii' codec can't encode character '\\xe2' in position 29: ordinal not in range(128)\n"
     ]
    },
    {
     "name": "stderr",
     "output_type": "stream",
     "text": [
      "Processing row 3297:  60%|██████    | 3291/5455 [10:10<07:20,  4.91it/s]t]"
     ]
    },
    {
     "name": "stdout",
     "output_type": "stream",
     "text": [
      "Exception at row 3983\n",
      "list index out of range\n"
     ]
    },
    {
     "name": "stderr",
     "output_type": "stream",
     "text": [
      "Processing row 3985:  73%|███████▎  | 3985/5456 [10:13<33:03,  1.35s/it]t]"
     ]
    },
    {
     "name": "stdout",
     "output_type": "stream",
     "text": [
      "Exception at row 3260\n",
      "list index out of range\n"
     ]
    },
    {
     "name": "stderr",
     "output_type": "stream",
     "text": [
      "Processing row 3304:  60%|██████    | 3291/5455 [10:16<07:20,  4.91it/s]t]"
     ]
    },
    {
     "name": "stdout",
     "output_type": "stream",
     "text": [
      "Exception at row 3298\n",
      "'ascii' codec can't encode character '\\xf3' in position 40: ordinal not in range(128)\n",
      "Exception at row 3301\n",
      "'ascii' codec can't encode character '\\xf4' in position 45: ordinal not in range(128)\n",
      "Exception at row 3303\n",
      "'ascii' codec can't encode character '\\xf6' in position 11: ordinal not in range(128)\n"
     ]
    },
    {
     "name": "stderr",
     "output_type": "stream",
     "text": [
      "Processing row 3343:  61%|██████    | 3337/5456 [10:23<06:13,  5.67it/s]t]"
     ]
    },
    {
     "name": "stdout",
     "output_type": "stream",
     "text": [
      "Exception at row 3342\n",
      "'ascii' codec can't encode character '\\xea' in position 40: ordinal not in range(128)\n"
     ]
    },
    {
     "name": "stderr",
     "output_type": "stream",
     "text": [
      "Processing row 3352:  61%|██████▏   | 3351/5456 [10:32<14:31,  2.42it/s]t]"
     ]
    },
    {
     "name": "stdout",
     "output_type": "stream",
     "text": [
      "Exception at row 3351\n",
      "'ascii' codec can't encode character '\\xe2' in position 24: ordinal not in range(128)\n"
     ]
    },
    {
     "name": "stderr",
     "output_type": "stream",
     "text": [
      "Processing row 3316:  61%|██████    | 3308/5455 [10:34<15:49,  2.26it/s]t]"
     ]
    },
    {
     "name": "stdout",
     "output_type": "stream",
     "text": [
      "Exception at row 3314\n",
      "'ascii' codec can't encode character '\\xe4' in position 23: ordinal not in range(128)\n"
     ]
    },
    {
     "name": "stderr",
     "output_type": "stream",
     "text": [
      "Processing row 3357:  61%|██████▏   | 3351/5456 [10:37<14:31,  2.42it/s]t]"
     ]
    },
    {
     "name": "stdout",
     "output_type": "stream",
     "text": [
      "Exception at row 3354\n",
      "'ascii' codec can't encode character '\\xe1' in position 52: ordinal not in range(128)\n"
     ]
    },
    {
     "name": "stderr",
     "output_type": "stream",
     "text": [
      "Processing row 3996:  73%|███████▎  | 3996/5456 [10:38<51:44,  2.13s/it]t]"
     ]
    },
    {
     "name": "stdout",
     "output_type": "stream",
     "text": [
      "Exception at row 3271\n",
      "list index out of range\n"
     ]
    },
    {
     "name": "stderr",
     "output_type": "stream",
     "text": [
      "Processing row 3321:  61%|██████    | 3319/5455 [10:46<26:06,  1.36it/s]t]"
     ]
    },
    {
     "name": "stdout",
     "output_type": "stream",
     "text": [
      "Exception at row 3320\n",
      "'ascii' codec can't encode character '\\xe0' in position 40: ordinal not in range(128)\n"
     ]
    },
    {
     "name": "stderr",
     "output_type": "stream",
     "text": [
      "Processing row 3279:  60%|██████    | 3277/5456 [10:51<1:27:51,  2.42s/it]"
     ]
    },
    {
     "name": "stdout",
     "output_type": "stream",
     "text": [
      "Exception at row 3277\n",
      "'ascii' codec can't encode character '\\xd4' in position 55: ordinal not in range(128)\n",
      "Exception at row 3278\n",
      "'ascii' codec can't encode character '\\xd4' in position 64: ordinal not in range(128)\n"
     ]
    },
    {
     "name": "stderr",
     "output_type": "stream",
     "text": [
      "Processing row 4006:  73%|███████▎  | 4006/5456 [11:02<43:32,  1.80s/it]  "
     ]
    },
    {
     "name": "stdout",
     "output_type": "stream",
     "text": [
      "Exception at row 4005\n",
      "list index out of range\n"
     ]
    },
    {
     "name": "stderr",
     "output_type": "stream",
     "text": [
      "Processing row 3285:  60%|██████    | 3285/5456 [11:07<1:24:14,  2.33s/it]"
     ]
    },
    {
     "name": "stdout",
     "output_type": "stream",
     "text": [
      "Exception at row 3327\n",
      "'ascii' codec can't encode character '\\xe2' in position 42: ordinal not in range(128)\n"
     ]
    },
    {
     "name": "stderr",
     "output_type": "stream",
     "text": [
      "Processing row 3292:  60%|██████    | 3291/5456 [11:24<1:35:06,  2.64s/it]"
     ]
    },
    {
     "name": "stdout",
     "output_type": "stream",
     "text": [
      "Exception at row 3291\n",
      "'ascii' codec can't encode character '\\xe8' in position 40: ordinal not in range(128)\n"
     ]
    },
    {
     "name": "stderr",
     "output_type": "stream",
     "text": [
      "Processing row 3301:  61%|██████    | 3301/5456 [11:40<55:43,  1.55s/it]  "
     ]
    },
    {
     "name": "stdout",
     "output_type": "stream",
     "text": [
      "Exception at row 3300\n",
      "list index out of range\n"
     ]
    },
    {
     "name": "stderr",
     "output_type": "stream",
     "text": [
      "Processing row 4021:  74%|███████▎  | 4021/5456 [11:41<1:18:00,  3.26s/it]"
     ]
    },
    {
     "name": "stdout",
     "output_type": "stream",
     "text": [
      "Exception at row 3341\n",
      "'ascii' codec can't encode character '\\xf6' in position 55: ordinal not in range(128)\n"
     ]
    },
    {
     "name": "stderr",
     "output_type": "stream",
     "text": [
      "Processing row 4028:  74%|███████▍  | 4028/5456 [11:56<50:46,  2.13s/it]  "
     ]
    },
    {
     "name": "stdout",
     "output_type": "stream",
     "text": [
      "Exception at row 3349\n",
      "'ascii' codec can't encode character '\\xe7' in position 78: ordinal not in range(128)\n"
     ]
    },
    {
     "name": "stderr",
     "output_type": "stream",
     "text": [
      "Processing row 3310:  61%|██████    | 3309/5456 [11:59<1:24:56,  2.37s/it]"
     ]
    },
    {
     "name": "stdout",
     "output_type": "stream",
     "text": [
      "Exception at row 3309\n",
      "'ascii' codec can't encode character '\\xf4' in position 38: ordinal not in range(128)\n"
     ]
    },
    {
     "name": "stderr",
     "output_type": "stream",
     "text": [
      "Processing row 3391:  62%|██████▏   | 3391/5456 [12:01<1:12:24,  2.10s/it]"
     ]
    },
    {
     "name": "stdout",
     "output_type": "stream",
     "text": [
      "Exception at row 3311\n",
      "'ascii' codec can't encode character '\\xe9' in position 10: ordinal not in range(128)\n"
     ]
    },
    {
     "name": "stderr",
     "output_type": "stream",
     "text": [
      "Processing row 3354:  61%|██████▏   | 3353/5455 [12:03<1:04:31,  1.84s/it]"
     ]
    },
    {
     "name": "stdout",
     "output_type": "stream",
     "text": [
      "Exception at row 3353\n",
      "'ascii' codec can't encode character '\\xb3' in position 14: ordinal not in range(128)\n"
     ]
    },
    {
     "name": "stderr",
     "output_type": "stream",
     "text": [
      "Processing row 3317:  61%|██████    | 3316/5456 [12:09<1:04:49,  1.82s/it]"
     ]
    },
    {
     "name": "stdout",
     "output_type": "stream",
     "text": [
      "Exception at row 3316\n",
      "'ascii' codec can't encode character '\\xf1' in position 34: ordinal not in range(128)\n"
     ]
    },
    {
     "name": "stderr",
     "output_type": "stream",
     "text": [
      "Processing row 3360:  62%|██████▏   | 3359/5455 [12:14<1:10:17,  2.01s/it]"
     ]
    },
    {
     "name": "stdout",
     "output_type": "stream",
     "text": [
      "Exception at row 3359\n",
      "'ascii' codec can't encode character '\\xe9' in position 50: ordinal not in range(128)\n"
     ]
    },
    {
     "name": "stderr",
     "output_type": "stream",
     "text": [
      "Processing row 3322:  61%|██████    | 3322/5456 [12:18<58:46,  1.65s/it]  "
     ]
    },
    {
     "name": "stdout",
     "output_type": "stream",
     "text": [
      "Exception at row 3321\n",
      "list index out of range\n"
     ]
    },
    {
     "name": "stderr",
     "output_type": "stream",
     "text": [
      "Processing row 3401:  62%|██████▏   | 3399/5456 [12:22<1:38:08,  2.86s/it]"
     ]
    },
    {
     "name": "stdout",
     "output_type": "stream",
     "text": [
      "Exception at row 3399\n",
      "'ascii' codec can't encode character '\\xe9' in position 58: ordinal not in range(128)\n",
      "Exception at row 3400\n",
      "'ascii' codec can't encode character '\\xe4' in position 40: ordinal not in range(128)\n"
     ]
    },
    {
     "name": "stderr",
     "output_type": "stream",
     "text": [
      "Processing row 4037:  74%|███████▍  | 4037/5456 [12:24<1:14:43,  3.16s/it]"
     ]
    },
    {
     "name": "stdout",
     "output_type": "stream",
     "text": [
      "Exception at row 3324\n",
      "'ascii' codec can't encode character '\\xe9' in position 62: ordinal not in range(128)\n"
     ]
    },
    {
     "name": "stderr",
     "output_type": "stream",
     "text": [
      "Processing row 3367:  62%|██████▏   | 3365/5455 [12:28<1:17:43,  2.23s/it]"
     ]
    },
    {
     "name": "stdout",
     "output_type": "stream",
     "text": [
      "Exception at row 3365\n",
      "'ascii' codec can't encode character '\\xf3' in position 33: ordinal not in range(128)\n",
      "Exception at row 3366\n",
      "'ascii' codec can't encode character '\\xe0' in position 42: ordinal not in range(128)\n"
     ]
    },
    {
     "name": "stderr",
     "output_type": "stream",
     "text": [
      "Processing row 3331:  61%|██████    | 3330/5456 [12:32<59:53,  1.69s/it]t]"
     ]
    },
    {
     "name": "stdout",
     "output_type": "stream",
     "text": [
      "Exception at row 3330\n",
      "'ascii' codec can't encode character '\\xe8' in position 46: ordinal not in range(128)\n"
     ]
    },
    {
     "name": "stderr",
     "output_type": "stream",
     "text": [
      "Processing row 3371:  62%|██████▏   | 3370/5455 [12:36<1:05:29,  1.88s/it]"
     ]
    },
    {
     "name": "stdout",
     "output_type": "stream",
     "text": [
      "Exception at row 3370\n",
      "'ascii' codec can't encode character '\\xe0' in position 37: ordinal not in range(128)\n"
     ]
    },
    {
     "name": "stderr",
     "output_type": "stream",
     "text": [
      "Processing row 4046:  74%|███████▍  | 4046/5456 [12:42<48:03,  2.05s/it]t]"
     ]
    },
    {
     "name": "stdout",
     "output_type": "stream",
     "text": [
      "Exception at row 4045\n",
      "list index out of range\n"
     ]
    },
    {
     "name": "stderr",
     "output_type": "stream",
     "text": [
      "Processing row 3378:  62%|██████▏   | 3377/5455 [12:50<1:13:46,  2.13s/it]"
     ]
    },
    {
     "name": "stdout",
     "output_type": "stream",
     "text": [
      "Exception at row 3377\n",
      "'ascii' codec can't encode character '\\xfb' in position 37: ordinal not in range(128)\n"
     ]
    },
    {
     "name": "stderr",
     "output_type": "stream",
     "text": [
      "Processing row 3382:  62%|██████▏   | 3380/5455 [12:54<58:52,  1.70s/it]t]"
     ]
    },
    {
     "name": "stdout",
     "output_type": "stream",
     "text": [
      "Exception at row 3380\n",
      "'ascii' codec can't encode character '\\xf4' in position 53: ordinal not in range(128)\n"
     ]
    },
    {
     "name": "stderr",
     "output_type": "stream",
     "text": [
      "Processing row 3387:  62%|██████▏   | 3385/5455 [13:01<58:57,  1.71s/it]  "
     ]
    },
    {
     "name": "stdout",
     "output_type": "stream",
     "text": [
      "Exception at row 4053\n",
      "'ascii' codec can't encode character '\\xe1' in position 26: ordinal not in range(128)\n",
      "Exception at row 3386\n",
      "'ascii' codec can't encode character '\\xf8' in position 34: ordinal not in range(128)\n"
     ]
    },
    {
     "name": "stderr",
     "output_type": "stream",
     "text": [
      "Processing row 3346:  61%|██████▏   | 3345/5456 [13:04<1:14:13,  2.11s/it]"
     ]
    },
    {
     "name": "stdout",
     "output_type": "stream",
     "text": [
      "Exception at row 3345\n",
      "'ascii' codec can't encode character '\\xee' in position 11: ordinal not in range(128)\n"
     ]
    },
    {
     "name": "stderr",
     "output_type": "stream",
     "text": [
      "Processing row 3420:  63%|██████▎   | 3419/5456 [13:06<1:19:36,  2.34s/it]"
     ]
    },
    {
     "name": "stdout",
     "output_type": "stream",
     "text": [
      "Exception at row 3419\n",
      "'ascii' codec can't encode character '\\xa1' in position 26: ordinal not in range(128)\n"
     ]
    },
    {
     "name": "stderr",
     "output_type": "stream",
     "text": [
      "Processing row 4058:  74%|███████▍  | 4057/5456 [13:10<54:20,  2.33s/it]t]"
     ]
    },
    {
     "name": "stdout",
     "output_type": "stream",
     "text": [
      "Exception at row 4057\n",
      "'ascii' codec can't encode character '\\xfb' in position 36: ordinal not in range(128)\n"
     ]
    },
    {
     "name": "stderr",
     "output_type": "stream",
     "text": [
      "Processing row 3426:  63%|██████▎   | 3426/5456 [13:18<1:07:44,  2.00s/it]"
     ]
    },
    {
     "name": "stdout",
     "output_type": "stream",
     "text": [
      "Exception at row 3351\n",
      "'ascii' codec can't encode character '\\xbf' in position 62: ordinal not in range(128)\n"
     ]
    },
    {
     "name": "stderr",
     "output_type": "stream",
     "text": [
      "Processing row 3359:  62%|██████▏   | 3358/5456 [13:30<1:05:34,  1.88s/it]"
     ]
    },
    {
     "name": "stdout",
     "output_type": "stream",
     "text": [
      "Exception at row 3358\n",
      "'ascii' codec can't encode character '\\xed' in position 41: ordinal not in range(128)\n"
     ]
    },
    {
     "name": "stderr",
     "output_type": "stream",
     "text": [
      "Processing row 3409:  62%|██████▏   | 3407/5455 [14:01<1:33:49,  2.75s/it]"
     ]
    },
    {
     "name": "stdout",
     "output_type": "stream",
     "text": [
      "Exception at row 3407\n",
      "'ascii' codec can't encode character '\\xd6' in position 35: ordinal not in range(128)\n",
      "Exception at row 3408\n",
      "'ascii' codec can't encode character '\\xf8' in position 60: ordinal not in range(128)\n"
     ]
    },
    {
     "name": "stderr",
     "output_type": "stream",
     "text": [
      "Processing row 3373:  62%|██████▏   | 3373/5456 [14:03<1:07:45,  1.95s/it]"
     ]
    },
    {
     "name": "stdout",
     "output_type": "stream",
     "text": [
      "Exception at row 3445\n",
      "'ascii' codec can't encode character '\\xe8' in position 31: ordinal not in range(128)\n"
     ]
    },
    {
     "name": "stderr",
     "output_type": "stream",
     "text": [
      "Processing row 3375:  62%|██████▏   | 3374/5456 [14:05<1:08:06,  1.96s/it]"
     ]
    },
    {
     "name": "stdout",
     "output_type": "stream",
     "text": [
      "Exception at row 3374\n",
      "'ascii' codec can't encode character '\\xe4' in position 46: ordinal not in range(128)\n"
     ]
    },
    {
     "name": "stderr",
     "output_type": "stream",
     "text": [
      "Processing row 3449:  63%|██████▎   | 3448/5456 [14:06<1:04:37,  1.93s/it]"
     ]
    },
    {
     "name": "stdout",
     "output_type": "stream",
     "text": [
      "Exception at row 3448\n",
      "'ascii' codec can't encode character '\\xe9' in position 28: ordinal not in range(128)\n"
     ]
    },
    {
     "name": "stderr",
     "output_type": "stream",
     "text": [
      "Processing row 3379:  62%|██████▏   | 3378/5456 [14:11<1:00:58,  1.76s/it]"
     ]
    },
    {
     "name": "stdout",
     "output_type": "stream",
     "text": [
      "Exception at row 3378\n",
      "'ascii' codec can't encode character '\\xe9' in position 43: ordinal not in range(128)\n"
     ]
    },
    {
     "name": "stderr",
     "output_type": "stream",
     "text": [
      "Processing row 3380:  62%|██████▏   | 3380/5456 [14:13<49:14,  1.42s/it]t]"
     ]
    },
    {
     "name": "stdout",
     "output_type": "stream",
     "text": [
      "Exception at row 3379\n",
      "list index out of range\n"
     ]
    },
    {
     "name": "stderr",
     "output_type": "stream",
     "text": [
      "Processing row 3390:  62%|██████▏   | 3389/5456 [14:27<58:42,  1.70s/it]t]"
     ]
    },
    {
     "name": "stdout",
     "output_type": "stream",
     "text": [
      "Exception at row 3389\n",
      "'ascii' codec can't encode character '\\xf6' in position 17: ordinal not in range(128)\n"
     ]
    },
    {
     "name": "stderr",
     "output_type": "stream",
     "text": [
      "Processing row 3422:  63%|██████▎   | 3421/5455 [14:28<1:09:49,  2.06s/it]"
     ]
    },
    {
     "name": "stdout",
     "output_type": "stream",
     "text": [
      "Exception at row 3421\n",
      "'ascii' codec can't encode character '\\xf6' in position 18: ordinal not in range(128)\n"
     ]
    },
    {
     "name": "stderr",
     "output_type": "stream",
     "text": [
      "Processing row 3394:  62%|██████▏   | 3393/5456 [14:37<1:30:19,  2.63s/it]"
     ]
    },
    {
     "name": "stdout",
     "output_type": "stream",
     "text": [
      "Exception at row 3393\n",
      "'ascii' codec can't encode character '\\xf6' in position 21: ordinal not in range(128)\n"
     ]
    },
    {
     "name": "stderr",
     "output_type": "stream",
     "text": [
      "Processing row 3412:  63%|██████▎   | 3411/5456 [15:18<1:11:13,  2.09s/it]"
     ]
    },
    {
     "name": "stdout",
     "output_type": "stream",
     "text": [
      "Exception at row 3411\n",
      "'ascii' codec can't encode character '\\xe9' in position 31: ordinal not in range(128)\n"
     ]
    },
    {
     "name": "stderr",
     "output_type": "stream",
     "text": [
      "Processing row 3414:  63%|██████▎   | 3413/5456 [15:20<57:45,  1.70s/it]  "
     ]
    },
    {
     "name": "stdout",
     "output_type": "stream",
     "text": [
      "Exception at row 3413\n",
      "'ascii' codec can't encode character '\\xe8' in position 38: ordinal not in range(128)\n"
     ]
    },
    {
     "name": "stderr",
     "output_type": "stream",
     "text": [
      "Processing row 3418:  63%|██████▎   | 3418/5456 [15:25<39:14,  1.16s/it]t]"
     ]
    },
    {
     "name": "stdout",
     "output_type": "stream",
     "text": [
      "Exception at row 3417\n",
      "list index out of range\n"
     ]
    },
    {
     "name": "stderr",
     "output_type": "stream",
     "text": [
      "Processing row 3426:  63%|██████▎   | 3425/5456 [15:37<51:05,  1.51s/it]  "
     ]
    },
    {
     "name": "stdout",
     "output_type": "stream",
     "text": [
      "Exception at row 3425\n",
      "'ascii' codec can't encode character '\\xe9' in position 30: ordinal not in range(128)\n"
     ]
    },
    {
     "name": "stderr",
     "output_type": "stream",
     "text": [
      "Processing row 3486:  64%|██████▍   | 3485/5456 [15:41<1:23:56,  2.56s/it]"
     ]
    },
    {
     "name": "stdout",
     "output_type": "stream",
     "text": [
      "Exception at row 3485\n",
      "'ascii' codec can't encode character '\\xfb' in position 47: ordinal not in range(128)\n"
     ]
    },
    {
     "name": "stderr",
     "output_type": "stream",
     "text": [
      "Processing row 3429:  63%|██████▎   | 3429/5456 [15:43<47:57,  1.42s/it]  "
     ]
    },
    {
     "name": "stdout",
     "output_type": "stream",
     "text": [
      "Exception at row 3486\n",
      "list index out of range\n",
      "Exception at row 3487\n",
      "'ascii' codec can't encode character '\\xe9' in position 12: ordinal not in range(128)\n"
     ]
    },
    {
     "name": "stderr",
     "output_type": "stream",
     "text": [
      "Processing row 4119:  75%|███████▌  | 4119/5456 [16:00<50:07,  2.25s/it]t]"
     ]
    },
    {
     "name": "stdout",
     "output_type": "stream",
     "text": [
      "Exception at row 3494\n",
      "'ascii' codec can't encode character '\\xfc' in position 32: ordinal not in range(128)\n"
     ]
    },
    {
     "name": "stderr",
     "output_type": "stream",
     "text": [
      "Processing row 3446:  63%|██████▎   | 3444/5456 [16:06<58:09,  1.73s/it]t]"
     ]
    },
    {
     "name": "stdout",
     "output_type": "stream",
     "text": [
      "Exception at row 3445\n",
      "'ascii' codec can't encode character '\\xbf' in position 44: ordinal not in range(128)\n"
     ]
    },
    {
     "name": "stderr",
     "output_type": "stream",
     "text": [
      "Processing row 3450:  63%|██████▎   | 3447/5456 [16:08<41:51,  1.25s/it]t]"
     ]
    },
    {
     "name": "stdout",
     "output_type": "stream",
     "text": [
      "Exception at row 3447\n",
      "'ascii' codec can't encode character '\\xe9' in position 32: ordinal not in range(128)\n"
     ]
    },
    {
     "name": "stderr",
     "output_type": "stream",
     "text": [
      "Processing row 3465:  64%|██████▎   | 3465/5455 [16:14<1:24:59,  2.56s/it]"
     ]
    },
    {
     "name": "stdout",
     "output_type": "stream",
     "text": [
      "Exception at row 3453\n",
      "'ascii' codec can't encode character '\\xe8' in position 18: ordinal not in range(128)\n",
      "Exception at row 3464\n",
      "list index out of range\n"
     ]
    },
    {
     "name": "stderr",
     "output_type": "stream",
     "text": [
      "Processing row 3471:  64%|██████▎   | 3469/5455 [16:22<1:11:51,  2.17s/it]"
     ]
    },
    {
     "name": "stdout",
     "output_type": "stream",
     "text": [
      "Exception at row 3469\n",
      "'ascii' codec can't encode character '\\xf6' in position 33: ordinal not in range(128)\n"
     ]
    },
    {
     "name": "stderr",
     "output_type": "stream",
     "text": [
      "Processing row 3463:  63%|██████▎   | 3460/5456 [16:24<39:17,  1.18s/it]t]"
     ]
    },
    {
     "name": "stdout",
     "output_type": "stream",
     "text": [
      "Exception at row 3460\n",
      "'ascii' codec can't encode character '\\xf6' in position 21: ordinal not in range(128)\n"
     ]
    },
    {
     "name": "stderr",
     "output_type": "stream",
     "text": [
      "Processing row 3473:  64%|██████▎   | 3469/5456 [16:39<1:05:42,  1.98s/it]"
     ]
    },
    {
     "name": "stdout",
     "output_type": "stream",
     "text": [
      "Exception at row 3469\n",
      "'ascii' codec can't encode character '\\xe9' in position 32: ordinal not in range(128)\n"
     ]
    },
    {
     "name": "stderr",
     "output_type": "stream",
     "text": [
      "Processing row 3528:  64%|██████▍   | 3515/5456 [16:43<05:03,  6.40it/s]t]"
     ]
    },
    {
     "name": "stdout",
     "output_type": "stream",
     "text": [
      "Exception at row 3485\n",
      "list index out of range\n",
      "Exception at row 3514\n",
      "'ascii' codec can't encode character '\\xfb' in position 47: ordinal not in range(128)\n",
      "Exception at row 3520\n",
      "'ascii' codec can't encode character '\\xfb' in position 31: ordinal not in range(128)\n"
     ]
    },
    {
     "name": "stderr",
     "output_type": "stream",
     "text": [
      "Processing row 3590:  65%|██████▍   | 3536/5456 [16:46<04:04,  7.84it/s]t]"
     ]
    },
    {
     "name": "stdout",
     "output_type": "stream",
     "text": [
      "Exception at row 3540\n",
      "'ascii' codec can't encode character '\\xf4' in position 33: ordinal not in range(128)\n",
      "Exception at row 3575\n",
      "'ascii' codec can't encode character '\\xe5' in position 93: ordinal not in range(128)\n"
     ]
    },
    {
     "name": "stderr",
     "output_type": "stream",
     "text": [
      "Processing row 3622:  66%|██████▌   | 3599/5456 [16:50<02:52, 10.74it/s]t]"
     ]
    },
    {
     "name": "stdout",
     "output_type": "stream",
     "text": [
      "Exception at row 3606\n",
      "'ascii' codec can't encode character '\\xc4' in position 26: ordinal not in range(128)\n",
      "Exception at row 3609\n",
      "'ascii' codec can't encode character '\\xe2' in position 18: ordinal not in range(128)\n"
     ]
    },
    {
     "name": "stderr",
     "output_type": "stream",
     "text": [
      "Processing row 3519:  64%|██████▍   | 3516/5456 [16:52<1:20:11,  2.48s/it]"
     ]
    },
    {
     "name": "stdout",
     "output_type": "stream",
     "text": [
      "Exception at row 3517\n",
      "'ascii' codec can't encode character '\\xe1' in position 11: ordinal not in range(128)\n"
     ]
    },
    {
     "name": "stderr",
     "output_type": "stream",
     "text": [
      "Processing row 3675:  66%|██████▋   | 3623/5456 [16:57<04:50,  6.31it/s]  "
     ]
    },
    {
     "name": "stdout",
     "output_type": "stream",
     "text": [
      "Exception at row 3646\n",
      "'ascii' codec can't encode character '\\xe4' in position 46: ordinal not in range(128)\n",
      "Exception at row 3648\n",
      "'ascii' codec can't encode character '\\xe0' in position 41: ordinal not in range(128)\n",
      "Exception at row 3654\n",
      "'ascii' codec can't encode character '\\xf6' in position 35: ordinal not in range(128)\n",
      "Exception at row 3659\n",
      "'ascii' codec can't encode character '\\xee' in position 53: ordinal not in range(128)\n",
      "Exception at row 3663\n",
      "'ascii' codec can't encode character '\\xe9' in position 35: ordinal not in range(128)\n",
      "Exception at row 3667\n",
      "'ascii' codec can't encode character '\\xe4' in position 24: ordinal not in range(128)\n"
     ]
    },
    {
     "name": "stderr",
     "output_type": "stream",
     "text": [
      "Processing row 4142:  76%|███████▌  | 4142/5456 [17:06<49:42,  2.27s/it]  "
     ]
    },
    {
     "name": "stdout",
     "output_type": "stream",
     "text": [
      "Exception at row 3530\n",
      "list index out of range\n"
     ]
    },
    {
     "name": "stderr",
     "output_type": "stream",
     "text": [
      "Processing row 4143:  76%|███████▌  | 4143/5456 [17:06<39:58,  1.83s/it]"
     ]
    },
    {
     "name": "stdout",
     "output_type": "stream",
     "text": [
      "Exception at row 4142\n",
      "list index out of range\n"
     ]
    },
    {
     "name": "stderr",
     "output_type": "stream",
     "text": [
      "Processing row 3719:  68%|██████▊   | 3710/5456 [17:08<04:14,  6.87it/s]"
     ]
    },
    {
     "name": "stdout",
     "output_type": "stream",
     "text": [
      "Exception at row 3714\n",
      "'ascii' codec can't encode character '\\xf4' in position 41: ordinal not in range(128)\n"
     ]
    },
    {
     "name": "stderr",
     "output_type": "stream",
     "text": [
      "Processing row 3744:  68%|██████▊   | 3720/5456 [17:10<04:15,  6.80it/s]"
     ]
    },
    {
     "name": "stdout",
     "output_type": "stream",
     "text": [
      "Exception at row 3719\n",
      "list index out of range\n",
      "Exception at row 3742\n",
      "'ascii' codec can't encode character '\\xfc' in position 92: ordinal not in range(128)\n"
     ]
    },
    {
     "name": "stderr",
     "output_type": "stream",
     "text": [
      "Processing row 3537:  65%|██████▍   | 3535/5456 [17:14<53:32,  1.67s/it]"
     ]
    },
    {
     "name": "stdout",
     "output_type": "stream",
     "text": [
      "Exception at row 3536\n",
      "'ascii' codec can't encode character '\\xe4' in position 33: ordinal not in range(128)\n"
     ]
    },
    {
     "name": "stderr",
     "output_type": "stream",
     "text": [
      "Processing row 3747:  69%|██████▊   | 3747/5456 [17:14<04:33,  6.25it/s]"
     ]
    },
    {
     "name": "stdout",
     "output_type": "stream",
     "text": [
      "Exception at row 3746\n",
      "'ascii' codec can't encode character '\\xe4' in position 27: ordinal not in range(128)\n"
     ]
    },
    {
     "name": "stderr",
     "output_type": "stream",
     "text": [
      "Processing row 4148:  76%|███████▌  | 4147/5456 [17:15<46:47,  2.14s/it]"
     ]
    },
    {
     "name": "stdout",
     "output_type": "stream",
     "text": [
      "Exception at row 4147\n",
      "'ascii' codec can't encode character '\\xe9' in position 12: ordinal not in range(128)\n"
     ]
    },
    {
     "name": "stderr",
     "output_type": "stream",
     "text": [
      "Processing row 3761:  69%|██████▉   | 3756/5456 [17:30<20:35,  1.38it/s]  "
     ]
    },
    {
     "name": "stdout",
     "output_type": "stream",
     "text": [
      "Exception at row 3756\n",
      "'ascii' codec can't encode character '\\xe4' in position 13: ordinal not in range(128)\n",
      "Exception at row 3758\n",
      "'ascii' codec can't encode character '\\xf4' in position 84: ordinal not in range(128)\n",
      "Exception at row 3759\n",
      "'ascii' codec can't encode character '\\xe4' in position 52: ordinal not in range(128)\n"
     ]
    },
    {
     "name": "stderr",
     "output_type": "stream",
     "text": [
      "Processing row 3765:  69%|██████▉   | 3763/5456 [17:34<20:09,  1.40it/s]t]"
     ]
    },
    {
     "name": "stdout",
     "output_type": "stream",
     "text": [
      "Exception at row 3763\n",
      "'ascii' codec can't encode character '\\xe9' in position 34: ordinal not in range(128)\n"
     ]
    },
    {
     "name": "stderr",
     "output_type": "stream",
     "text": [
      "Processing row 3771:  69%|██████▉   | 3769/5456 [17:44<39:36,  1.41s/it]t]"
     ]
    },
    {
     "name": "stdout",
     "output_type": "stream",
     "text": [
      "Exception at row 3770\n",
      "'ascii' codec can't encode character '\\xe8' in position 55: ordinal not in range(128)\n"
     ]
    },
    {
     "name": "stderr",
     "output_type": "stream",
     "text": [
      "Processing row 3522:  65%|██████▍   | 3520/5455 [18:02<34:36,  1.07s/it]  "
     ]
    },
    {
     "name": "stdout",
     "output_type": "stream",
     "text": [
      "Exception at row 3519\n",
      "'ascii' codec can't encode character '\\xe8' in position 12: ordinal not in range(128)\n"
     ]
    },
    {
     "name": "stderr",
     "output_type": "stream",
     "text": [
      "Processing row 3786:  69%|██████▉   | 3784/5456 [18:05<45:12,  1.62s/it]  "
     ]
    },
    {
     "name": "stdout",
     "output_type": "stream",
     "text": [
      "Exception at row 3785\n",
      "'ascii' codec can't encode character '\\xe9' in position 16: ordinal not in range(128)\n"
     ]
    },
    {
     "name": "stderr",
     "output_type": "stream",
     "text": [
      "Processing row 4177:  77%|███████▋  | 4175/5456 [18:13<40:24,  1.89s/it]"
     ]
    },
    {
     "name": "stdout",
     "output_type": "stream",
     "text": [
      "Exception at row 4176\n",
      "'ascii' codec can't encode character '\\xee' in position 20: ordinal not in range(128)\n"
     ]
    },
    {
     "name": "stderr",
     "output_type": "stream",
     "text": [
      "Processing row 3638:  66%|██████▌   | 3609/5456 [18:14<04:08,  7.42it/s]"
     ]
    },
    {
     "name": "stdout",
     "output_type": "stream",
     "text": [
      "Exception at row 3574\n",
      "'ascii' codec can't encode character '\\xe9' in position 44: ordinal not in range(128)\n",
      "Exception at row 3576\n",
      "'ascii' codec can't encode character '\\xf4' in position 34: ordinal not in range(128)\n",
      "Exception at row 3583\n",
      "'ascii' codec can't encode character '\\xe4' in position 47: ordinal not in range(128)\n",
      "Exception at row 3584\n",
      "'ascii' codec can't encode character '\\xe9' in position 20: ordinal not in range(128)\n",
      "Exception at row 3602\n",
      "'ascii' codec can't encode character '\\xf3' in position 25: ordinal not in range(128)\n",
      "Exception at row 3604\n",
      "'ascii' codec can't encode character '\\xf4' in position 27: ordinal not in range(128)\n",
      "Exception at row 3606\n",
      "'ascii' codec can't encode character '\\xe9' in position 10: ordinal not in range(128)\n",
      "Exception at row 3631\n",
      "'ascii' codec can't encode character '\\xf8' in position 22: ordinal not in range(128)\n"
     ]
    },
    {
     "name": "stderr",
     "output_type": "stream",
     "text": [
      "Processing row 3662:  67%|██████▋   | 3639/5456 [18:16<03:11,  9.49it/s]"
     ]
    },
    {
     "name": "stdout",
     "output_type": "stream",
     "text": [
      "Exception at row 3643\n",
      "'ascii' codec can't encode character '\\xf6' in position 38: ordinal not in range(128)\n",
      "Exception at row 3657\n",
      "'ascii' codec can't encode character '\\xf6' in position 35: ordinal not in range(128)\n",
      "Exception at row 3660\n",
      "'ascii' codec can't encode character '\\xf5' in position 46: ordinal not in range(128)\n"
     ]
    },
    {
     "name": "stderr",
     "output_type": "stream",
     "text": [
      "Processing row 3546:  65%|██████▍   | 3544/5455 [18:18<13:47,  2.31it/s]"
     ]
    },
    {
     "name": "stdout",
     "output_type": "stream",
     "text": [
      "Exception at row 3662\n",
      "list index out of range\n",
      "Exception at row 3543\n",
      "'ascii' codec can't encode character '\\xe2' in position 29: ordinal not in range(128)\n",
      "Exception at row 3544\n",
      "'ascii' codec can't encode character '\\xfb' in position 27: ordinal not in range(128)\n"
     ]
    },
    {
     "name": "stderr",
     "output_type": "stream",
     "text": [
      "Processing row 3556:  65%|██████▌   | 3547/5455 [18:20<14:43,  2.16it/s]"
     ]
    },
    {
     "name": "stdout",
     "output_type": "stream",
     "text": [
      "Exception at row 3546\n",
      "list index out of range\n",
      "Exception at row 3549\n",
      "'ascii' codec can't encode character '\\xe9' in position 27: ordinal not in range(128)\n"
     ]
    },
    {
     "name": "stderr",
     "output_type": "stream",
     "text": [
      "Processing row 3569:  65%|██████▌   | 3564/5455 [18:22<06:37,  4.76it/s]"
     ]
    },
    {
     "name": "stdout",
     "output_type": "stream",
     "text": [
      "Exception at row 3557\n",
      "'ascii' codec can't encode character '\\xe9' in position 28: ordinal not in range(128)\n",
      "Exception at row 3565\n",
      "'ascii' codec can't encode character '\\xe8' in position 16: ordinal not in range(128)\n"
     ]
    },
    {
     "name": "stderr",
     "output_type": "stream",
     "text": [
      "Processing row 3702:  67%|██████▋   | 3669/5456 [18:22<05:09,  5.78it/s]"
     ]
    },
    {
     "name": "stdout",
     "output_type": "stream",
     "text": [
      "Exception at row 3684\n",
      "'ascii' codec can't encode character '\\xe8' in position 48: ordinal not in range(128)\n"
     ]
    },
    {
     "name": "stderr",
     "output_type": "stream",
     "text": [
      "Processing row 4182:  77%|███████▋  | 4182/5456 [18:24<41:48,  1.97s/it]"
     ]
    },
    {
     "name": "stdout",
     "output_type": "stream",
     "text": [
      "Exception at row 3577\n",
      "'ascii' codec can't encode character '\\xe5' in position 31: ordinal not in range(128)\n"
     ]
    },
    {
     "name": "stderr",
     "output_type": "stream",
     "text": [
      "Processing row 3616:  66%|██████▌   | 3589/5455 [18:26<05:13,  5.95it/s]t]"
     ]
    },
    {
     "name": "stdout",
     "output_type": "stream",
     "text": [
      "Exception at row 3591\n",
      "'ascii' codec can't encode character '\\xed' in position 55: ordinal not in range(128)\n",
      "Exception at row 3599\n",
      "'ascii' codec can't encode character '\\xe9' in position 35: ordinal not in range(128)\n",
      "Exception at row 3609\n",
      "'ascii' codec can't encode character '\\xe2' in position 39: ordinal not in range(128)\n",
      "Exception at row 3610\n",
      "'ascii' codec can't encode character '\\xea' in position 27: ordinal not in range(128)\n"
     ]
    },
    {
     "name": "stderr",
     "output_type": "stream",
     "text": [
      "Processing row 3745:  68%|██████▊   | 3734/5456 [18:27<02:29, 11.51it/s]t]"
     ]
    },
    {
     "name": "stdout",
     "output_type": "stream",
     "text": [
      "Exception at row 3711\n",
      "'ascii' codec can't encode character '\\xe9' in position 24: ordinal not in range(128)\n",
      "Exception at row 3714\n",
      "'ascii' codec can't encode character '\\xfc' in position 40: ordinal not in range(128)\n",
      "Exception at row 3732\n",
      "'ascii' codec can't encode character '\\xf4' in position 36: ordinal not in range(128)\n"
     ]
    },
    {
     "name": "stderr",
     "output_type": "stream",
     "text": [
      "Processing row 3623:  66%|██████▋   | 3617/5455 [18:28<03:25,  8.94it/s]"
     ]
    },
    {
     "name": "stdout",
     "output_type": "stream",
     "text": [
      "Exception at row 3621\n",
      "'ascii' codec can't encode character '\\xea' in position 53: ordinal not in range(128)\n"
     ]
    },
    {
     "name": "stderr",
     "output_type": "stream",
     "text": [
      "Processing row 3787:  69%|██████▉   | 3752/5456 [18:29<02:41, 10.53it/s]t]"
     ]
    },
    {
     "name": "stdout",
     "output_type": "stream",
     "text": [
      "Exception at row 3760\n",
      "'ascii' codec can't encode character '\\xe4' in position 68: ordinal not in range(128)\n",
      "Exception at row 3765\n",
      "'ascii' codec can't encode character '\\xe8' in position 29: ordinal not in range(128)\n"
     ]
    },
    {
     "name": "stderr",
     "output_type": "stream",
     "text": [
      "Processing row 3639:  66%|██████▋   | 3624/5455 [18:30<04:17,  7.12it/s]t]"
     ]
    },
    {
     "name": "stdout",
     "output_type": "stream",
     "text": [
      "Exception at row 3623\n",
      "list index out of range\n",
      "Exception at row 3638\n",
      "'ascii' codec can't encode character '\\xe9' in position 19: ordinal not in range(128)\n"
     ]
    },
    {
     "name": "stderr",
     "output_type": "stream",
     "text": [
      "Processing row 3657:  67%|██████▋   | 3640/5455 [18:32<04:05,  7.39it/s]  "
     ]
    },
    {
     "name": "stdout",
     "output_type": "stream",
     "text": [
      "Exception at row 3642\n",
      "'ascii' codec can't encode character '\\xf9' in position 58: ordinal not in range(128)\n",
      "Exception at row 3653\n",
      "'ascii' codec can't encode character '\\xfb' in position 39: ordinal not in range(128)\n"
     ]
    },
    {
     "name": "stderr",
     "output_type": "stream",
     "text": [
      "Processing row 3807:  70%|██████▉   | 3798/5456 [18:36<03:58,  6.95it/s]t]"
     ]
    },
    {
     "name": "stdout",
     "output_type": "stream",
     "text": [
      "Exception at row 3799\n",
      "'ascii' codec can't encode character '\\xe4' in position 19: ordinal not in range(128)\n",
      "Exception at row 3806\n",
      "'ascii' codec can't encode character '\\u2019' in position 12: ordinal not in range(128)\n"
     ]
    },
    {
     "name": "stderr",
     "output_type": "stream",
     "text": [
      "Processing row 3682:  67%|██████▋   | 3658/5455 [18:39<06:24,  4.68it/s]t]"
     ]
    },
    {
     "name": "stdout",
     "output_type": "stream",
     "text": [
      "Exception at row 3681\n",
      "'ascii' codec can't encode character '\\xf6' in position 19: ordinal not in range(128)\n"
     ]
    },
    {
     "name": "stderr",
     "output_type": "stream",
     "text": [
      "Processing row 3833:  70%|██████▉   | 3808/5456 [18:42<06:38,  4.13it/s]t]"
     ]
    },
    {
     "name": "stdout",
     "output_type": "stream",
     "text": [
      "Exception at row 3811\n",
      "'ascii' codec can't encode character '\\xe4' in position 32: ordinal not in range(128)\n"
     ]
    },
    {
     "name": "stderr",
     "output_type": "stream",
     "text": [
      "Processing row 3803:  70%|██████▉   | 3801/5456 [18:43<1:04:28,  2.34s/it]"
     ]
    },
    {
     "name": "stdout",
     "output_type": "stream",
     "text": [
      "Exception at row 3707\n",
      "'ascii' codec can't encode character '\\xe9' in position 84: ordinal not in range(128)\n",
      "Exception at row 3802\n",
      "'ascii' codec can't encode character '\\xfa' in position 30: ordinal not in range(128)\n"
     ]
    },
    {
     "name": "stderr",
     "output_type": "stream",
     "text": [
      "Processing row 3842:  70%|███████   | 3834/5456 [18:44<04:39,  5.80it/s]"
     ]
    },
    {
     "name": "stdout",
     "output_type": "stream",
     "text": [
      "Exception at row 3841\n",
      "'ascii' codec can't encode character '\\xe9' in position 42: ordinal not in range(128)\n"
     ]
    },
    {
     "name": "stderr",
     "output_type": "stream",
     "text": [
      "Processing row 3846:  70%|███████   | 3843/5456 [18:47<05:15,  5.11it/s]  "
     ]
    },
    {
     "name": "stdout",
     "output_type": "stream",
     "text": [
      "Exception at row 3844\n",
      "'ascii' codec can't encode character '\\xe9' in position 80: ordinal not in range(128)\n"
     ]
    },
    {
     "name": "stderr",
     "output_type": "stream",
     "text": [
      "Processing row 3722:  68%|██████▊   | 3717/5455 [18:49<06:06,  4.75it/s]"
     ]
    },
    {
     "name": "stdout",
     "output_type": "stream",
     "text": [
      "Exception at row 3720\n",
      "'ascii' codec can't encode character '\\xe8' in position 12: ordinal not in range(128)\n",
      "Exception at row 3721\n",
      "'ascii' codec can't encode character '\\xe8' in position 42: ordinal not in range(128)\n"
     ]
    },
    {
     "name": "stderr",
     "output_type": "stream",
     "text": [
      "Processing row 3851:  71%|███████   | 3851/5456 [18:52<08:08,  3.29it/s]"
     ]
    },
    {
     "name": "stdout",
     "output_type": "stream",
     "text": [
      "Exception at row 3722\n",
      "list index out of range\n",
      "Exception at row 3733\n",
      "'ascii' codec can't encode character '\\xe2' in position 26: ordinal not in range(128)\n"
     ]
    },
    {
     "name": "stderr",
     "output_type": "stream",
     "text": [
      "Processing row 3768:  69%|██████▊   | 3747/5455 [18:53<04:21,  6.53it/s]"
     ]
    },
    {
     "name": "stdout",
     "output_type": "stream",
     "text": [
      "Exception at row 3750\n",
      "'ascii' codec can't encode character '\\xee' in position 52: ordinal not in range(128)\n",
      "Exception at row 3762\n",
      "'ascii' codec can't encode character '\\xf4' in position 31: ordinal not in range(128)\n",
      "Exception at row 3767\n",
      "'ascii' codec can't encode character '\\xe9' in position 12: ordinal not in range(128)\n"
     ]
    },
    {
     "name": "stderr",
     "output_type": "stream",
     "text": [
      "Processing row 4196:  77%|███████▋  | 4193/5456 [18:56<1:11:43,  3.41s/it]"
     ]
    },
    {
     "name": "stdout",
     "output_type": "stream",
     "text": [
      "Exception at row 4194\n",
      "'ascii' codec can't encode character '\\xe0' in position 33: ordinal not in range(128)\n"
     ]
    },
    {
     "name": "stderr",
     "output_type": "stream",
     "text": [
      "Processing row 3864:  71%|███████   | 3863/5456 [18:58<11:14,  2.36it/s]  "
     ]
    },
    {
     "name": "stdout",
     "output_type": "stream",
     "text": [
      "Exception at row 3862\n",
      "list index out of range\n"
     ]
    },
    {
     "name": "stderr",
     "output_type": "stream",
     "text": [
      "Processing row 3831:  70%|██████▉   | 3815/5455 [18:59<02:05, 13.04it/s]"
     ]
    },
    {
     "name": "stdout",
     "output_type": "stream",
     "text": [
      "Exception at row 3786\n",
      "'ascii' codec can't encode character '\\xc4' in position 36: ordinal not in range(128)\n",
      "Exception at row 3787\n",
      "'ascii' codec can't encode character '\\xed' in position 48: ordinal not in range(128)\n",
      "Exception at row 3793\n",
      "'ascii' codec can't encode character '\\xe7' in position 19: ordinal not in range(128)\n",
      "Exception at row 3794\n",
      "'ascii' codec can't encode character '\\xea' in position 35: ordinal not in range(128)\n",
      "Exception at row 3797\n",
      "'ascii' codec can't encode character '\\xe9' in position 14: ordinal not in range(128)\n",
      "Exception at row 3814\n",
      "'ascii' codec can't encode character '\\xfc' in position 25: ordinal not in range(128)\n",
      "Exception at row 3824\n",
      "'ascii' codec can't encode character '\\xf6' in position 74: ordinal not in range(128)\n",
      "Exception at row 3829\n",
      "'ascii' codec can't encode character '\\xe4' in position 34: ordinal not in range(128)\n"
     ]
    },
    {
     "name": "stderr",
     "output_type": "stream",
     "text": [
      "Processing row 4201:  77%|███████▋  | 4200/5456 [19:03<35:30,  1.70s/it]"
     ]
    },
    {
     "name": "stdout",
     "output_type": "stream",
     "text": [
      "Exception at row 3813\n",
      "'ascii' codec can't encode character '\\xf4' in position 78: ordinal not in range(128)\n"
     ]
    },
    {
     "name": "stderr",
     "output_type": "stream",
     "text": [
      "Processing row 3847:  70%|███████   | 3840/5455 [19:11<06:43,  4.00it/s]"
     ]
    },
    {
     "name": "stdout",
     "output_type": "stream",
     "text": [
      "Exception at row 3844\n",
      "'ascii' codec can't encode character '\\xc9' in position 47: ordinal not in range(128)\n"
     ]
    },
    {
     "name": "stderr",
     "output_type": "stream",
     "text": [
      "Processing row 4208:  77%|███████▋  | 4208/5456 [19:17<35:20,  1.70s/it]  "
     ]
    },
    {
     "name": "stdout",
     "output_type": "stream",
     "text": [
      "Exception at row 3818\n",
      "list index out of range\n"
     ]
    },
    {
     "name": "stderr",
     "output_type": "stream",
     "text": [
      "Processing row 3823:  70%|███████   | 3822/5456 [19:21<47:59,  1.76s/it]"
     ]
    },
    {
     "name": "stdout",
     "output_type": "stream",
     "text": [
      "Exception at row 3822\n",
      "'ascii' codec can't encode character '\\xd4' in position 19: ordinal not in range(128)\n"
     ]
    },
    {
     "name": "stderr",
     "output_type": "stream",
     "text": [
      "Processing row 3856:  71%|███████   | 3856/5455 [19:26<14:28,  1.84it/s]  "
     ]
    },
    {
     "name": "stdout",
     "output_type": "stream",
     "text": [
      "Exception at row 3877\n",
      "list index out of range\n"
     ]
    },
    {
     "name": "stderr",
     "output_type": "stream",
     "text": [
      "Processing row 3828:  70%|███████   | 3828/5456 [19:32<53:11,  1.96s/it]"
     ]
    },
    {
     "name": "stdout",
     "output_type": "stream",
     "text": [
      "Exception at row 3857\n",
      "'ascii' codec can't encode character '\\xf4' in position 29: ordinal not in range(128)\n",
      "Exception at row 3858\n",
      "'ascii' codec can't encode character '\\xe9' in position 12: ordinal not in range(128)\n"
     ]
    },
    {
     "name": "stderr",
     "output_type": "stream",
     "text": [
      "Processing row 3879:  71%|███████   | 3879/5456 [19:32<1:23:11,  3.16s/it]"
     ]
    },
    {
     "name": "stdout",
     "output_type": "stream",
     "text": [
      "Exception at row 4214\n",
      "'ascii' codec can't encode character '\\xe8' in position 33: ordinal not in range(128)\n"
     ]
    },
    {
     "name": "stderr",
     "output_type": "stream",
     "text": [
      "Processing row 3864:  71%|███████   | 3864/5455 [19:34<16:31,  1.60it/s]"
     ]
    },
    {
     "name": "stdout",
     "output_type": "stream",
     "text": [
      "Exception at row 3862\n",
      "'ascii' codec can't encode character '\\xe9' in position 12: ordinal not in range(128)\n",
      "Exception at row 3863\n",
      "'ascii' codec can't encode character '\\xe9' in position 12: ordinal not in range(128)\n"
     ]
    },
    {
     "name": "stderr",
     "output_type": "stream",
     "text": [
      "Processing row 4219:  77%|███████▋  | 4216/5456 [19:35<41:30,  2.01s/it]  "
     ]
    },
    {
     "name": "stdout",
     "output_type": "stream",
     "text": [
      "Exception at row 4216\n",
      "'ascii' codec can't encode character '\\xf8' in position 30: ordinal not in range(128)\n"
     ]
    },
    {
     "name": "stderr",
     "output_type": "stream",
     "text": [
      "Processing row 3874:  71%|███████   | 3874/5455 [19:50<32:13,  1.22s/it]t]"
     ]
    },
    {
     "name": "stdout",
     "output_type": "stream",
     "text": [
      "Exception at row 3873\n",
      "list index out of range\n"
     ]
    },
    {
     "name": "stderr",
     "output_type": "stream",
     "text": [
      "Processing row 3838:  70%|███████   | 3838/5456 [19:57<1:03:06,  2.34s/it]"
     ]
    },
    {
     "name": "stdout",
     "output_type": "stream",
     "text": [
      "Exception at row 3888\n",
      "'ascii' codec can't encode character '\\xf4' in position 23: ordinal not in range(128)\n"
     ]
    },
    {
     "name": "stderr",
     "output_type": "stream",
     "text": [
      "Processing row 3880:  71%|███████   | 3880/5455 [20:04<1:02:47,  2.39s/it]"
     ]
    },
    {
     "name": "stdout",
     "output_type": "stream",
     "text": [
      "Exception at row 3842\n",
      "'ascii' codec can't encode character '\\xe6' in position 37: ordinal not in range(128)\n"
     ]
    },
    {
     "name": "stderr",
     "output_type": "stream",
     "text": [
      "Processing row 3892:  71%|███████▏  | 3891/5456 [20:05<1:04:25,  2.47s/it]"
     ]
    },
    {
     "name": "stdout",
     "output_type": "stream",
     "text": [
      "Exception at row 3891\n",
      "'ascii' codec can't encode character '\\xf4' in position 75: ordinal not in range(128)\n"
     ]
    },
    {
     "name": "stderr",
     "output_type": "stream",
     "text": [
      "Processing row 3895:  71%|███████▏  | 3893/5456 [20:07<50:03,  1.92s/it]  "
     ]
    },
    {
     "name": "stdout",
     "output_type": "stream",
     "text": [
      "Exception at row 3894\n",
      "'ascii' codec can't encode character '\\xe4' in position 57: ordinal not in range(128)\n"
     ]
    },
    {
     "name": "stderr",
     "output_type": "stream",
     "text": [
      "Processing row 4232:  78%|███████▊  | 4232/5456 [20:09<45:03,  2.21s/it]  "
     ]
    },
    {
     "name": "stdout",
     "output_type": "stream",
     "text": [
      "Exception at row 3882\n",
      "list index out of range\n"
     ]
    },
    {
     "name": "stderr",
     "output_type": "stream",
     "text": [
      "Processing row 3849:  71%|███████   | 3847/5456 [20:12<47:48,  1.78s/it]"
     ]
    },
    {
     "name": "stdout",
     "output_type": "stream",
     "text": [
      "Exception at row 3847\n",
      "'ascii' codec can't encode character '\\xf3' in position 50: ordinal not in range(128)\n",
      "Exception at row 3848\n",
      "'ascii' codec can't encode character '\\xe9' in position 49: ordinal not in range(128)\n"
     ]
    },
    {
     "name": "stderr",
     "output_type": "stream",
     "text": [
      "Processing row 4238:  78%|███████▊  | 4235/5456 [20:13<36:38,  1.80s/it]"
     ]
    },
    {
     "name": "stdout",
     "output_type": "stream",
     "text": [
      "Exception at row 3885\n",
      "'ascii' codec can't encode character '\\xf4' in position 31: ordinal not in range(128)\n"
     ]
    },
    {
     "name": "stderr",
     "output_type": "stream",
     "text": [
      "Processing row 3850:  71%|███████   | 3850/5456 [20:15<35:59,  1.34s/it]"
     ]
    },
    {
     "name": "stdout",
     "output_type": "stream",
     "text": [
      "Exception at row 3849\n",
      "list index out of range\n"
     ]
    },
    {
     "name": "stderr",
     "output_type": "stream",
     "text": [
      "Processing row 4253:  78%|███████▊  | 4247/5456 [20:26<23:23,  1.16s/it]  "
     ]
    },
    {
     "name": "stdout",
     "output_type": "stream",
     "text": [
      "Exception at row 4246\n",
      "list index out of range\n",
      "Exception at row 4252\n",
      "'ascii' codec can't encode character '\\xed' in position 29: ordinal not in range(128)\n"
     ]
    },
    {
     "name": "stderr",
     "output_type": "stream",
     "text": [
      "Processing row 3906:  72%|███████▏  | 3906/5456 [20:27<49:12,  1.91s/it]"
     ]
    },
    {
     "name": "stdout",
     "output_type": "stream",
     "text": [
      "Exception at row 3855\n",
      "list index out of range\n"
     ]
    },
    {
     "name": "stderr",
     "output_type": "stream",
     "text": [
      "Processing row 3858:  71%|███████   | 3858/5456 [20:28<30:56,  1.16s/it]"
     ]
    },
    {
     "name": "stdout",
     "output_type": "stream",
     "text": [
      "Exception at row 3857\n",
      "list index out of range\n"
     ]
    },
    {
     "name": "stderr",
     "output_type": "stream",
     "text": [
      "Processing row 4272:  78%|███████▊  | 4254/5456 [20:29<14:39,  1.37it/s]"
     ]
    },
    {
     "name": "stdout",
     "output_type": "stream",
     "text": [
      "Exception at row 4253\n",
      "list index out of range\n"
     ]
    },
    {
     "name": "stderr",
     "output_type": "stream",
     "text": [
      "Processing row 4292:  78%|███████▊  | 4273/5456 [20:32<06:52,  2.87it/s]t]"
     ]
    },
    {
     "name": "stdout",
     "output_type": "stream",
     "text": [
      "Exception at row 4280\n",
      "'ascii' codec can't encode character '\\xf4' in position 58: ordinal not in range(128)\n",
      "Exception at row 4288\n",
      "'ascii' codec can't encode character '\\xe8' in position 34: ordinal not in range(128)\n"
     ]
    },
    {
     "name": "stderr",
     "output_type": "stream",
     "text": [
      "Processing row 4305:  79%|███████▊  | 4293/5456 [20:34<04:23,  4.41it/s]"
     ]
    },
    {
     "name": "stdout",
     "output_type": "stream",
     "text": [
      "Exception at row 3894\n",
      "'ascii' codec can't encode character '\\xed' in position 80: ordinal not in range(128)\n",
      "Exception at row 3895\n",
      "'ascii' codec can't encode character '\\xee' in position 56: ordinal not in range(128)\n",
      "Exception at row 3896\n",
      "'ascii' codec can't encode character '\\xc4' in position 24: ordinal not in range(128)\n"
     ]
    },
    {
     "name": "stderr",
     "output_type": "stream",
     "text": [
      "Processing row 3913:  72%|███████▏  | 3912/5456 [20:45<1:06:24,  2.58s/it]"
     ]
    },
    {
     "name": "stdout",
     "output_type": "stream",
     "text": [
      "Exception at row 3912\n",
      "'ascii' codec can't encode character '\\xe4' in position 38: ordinal not in range(128)\n"
     ]
    },
    {
     "name": "stderr",
     "output_type": "stream",
     "text": [
      "Processing row 4407:  80%|████████  | 4391/5456 [20:49<02:07,  8.37it/s]t]"
     ]
    },
    {
     "name": "stdout",
     "output_type": "stream",
     "text": [
      "Exception at row 4390\n",
      "list index out of range\n"
     ]
    },
    {
     "name": "stderr",
     "output_type": "stream",
     "text": [
      "Processing row 3882:  71%|███████   | 3881/5456 [21:18<44:35,  1.70s/it]t]"
     ]
    },
    {
     "name": "stdout",
     "output_type": "stream",
     "text": [
      "Exception at row 3881\n",
      "'ascii' codec can't encode character '\\xe2' in position 104: ordinal not in range(128)\n"
     ]
    },
    {
     "name": "stderr",
     "output_type": "stream",
     "text": [
      "Processing row 4518:  83%|████████▎ | 4517/5456 [21:25<12:44,  1.23it/s]t]"
     ]
    },
    {
     "name": "stdout",
     "output_type": "stream",
     "text": [
      "Exception at row 4517\n",
      "'ascii' codec can't encode character '\\xe9' in position 29: ordinal not in range(128)\n"
     ]
    },
    {
     "name": "stderr",
     "output_type": "stream",
     "text": [
      "Processing row 4522:  83%|████████▎ | 4521/5456 [21:29<14:32,  1.07it/s]  "
     ]
    },
    {
     "name": "stdout",
     "output_type": "stream",
     "text": [
      "Exception at row 4520\n",
      "list index out of range\n"
     ]
    },
    {
     "name": "stderr",
     "output_type": "stream",
     "text": [
      "Processing row 3915:  72%|███████▏  | 3915/5455 [21:32<59:53,  2.33s/it]  "
     ]
    },
    {
     "name": "stdout",
     "output_type": "stream",
     "text": [
      "Exception at row 3914\n",
      "list index out of range\n"
     ]
    },
    {
     "name": "stderr",
     "output_type": "stream",
     "text": [
      "Processing row 3916:  72%|███████▏  | 3916/5455 [21:32<46:30,  1.81s/it]"
     ]
    },
    {
     "name": "stdout",
     "output_type": "stream",
     "text": [
      "Exception at row 3915\n",
      "list index out of range\n"
     ]
    },
    {
     "name": "stderr",
     "output_type": "stream",
     "text": [
      "Processing row 3894:  71%|███████▏  | 3893/5456 [21:37<34:04,  1.31s/it]"
     ]
    },
    {
     "name": "stdout",
     "output_type": "stream",
     "text": [
      "Exception at row 3892\n",
      "list index out of range\n",
      "Exception at row 3893\n",
      "'ascii' codec can't encode character '\\xea' in position 43: ordinal not in range(128)\n"
     ]
    },
    {
     "name": "stderr",
     "output_type": "stream",
     "text": [
      "Processing row 3938:  72%|███████▏  | 3937/5456 [21:38<54:07,  2.14s/it]"
     ]
    },
    {
     "name": "stdout",
     "output_type": "stream",
     "text": [
      "Exception at row 3937\n",
      "'ascii' codec can't encode character '\\xe9' in position 14: ordinal not in range(128)\n"
     ]
    },
    {
     "name": "stderr",
     "output_type": "stream",
     "text": [
      "Processing row 3899:  71%|███████▏  | 3897/5456 [21:45<51:12,  1.97s/it]"
     ]
    },
    {
     "name": "stdout",
     "output_type": "stream",
     "text": [
      "Exception at row 3897\n",
      "'ascii' codec can't encode character '\\xf4' in position 27: ordinal not in range(128)\n"
     ]
    },
    {
     "name": "stderr",
     "output_type": "stream",
     "text": [
      "Processing row 3924:  72%|███████▏  | 3923/5455 [21:46<51:23,  2.01s/it]"
     ]
    },
    {
     "name": "stdout",
     "output_type": "stream",
     "text": [
      "Exception at row 3923\n",
      "'ascii' codec can't encode character '\\xe4' in position 35: ordinal not in range(128)\n"
     ]
    },
    {
     "name": "stderr",
     "output_type": "stream",
     "text": [
      "Processing row 3946:  72%|███████▏  | 3945/5456 [21:54<54:53,  2.18s/it]"
     ]
    },
    {
     "name": "stdout",
     "output_type": "stream",
     "text": [
      "Exception at row 3944\n",
      "list index out of range\n"
     ]
    },
    {
     "name": "stderr",
     "output_type": "stream",
     "text": [
      "Processing row 3905:  72%|███████▏  | 3905/5456 [21:58<48:45,  1.89s/it]t]"
     ]
    },
    {
     "name": "stdout",
     "output_type": "stream",
     "text": [
      "Exception at row 3904\n",
      "list index out of range\n"
     ]
    },
    {
     "name": "stderr",
     "output_type": "stream",
     "text": [
      "Processing row 3956:  73%|███████▎  | 3956/5456 [22:20<1:01:04,  2.44s/it]"
     ]
    },
    {
     "name": "stdout",
     "output_type": "stream",
     "text": [
      "Exception at row 3914\n",
      "'ascii' codec can't encode character '\\xe4' in position 22: ordinal not in range(128)\n"
     ]
    },
    {
     "name": "stderr",
     "output_type": "stream",
     "text": [
      "Processing row 3944:  72%|███████▏  | 3942/5455 [22:25<49:47,  1.97s/it]  "
     ]
    },
    {
     "name": "stdout",
     "output_type": "stream",
     "text": [
      "Exception at row 3942\n",
      "'ascii' codec can't encode character '\\xe9' in position 12: ordinal not in range(128)\n",
      "Exception at row 3943\n",
      "'ascii' codec can't encode character '\\xe9' in position 12: ordinal not in range(128)\n"
     ]
    },
    {
     "name": "stderr",
     "output_type": "stream",
     "text": [
      "Processing row 3925:  72%|███████▏  | 3924/5456 [22:37<49:59,  1.96s/it]"
     ]
    },
    {
     "name": "stdout",
     "output_type": "stream",
     "text": [
      "Exception at row 3924\n",
      "'ascii' codec can't encode character '\\xf4' in position 58: ordinal not in range(128)\n"
     ]
    },
    {
     "name": "stderr",
     "output_type": "stream",
     "text": [
      "Processing row 3970:  73%|███████▎  | 3969/5456 [22:49<57:02,  2.30s/it]  "
     ]
    },
    {
     "name": "stdout",
     "output_type": "stream",
     "text": [
      "Exception at row 3969\n",
      "'ascii' codec can't encode character '\\xe8' in position 48: ordinal not in range(128)\n"
     ]
    },
    {
     "name": "stderr",
     "output_type": "stream",
     "text": [
      "Processing row 4566:  84%|████████▎ | 4566/5456 [22:57<23:48,  1.60s/it]"
     ]
    },
    {
     "name": "stdout",
     "output_type": "stream",
     "text": [
      "Exception at row 4565\n",
      "list index out of range\n"
     ]
    },
    {
     "name": "stderr",
     "output_type": "stream",
     "text": [
      "Processing row 3975:  73%|███████▎  | 3975/5456 [23:00<49:00,  1.99s/it]"
     ]
    },
    {
     "name": "stdout",
     "output_type": "stream",
     "text": [
      "Exception at row 3937\n",
      "'ascii' codec can't encode character '\\xe5' in position 34: ordinal not in range(128)\n"
     ]
    },
    {
     "name": "stderr",
     "output_type": "stream",
     "text": [
      "Processing row 3961:  73%|███████▎  | 3961/5455 [23:03<1:05:35,  2.63s/it]"
     ]
    },
    {
     "name": "stdout",
     "output_type": "stream",
     "text": [
      "Exception at row 3939\n",
      "list index out of range\n"
     ]
    },
    {
     "name": "stderr",
     "output_type": "stream",
     "text": [
      "Processing row 3941:  72%|███████▏  | 3941/5456 [23:05<40:51,  1.62s/it]"
     ]
    },
    {
     "name": "stdout",
     "output_type": "stream",
     "text": [
      "Exception at row 3977\n",
      "list index out of range\n"
     ]
    },
    {
     "name": "stderr",
     "output_type": "stream",
     "text": [
      "Processing row 3943:  72%|███████▏  | 3942/5456 [23:07<43:06,  1.71s/it]t]"
     ]
    },
    {
     "name": "stdout",
     "output_type": "stream",
     "text": [
      "Exception at row 3942\n",
      "'ascii' codec can't encode character '\\xbd' in position 20: ordinal not in range(128)\n"
     ]
    },
    {
     "name": "stderr",
     "output_type": "stream",
     "text": [
      "Processing row 3946:  72%|███████▏  | 3945/5456 [23:11<39:33,  1.57s/it]  "
     ]
    },
    {
     "name": "stdout",
     "output_type": "stream",
     "text": [
      "Exception at row 3945\n",
      "'ascii' codec can't encode character '\\xaa' in position 31: ordinal not in range(128)\n"
     ]
    },
    {
     "name": "stderr",
     "output_type": "stream",
     "text": [
      "Processing row 3967:  73%|███████▎  | 3966/5455 [23:14<51:48,  2.09s/it]"
     ]
    },
    {
     "name": "stdout",
     "output_type": "stream",
     "text": [
      "Exception at row 3966\n",
      "'ascii' codec can't encode character '\\xe5' in position 17: ordinal not in range(128)\n"
     ]
    },
    {
     "name": "stderr",
     "output_type": "stream",
     "text": [
      "Processing row 3961:  73%|███████▎  | 3960/5456 [23:35<43:13,  1.73s/it]"
     ]
    },
    {
     "name": "stdout",
     "output_type": "stream",
     "text": [
      "Exception at row 3959\n",
      "list index out of range\n"
     ]
    },
    {
     "name": "stderr",
     "output_type": "stream",
     "text": [
      "Processing row 3964:  73%|███████▎  | 3964/5456 [23:39<31:44,  1.28s/it]"
     ]
    },
    {
     "name": "stdout",
     "output_type": "stream",
     "text": [
      "Exception at row 4588\n",
      "list index out of range\n"
     ]
    },
    {
     "name": "stderr",
     "output_type": "stream",
     "text": [
      "Processing row 3971:  73%|███████▎  | 3971/5456 [23:49<27:05,  1.09s/it]"
     ]
    },
    {
     "name": "stdout",
     "output_type": "stream",
     "text": [
      "Exception at row 3983\n",
      "list index out of range\n"
     ]
    },
    {
     "name": "stderr",
     "output_type": "stream",
     "text": [
      "Processing row 3973:  73%|███████▎  | 3972/5456 [23:51<30:55,  1.25s/it]"
     ]
    },
    {
     "name": "stdout",
     "output_type": "stream",
     "text": [
      "Exception at row 3972\n",
      "'ascii' codec can't encode character '\\xe8' in position 57: ordinal not in range(128)\n"
     ]
    },
    {
     "name": "stderr",
     "output_type": "stream",
     "text": [
      "Processing row 4004:  73%|███████▎  | 4002/5456 [23:55<50:36,  2.09s/it]"
     ]
    },
    {
     "name": "stdout",
     "output_type": "stream",
     "text": [
      "Exception at row 4002\n",
      "'ascii' codec can't encode character '\\xe4' in position 35: ordinal not in range(128)\n",
      "Exception at row 4003\n",
      "'ascii' codec can't encode character '\\xe4' in position 19: ordinal not in range(128)\n"
     ]
    },
    {
     "name": "stderr",
     "output_type": "stream",
     "text": [
      "Processing row 4597:  84%|████████▍ | 4597/5456 [23:56<29:37,  2.07s/it]"
     ]
    },
    {
     "name": "stdout",
     "output_type": "stream",
     "text": [
      "Exception at row 3987\n",
      "'ascii' codec can't encode character '\\xe1' in position 13: ordinal not in range(128)\n"
     ]
    },
    {
     "name": "stderr",
     "output_type": "stream",
     "text": [
      "Processing row 3978:  73%|███████▎  | 3977/5456 [23:59<40:17,  1.63s/it]"
     ]
    },
    {
     "name": "stdout",
     "output_type": "stream",
     "text": [
      "Exception at row 3976\n",
      "list index out of range\n"
     ]
    },
    {
     "name": "stderr",
     "output_type": "stream",
     "text": [
      "Processing row 3988:  73%|███████▎  | 3982/5456 [24:07<37:41,  1.53s/it]"
     ]
    },
    {
     "name": "stdout",
     "output_type": "stream",
     "text": [
      "Exception at row 3985\n",
      "'ascii' codec can't encode character '\\xf8' in position 32: ordinal not in range(128)\n",
      "Exception at row 3986\n",
      "'ascii' codec can't encode character '\\xe4' in position 31: ordinal not in range(128)\n"
     ]
    },
    {
     "name": "stderr",
     "output_type": "stream",
     "text": [
      "Processing row 3992:  73%|███████▎  | 3989/5456 [24:08<16:14,  1.51it/s]"
     ]
    },
    {
     "name": "stdout",
     "output_type": "stream",
     "text": [
      "Exception at row 3989\n",
      "'ascii' codec can't encode character '\\xe7' in position 58: ordinal not in range(128)\n"
     ]
    },
    {
     "name": "stderr",
     "output_type": "stream",
     "text": [
      "Processing row 4012:  74%|███████▎  | 4012/5456 [24:11<46:53,  1.95s/it]"
     ]
    },
    {
     "name": "stdout",
     "output_type": "stream",
     "text": [
      "Exception at row 3994\n",
      "list index out of range\n"
     ]
    },
    {
     "name": "stderr",
     "output_type": "stream",
     "text": [
      "Processing row 4014:  73%|███████▎  | 4001/5456 [24:16<15:31,  1.56it/s]"
     ]
    },
    {
     "name": "stdout",
     "output_type": "stream",
     "text": [
      "Exception at row 4003\n",
      "'ascii' codec can't encode character '\\xe9' in position 45: ordinal not in range(128)\n"
     ]
    },
    {
     "name": "stderr",
     "output_type": "stream",
     "text": [
      "Processing row 4607:  84%|████████▍ | 4607/5456 [24:17<33:06,  2.34s/it]"
     ]
    },
    {
     "name": "stdout",
     "output_type": "stream",
     "text": [
      "Exception at row 4015\n",
      "'ascii' codec can't encode character '\\xf3' in position 35: ordinal not in range(128)\n"
     ]
    },
    {
     "name": "stderr",
     "output_type": "stream",
     "text": [
      "Processing row 4018:  74%|███████▎  | 4017/5456 [24:20<39:41,  1.66s/it]"
     ]
    },
    {
     "name": "stdout",
     "output_type": "stream",
     "text": [
      "Exception at row 4017\n",
      "'ascii' codec can't encode character '\\xb2' in position 14: ordinal not in range(128)\n"
     ]
    },
    {
     "name": "stderr",
     "output_type": "stream",
     "text": [
      "Processing row 4045:  74%|███████▎  | 4016/5456 [24:21<10:57,  2.19it/s]"
     ]
    },
    {
     "name": "stdout",
     "output_type": "stream",
     "text": [
      "Exception at row 4025\n",
      "'ascii' codec can't encode character '\\xe5' in position 31: ordinal not in range(128)\n"
     ]
    },
    {
     "name": "stderr",
     "output_type": "stream",
     "text": [
      "Processing row 4097:  75%|███████▍  | 4078/5456 [24:28<04:31,  5.07it/s]"
     ]
    },
    {
     "name": "stdout",
     "output_type": "stream",
     "text": [
      "Exception at row 4075\n",
      "'ascii' codec can't encode character '\\xe5' in position 30: ordinal not in range(128)\n",
      "Exception at row 4076\n",
      "'ascii' codec can't encode character '\\xfc' in position 21: ordinal not in range(128)\n",
      "Exception at row 4097\n",
      "'ascii' codec can't encode character '\\xe4' in position 31: ordinal not in range(128)\n"
     ]
    },
    {
     "name": "stderr",
     "output_type": "stream",
     "text": [
      "Processing row 4125:  75%|███████▌  | 4099/5456 [24:36<06:54,  3.27it/s]  "
     ]
    },
    {
     "name": "stdout",
     "output_type": "stream",
     "text": [
      "Exception at row 4117\n",
      "'ascii' codec can't encode character '\\xf4' in position 20: ordinal not in range(128)\n"
     ]
    },
    {
     "name": "stderr",
     "output_type": "stream",
     "text": [
      "Processing row 4006:  73%|███████▎  | 4006/5455 [24:36<56:38,  2.35s/it]"
     ]
    },
    {
     "name": "stdout",
     "output_type": "stream",
     "text": [
      "Exception at row 4615\n",
      "list index out of range\n"
     ]
    },
    {
     "name": "stderr",
     "output_type": "stream",
     "text": [
      "Processing row 4028:  74%|███████▍  | 4028/5456 [24:39<38:42,  1.63s/it]"
     ]
    },
    {
     "name": "stdout",
     "output_type": "stream",
     "text": [
      "Exception at row 4027\n",
      "list index out of range\n"
     ]
    },
    {
     "name": "stderr",
     "output_type": "stream",
     "text": [
      "Processing row 4164:  76%|███████▌  | 4158/5456 [24:46<05:18,  4.08it/s]"
     ]
    },
    {
     "name": "stdout",
     "output_type": "stream",
     "text": [
      "Exception at row 4157\n",
      "list index out of range\n"
     ]
    },
    {
     "name": "stderr",
     "output_type": "stream",
     "text": [
      "Processing row 4188:  77%|███████▋  | 4175/5456 [24:57<09:19,  2.29it/s]  "
     ]
    },
    {
     "name": "stdout",
     "output_type": "stream",
     "text": [
      "Exception at row 4174\n",
      "list index out of range\n",
      "Exception at row 4179\n",
      "'ascii' codec can't encode character '\\xfb' in position 30: ordinal not in range(128)\n",
      "Exception at row 4182\n",
      "'ascii' codec can't encode character '\\xfc' in position 21: ordinal not in range(128)\n"
     ]
    },
    {
     "name": "stderr",
     "output_type": "stream",
     "text": [
      "Processing row 4018:  74%|███████▎  | 4017/5455 [25:02<56:19,  2.35s/it]t]"
     ]
    },
    {
     "name": "stdout",
     "output_type": "stream",
     "text": [
      "Exception at row 4189\n",
      "list index out of range\n",
      "Exception at row 4017\n",
      "'ascii' codec can't encode character '\\xe4' in position 13: ordinal not in range(128)\n"
     ]
    },
    {
     "name": "stderr",
     "output_type": "stream",
     "text": [
      "Processing row 4207:  77%|███████▋  | 4198/5456 [25:11<15:49,  1.33it/s]  "
     ]
    },
    {
     "name": "stdout",
     "output_type": "stream",
     "text": [
      "Exception at row 4202\n",
      "'ascii' codec can't encode character '\\xee' in position 28: ordinal not in range(128)\n",
      "Exception at row 4203\n",
      "'ascii' codec can't encode character '\\xe9' in position 34: ordinal not in range(128)\n",
      "Exception at row 4205\n",
      "'ascii' codec can't encode character '\\xe5' in position 41: ordinal not in range(128)\n",
      "Exception at row 4206\n",
      "'ascii' codec can't encode character '\\xe5' in position 28: ordinal not in range(128)\n"
     ]
    },
    {
     "name": "stderr",
     "output_type": "stream",
     "text": [
      "Processing row 4242:  77%|███████▋  | 4216/5456 [25:17<09:44,  2.12it/s]t]"
     ]
    },
    {
     "name": "stdout",
     "output_type": "stream",
     "text": [
      "Exception at row 4232\n",
      "'ascii' codec can't encode character '\\xe9' in position 16: ordinal not in range(128)\n",
      "Exception at row 4240\n",
      "'ascii' codec can't encode character '\\xdf' in position 34: ordinal not in range(128)\n"
     ]
    },
    {
     "name": "stderr",
     "output_type": "stream",
     "text": [
      "Processing row 4249:  78%|███████▊  | 4243/5456 [25:19<04:26,  4.56it/s]t]"
     ]
    },
    {
     "name": "stdout",
     "output_type": "stream",
     "text": [
      "Exception at row 4242\n",
      "list index out of range\n"
     ]
    },
    {
     "name": "stderr",
     "output_type": "stream",
     "text": [
      "Processing row 4270:  78%|███████▊  | 4250/5456 [25:21<04:45,  4.22it/s]  "
     ]
    },
    {
     "name": "stdout",
     "output_type": "stream",
     "text": [
      "Exception at row 4262\n",
      "'ascii' codec can't encode character '\\xe4' in position 57: ordinal not in range(128)\n"
     ]
    },
    {
     "name": "stderr",
     "output_type": "stream",
     "text": [
      "Processing row 4290:  78%|███████▊  | 4275/5456 [25:25<04:10,  4.71it/s]t]"
     ]
    },
    {
     "name": "stdout",
     "output_type": "stream",
     "text": [
      "Exception at row 4288\n",
      "'ascii' codec can't encode character '\\xe5' in position 42: ordinal not in range(128)\n"
     ]
    },
    {
     "name": "stderr",
     "output_type": "stream",
     "text": [
      "Processing row 4306:  79%|███████▊  | 4291/5456 [25:26<02:49,  6.87it/s]"
     ]
    },
    {
     "name": "stdout",
     "output_type": "stream",
     "text": [
      "Exception at row 4290\n",
      "list index out of range\n",
      "Exception at row 4291\n",
      "'ascii' codec can't encode character '\\xee' in position 23: ordinal not in range(128)\n",
      "Exception at row 4304\n",
      "'ascii' codec can't encode character '\\xe2' in position 38: ordinal not in range(128)\n"
     ]
    },
    {
     "name": "stderr",
     "output_type": "stream",
     "text": [
      "Processing row 4321:  79%|███████▉  | 4309/5456 [25:28<02:38,  7.25it/s]  "
     ]
    },
    {
     "name": "stdout",
     "output_type": "stream",
     "text": [
      "Exception at row 4313\n",
      "'ascii' codec can't encode character '\\xdf' in position 33: ordinal not in range(128)\n"
     ]
    },
    {
     "name": "stderr",
     "output_type": "stream",
     "text": [
      "Processing row 4640:  85%|████████▌ | 4640/5456 [25:31<22:40,  1.67s/it]"
     ]
    },
    {
     "name": "stdout",
     "output_type": "stream",
     "text": [
      "Exception at row 4639\n",
      "list index out of range\n"
     ]
    },
    {
     "name": "stderr",
     "output_type": "stream",
     "text": [
      "Processing row 4030:  74%|███████▍  | 4029/5455 [25:31<59:28,  2.50s/it]"
     ]
    },
    {
     "name": "stdout",
     "output_type": "stream",
     "text": [
      "Exception at row 4029\n",
      "'ascii' codec can't encode character '\\xe9' in position 47: ordinal not in range(128)\n"
     ]
    },
    {
     "name": "stderr",
     "output_type": "stream",
     "text": [
      "Processing row 4052:  74%|███████▍  | 4052/5456 [25:35<37:04,  1.58s/it]"
     ]
    },
    {
     "name": "stdout",
     "output_type": "stream",
     "text": [
      "Exception at row 4051\n",
      "list index out of range\n"
     ]
    },
    {
     "name": "stderr",
     "output_type": "stream",
     "text": [
      "Processing row 4339:  79%|███████▉  | 4337/5456 [25:40<09:20,  2.00it/s]"
     ]
    },
    {
     "name": "stdout",
     "output_type": "stream",
     "text": [
      "Exception at row 4338\n",
      "'ascii' codec can't encode character '\\xe9' in position 19: ordinal not in range(128)\n"
     ]
    },
    {
     "name": "stderr",
     "output_type": "stream",
     "text": [
      "Processing row 4646:  85%|████████▌ | 4646/5456 [25:42<23:24,  1.73s/it]"
     ]
    },
    {
     "name": "stdout",
     "output_type": "stream",
     "text": [
      "Exception at row 4645\n",
      "list index out of range\n"
     ]
    },
    {
     "name": "stderr",
     "output_type": "stream",
     "text": [
      "Processing row 4040:  74%|███████▍  | 4039/5455 [25:48<47:36,  2.02s/it]  "
     ]
    },
    {
     "name": "stdout",
     "output_type": "stream",
     "text": [
      "Exception at row 4039\n",
      "'ascii' codec can't encode character '\\xf3' in position 45: ordinal not in range(128)\n"
     ]
    },
    {
     "name": "stderr",
     "output_type": "stream",
     "text": [
      "Processing row 4042:  74%|███████▍  | 4042/5455 [25:52<38:20,  1.63s/it]"
     ]
    },
    {
     "name": "stdout",
     "output_type": "stream",
     "text": [
      "Exception at row 4059\n",
      "list index out of range\n"
     ]
    },
    {
     "name": "stderr",
     "output_type": "stream",
     "text": [
      "Processing row 4045:  74%|███████▍  | 4044/5455 [25:57<44:36,  1.90s/it]"
     ]
    },
    {
     "name": "stdout",
     "output_type": "stream",
     "text": [
      "Exception at row 4044\n",
      "'ascii' codec can't encode character '\\xea' in position 36: ordinal not in range(128)\n"
     ]
    },
    {
     "name": "stderr",
     "output_type": "stream",
     "text": [
      "Processing row 4353:  80%|███████▉  | 4352/5456 [25:57<22:52,  1.24s/it]"
     ]
    },
    {
     "name": "stdout",
     "output_type": "stream",
     "text": [
      "Exception at row 4352\n",
      "'ascii' codec can't encode character '\\xe5' in position 31: ordinal not in range(128)\n"
     ]
    },
    {
     "name": "stderr",
     "output_type": "stream",
     "text": [
      "Processing row 4064:  74%|███████▍  | 4064/5456 [25:58<32:22,  1.40s/it]"
     ]
    },
    {
     "name": "stdout",
     "output_type": "stream",
     "text": [
      "Exception at row 4063\n",
      "list index out of range\n"
     ]
    },
    {
     "name": "stderr",
     "output_type": "stream",
     "text": [
      "Processing row 4357:  80%|███████▉  | 4354/5456 [25:59<22:03,  1.20s/it]"
     ]
    },
    {
     "name": "stdout",
     "output_type": "stream",
     "text": [
      "Exception at row 4356\n",
      "'ascii' codec can't encode character '\\xe1' in position 45: ordinal not in range(128)\n"
     ]
    },
    {
     "name": "stderr",
     "output_type": "stream",
     "text": [
      "Processing row 4068:  75%|███████▍  | 4067/5456 [26:04<40:11,  1.74s/it]"
     ]
    },
    {
     "name": "stdout",
     "output_type": "stream",
     "text": [
      "Exception at row 4067\n",
      "'ascii' codec can't encode character '\\xe4' in position 29: ordinal not in range(128)\n"
     ]
    },
    {
     "name": "stderr",
     "output_type": "stream",
     "text": [
      "Processing row 4050:  74%|███████▍  | 4049/5455 [26:04<40:21,  1.72s/it]"
     ]
    },
    {
     "name": "stdout",
     "output_type": "stream",
     "text": [
      "Exception at row 4049\n",
      "'ascii' codec can't encode character '\\xe9' in position 12: ordinal not in range(128)\n"
     ]
    },
    {
     "name": "stderr",
     "output_type": "stream",
     "text": [
      "Processing row 4070:  75%|███████▍  | 4069/5456 [26:05<31:46,  1.37s/it]"
     ]
    },
    {
     "name": "stdout",
     "output_type": "stream",
     "text": [
      "Exception at row 4069\n",
      "'ascii' codec can't encode character '\\xe4' in position 52: ordinal not in range(128)\n"
     ]
    },
    {
     "name": "stderr",
     "output_type": "stream",
     "text": [
      "Processing row 4072:  75%|███████▍  | 4071/5456 [26:07<28:21,  1.23s/it]"
     ]
    },
    {
     "name": "stdout",
     "output_type": "stream",
     "text": [
      "Exception at row 4071\n",
      "'ascii' codec can't encode character '\\xe4' in position 22: ordinal not in range(128)\n"
     ]
    },
    {
     "name": "stderr",
     "output_type": "stream",
     "text": [
      "Processing row 4057:  74%|███████▍  | 4057/5455 [26:17<37:01,  1.59s/it]"
     ]
    },
    {
     "name": "stdout",
     "output_type": "stream",
     "text": [
      "Exception at row 4056\n",
      "list index out of range\n"
     ]
    },
    {
     "name": "stderr",
     "output_type": "stream",
     "text": [
      "Processing row 4084:  75%|███████▍  | 4083/5456 [26:21<29:01,  1.27s/it]"
     ]
    },
    {
     "name": "stdout",
     "output_type": "stream",
     "text": [
      "Exception at row 4082\n",
      "list index out of range\n"
     ]
    },
    {
     "name": "stderr",
     "output_type": "stream",
     "text": [
      "Processing row 4063:  74%|███████▍  | 4062/5455 [26:26<42:10,  1.82s/it]"
     ]
    },
    {
     "name": "stdout",
     "output_type": "stream",
     "text": [
      "Exception at row 4062\n",
      "'ascii' codec can't encode character '\\xfb' in position 34: ordinal not in range(128)\n"
     ]
    },
    {
     "name": "stderr",
     "output_type": "stream",
     "text": [
      "Processing row 4090:  75%|███████▍  | 4088/5456 [26:27<29:21,  1.29s/it]"
     ]
    },
    {
     "name": "stdout",
     "output_type": "stream",
     "text": [
      "Exception at row 4669\n",
      "list index out of range\n"
     ]
    },
    {
     "name": "stderr",
     "output_type": "stream",
     "text": [
      "Processing row 4104:  75%|███████▌  | 4093/5456 [26:31<22:26,  1.01it/s]"
     ]
    },
    {
     "name": "stdout",
     "output_type": "stream",
     "text": [
      "Exception at row 4095\n",
      "'ascii' codec can't encode character '\\xea' in position 39: ordinal not in range(128)\n"
     ]
    },
    {
     "name": "stderr",
     "output_type": "stream",
     "text": [
      "Processing row 4673:  86%|████████▌ | 4673/5456 [26:33<24:59,  1.91s/it]"
     ]
    },
    {
     "name": "stdout",
     "output_type": "stream",
     "text": [
      "Exception at row 4107\n",
      "'ascii' codec can't encode character '\\xe9' in position 19: ordinal not in range(128)\n",
      "Exception at row 4129\n",
      "'ascii' codec can't encode character '\\xe8' in position 34: ordinal not in range(128)\n"
     ]
    },
    {
     "name": "stderr",
     "output_type": "stream",
     "text": [
      "Processing row 4151:  76%|███████▌  | 4136/5456 [26:35<03:28,  6.32it/s]"
     ]
    },
    {
     "name": "stdout",
     "output_type": "stream",
     "text": [
      "Exception at row 4137\n",
      "'ascii' codec can't encode character '\\xfb' in position 20: ordinal not in range(128)\n",
      "Exception at row 4138\n",
      "'ascii' codec can't encode character '\\xfc' in position 34: ordinal not in range(128)\n",
      "Exception at row 4140\n",
      "'ascii' codec can't encode character '\\xe0' in position 26: ordinal not in range(128)\n",
      "Exception at row 4143\n",
      "'ascii' codec can't encode character '\\xe9' in position 15: ordinal not in range(128)\n"
     ]
    },
    {
     "name": "stderr",
     "output_type": "stream",
     "text": [
      "Processing row 4070:  75%|███████▍  | 4070/5455 [26:39<35:41,  1.55s/it]"
     ]
    },
    {
     "name": "stdout",
     "output_type": "stream",
     "text": [
      "Exception at row 4069\n",
      "list index out of range\n"
     ]
    },
    {
     "name": "stderr",
     "output_type": "stream",
     "text": [
      "Processing row 4186:  76%|███████▋  | 4162/5456 [26:40<03:36,  5.98it/s]"
     ]
    },
    {
     "name": "stdout",
     "output_type": "stream",
     "text": [
      "Exception at row 4164\n",
      "'ascii' codec can't encode character '\\xe4' in position 52: ordinal not in range(128)\n",
      "Exception at row 4184\n",
      "'ascii' codec can't encode character '\\xf3' in position 86: ordinal not in range(128)\n"
     ]
    },
    {
     "name": "stderr",
     "output_type": "stream",
     "text": [
      "Processing row 4201:  77%|███████▋  | 4187/5456 [26:42<02:47,  7.55it/s]"
     ]
    },
    {
     "name": "stdout",
     "output_type": "stream",
     "text": [
      "Exception at row 4199\n",
      "'ascii' codec can't encode character '\\xe1' in position 22: ordinal not in range(128)\n"
     ]
    },
    {
     "name": "stderr",
     "output_type": "stream",
     "text": [
      "Processing row 4382:  80%|████████  | 4380/5456 [26:46<45:46,  2.55s/it]"
     ]
    },
    {
     "name": "stdout",
     "output_type": "stream",
     "text": [
      "Exception at row 4380\n",
      "'ascii' codec can't encode character '\\xc9' in position 32: ordinal not in range(128)\n",
      "Exception at row 4381\n",
      "'ascii' codec can't encode character '\\xe3' in position 30: ordinal not in range(128)\n"
     ]
    },
    {
     "name": "stderr",
     "output_type": "stream",
     "text": [
      "Processing row 4267:  78%|███████▊  | 4231/5456 [26:54<06:09,  3.31it/s]t]"
     ]
    },
    {
     "name": "stdout",
     "output_type": "stream",
     "text": [
      "Exception at row 4250\n",
      "'ascii' codec can't encode character '\\xea' in position 25: ordinal not in range(128)\n",
      "Exception at row 4254\n",
      "'ascii' codec can't encode character '\\xe4' in position 33: ordinal not in range(128)\n",
      "Exception at row 4259\n",
      "'ascii' codec can't encode character '\\xb7' in position 42: ordinal not in range(128)\n"
     ]
    },
    {
     "name": "stderr",
     "output_type": "stream",
     "text": [
      "Processing row 4282:  78%|███████▊  | 4268/5456 [26:56<02:45,  7.20it/s]t]"
     ]
    },
    {
     "name": "stdout",
     "output_type": "stream",
     "text": [
      "Exception at row 4075\n",
      "'ascii' codec can't encode character '\\xf6' in position 30: ordinal not in range(128)\n",
      "Exception at row 4279\n",
      "'ascii' codec can't encode character '\\xf4' in position 30: ordinal not in range(128)\n"
     ]
    },
    {
     "name": "stderr",
     "output_type": "stream",
     "text": [
      "Processing row 4300:  79%|███████▊  | 4283/5456 [26:58<02:41,  7.25it/s]  "
     ]
    },
    {
     "name": "stdout",
     "output_type": "stream",
     "text": [
      "Exception at row 4288\n",
      "'ascii' codec can't encode character '\\xf4' in position 74: ordinal not in range(128)\n"
     ]
    },
    {
     "name": "stderr",
     "output_type": "stream",
     "text": [
      "Processing row 4079:  75%|███████▍  | 4078/5455 [27:00<47:19,  2.06s/it]"
     ]
    },
    {
     "name": "stdout",
     "output_type": "stream",
     "text": [
      "Exception at row 4078\n",
      "'ascii' codec can't encode character '\\xe8' in position 30: ordinal not in range(128)\n"
     ]
    },
    {
     "name": "stderr",
     "output_type": "stream",
     "text": [
      "Processing row 4312:  79%|███████▉  | 4306/5456 [27:02<03:06,  6.17it/s]"
     ]
    },
    {
     "name": "stdout",
     "output_type": "stream",
     "text": [
      "Exception at row 4305\n",
      "list index out of range\n",
      "Exception at row 4309\n",
      "'ascii' codec can't encode character '\\xe5' in position 39: ordinal not in range(128)\n"
     ]
    },
    {
     "name": "stderr",
     "output_type": "stream",
     "text": [
      "Processing row 4319:  79%|███████▉  | 4313/5456 [27:04<03:32,  5.37it/s]"
     ]
    },
    {
     "name": "stdout",
     "output_type": "stream",
     "text": [
      "Exception at row 4316\n",
      "'ascii' codec can't encode character '\\xe2' in position 27: ordinal not in range(128)\n"
     ]
    },
    {
     "name": "stderr",
     "output_type": "stream",
     "text": [
      "Processing row 4391:  80%|████████  | 4391/5456 [27:09<35:17,  1.99s/it]"
     ]
    },
    {
     "name": "stdout",
     "output_type": "stream",
     "text": [
      "Exception at row 4328\n",
      "'ascii' codec can't encode character '\\xee' in position 25: ordinal not in range(128)\n",
      "Exception at row 4330\n",
      "'ascii' codec can't encode character '\\xf3' in position 52: ordinal not in range(128)\n",
      "Exception at row 4390\n",
      "list index out of range\n"
     ]
    },
    {
     "name": "stderr",
     "output_type": "stream",
     "text": [
      "Processing row 4393:  81%|████████  | 4393/5456 [27:12<27:35,  1.56s/it]"
     ]
    },
    {
     "name": "stdout",
     "output_type": "stream",
     "text": [
      "Exception at row 4392\n",
      "list index out of range\n"
     ]
    },
    {
     "name": "stderr",
     "output_type": "stream",
     "text": [
      "Processing row 4395:  81%|████████  | 4394/5456 [27:14<31:18,  1.77s/it]t]"
     ]
    },
    {
     "name": "stdout",
     "output_type": "stream",
     "text": [
      "Exception at row 4394\n",
      "'ascii' codec can't encode character '\\xf3' in position 23: ordinal not in range(128)\n"
     ]
    },
    {
     "name": "stderr",
     "output_type": "stream",
     "text": [
      "Processing row 4374:  80%|███████▉  | 4345/5456 [27:17<07:09,  2.59it/s]t]"
     ]
    },
    {
     "name": "stdout",
     "output_type": "stream",
     "text": [
      "Exception at row 4352\n",
      "'ascii' codec can't encode character '\\xf8' in position 27: ordinal not in range(128)\n",
      "Exception at row 4354\n",
      "'ascii' codec can't encode character '\\xf4' in position 28: ordinal not in range(128)\n",
      "Exception at row 4369\n",
      "'ascii' codec can't encode character '\\xe9' in position 19: ordinal not in range(128)\n",
      "Exception at row 4372\n",
      "'ascii' codec can't encode character '\\xe2' in position 29: ordinal not in range(128)\n",
      "Exception at row 4373\n",
      "'ascii' codec can't encode character '\\xe4' in position 29: ordinal not in range(128)\n"
     ]
    },
    {
     "name": "stderr",
     "output_type": "stream",
     "text": [
      "Processing row 4088:  75%|███████▍  | 4088/5455 [27:20<36:20,  1.60s/it]  "
     ]
    },
    {
     "name": "stdout",
     "output_type": "stream",
     "text": [
      "Exception at row 4397\n",
      "'ascii' codec can't encode character '\\xe9' in position 68: ordinal not in range(128)\n"
     ]
    },
    {
     "name": "stderr",
     "output_type": "stream",
     "text": [
      "Processing row 4089:  75%|███████▍  | 4089/5455 [27:22<38:23,  1.69s/it]"
     ]
    },
    {
     "name": "stdout",
     "output_type": "stream",
     "text": [
      "Exception at row 4399\n",
      "'ascii' codec can't encode character '\\xf4' in position 36: ordinal not in range(128)\n"
     ]
    },
    {
     "name": "stderr",
     "output_type": "stream",
     "text": [
      "Processing row 4091:  75%|███████▍  | 4090/5455 [27:25<47:15,  2.08s/it]"
     ]
    },
    {
     "name": "stdout",
     "output_type": "stream",
     "text": [
      "Exception at row 4090\n",
      "'ascii' codec can't encode character '\\xe9' in position 10: ordinal not in range(128)\n"
     ]
    },
    {
     "name": "stderr",
     "output_type": "stream",
     "text": [
      "Processing row 4452:  81%|████████▏ | 4441/5456 [27:41<03:20,  5.06it/s]"
     ]
    },
    {
     "name": "stdout",
     "output_type": "stream",
     "text": [
      "Exception at row 4416\n",
      "'ascii' codec can't encode character '\\xec' in position 13: ordinal not in range(128)\n",
      "Exception at row 4418\n",
      "'ascii' codec can't encode character '\\xc0' in position 42: ordinal not in range(128)\n",
      "Exception at row 4422\n",
      "'ascii' codec can't encode character '\\xf4' in position 24: ordinal not in range(128)\n"
     ]
    },
    {
     "name": "stderr",
     "output_type": "stream",
     "text": [
      "Processing row 4463:  82%|████████▏ | 4460/5456 [27:52<05:51,  2.84it/s]t]"
     ]
    },
    {
     "name": "stdout",
     "output_type": "stream",
     "text": [
      "Exception at row 4412\n",
      "'ascii' codec can't encode character '\\xe4' in position 50: ordinal not in range(128)\n"
     ]
    },
    {
     "name": "stderr",
     "output_type": "stream",
     "text": [
      "Processing row 4414:  81%|████████  | 4414/5456 [27:55<34:31,  1.99s/it]  "
     ]
    },
    {
     "name": "stdout",
     "output_type": "stream",
     "text": [
      "Exception at row 4100\n",
      "list index out of range\n"
     ]
    },
    {
     "name": "stderr",
     "output_type": "stream",
     "text": [
      "Processing row 4719:  86%|████████▋ | 4719/5456 [28:16<21:37,  1.76s/it]"
     ]
    },
    {
     "name": "stdout",
     "output_type": "stream",
     "text": [
      "Exception at row 4718\n",
      "list index out of range\n"
     ]
    },
    {
     "name": "stderr",
     "output_type": "stream",
     "text": [
      "Processing row 4477:  82%|████████▏ | 4477/5456 [28:21<22:22,  1.37s/it]"
     ]
    },
    {
     "name": "stdout",
     "output_type": "stream",
     "text": [
      "Exception at row 4116\n",
      "'ascii' codec can't encode character '\\xe2' in position 45: ordinal not in range(128)\n"
     ]
    },
    {
     "name": "stderr",
     "output_type": "stream",
     "text": [
      "Processing row 4123:  76%|███████▌  | 4123/5455 [28:27<30:40,  1.38s/it]"
     ]
    },
    {
     "name": "stdout",
     "output_type": "stream",
     "text": [
      "Exception at row 4724\n",
      "list index out of range\n"
     ]
    },
    {
     "name": "stderr",
     "output_type": "stream",
     "text": [
      "Processing row 4126:  76%|███████▌  | 4124/5455 [28:28<28:31,  1.29s/it]"
     ]
    },
    {
     "name": "stdout",
     "output_type": "stream",
     "text": [
      "Exception at row 4123\n",
      "list index out of range\n"
     ]
    },
    {
     "name": "stderr",
     "output_type": "stream",
     "text": [
      "Processing row 4429:  81%|████████  | 4428/5456 [28:29<29:50,  1.74s/it]"
     ]
    },
    {
     "name": "stdout",
     "output_type": "stream",
     "text": [
      "Exception at row 4427\n",
      "list index out of range\n",
      "Exception at row 4428\n",
      "'ascii' codec can't encode character '\\xe1' in position 35: ordinal not in range(128)\n"
     ]
    },
    {
     "name": "stderr",
     "output_type": "stream",
     "text": [
      "Processing row 4730:  87%|████████▋ | 4726/5456 [28:30<21:52,  1.80s/it]"
     ]
    },
    {
     "name": "stdout",
     "output_type": "stream",
     "text": [
      "Exception at row 4729\n",
      "'ascii' codec can't encode character '\\xe9' in position 23: ordinal not in range(128)\n"
     ]
    },
    {
     "name": "stderr",
     "output_type": "stream",
     "text": [
      "Processing row 4731:  87%|████████▋ | 4731/5456 [28:30<09:25,  1.28it/s]"
     ]
    },
    {
     "name": "stdout",
     "output_type": "stream",
     "text": [
      "Exception at row 4730\n",
      "list index out of range\n"
     ]
    },
    {
     "name": "stderr",
     "output_type": "stream",
     "text": [
      "Processing row 4129:  76%|███████▌  | 4127/5455 [28:31<23:28,  1.06s/it]"
     ]
    },
    {
     "name": "stdout",
     "output_type": "stream",
     "text": [
      "Exception at row 4128\n",
      "'ascii' codec can't encode character '\\xf4' in position 25: ordinal not in range(128)\n"
     ]
    },
    {
     "name": "stderr",
     "output_type": "stream",
     "text": [
      "Processing row 4165:  76%|███████▌  | 4139/5455 [28:37<12:49,  1.71it/s]"
     ]
    },
    {
     "name": "stdout",
     "output_type": "stream",
     "text": [
      "Exception at row 4140\n",
      "'ascii' codec can't encode character '\\xf3' in position 13: ordinal not in range(128)\n",
      "Exception at row 4153\n",
      "'ascii' codec can't encode character '\\xe7' in position 17: ordinal not in range(128)\n"
     ]
    },
    {
     "name": "stderr",
     "output_type": "stream",
     "text": [
      "Processing row 4168:  76%|███████▋  | 4166/5455 [28:39<03:49,  5.62it/s]"
     ]
    },
    {
     "name": "stdout",
     "output_type": "stream",
     "text": [
      "Exception at row 4165\n",
      "list index out of range\n"
     ]
    },
    {
     "name": "stderr",
     "output_type": "stream",
     "text": [
      "Processing row 4212:  76%|███████▋  | 4169/5455 [28:41<05:09,  4.15it/s]"
     ]
    },
    {
     "name": "stdout",
     "output_type": "stream",
     "text": [
      "Exception at row 4176\n",
      "'ascii' codec can't encode character '\\xc5' in position 9: ordinal not in range(128)\n"
     ]
    },
    {
     "name": "stderr",
     "output_type": "stream",
     "text": [
      "Processing row 4436:  81%|████████▏ | 4435/5456 [28:42<37:38,  2.21s/it]"
     ]
    },
    {
     "name": "stdout",
     "output_type": "stream",
     "text": [
      "Exception at row 4435\n",
      "'ascii' codec can't encode character '\\xf6' in position 25: ordinal not in range(128)\n"
     ]
    },
    {
     "name": "stderr",
     "output_type": "stream",
     "text": [
      "Processing row 4743:  87%|████████▋ | 4743/5456 [28:48<13:48,  1.16s/it]"
     ]
    },
    {
     "name": "stdout",
     "output_type": "stream",
     "text": [
      "Exception at row 4493\n",
      "'ascii' codec can't encode character '\\xc0' in position 17: ordinal not in range(128)\n",
      "Exception at row 4494\n",
      "'ascii' codec can't encode character '\\xc0' in position 27: ordinal not in range(128)\n",
      "Exception at row 4742\n",
      "list index out of range\n"
     ]
    },
    {
     "name": "stderr",
     "output_type": "stream",
     "text": [
      "Processing row 4239:  77%|███████▋  | 4216/5455 [28:48<04:39,  4.44it/s]"
     ]
    },
    {
     "name": "stdout",
     "output_type": "stream",
     "text": [
      "Exception at row 4744\n",
      "'ascii' codec can't encode character '\\xe9' in position 35: ordinal not in range(128)\n",
      "Exception at row 4219\n",
      "'ascii' codec can't encode character '\\xed' in position 32: ordinal not in range(128)\n",
      "Exception at row 4221\n",
      "'ascii' codec can't encode character '\\xf8' in position 17: ordinal not in range(128)\n",
      "Exception at row 4230\n",
      "'ascii' codec can't encode character '\\xf4' in position 23: ordinal not in range(128)\n",
      "Exception at row 4232\n",
      "'ascii' codec can't encode character '\\xe5' in position 10: ordinal not in range(128)\n",
      "Exception at row 4237\n",
      "'ascii' codec can't encode character '\\xe9' in position 64: ordinal not in range(128)\n"
     ]
    },
    {
     "name": "stderr",
     "output_type": "stream",
     "text": [
      "Processing row 4793:  88%|████████▊ | 4787/5456 [28:51<01:00, 11.12it/s]"
     ]
    },
    {
     "name": "stdout",
     "output_type": "stream",
     "text": [
      "Exception at row 4440\n",
      "'ascii' codec can't encode character '\\xf6' in position 16: ordinal not in range(128)\n",
      "Exception at row 4751\n",
      "'ascii' codec can't encode character '\\xc0' in position 19: ordinal not in range(128)\n",
      "Exception at row 4245\n",
      "'ascii' codec can't encode character '\\xfc' in position 84: ordinal not in range(128)\n",
      "Exception at row 4257\n",
      "'ascii' codec can't encode character '\\xed' in position 32: ordinal not in range(128)\n",
      "Exception at row 4786\n",
      "'ascii' codec can't encode character '\\xef' in position 16: ordinal not in range(128)\n"
     ]
    },
    {
     "name": "stderr",
     "output_type": "stream",
     "text": [
      "Processing row 4812:  88%|████████▊ | 4799/5456 [28:53<01:17,  8.46it/s]"
     ]
    },
    {
     "name": "stdout",
     "output_type": "stream",
     "text": [
      "Exception at row 4808\n",
      "'ascii' codec can't encode character '\\xec' in position 33: ordinal not in range(128)\n"
     ]
    },
    {
     "name": "stderr",
     "output_type": "stream",
     "text": [
      "Processing row 4296:  79%|███████▊  | 4292/5455 [28:56<01:56,  9.99it/s]"
     ]
    },
    {
     "name": "stdout",
     "output_type": "stream",
     "text": [
      "Exception at row 4818\n",
      "'ascii' codec can't encode character '\\xc0' in position 21: ordinal not in range(128)\n",
      "Exception at row 4273\n",
      "'ascii' codec can't encode character '\\xe4' in position 26: ordinal not in range(128)\n",
      "Exception at row 4291\n",
      "'ascii' codec can't encode character '\\xf3' in position 33: ordinal not in range(128)\n"
     ]
    },
    {
     "name": "stderr",
     "output_type": "stream",
     "text": [
      "Processing row 4864:  88%|████████▊ | 4820/5456 [28:58<01:48,  5.85it/s]"
     ]
    },
    {
     "name": "stdout",
     "output_type": "stream",
     "text": [
      "Exception at row 4832\n",
      "'ascii' codec can't encode character '\\xe9' in position 61: ordinal not in range(128)\n"
     ]
    },
    {
     "name": "stderr",
     "output_type": "stream",
     "text": [
      "Processing row 4876:  89%|████████▉ | 4865/5456 [28:58<00:42, 13.75it/s]"
     ]
    },
    {
     "name": "stdout",
     "output_type": "stream",
     "text": [
      "Exception at row 4864\n",
      "list index out of range\n",
      "Exception at row 4872\n",
      "'ascii' codec can't encode character '\\xf1' in position 11: ordinal not in range(128)\n"
     ]
    },
    {
     "name": "stderr",
     "output_type": "stream",
     "text": [
      "Processing row 4882:  89%|████████▉ | 4877/5456 [29:01<00:57, 10.10it/s]"
     ]
    },
    {
     "name": "stdout",
     "output_type": "stream",
     "text": [
      "Exception at row 4877\n",
      "'ascii' codec can't encode character '\\xe9' in position 37: ordinal not in range(128)\n"
     ]
    },
    {
     "name": "stderr",
     "output_type": "stream",
     "text": [
      "Processing row 4446:  81%|████████▏ | 4444/5456 [29:03<53:30,  3.17s/it]"
     ]
    },
    {
     "name": "stdout",
     "output_type": "stream",
     "text": [
      "Exception at row 4444\n",
      "'ascii' codec can't encode character '\\xf4' in position 42: ordinal not in range(128)\n",
      "Exception at row 4445\n",
      "'ascii' codec can't encode character '\\xed' in position 38: ordinal not in range(128)\n"
     ]
    },
    {
     "name": "stderr",
     "output_type": "stream",
     "text": [
      "Processing row 4905:  90%|████████▉ | 4886/5456 [29:05<01:35,  5.96it/s]"
     ]
    },
    {
     "name": "stdout",
     "output_type": "stream",
     "text": [
      "Exception at row 4900\n",
      "'ascii' codec can't encode character '\\xe1' in position 26: ordinal not in range(128)\n"
     ]
    },
    {
     "name": "stderr",
     "output_type": "stream",
     "text": [
      "Processing row 4332:  79%|███████▉  | 4307/5455 [29:06<06:08,  3.12it/s]"
     ]
    },
    {
     "name": "stdout",
     "output_type": "stream",
     "text": [
      "Exception at row 4318\n",
      "'ascii' codec can't encode character '\\xc1' in position 9: ordinal not in range(128)\n"
     ]
    },
    {
     "name": "stderr",
     "output_type": "stream",
     "text": [
      "Processing row 4347:  79%|███████▉  | 4333/5455 [29:08<03:38,  5.14it/s]"
     ]
    },
    {
     "name": "stdout",
     "output_type": "stream",
     "text": [
      "Exception at row 4332\n",
      "list index out of range\n"
     ]
    },
    {
     "name": "stderr",
     "output_type": "stream",
     "text": [
      "Processing row 4353:  80%|███████▉  | 4348/5455 [29:10<03:13,  5.72it/s]"
     ]
    },
    {
     "name": "stdout",
     "output_type": "stream",
     "text": [
      "Exception at row 4351\n",
      "'ascii' codec can't encode character '\\xe4' in position 36: ordinal not in range(128)\n"
     ]
    },
    {
     "name": "stderr",
     "output_type": "stream",
     "text": [
      "Processing row 4358:  80%|███████▉  | 4354/5455 [29:10<03:00,  6.09it/s]"
     ]
    },
    {
     "name": "stdout",
     "output_type": "stream",
     "text": [
      "Exception at row 4353\n",
      "list index out of range\n"
     ]
    },
    {
     "name": "stderr",
     "output_type": "stream",
     "text": [
      "Processing row 4965:  90%|█████████ | 4933/5456 [29:15<01:54,  4.56it/s]"
     ]
    },
    {
     "name": "stdout",
     "output_type": "stream",
     "text": [
      "Exception at row 4932\n",
      "list index out of range\n",
      "Exception at row 4960\n",
      "'ascii' codec can't encode character '\\xfc' in position 85: ordinal not in range(128)\n"
     ]
    },
    {
     "name": "stderr",
     "output_type": "stream",
     "text": [
      "Processing row 4453:  82%|████████▏ | 4453/5456 [29:16<25:51,  1.55s/it]"
     ]
    },
    {
     "name": "stdout",
     "output_type": "stream",
     "text": [
      "Exception at row 4452\n",
      "list index out of range\n"
     ]
    },
    {
     "name": "stderr",
     "output_type": "stream",
     "text": [
      "Processing row 4968:  91%|█████████ | 4966/5456 [29:20<01:30,  5.40it/s]"
     ]
    },
    {
     "name": "stdout",
     "output_type": "stream",
     "text": [
      "Exception at row 4455\n",
      "'ascii' codec can't encode character '\\xf4' in position 36: ordinal not in range(128)\n"
     ]
    },
    {
     "name": "stderr",
     "output_type": "stream",
     "text": [
      "Processing row 4409:  81%|████████  | 4392/5455 [29:23<04:52,  3.63it/s]"
     ]
    },
    {
     "name": "stdout",
     "output_type": "stream",
     "text": [
      "Exception at row 4975\n",
      "'ascii' codec can't encode character '\\xf6' in position 16: ordinal not in range(128)\n"
     ]
    },
    {
     "name": "stderr",
     "output_type": "stream",
     "text": [
      "Processing row 4460:  82%|████████▏ | 4459/5456 [29:26<27:34,  1.66s/it]"
     ]
    },
    {
     "name": "stdout",
     "output_type": "stream",
     "text": [
      "Exception at row 4511\n",
      "list index out of range\n",
      "Exception at row 4512\n",
      "'ascii' codec can't encode characters in position 32-33: ordinal not in range(128)\n"
     ]
    },
    {
     "name": "stderr",
     "output_type": "stream",
     "text": [
      "Processing row 4424:  81%|████████  | 4418/5455 [29:27<03:45,  4.61it/s]"
     ]
    },
    {
     "name": "stdout",
     "output_type": "stream",
     "text": [
      "Exception at row 4421\n",
      "'ascii' codec can't encode character '\\xe4' in position 47: ordinal not in range(128)\n"
     ]
    },
    {
     "name": "stderr",
     "output_type": "stream",
     "text": [
      "Processing row 4458:  81%|████████  | 4425/5455 [29:29<03:59,  4.30it/s]"
     ]
    },
    {
     "name": "stdout",
     "output_type": "stream",
     "text": [
      "Exception at row 4431\n",
      "'ascii' codec can't encode character '\\xfb' in position 60: ordinal not in range(128)\n",
      "Exception at row 4991\n",
      "'ascii' codec can't encode character '\\xe9' in position 39: ordinal not in range(128)\n",
      "Exception at row 4447\n",
      "'ascii' codec can't encode character '\\xe9' in position 37: ordinal not in range(128)\n",
      "Exception at row 4455\n",
      "'ascii' codec can't encode character '\\xe7' in position 37: ordinal not in range(128)\n"
     ]
    },
    {
     "name": "stderr",
     "output_type": "stream",
     "text": [
      "Processing row 5036:  92%|█████████▏| 5020/5456 [29:38<01:45,  4.12it/s]"
     ]
    },
    {
     "name": "stdout",
     "output_type": "stream",
     "text": [
      "Exception at row 5019\n",
      "list index out of range\n"
     ]
    },
    {
     "name": "stderr",
     "output_type": "stream",
     "text": [
      "Processing row 5048:  92%|█████████▏| 5043/5456 [29:44<02:10,  3.15it/s]"
     ]
    },
    {
     "name": "stdout",
     "output_type": "stream",
     "text": [
      "Exception at row 5046\n",
      "'ascii' codec can't encode character '\\xed' in position 33: ordinal not in range(128)\n"
     ]
    },
    {
     "name": "stderr",
     "output_type": "stream",
     "text": [
      "Processing row 4473:  82%|████████▏ | 4472/5455 [29:46<08:56,  1.83it/s]"
     ]
    },
    {
     "name": "stdout",
     "output_type": "stream",
     "text": [
      "Exception at row 4472\n",
      "'ascii' codec can't encode character '\\xfc' in position 46: ordinal not in range(128)\n"
     ]
    },
    {
     "name": "stderr",
     "output_type": "stream",
     "text": [
      "Processing row 4524:  83%|████████▎ | 4523/5456 [29:49<32:40,  2.10s/it]"
     ]
    },
    {
     "name": "stdout",
     "output_type": "stream",
     "text": [
      "Exception at row 4523\n",
      "'ascii' codec can't encode character '\\xf4' in position 14: ordinal not in range(128)\n"
     ]
    },
    {
     "name": "stderr",
     "output_type": "stream",
     "text": [
      "Processing row 5058:  93%|█████████▎| 5049/5456 [29:50<03:17,  2.06it/s]"
     ]
    },
    {
     "name": "stdout",
     "output_type": "stream",
     "text": [
      "Exception at row 5049\n",
      "'ascii' codec can't encode character '\\xe1' in position 29: ordinal not in range(128)\n",
      "Exception at row 5050\n",
      "'ascii' codec can't encode character '\\xe2' in position 50: ordinal not in range(128)\n",
      "Exception at row 5051\n",
      "'ascii' codec can't encode character '\\xe4' in position 38: ordinal not in range(128)\n"
     ]
    },
    {
     "name": "stderr",
     "output_type": "stream",
     "text": [
      "Processing row 4477:  82%|████████▏ | 4474/5455 [29:50<12:41,  1.29it/s]"
     ]
    },
    {
     "name": "stdout",
     "output_type": "stream",
     "text": [
      "Exception at row 4475\n",
      "'ascii' codec can't encode character '\\xf4' in position 42: ordinal not in range(128)\n",
      "Exception at row 4476\n",
      "'ascii' codec can't encode character '\\xed' in position 12: ordinal not in range(128)\n"
     ]
    },
    {
     "name": "stderr",
     "output_type": "stream",
     "text": [
      "Processing row 5070:  93%|█████████▎| 5067/5456 [29:55<02:24,  2.69it/s]"
     ]
    },
    {
     "name": "stdout",
     "output_type": "stream",
     "text": [
      "Exception at row 5066\n",
      "list index out of range\n"
     ]
    },
    {
     "name": "stderr",
     "output_type": "stream",
     "text": [
      "Processing row 4485:  82%|████████▏ | 4482/5455 [29:57<14:26,  1.12it/s]"
     ]
    },
    {
     "name": "stdout",
     "output_type": "stream",
     "text": [
      "Exception at row 4482\n",
      "'ascii' codec can't encode character '\\xf8' in position 48: ordinal not in range(128)\n"
     ]
    },
    {
     "name": "stderr",
     "output_type": "stream",
     "text": [
      "Processing row 4529:  83%|████████▎ | 4528/5456 [30:00<34:19,  2.22s/it]"
     ]
    },
    {
     "name": "stdout",
     "output_type": "stream",
     "text": [
      "Exception at row 4528\n",
      "'ascii' codec can't encode character '\\xe0' in position 62: ordinal not in range(128)\n"
     ]
    },
    {
     "name": "stderr",
     "output_type": "stream",
     "text": [
      "Processing row 4477:  82%|████████▏ | 4475/5456 [30:03<36:12,  2.21s/it]"
     ]
    },
    {
     "name": "stdout",
     "output_type": "stream",
     "text": [
      "Exception at row 4475\n",
      "'ascii' codec can't encode character '\\xee' in position 24: ordinal not in range(128)\n",
      "Exception at row 4476\n",
      "'ascii' codec can't encode character '\\xfb' in position 68: ordinal not in range(128)\n"
     ]
    },
    {
     "name": "stderr",
     "output_type": "stream",
     "text": [
      "Processing row 4498:  82%|████████▏ | 4496/5455 [30:14<20:13,  1.27s/it]"
     ]
    },
    {
     "name": "stdout",
     "output_type": "stream",
     "text": [
      "Exception at row 4496\n",
      "'ascii' codec can't encode character '\\xf1' in position 61: ordinal not in range(128)\n",
      "Exception at row 4497\n",
      "'ascii' codec can't encode character '\\xe9' in position 32: ordinal not in range(128)\n"
     ]
    },
    {
     "name": "stderr",
     "output_type": "stream",
     "text": [
      "Processing row 4500:  82%|████████▏ | 4500/5455 [30:18<18:45,  1.18s/it]"
     ]
    },
    {
     "name": "stdout",
     "output_type": "stream",
     "text": [
      "Exception at row 4485\n",
      "IncompleteRead(477502 bytes read)\n"
     ]
    },
    {
     "name": "stderr",
     "output_type": "stream",
     "text": [
      "Processing row 5098:  93%|█████████▎| 5098/5456 [30:20<04:43,  1.26it/s]"
     ]
    },
    {
     "name": "stdout",
     "output_type": "stream",
     "text": [
      "Exception at row 5097\n",
      "list index out of range\n"
     ]
    },
    {
     "name": "stderr",
     "output_type": "stream",
     "text": [
      "Processing row 4502:  83%|████████▎ | 4501/5455 [30:20<22:46,  1.43s/it]"
     ]
    },
    {
     "name": "stdout",
     "output_type": "stream",
     "text": [
      "Exception at row 4501\n",
      "'ascii' codec can't encode character '\\xf6' in position 37: ordinal not in range(128)\n"
     ]
    },
    {
     "name": "stderr",
     "output_type": "stream",
     "text": [
      "Processing row 5106:  94%|█████████▎| 5105/5456 [30:27<05:20,  1.09it/s]"
     ]
    },
    {
     "name": "stdout",
     "output_type": "stream",
     "text": [
      "Exception at row 5105\n",
      "'ascii' codec can't encode character '\\xe9' in position 23: ordinal not in range(128)\n"
     ]
    },
    {
     "name": "stderr",
     "output_type": "stream",
     "text": [
      "Processing row 5121:  94%|█████████▍| 5116/5456 [30:41<08:11,  1.44s/it]"
     ]
    },
    {
     "name": "stdout",
     "output_type": "stream",
     "text": [
      "Exception at row 5119\n",
      "'ascii' codec can't encode character '\\xf3' in position 65: ordinal not in range(128)\n",
      "Exception at row 5120\n",
      "'ascii' codec can't encode character '\\xf9' in position 62: ordinal not in range(128)\n"
     ]
    },
    {
     "name": "stderr",
     "output_type": "stream",
     "text": [
      "Processing row 4497:  82%|████████▏ | 4497/5456 [30:42<36:09,  2.26s/it]"
     ]
    },
    {
     "name": "stdout",
     "output_type": "stream",
     "text": [
      "Exception at row 4496\n",
      "list index out of range\n"
     ]
    },
    {
     "name": "stderr",
     "output_type": "stream",
     "text": [
      "Processing row 4499:  82%|████████▏ | 4499/5456 [30:48<39:07,  2.45s/it]"
     ]
    },
    {
     "name": "stdout",
     "output_type": "stream",
     "text": [
      "Exception at row 5124\n",
      "list index out of range\n"
     ]
    },
    {
     "name": "stderr",
     "output_type": "stream",
     "text": [
      "Processing row 5129:  94%|█████████▍| 5128/5456 [30:53<06:36,  1.21s/it]"
     ]
    },
    {
     "name": "stdout",
     "output_type": "stream",
     "text": [
      "Exception at row 5128\n",
      "'ascii' codec can't encode character '\\xe1' in position 38: ordinal not in range(128)\n"
     ]
    },
    {
     "name": "stderr",
     "output_type": "stream",
     "text": [
      "Processing row 5131:  94%|█████████▍| 5131/5456 [30:57<07:14,  1.34s/it]"
     ]
    },
    {
     "name": "stdout",
     "output_type": "stream",
     "text": [
      "Exception at row 4554\n",
      "list index out of range\n",
      "Exception at row 4555\n",
      "'ascii' codec can't encode character '\\xe8' in position 35: ordinal not in range(128)\n"
     ]
    },
    {
     "name": "stderr",
     "output_type": "stream",
     "text": [
      "Processing row 4561:  84%|████████▎ | 4561/5456 [31:08<32:14,  2.16s/it]"
     ]
    },
    {
     "name": "stdout",
     "output_type": "stream",
     "text": [
      "Exception at row 4507\n",
      "list index out of range\n"
     ]
    },
    {
     "name": "stderr",
     "output_type": "stream",
     "text": [
      "Processing row 4563:  84%|████████▎ | 4563/5456 [31:11<26:50,  1.80s/it]"
     ]
    },
    {
     "name": "stdout",
     "output_type": "stream",
     "text": [
      "Exception at row 4562\n",
      "list index out of range\n"
     ]
    },
    {
     "name": "stderr",
     "output_type": "stream",
     "text": [
      "Processing row 4567:  84%|████████▎ | 4566/5456 [31:19<32:37,  2.20s/it]"
     ]
    },
    {
     "name": "stdout",
     "output_type": "stream",
     "text": [
      "Exception at row 4565\n",
      "IncompleteRead(483590 bytes read)\n",
      "Exception at row 4566\n",
      "'ascii' codec can't encode character '\\xc9' in position 25: ordinal not in range(128)\n"
     ]
    },
    {
     "name": "stderr",
     "output_type": "stream",
     "text": [
      "Processing row 4519:  83%|████████▎ | 4518/5456 [31:24<17:11,  1.10s/it]"
     ]
    },
    {
     "name": "stdout",
     "output_type": "stream",
     "text": [
      "Exception at row 4517\n",
      "'ascii' codec can't encode character '\\xe2' in position 19: ordinal not in range(128)\n",
      "Exception at row 4518\n",
      "'ascii' codec can't encode character '\\xf8' in position 21: ordinal not in range(128)\n"
     ]
    },
    {
     "name": "stderr",
     "output_type": "stream",
     "text": [
      "Processing row 4571:  84%|████████▍ | 4570/5456 [31:24<25:06,  1.70s/it]"
     ]
    },
    {
     "name": "stdout",
     "output_type": "stream",
     "text": [
      "Exception at row 4570\n",
      "'ascii' codec can't encode character '\\xe9' in position 16: ordinal not in range(128)\n"
     ]
    },
    {
     "name": "stderr",
     "output_type": "stream",
     "text": [
      "Processing row 4535:  83%|████████▎ | 4535/5455 [31:25<30:57,  2.02s/it]"
     ]
    },
    {
     "name": "stdout",
     "output_type": "stream",
     "text": [
      "Exception at row 4571\n",
      "list index out of range\n"
     ]
    },
    {
     "name": "stderr",
     "output_type": "stream",
     "text": [
      "Processing row 4574:  84%|████████▍ | 4574/5456 [31:27<15:43,  1.07s/it]"
     ]
    },
    {
     "name": "stdout",
     "output_type": "stream",
     "text": [
      "Exception at row 4573\n",
      "list index out of range\n"
     ]
    },
    {
     "name": "stderr",
     "output_type": "stream",
     "text": [
      "Processing row 4525:  83%|████████▎ | 4524/5456 [31:35<30:22,  1.96s/it]"
     ]
    },
    {
     "name": "stdout",
     "output_type": "stream",
     "text": [
      "Exception at row 4524\n",
      "'ascii' codec can't encode character '\\xe1' in position 22: ordinal not in range(128)\n"
     ]
    },
    {
     "name": "stderr",
     "output_type": "stream",
     "text": [
      "Processing row 5155:  94%|█████████▍| 5154/5456 [31:36<10:07,  2.01s/it]"
     ]
    },
    {
     "name": "stdout",
     "output_type": "stream",
     "text": [
      "Exception at row 5154\n",
      "'ascii' codec can't encode character '\\xe4' in position 56: ordinal not in range(128)\n"
     ]
    },
    {
     "name": "stderr",
     "output_type": "stream",
     "text": [
      "Processing row 4528:  83%|████████▎ | 4527/5456 [31:39<25:46,  1.66s/it]"
     ]
    },
    {
     "name": "stdout",
     "output_type": "stream",
     "text": [
      "Exception at row 4527\n",
      "'ascii' codec can't encode character '\\xe4' in position 30: ordinal not in range(128)\n"
     ]
    },
    {
     "name": "stderr",
     "output_type": "stream",
     "text": [
      "Processing row 4546:  83%|████████▎ | 4545/5455 [31:46<31:34,  2.08s/it]"
     ]
    },
    {
     "name": "stdout",
     "output_type": "stream",
     "text": [
      "Exception at row 4545\n",
      "'ascii' codec can't encode character '\\xb0' in position 32: ordinal not in range(128)\n"
     ]
    },
    {
     "name": "stderr",
     "output_type": "stream",
     "text": [
      "Processing row 4538:  83%|████████▎ | 4535/5456 [31:56<31:18,  2.04s/it]"
     ]
    },
    {
     "name": "stdout",
     "output_type": "stream",
     "text": [
      "Exception at row 4535\n",
      "'ascii' codec can't encode character '\\xf4' in position 62: ordinal not in range(128)\n",
      "Exception at row 4536\n",
      "'ascii' codec can't encode character '\\xe9' in position 56: ordinal not in range(128)\n",
      "Exception at row 4537\n",
      "'ascii' codec can't encode character '\\xe9' in position 19: ordinal not in range(128)\n"
     ]
    },
    {
     "name": "stderr",
     "output_type": "stream",
     "text": [
      "Processing row 4589:  84%|████████▍ | 4588/5456 [31:56<31:33,  2.18s/it]"
     ]
    },
    {
     "name": "stdout",
     "output_type": "stream",
     "text": [
      "Exception at row 4588\n",
      "'ascii' codec can't encode character '\\xf6' in position 38: ordinal not in range(128)\n"
     ]
    },
    {
     "name": "stderr",
     "output_type": "stream",
     "text": [
      "Processing row 4542:  83%|████████▎ | 4541/5456 [32:02<21:12,  1.39s/it]"
     ]
    },
    {
     "name": "stdout",
     "output_type": "stream",
     "text": [
      "Exception at row 4541\n",
      "'ascii' codec can't encode character '\\xea' in position 27: ordinal not in range(128)\n"
     ]
    },
    {
     "name": "stderr",
     "output_type": "stream",
     "text": [
      "Processing row 4594:  84%|████████▍ | 4593/5456 [32:03<20:19,  1.41s/it]"
     ]
    },
    {
     "name": "stdout",
     "output_type": "stream",
     "text": [
      "Exception at row 4593\n",
      "'ascii' codec can't encode character '\\xe4' in position 34: ordinal not in range(128)\n"
     ]
    },
    {
     "name": "stderr",
     "output_type": "stream",
     "text": [
      "Processing row 5170:  95%|█████████▍| 5170/5456 [32:04<09:15,  1.94s/it]"
     ]
    },
    {
     "name": "stdout",
     "output_type": "stream",
     "text": [
      "Exception at row 4543\n",
      "'ascii' codec can't encode character '\\xfc' in position 17: ordinal not in range(128)\n"
     ]
    },
    {
     "name": "stderr",
     "output_type": "stream",
     "text": [
      "Processing row 4547:  83%|████████▎ | 4547/5456 [32:09<18:47,  1.24s/it]"
     ]
    },
    {
     "name": "stdout",
     "output_type": "stream",
     "text": [
      "Exception at row 4546\n",
      "list index out of range\n"
     ]
    },
    {
     "name": "stderr",
     "output_type": "stream",
     "text": [
      "Processing row 4557:  84%|████████▎ | 4557/5455 [32:10<31:59,  2.14s/it]"
     ]
    },
    {
     "name": "stdout",
     "output_type": "stream",
     "text": [
      "Exception at row 4556\n",
      "list index out of range\n"
     ]
    },
    {
     "name": "stderr",
     "output_type": "stream",
     "text": [
      "Processing row 5178:  95%|█████████▍| 5177/5456 [32:18<09:33,  2.06s/it]"
     ]
    },
    {
     "name": "stdout",
     "output_type": "stream",
     "text": [
      "Exception at row 4551\n",
      "list index out of range\n"
     ]
    },
    {
     "name": "stderr",
     "output_type": "stream",
     "text": [
      "Processing row 5179:  95%|█████████▍| 5179/5456 [32:20<07:15,  1.57s/it]"
     ]
    },
    {
     "name": "stdout",
     "output_type": "stream",
     "text": [
      "Exception at row 4554\n",
      "'ascii' codec can't encode character '\\xe9' in position 32: ordinal not in range(128)\n"
     ]
    },
    {
     "name": "stderr",
     "output_type": "stream",
     "text": [
      "Processing row 5180:  95%|█████████▍| 5180/5456 [32:21<06:25,  1.40s/it]"
     ]
    },
    {
     "name": "stdout",
     "output_type": "stream",
     "text": [
      "Exception at row 5179\n",
      "list index out of range\n"
     ]
    },
    {
     "name": "stderr",
     "output_type": "stream",
     "text": [
      "Processing row 4560:  84%|████████▎ | 4558/5456 [32:26<22:46,  1.52s/it]"
     ]
    },
    {
     "name": "stdout",
     "output_type": "stream",
     "text": [
      "Exception at row 4558\n",
      "'ascii' codec can't encode character '\\xfb' in position 30: ordinal not in range(128)\n",
      "Exception at row 4559\n",
      "'ascii' codec can't encode character '\\xf4' in position 16: ordinal not in range(128)\n"
     ]
    },
    {
     "name": "stderr",
     "output_type": "stream",
     "text": [
      "Processing row 4607:  84%|████████▍ | 4607/5456 [32:29<27:26,  1.94s/it]"
     ]
    },
    {
     "name": "stdout",
     "output_type": "stream",
     "text": [
      "Exception at row 4606\n",
      "list index out of range\n"
     ]
    },
    {
     "name": "stderr",
     "output_type": "stream",
     "text": [
      "Processing row 4564:  84%|████████▎ | 4563/5456 [32:32<19:24,  1.30s/it]"
     ]
    },
    {
     "name": "stdout",
     "output_type": "stream",
     "text": [
      "Exception at row 4562\n",
      "list index out of range\n"
     ]
    },
    {
     "name": "stderr",
     "output_type": "stream",
     "text": [
      "Processing row 5186:  95%|█████████▌| 5186/5456 [32:33<07:46,  1.73s/it]"
     ]
    },
    {
     "name": "stdout",
     "output_type": "stream",
     "text": [
      "Exception at row 5185\n",
      "IncompleteRead(485927 bytes read)\n"
     ]
    },
    {
     "name": "stderr",
     "output_type": "stream",
     "text": [
      "Processing row 5190:  95%|█████████▌| 5189/5456 [32:41<11:05,  2.49s/it]"
     ]
    },
    {
     "name": "stdout",
     "output_type": "stream",
     "text": [
      "Exception at row 5189\n",
      "'ascii' codec can't encode character '\\xe9' in position 15: ordinal not in range(128)\n"
     ]
    },
    {
     "name": "stderr",
     "output_type": "stream",
     "text": [
      "Processing row 5195:  95%|█████████▌| 5194/5456 [32:49<08:57,  2.05s/it]"
     ]
    },
    {
     "name": "stdout",
     "output_type": "stream",
     "text": [
      "Exception at row 5194\n",
      "'ascii' codec can't encode character '\\xf4' in position 23: ordinal not in range(128)\n"
     ]
    },
    {
     "name": "stderr",
     "output_type": "stream",
     "text": [
      "Processing row 4578:  84%|████████▍ | 4576/5456 [33:01<32:01,  2.18s/it]"
     ]
    },
    {
     "name": "stdout",
     "output_type": "stream",
     "text": [
      "Exception at row 4577\n",
      "'ascii' codec can't encode character '\\xe9' in position 22: ordinal not in range(128)\n"
     ]
    },
    {
     "name": "stderr",
     "output_type": "stream",
     "text": [
      "Processing row 4581:  84%|████████▍ | 4581/5456 [33:04<14:36,  1.00s/it]"
     ]
    },
    {
     "name": "stdout",
     "output_type": "stream",
     "text": [
      "Exception at row 4580\n",
      "list index out of range\n"
     ]
    },
    {
     "name": "stderr",
     "output_type": "stream",
     "text": [
      "Processing row 4627:  85%|████████▍ | 4626/5456 [33:11<29:12,  2.11s/it]"
     ]
    },
    {
     "name": "stdout",
     "output_type": "stream",
     "text": [
      "Exception at row 4626\n",
      "'ascii' codec can't encode character '\\xf4' in position 24: ordinal not in range(128)\n"
     ]
    },
    {
     "name": "stderr",
     "output_type": "stream",
     "text": [
      "Processing row 5208:  95%|█████████▌| 5207/5456 [33:16<11:11,  2.69s/it]"
     ]
    },
    {
     "name": "stdout",
     "output_type": "stream",
     "text": [
      "Exception at row 5207\n",
      "'ascii' codec can't encode character '\\xe0' in position 55: ordinal not in range(128)\n"
     ]
    },
    {
     "name": "stderr",
     "output_type": "stream",
     "text": [
      "Processing row 4589:  84%|████████▍ | 4587/5456 [33:25<43:03,  2.97s/it]"
     ]
    },
    {
     "name": "stdout",
     "output_type": "stream",
     "text": [
      "Exception at row 4588\n",
      "'ascii' codec can't encode character '\\xfc' in position 42: ordinal not in range(128)\n"
     ]
    },
    {
     "name": "stderr",
     "output_type": "stream",
     "text": [
      "Processing row 4592:  84%|████████▍ | 4591/5455 [33:30<36:38,  2.54s/it]"
     ]
    },
    {
     "name": "stdout",
     "output_type": "stream",
     "text": [
      "Exception at row 4591\n",
      "'ascii' codec can't encode character '\\xe9' in position 24: ordinal not in range(128)\n"
     ]
    },
    {
     "name": "stderr",
     "output_type": "stream",
     "text": [
      "Processing row 4595:  84%|████████▍ | 4595/5455 [33:36<29:39,  2.07s/it]"
     ]
    },
    {
     "name": "stdout",
     "output_type": "stream",
     "text": [
      "Exception at row 5217\n",
      "'ascii' codec can't encode character '\\xe7' in position 38: ordinal not in range(128)\n"
     ]
    },
    {
     "name": "stderr",
     "output_type": "stream",
     "text": [
      "Processing row 4609:  84%|████████▍ | 4609/5456 [33:49<12:46,  1.11it/s]"
     ]
    },
    {
     "name": "stdout",
     "output_type": "stream",
     "text": [
      "Exception at row 4608\n",
      "list index out of range\n"
     ]
    },
    {
     "name": "stderr",
     "output_type": "stream",
     "text": [
      "Processing row 4615:  85%|████████▍ | 4611/5456 [33:52<17:17,  1.23s/it]"
     ]
    },
    {
     "name": "stdout",
     "output_type": "stream",
     "text": [
      "Exception at row 4611\n",
      "'ascii' codec can't encode character '\\xed' in position 17: ordinal not in range(128)\n",
      "Exception at row 4613\n",
      "'ascii' codec can't encode character '\\xf4' in position 57: ordinal not in range(128)\n"
     ]
    },
    {
     "name": "stderr",
     "output_type": "stream",
     "text": [
      "Processing row 4625:  85%|████████▍ | 4621/5456 [34:00<11:51,  1.17it/s]"
     ]
    },
    {
     "name": "stdout",
     "output_type": "stream",
     "text": [
      "Exception at row 4623\n",
      "'ascii' codec can't encode character '\\xe1' in position 25: ordinal not in range(128)\n"
     ]
    },
    {
     "name": "stderr",
     "output_type": "stream",
     "text": [
      "Processing row 4634:  85%|████████▍ | 4628/5456 [34:02<06:25,  2.15it/s]"
     ]
    },
    {
     "name": "stdout",
     "output_type": "stream",
     "text": [
      "Exception at row 4632\n",
      "'ascii' codec can't encode character '\\xfc' in position 24: ordinal not in range(128)\n"
     ]
    },
    {
     "name": "stderr",
     "output_type": "stream",
     "text": [
      "Processing row 4650:  85%|████████▍ | 4635/5456 [34:03<03:28,  3.95it/s]"
     ]
    },
    {
     "name": "stdout",
     "output_type": "stream",
     "text": [
      "Exception at row 4634\n",
      "list index out of range\n",
      "Exception at row 4637\n",
      "'ascii' codec can't encode character '\\xe2' in position 31: ordinal not in range(128)\n"
     ]
    },
    {
     "name": "stderr",
     "output_type": "stream",
     "text": [
      "Processing row 4660:  85%|████████▌ | 4651/5456 [34:05<02:24,  5.55it/s]"
     ]
    },
    {
     "name": "stdout",
     "output_type": "stream",
     "text": [
      "Exception at row 4655\n",
      "'ascii' codec can't encode character '\\xed' in position 13: ordinal not in range(128)\n",
      "Exception at row 4657\n",
      "'ascii' codec can't encode character '\\xe9' in position 10: ordinal not in range(128)\n"
     ]
    },
    {
     "name": "stderr",
     "output_type": "stream",
     "text": [
      "Processing row 4661:  85%|████████▌ | 4661/5456 [34:05<01:48,  7.32it/s]"
     ]
    },
    {
     "name": "stdout",
     "output_type": "stream",
     "text": [
      "Exception at row 4660\n",
      "list index out of range\n"
     ]
    },
    {
     "name": "stderr",
     "output_type": "stream",
     "text": [
      "Processing row 5231:  96%|█████████▌| 5230/5456 [34:08<08:38,  2.30s/it]"
     ]
    },
    {
     "name": "stdout",
     "output_type": "stream",
     "text": [
      "Exception at row 5230\n",
      "'ascii' codec can't encode character '\\xc9' in position 28: ordinal not in range(128)\n"
     ]
    },
    {
     "name": "stderr",
     "output_type": "stream",
     "text": [
      "Processing row 4612:  85%|████████▍ | 4610/5455 [34:10<31:09,  2.21s/it]"
     ]
    },
    {
     "name": "stdout",
     "output_type": "stream",
     "text": [
      "Exception at row 4610\n",
      "'ascii' codec can't encode character '\\xe8' in position 44: ordinal not in range(128)\n"
     ]
    },
    {
     "name": "stderr",
     "output_type": "stream",
     "text": [
      "Processing row 4617:  85%|████████▍ | 4616/5455 [34:18<22:17,  1.59s/it]"
     ]
    },
    {
     "name": "stdout",
     "output_type": "stream",
     "text": [
      "Exception at row 4615\n",
      "list index out of range\n",
      "Exception at row 4616\n",
      "'ascii' codec can't encode character '\\xe8' in position 19: ordinal not in range(128)\n"
     ]
    },
    {
     "name": "stderr",
     "output_type": "stream",
     "text": [
      "Processing row 4659:  85%|████████▌ | 4657/5456 [34:23<35:55,  2.70s/it]"
     ]
    },
    {
     "name": "stdout",
     "output_type": "stream",
     "text": [
      "Exception at row 4657\n",
      "'ascii' codec can't encode character '\\xe4' in position 30: ordinal not in range(128)\n",
      "Exception at row 4658\n",
      "'ascii' codec can't encode character '\\xe4' in position 31: ordinal not in range(128)\n"
     ]
    },
    {
     "name": "stderr",
     "output_type": "stream",
     "text": [
      "Processing row 4620:  85%|████████▍ | 4619/5455 [34:25<29:21,  2.11s/it]"
     ]
    },
    {
     "name": "stdout",
     "output_type": "stream",
     "text": [
      "Exception at row 4619\n",
      "'ascii' codec can't encode character '\\xe9' in position 59: ordinal not in range(128)\n"
     ]
    },
    {
     "name": "stderr",
     "output_type": "stream",
     "text": [
      "Processing row 4660:  85%|████████▌ | 4660/5456 [34:25<20:28,  1.54s/it]"
     ]
    },
    {
     "name": "stdout",
     "output_type": "stream",
     "text": [
      "Exception at row 4659\n",
      "list index out of range\n"
     ]
    },
    {
     "name": "stderr",
     "output_type": "stream",
     "text": [
      "Processing row 4661:  85%|████████▌ | 4661/5456 [34:26<17:45,  1.34s/it]"
     ]
    },
    {
     "name": "stdout",
     "output_type": "stream",
     "text": [
      "Exception at row 4660\n",
      "list index out of range\n"
     ]
    },
    {
     "name": "stderr",
     "output_type": "stream",
     "text": [
      "Processing row 4623:  85%|████████▍ | 4623/5455 [34:30<21:17,  1.54s/it]"
     ]
    },
    {
     "name": "stdout",
     "output_type": "stream",
     "text": [
      "Exception at row 4622\n",
      "list index out of range\n"
     ]
    },
    {
     "name": "stderr",
     "output_type": "stream",
     "text": [
      "Processing row 4664:  85%|████████▌ | 4663/5456 [34:30<22:09,  1.68s/it]"
     ]
    },
    {
     "name": "stdout",
     "output_type": "stream",
     "text": [
      "Exception at row 4663\n",
      "'ascii' codec can't encode character '\\xe1' in position 23: ordinal not in range(128)\n"
     ]
    },
    {
     "name": "stderr",
     "output_type": "stream",
     "text": [
      "Processing row 4699:  86%|████████▌ | 4685/5456 [34:33<08:40,  1.48it/s]"
     ]
    },
    {
     "name": "stdout",
     "output_type": "stream",
     "text": [
      "Exception at row 4693\n",
      "'ascii' codec can't encode character '\\xe8' in position 23: ordinal not in range(128)\n"
     ]
    },
    {
     "name": "stderr",
     "output_type": "stream",
     "text": [
      "Processing row 4701:  86%|████████▌ | 4700/5456 [34:35<04:22,  2.88it/s]"
     ]
    },
    {
     "name": "stdout",
     "output_type": "stream",
     "text": [
      "Exception at row 4700\n",
      "'ascii' codec can't encode character '\\xe9' in position 18: ordinal not in range(128)\n"
     ]
    },
    {
     "name": "stderr",
     "output_type": "stream",
     "text": [
      "Processing row 4719:  86%|████████▋ | 4715/5456 [34:49<08:52,  1.39it/s]"
     ]
    },
    {
     "name": "stdout",
     "output_type": "stream",
     "text": [
      "Exception at row 4715\n",
      "'ascii' codec can't encode character '\\xf4' in position 48: ordinal not in range(128)\n"
     ]
    },
    {
     "name": "stderr",
     "output_type": "stream",
     "text": [
      "Processing row 4637:  85%|████████▍ | 4636/5455 [35:01<31:18,  2.29s/it]"
     ]
    },
    {
     "name": "stdout",
     "output_type": "stream",
     "text": [
      "Exception at row 4636\n",
      "'ascii' codec can't encode character '\\xe8' in position 18: ordinal not in range(128)\n"
     ]
    },
    {
     "name": "stderr",
     "output_type": "stream",
     "text": [
      "Processing row 4737:  87%|████████▋ | 4732/5456 [35:08<10:18,  1.17it/s]"
     ]
    },
    {
     "name": "stdout",
     "output_type": "stream",
     "text": [
      "Exception at row 4736\n",
      "'ascii' codec can't encode character '\\xe8' in position 40: ordinal not in range(128)\n"
     ]
    },
    {
     "name": "stderr",
     "output_type": "stream",
     "text": [
      "Processing row 4681:  86%|████████▌ | 4681/5456 [35:09<29:11,  2.26s/it]"
     ]
    },
    {
     "name": "stdout",
     "output_type": "stream",
     "text": [
      "Exception at row 4680\n",
      "list index out of range\n"
     ]
    },
    {
     "name": "stderr",
     "output_type": "stream",
     "text": [
      "Processing row 4644:  85%|████████▌ | 4642/5455 [35:17<33:49,  2.50s/it]"
     ]
    },
    {
     "name": "stdout",
     "output_type": "stream",
     "text": [
      "Exception at row 4642\n",
      "'ascii' codec can't encode character '\\xea' in position 35: ordinal not in range(128)\n",
      "Exception at row 4643\n",
      "'ascii' codec can't encode character '\\xf4' in position 36: ordinal not in range(128)\n"
     ]
    },
    {
     "name": "stderr",
     "output_type": "stream",
     "text": [
      "Processing row 4764:  87%|████████▋ | 4751/5456 [35:17<07:13,  1.63it/s]"
     ]
    },
    {
     "name": "stdout",
     "output_type": "stream",
     "text": [
      "Exception at row 4752\n",
      "'ascii' codec can't encode character '\\xbd' in position 17: ordinal not in range(128)\n",
      "Exception at row 4761\n",
      "'ascii' codec can't encode character '\\xe0' in position 54: ordinal not in range(128)\n"
     ]
    },
    {
     "name": "stderr",
     "output_type": "stream",
     "text": [
      "Processing row 4686:  86%|████████▌ | 4686/5456 [35:19<24:37,  1.92s/it]"
     ]
    },
    {
     "name": "stdout",
     "output_type": "stream",
     "text": [
      "Exception at row 4685\n",
      "list index out of range\n"
     ]
    },
    {
     "name": "stderr",
     "output_type": "stream",
     "text": [
      "Processing row 4773:  87%|████████▋ | 4765/5456 [35:20<03:58,  2.90it/s]"
     ]
    },
    {
     "name": "stdout",
     "output_type": "stream",
     "text": [
      "Exception at row 4770\n",
      "'ascii' codec can't encode character '\\xe2' in position 47: ordinal not in range(128)\n"
     ]
    },
    {
     "name": "stderr",
     "output_type": "stream",
     "text": [
      "Processing row 4776:  88%|████████▊ | 4774/5456 [35:22<03:26,  3.31it/s]"
     ]
    },
    {
     "name": "stdout",
     "output_type": "stream",
     "text": [
      "Exception at row 4774\n",
      "'ascii' codec can't encode character '\\xc0' in position 20: ordinal not in range(128)\n"
     ]
    },
    {
     "name": "stderr",
     "output_type": "stream",
     "text": [
      "Processing row 4689:  86%|████████▌ | 4688/5456 [35:23<25:08,  1.96s/it]"
     ]
    },
    {
     "name": "stdout",
     "output_type": "stream",
     "text": [
      "Exception at row 4688\n",
      "'ascii' codec can't encode character '\\xf4' in position 46: ordinal not in range(128)\n"
     ]
    },
    {
     "name": "stderr",
     "output_type": "stream",
     "text": [
      "Processing row 4783:  88%|████████▊ | 4779/5456 [35:26<04:54,  2.30it/s]"
     ]
    },
    {
     "name": "stdout",
     "output_type": "stream",
     "text": [
      "Exception at row 4781\n",
      "'ascii' codec can't encode character '\\xea' in position 68: ordinal not in range(128)\n"
     ]
    },
    {
     "name": "stderr",
     "output_type": "stream",
     "text": [
      "Processing row 4796:  88%|████████▊ | 4791/5456 [35:37<08:13,  1.35it/s]"
     ]
    },
    {
     "name": "stdout",
     "output_type": "stream",
     "text": [
      "Exception at row 4793\n",
      "'ascii' codec can't encode character '\\xe9' in position 32: ordinal not in range(128)\n"
     ]
    },
    {
     "name": "stderr",
     "output_type": "stream",
     "text": [
      "Processing row 4702:  86%|████████▌ | 4700/5456 [35:39<18:06,  1.44s/it]"
     ]
    },
    {
     "name": "stdout",
     "output_type": "stream",
     "text": [
      "Exception at row 4700\n",
      "'ascii' codec can't encode character '\\xf4' in position 66: ordinal not in range(128)\n"
     ]
    },
    {
     "name": "stderr",
     "output_type": "stream",
     "text": [
      "Processing row 4820:  88%|████████▊ | 4804/5456 [35:43<04:55,  2.21it/s]"
     ]
    },
    {
     "name": "stdout",
     "output_type": "stream",
     "text": [
      "Exception at row 4803\n",
      "'ascii' codec can't encode character '\\xf3' in position 90: ordinal not in range(128)\n"
     ]
    },
    {
     "name": "stderr",
     "output_type": "stream",
     "text": [
      "Processing row 4657:  85%|████████▌ | 4656/5455 [35:44<26:44,  2.01s/it]"
     ]
    },
    {
     "name": "stdout",
     "output_type": "stream",
     "text": [
      "Exception at row 4656\n",
      "'ascii' codec can't encode character '\\xb0' in position 12: ordinal not in range(128)\n"
     ]
    },
    {
     "name": "stderr",
     "output_type": "stream",
     "text": [
      "Processing row 4707:  86%|████████▋ | 4706/5456 [35:45<14:48,  1.18s/it]"
     ]
    },
    {
     "name": "stdout",
     "output_type": "stream",
     "text": [
      "Exception at row 4706\n",
      "'ascii' codec can't encode character '\\xe9' in position 42: ordinal not in range(128)\n"
     ]
    },
    {
     "name": "stderr",
     "output_type": "stream",
     "text": [
      "Processing row 4713:  86%|████████▋ | 4709/5456 [35:49<17:20,  1.39s/it]"
     ]
    },
    {
     "name": "stdout",
     "output_type": "stream",
     "text": [
      "Exception at row 4710\n",
      "'ascii' codec can't encode characters in position 21-22: ordinal not in range(128)\n"
     ]
    },
    {
     "name": "stderr",
     "output_type": "stream",
     "text": [
      "Processing row 4845:  89%|████████▉ | 4843/5456 [35:50<02:24,  4.24it/s]"
     ]
    },
    {
     "name": "stdout",
     "output_type": "stream",
     "text": [
      "Exception at row 4660\n",
      "'ascii' codec can't encode character '\\xe0' in position 39: ordinal not in range(128)\n"
     ]
    },
    {
     "name": "stderr",
     "output_type": "stream",
     "text": [
      "Processing row 5274:  97%|█████████▋| 5274/5456 [35:52<06:50,  2.25s/it]"
     ]
    },
    {
     "name": "stdout",
     "output_type": "stream",
     "text": [
      "Exception at row 5273\n",
      "list index out of range\n"
     ]
    },
    {
     "name": "stderr",
     "output_type": "stream",
     "text": [
      "Processing row 4663:  85%|████████▌ | 4663/5455 [35:53<16:19,  1.24s/it]"
     ]
    },
    {
     "name": "stdout",
     "output_type": "stream",
     "text": [
      "Exception at row 4662\n",
      "list index out of range\n"
     ]
    },
    {
     "name": "stderr",
     "output_type": "stream",
     "text": [
      "Processing row 4744:  86%|████████▋ | 4718/5456 [35:56<11:42,  1.05it/s]"
     ]
    },
    {
     "name": "stdout",
     "output_type": "stream",
     "text": [
      "Exception at row 4717\n",
      "list index out of range\n",
      "Exception at row 4720\n",
      "'ascii' codec can't encode character '\\xe4' in position 25: ordinal not in range(128)\n",
      "Exception at row 4724\n",
      "'ascii' codec can't encode character '\\xe4' in position 33: ordinal not in range(128)\n",
      "Exception at row 4733\n",
      "'ascii' codec can't encode character '\\xe9' in position 25: ordinal not in range(128)\n",
      "Exception at row 4738\n",
      "'ascii' codec can't encode character '\\xf8' in position 51: ordinal not in range(128)\n"
     ]
    },
    {
     "name": "stderr",
     "output_type": "stream",
     "text": [
      "Processing row 4747:  87%|████████▋ | 4745/5456 [35:58<02:15,  5.25it/s]"
     ]
    },
    {
     "name": "stdout",
     "output_type": "stream",
     "text": [
      "Exception at row 4859\n",
      "'ascii' codec can't encode character '\\xe9' in position 24: ordinal not in range(128)\n"
     ]
    },
    {
     "name": "stderr",
     "output_type": "stream",
     "text": [
      "Processing row 4757:  87%|████████▋ | 4748/5456 [35:59<02:15,  5.22it/s]"
     ]
    },
    {
     "name": "stdout",
     "output_type": "stream",
     "text": [
      "Exception at row 4860\n",
      "list index out of range\n",
      "Exception at row 4747\n",
      "list index out of range\n",
      "Exception at row 4755\n",
      "'ascii' codec can't encode character '\\xf0' in position 17: ordinal not in range(128)\n"
     ]
    },
    {
     "name": "stderr",
     "output_type": "stream",
     "text": [
      "Processing row 5277:  97%|█████████▋| 5277/5456 [36:02<08:47,  2.95s/it]"
     ]
    },
    {
     "name": "stdout",
     "output_type": "stream",
     "text": [
      "Exception at row 4666\n",
      "'ascii' codec can't encode character '\\xe8' in position 32: ordinal not in range(128)\n"
     ]
    },
    {
     "name": "stderr",
     "output_type": "stream",
     "text": [
      "Processing row 4870:  89%|████████▉ | 4866/5456 [36:03<04:49,  2.04it/s]"
     ]
    },
    {
     "name": "stdout",
     "output_type": "stream",
     "text": [
      "Exception at row 4760\n",
      "'ascii' codec can't encode character '\\xf6' in position 32: ordinal not in range(128)\n"
     ]
    },
    {
     "name": "stderr",
     "output_type": "stream",
     "text": [
      "Processing row 4880:  89%|████████▉ | 4876/5456 [36:09<05:52,  1.65it/s]"
     ]
    },
    {
     "name": "stdout",
     "output_type": "stream",
     "text": [
      "Exception at row 4877\n",
      "'ascii' codec can't encode character '\\xe7' in position 29: ordinal not in range(128)\n"
     ]
    },
    {
     "name": "stderr",
     "output_type": "stream",
     "text": [
      "Processing row 4889:  89%|████████▉ | 4882/5456 [36:13<06:29,  1.47it/s]"
     ]
    },
    {
     "name": "stdout",
     "output_type": "stream",
     "text": [
      "Exception at row 4882\n",
      "'ascii' codec can't encode character '\\xf0' in position 23: ordinal not in range(128)\n",
      "Exception at row 4885\n",
      "'ascii' codec can't encode character '\\xe4' in position 16: ordinal not in range(128)\n"
     ]
    },
    {
     "name": "stderr",
     "output_type": "stream",
     "text": [
      "Processing row 4671:  86%|████████▌ | 4670/5455 [36:14<43:08,  3.30s/it]"
     ]
    },
    {
     "name": "stdout",
     "output_type": "stream",
     "text": [
      "Exception at row 4774\n",
      "'ascii' codec can't encode character '\\xe9' in position 73: ordinal not in range(128)\n",
      "Exception at row 4670\n",
      "'ascii' codec can't encode character '\\xed' in position 37: ordinal not in range(128)\n"
     ]
    },
    {
     "name": "stderr",
     "output_type": "stream",
     "text": [
      "Processing row 4890:  90%|████████▉ | 4890/5456 [36:15<03:49,  2.47it/s]"
     ]
    },
    {
     "name": "stdout",
     "output_type": "stream",
     "text": [
      "Exception at row 4889\n",
      "list index out of range\n"
     ]
    },
    {
     "name": "stderr",
     "output_type": "stream",
     "text": [
      "Processing row 4893:  90%|████████▉ | 4891/5456 [36:17<05:14,  1.79it/s]"
     ]
    },
    {
     "name": "stdout",
     "output_type": "stream",
     "text": [
      "Exception at row 4892\n",
      "'ascii' codec can't encode character '\\xe9' in position 36: ordinal not in range(128)\n"
     ]
    },
    {
     "name": "stderr",
     "output_type": "stream",
     "text": [
      "Processing row 4902:  90%|████████▉ | 4900/5456 [36:21<04:17,  2.16it/s]"
     ]
    },
    {
     "name": "stdout",
     "output_type": "stream",
     "text": [
      "Exception at row 4901\n",
      "'ascii' codec can't encode character '\\xf6' in position 24: ordinal not in range(128)\n"
     ]
    },
    {
     "name": "stderr",
     "output_type": "stream",
     "text": [
      "Processing row 4914:  90%|████████▉ | 4903/5456 [36:23<04:42,  1.96it/s]"
     ]
    },
    {
     "name": "stdout",
     "output_type": "stream",
     "text": [
      "Exception at row 4903\n",
      "'ascii' codec can't encode character '\\xe9' in position 36: ordinal not in range(128)\n",
      "Exception at row 4904\n",
      "'ascii' codec can't encode character '\\xe1' in position 62: ordinal not in range(128)\n",
      "Exception at row 4905\n",
      "'ascii' codec can't encode character '\\xe9' in position 41: ordinal not in range(128)\n"
     ]
    },
    {
     "name": "stderr",
     "output_type": "stream",
     "text": [
      "Processing row 4778:  88%|████████▊ | 4777/5456 [36:23<18:08,  1.60s/it]"
     ]
    },
    {
     "name": "stdout",
     "output_type": "stream",
     "text": [
      "Exception at row 4777\n",
      "'ascii' codec can't encode character '\\xe9' in position 36: ordinal not in range(128)\n"
     ]
    },
    {
     "name": "stderr",
     "output_type": "stream",
     "text": [
      "Processing row 4798:  88%|████████▊ | 4779/5456 [36:25<16:22,  1.45s/it]"
     ]
    },
    {
     "name": "stdout",
     "output_type": "stream",
     "text": [
      "Exception at row 4781\n",
      "'ascii' codec can't encode character '\\xe4' in position 25: ordinal not in range(128)\n",
      "Exception at row 4783\n",
      "'ascii' codec can't encode character '\\xe9' in position 18: ordinal not in range(128)\n"
     ]
    },
    {
     "name": "stderr",
     "output_type": "stream",
     "text": [
      "Processing row 5288:  97%|█████████▋| 5288/5456 [36:29<07:28,  2.67s/it]"
     ]
    },
    {
     "name": "stdout",
     "output_type": "stream",
     "text": [
      "Exception at row 5287\n",
      "list index out of range\n"
     ]
    },
    {
     "name": "stderr",
     "output_type": "stream",
     "text": [
      "Processing row 4813:  88%|████████▊ | 4803/5456 [36:29<04:29,  2.42it/s]"
     ]
    },
    {
     "name": "stdout",
     "output_type": "stream",
     "text": [
      "Exception at row 4915\n",
      "'ascii' codec can't encode character '\\xf1' in position 27: ordinal not in range(128)\n",
      "Exception at row 4805\n",
      "'ascii' codec can't encode character '\\xe8' in position 39: ordinal not in range(128)\n",
      "Exception at row 4807\n",
      "'ascii' codec can't encode character '\\xe9' in position 72: ordinal not in range(128)\n"
     ]
    },
    {
     "name": "stderr",
     "output_type": "stream",
     "text": [
      "Processing row 4946:  91%|█████████ | 4942/5456 [36:34<02:33,  3.35it/s]"
     ]
    },
    {
     "name": "stdout",
     "output_type": "stream",
     "text": [
      "Exception at row 4945\n",
      "'ascii' codec can't encode character '\\xe8' in position 18: ordinal not in range(128)\n"
     ]
    },
    {
     "name": "stderr",
     "output_type": "stream",
     "text": [
      "Processing row 4824:  88%|████████▊ | 4820/5456 [36:36<04:51,  2.18it/s]"
     ]
    },
    {
     "name": "stdout",
     "output_type": "stream",
     "text": [
      "Exception at row 4679\n",
      "'ascii' codec can't encode character '\\xe9' in position 27: ordinal not in range(128)\n"
     ]
    },
    {
     "name": "stderr",
     "output_type": "stream",
     "text": [
      "Processing row 4837:  88%|████████▊ | 4826/5456 [36:42<07:48,  1.35it/s]"
     ]
    },
    {
     "name": "stdout",
     "output_type": "stream",
     "text": [
      "Exception at row 4826\n",
      "'ascii' codec can't encode character '\\xe9' in position 26: ordinal not in range(128)\n",
      "Exception at row 4835\n",
      "'ascii' codec can't encode character '\\xf6' in position 38: ordinal not in range(128)\n"
     ]
    },
    {
     "name": "stderr",
     "output_type": "stream",
     "text": [
      "Processing row 5295:  97%|█████████▋| 5295/5456 [36:44<04:50,  1.80s/it]"
     ]
    },
    {
     "name": "stdout",
     "output_type": "stream",
     "text": [
      "Exception at row 5294\n",
      "list index out of range\n"
     ]
    },
    {
     "name": "stderr",
     "output_type": "stream",
     "text": [
      "Processing row 4958:  91%|█████████ | 4952/5456 [36:46<06:59,  1.20it/s]"
     ]
    },
    {
     "name": "stdout",
     "output_type": "stream",
     "text": [
      "Exception at row 4952\n",
      "'ascii' codec can't encode character '\\xf1' in position 41: ordinal not in range(128)\n"
     ]
    },
    {
     "name": "stderr",
     "output_type": "stream",
     "text": [
      "Processing row 4875:  89%|████████▉ | 4870/5456 [36:47<01:18,  7.48it/s]"
     ]
    },
    {
     "name": "stdout",
     "output_type": "stream",
     "text": [
      "Exception at row 4840\n",
      "'ascii' codec can't encode character '\\xe9' in position 41: ordinal not in range(128)\n",
      "Exception at row 4841\n",
      "'ascii' codec can't encode character '\\xed' in position 40: ordinal not in range(128)\n",
      "Exception at row 4843\n",
      "'ascii' codec can't encode character '\\xf4' in position 44: ordinal not in range(128)\n",
      "Exception at row 4846\n",
      "'ascii' codec can't encode character '\\xf3' in position 57: ordinal not in range(128)\n",
      "Exception at row 4856\n",
      "'ascii' codec can't encode character '\\xea' in position 72: ordinal not in range(128)\n",
      "Exception at row 4863\n",
      "'ascii' codec can't encode character '\\xe8' in position 57: ordinal not in range(128)\n",
      "Exception at row 4869\n",
      "'ascii' codec can't encode character '\\xe4' in position 25: ordinal not in range(128)\n"
     ]
    },
    {
     "name": "stderr",
     "output_type": "stream",
     "text": [
      "Processing row 4687:  86%|████████▌ | 4687/5455 [36:54<28:58,  2.26s/it]"
     ]
    },
    {
     "name": "stdout",
     "output_type": "stream",
     "text": [
      "Exception at row 4686\n",
      "list index out of range\n"
     ]
    },
    {
     "name": "stderr",
     "output_type": "stream",
     "text": [
      "Processing row 4691:  86%|████████▌ | 4689/5455 [37:00<33:04,  2.59s/it]"
     ]
    },
    {
     "name": "stdout",
     "output_type": "stream",
     "text": [
      "Exception at row 4689\n",
      "'ascii' codec can't encode character '\\xf4' in position 36: ordinal not in range(128)\n"
     ]
    },
    {
     "name": "stderr",
     "output_type": "stream",
     "text": [
      "Processing row 5303:  97%|█████████▋| 5301/5456 [37:04<05:55,  2.29s/it]"
     ]
    },
    {
     "name": "stdout",
     "output_type": "stream",
     "text": [
      "Exception at row 5300\n",
      "list index out of range\n"
     ]
    },
    {
     "name": "stderr",
     "output_type": "stream",
     "text": [
      "Processing row 4694:  86%|████████▌ | 4694/5455 [37:09<27:23,  2.16s/it]"
     ]
    },
    {
     "name": "stdout",
     "output_type": "stream",
     "text": [
      "Exception at row 4913\n",
      "'ascii' codec can't encode character '\\xf6' in position 41: ordinal not in range(128)\n"
     ]
    },
    {
     "name": "stderr",
     "output_type": "stream",
     "text": [
      "Processing row 4924:  90%|█████████ | 4922/5456 [37:16<05:04,  1.75it/s]"
     ]
    },
    {
     "name": "stdout",
     "output_type": "stream",
     "text": [
      "Exception at row 4921\n",
      "list index out of range\n",
      "Exception at row 4922\n",
      "'ascii' codec can't encode character '\\xe4' in position 27: ordinal not in range(128)\n"
     ]
    },
    {
     "name": "stderr",
     "output_type": "stream",
     "text": [
      "Processing row 5311:  97%|█████████▋| 5309/5456 [37:17<04:31,  1.84s/it]"
     ]
    },
    {
     "name": "stdout",
     "output_type": "stream",
     "text": [
      "Exception at row 5310\n",
      "'ascii' codec can't encode character '\\xfb' in position 10: ordinal not in range(128)\n"
     ]
    },
    {
     "name": "stderr",
     "output_type": "stream",
     "text": [
      "Processing row 5329:  98%|█████████▊| 5327/5456 [37:27<01:47,  1.20it/s]"
     ]
    },
    {
     "name": "stdout",
     "output_type": "stream",
     "text": [
      "Exception at row 4984\n",
      "'ascii' codec can't encode character '\\xf4' in position 10: ordinal not in range(128)\n",
      "Exception at row 5328\n",
      "'ascii' codec can't encode character '\\xfd' in position 35: ordinal not in range(128)\n"
     ]
    },
    {
     "name": "stderr",
     "output_type": "stream",
     "text": [
      "Processing row 4996:  92%|█████████▏| 4996/5456 [37:47<12:26,  1.62s/it]"
     ]
    },
    {
     "name": "stdout",
     "output_type": "stream",
     "text": [
      "Exception at row 4715\n",
      "'ascii' codec can't encode character '\\xda' in position 26: ordinal not in range(128)\n"
     ]
    },
    {
     "name": "stderr",
     "output_type": "stream",
     "text": [
      "Processing row 4999:  92%|█████████▏| 4998/5456 [37:51<14:18,  1.87s/it]"
     ]
    },
    {
     "name": "stdout",
     "output_type": "stream",
     "text": [
      "Exception at row 4998\n",
      "'ascii' codec can't encode character '\\xfc' in position 10: ordinal not in range(128)\n"
     ]
    },
    {
     "name": "stderr",
     "output_type": "stream",
     "text": [
      "Processing row 4961:  91%|█████████ | 4953/5456 [37:52<07:30,  1.12it/s]"
     ]
    },
    {
     "name": "stdout",
     "output_type": "stream",
     "text": [
      "Exception at row 4953\n",
      "'ascii' codec can't encode character '\\xe9' in position 41: ordinal not in range(128)\n",
      "Exception at row 4955\n",
      "'ascii' codec can't encode character '\\xf2' in position 12: ordinal not in range(128)\n"
     ]
    },
    {
     "name": "stderr",
     "output_type": "stream",
     "text": [
      "Processing row 5385:  99%|█████████▊| 5378/5456 [37:55<00:50,  1.56it/s]"
     ]
    },
    {
     "name": "stdout",
     "output_type": "stream",
     "text": [
      "Exception at row 5380\n",
      "'ascii' codec can't encode character '\\xed' in position 27: ordinal not in range(128)\n"
     ]
    },
    {
     "name": "stderr",
     "output_type": "stream",
     "text": [
      "Processing row 5396:  99%|█████████▉| 5390/5456 [37:59<00:28,  2.30it/s]"
     ]
    },
    {
     "name": "stdout",
     "output_type": "stream",
     "text": [
      "Exception at row 4967\n",
      "list index out of range\n",
      "Exception at row 5389\n",
      "list index out of range\n",
      "Exception at row 5391\n",
      "'ascii' codec can't encode character '\\xe4' in position 41: ordinal not in range(128)\n"
     ]
    },
    {
     "name": "stderr",
     "output_type": "stream",
     "text": [
      "Processing row 4983:  91%|█████████▏| 4983/5456 [38:01<02:46,  2.85it/s]"
     ]
    },
    {
     "name": "stdout",
     "output_type": "stream",
     "text": [
      "Exception at row 4982\n",
      "list index out of range\n"
     ]
    },
    {
     "name": "stderr",
     "output_type": "stream",
     "text": [
      "Processing row 4733:  87%|████████▋ | 4729/5455 [38:05<20:07,  1.66s/it]"
     ]
    },
    {
     "name": "stdout",
     "output_type": "stream",
     "text": [
      "Exception at row 4732\n",
      "'ascii' codec can't encode character '\\xe9' in position 34: ordinal not in range(128)\n"
     ]
    },
    {
     "name": "stderr",
     "output_type": "stream",
     "text": [
      "Processing row 5414:  99%|█████████▉| 5408/5456 [38:08<00:23,  2.05it/s]"
     ]
    },
    {
     "name": "stdout",
     "output_type": "stream",
     "text": [
      "Exception at row 5006\n",
      "'ascii' codec can't encode character '\\xf3' in position 37: ordinal not in range(128)\n",
      "Exception at row 5413\n",
      "'ascii' codec can't encode character '\\xe2' in position 11: ordinal not in range(128)\n"
     ]
    },
    {
     "name": "stderr",
     "output_type": "stream",
     "text": [
      "Processing row 5002:  91%|█████████▏| 4985/5456 [38:09<05:40,  1.38it/s]"
     ]
    },
    {
     "name": "stdout",
     "output_type": "stream",
     "text": [
      "Exception at row 4986\n",
      "'ascii' codec can't encode character '\\xf4' in position 57: ordinal not in range(128)\n",
      "Exception at row 4987\n",
      "'ascii' codec can't encode character '\\xd4' in position 68: ordinal not in range(128)\n",
      "Exception at row 4988\n",
      "'ascii' codec can't encode character '\\xea' in position 11: ordinal not in range(128)\n"
     ]
    },
    {
     "name": "stderr",
     "output_type": "stream",
     "text": [
      "Processing row 5421:  99%|█████████▉| 5422/5456 [38:10<00:09,  3.74it/s]"
     ]
    },
    {
     "name": "stdout",
     "output_type": "stream",
     "text": [
      "Exception at row 5418\n",
      "'ascii' codec can't encode character '\\xe5' in position 39: ordinal not in range(128)\n",
      "Exception at row 5419\n",
      "'ascii' codec can't encode character '\\xe8' in position 32: ordinal not in range(128)\n",
      "Exception at row 5421\n",
      "'ascii' codec can't encode character '\\xe8' in position 46: ordinal not in range(128)\n"
     ]
    },
    {
     "name": "stderr",
     "output_type": "stream",
     "text": [
      "Processing row 5008:  92%|█████████▏| 5003/5456 [38:11<02:31,  2.99it/s]"
     ]
    },
    {
     "name": "stdout",
     "output_type": "stream",
     "text": [
      "Exception at row 5423\n",
      "'ascii' codec can't encode character '\\xfb' in position 42: ordinal not in range(128)\n",
      "Exception at row 5007\n",
      "'ascii' codec can't encode character '\\xee' in position 35: ordinal not in range(128)\n"
     ]
    },
    {
     "name": "stderr",
     "output_type": "stream",
     "text": [
      "Processing row 5017:  92%|█████████▏| 5009/5456 [38:12<02:28,  3.02it/s]"
     ]
    },
    {
     "name": "stdout",
     "output_type": "stream",
     "text": [
      "Exception at row 5010\n",
      "'ascii' codec can't encode character '\\xc5' in position 30: ordinal not in range(128)\n",
      "Exception at row 5012\n",
      "'ascii' codec can't encode character '\\xe8' in position 35: ordinal not in range(128)\n",
      "Exception at row 5013\n",
      "'ascii' codec can't encode character '\\xf4' in position 52: ordinal not in range(128)\n"
     ]
    },
    {
     "name": "stderr",
     "output_type": "stream",
     "text": [
      "Processing row 5444: 100%|█████████▉| 5433/5456 [38:15<00:07,  2.97it/s]"
     ]
    },
    {
     "name": "stdout",
     "output_type": "stream",
     "text": [
      "Exception at row 5438\n",
      "'ascii' codec can't encode character '\\xe9' in position 73: ordinal not in range(128)\n"
     ]
    },
    {
     "name": "stderr",
     "output_type": "stream",
     "text": [
      "Processing row 4746:  87%|████████▋ | 4746/5455 [38:17<10:36,  1.11it/s]"
     ]
    },
    {
     "name": "stdout",
     "output_type": "stream",
     "text": [
      "Exception at row 5445\n",
      "'ascii' codec can't encode character '\\xf3' in position 72: ordinal not in range(128)\n"
     ]
    },
    {
     "name": "stderr",
     "output_type": "stream",
     "text": [
      "Processing row 5455: 100%|█████████▉| 5452/5456 [38:19<00:01,  3.65it/s]"
     ]
    },
    {
     "name": "stdout",
     "output_type": "stream",
     "text": [
      "Exception at row 5012\n",
      "'ascii' codec can't encode character '\\xfd' in position 53: ordinal not in range(128)\n"
     ]
    },
    {
     "name": "stderr",
     "output_type": "stream",
     "text": [
      "Processing row 5455: 100%|██████████| 5456/5456 [38:21<00:00,  2.37it/s]\n",
      "Processing row 4763:  87%|████████▋ | 4749/5455 [38:25<18:12,  1.55s/it]"
     ]
    },
    {
     "name": "stdout",
     "output_type": "stream",
     "text": [
      "Exception at row 4758\n",
      "'ascii' codec can't encode character '\\xe8' in position 41: ordinal not in range(128)\n",
      "Exception at row 4760\n",
      "'ascii' codec can't encode character '\\xe3' in position 13: ordinal not in range(128)\n"
     ]
    },
    {
     "name": "stderr",
     "output_type": "stream",
     "text": [
      "Processing row 5056:  93%|█████████▎| 5056/5456 [38:31<03:18,  2.01it/s]"
     ]
    },
    {
     "name": "stdout",
     "output_type": "stream",
     "text": [
      "Exception at row 5055\n",
      "list index out of range\n"
     ]
    },
    {
     "name": "stderr",
     "output_type": "stream",
     "text": [
      "Processing row 4784:  88%|████████▊ | 4777/5455 [38:34<05:52,  1.92it/s]"
     ]
    },
    {
     "name": "stdout",
     "output_type": "stream",
     "text": [
      "Exception at row 4783\n",
      "'ascii' codec can't encode character '\\xe4' in position 25: ordinal not in range(128)\n"
     ]
    },
    {
     "name": "stderr",
     "output_type": "stream",
     "text": [
      "Processing row 4800:  88%|████████▊ | 4786/5455 [38:38<05:53,  1.89it/s]"
     ]
    },
    {
     "name": "stdout",
     "output_type": "stream",
     "text": [
      "Exception at row 4786\n",
      "'ascii' codec can't encode character '\\xe8' in position 12: ordinal not in range(128)\n"
     ]
    },
    {
     "name": "stderr",
     "output_type": "stream",
     "text": [
      "Processing row 4821:  88%|████████▊ | 4801/5455 [38:40<03:14,  3.37it/s]"
     ]
    },
    {
     "name": "stdout",
     "output_type": "stream",
     "text": [
      "Exception at row 4807\n",
      "'ascii' codec can't encode characters in position 52-53: ordinal not in range(128)\n",
      "Exception at row 4812\n",
      "'ascii' codec can't encode character '\\xed' in position 25: ordinal not in range(128)\n"
     ]
    },
    {
     "name": "stderr",
     "output_type": "stream",
     "text": [
      "Processing row 5025:  92%|█████████▏| 5025/5456 [38:44<14:27,  2.01s/it]"
     ]
    },
    {
     "name": "stdout",
     "output_type": "stream",
     "text": [
      "Exception at row 5024\n",
      "list index out of range\n"
     ]
    },
    {
     "name": "stderr",
     "output_type": "stream",
     "text": [
      "Processing row 5028:  92%|█████████▏| 5027/5456 [38:47<13:53,  1.94s/it]"
     ]
    },
    {
     "name": "stdout",
     "output_type": "stream",
     "text": [
      "Exception at row 5027\n",
      "'ascii' codec can't encode character '\\xc4' in position 25: ordinal not in range(128)\n"
     ]
    },
    {
     "name": "stderr",
     "output_type": "stream",
     "text": [
      "Processing row 4838:  89%|████████▊ | 4835/5455 [38:54<06:09,  1.68it/s]"
     ]
    },
    {
     "name": "stdout",
     "output_type": "stream",
     "text": [
      "Exception at row 4837\n",
      "'ascii' codec can't encode character '\\xfc' in position 25: ordinal not in range(128)\n"
     ]
    },
    {
     "name": "stderr",
     "output_type": "stream",
     "text": [
      "Processing row 5032:  92%|█████████▏| 5032/5456 [38:55<11:44,  1.66s/it]"
     ]
    },
    {
     "name": "stdout",
     "output_type": "stream",
     "text": [
      "Exception at row 5031\n",
      "list index out of range\n"
     ]
    },
    {
     "name": "stderr",
     "output_type": "stream",
     "text": [
      "Processing row 4857:  89%|████████▉ | 4846/5455 [39:00<06:06,  1.66it/s]"
     ]
    },
    {
     "name": "stdout",
     "output_type": "stream",
     "text": [
      "Exception at row 4846\n",
      "'ascii' codec can't encode character '\\xe4' in position 10: ordinal not in range(128)\n",
      "Exception at row 4854\n",
      "'ascii' codec can't encode character '\\xfc' in position 16: ordinal not in range(128)\n"
     ]
    },
    {
     "name": "stderr",
     "output_type": "stream",
     "text": [
      "Processing row 4864:  89%|████████▉ | 4860/5455 [39:04<04:14,  2.34it/s]"
     ]
    },
    {
     "name": "stdout",
     "output_type": "stream",
     "text": [
      "Exception at row 4863\n",
      "'ascii' codec can't encode character '\\xe5' in position 28: ordinal not in range(128)\n"
     ]
    },
    {
     "name": "stderr",
     "output_type": "stream",
     "text": [
      "Processing row 4867:  89%|████████▉ | 4867/5455 [39:11<06:46,  1.45it/s]"
     ]
    },
    {
     "name": "stdout",
     "output_type": "stream",
     "text": [
      "Exception at row 4866\n",
      "list index out of range\n"
     ]
    },
    {
     "name": "stderr",
     "output_type": "stream",
     "text": [
      "Processing row 5082:  93%|█████████▎| 5079/5456 [39:13<12:37,  2.01s/it]"
     ]
    },
    {
     "name": "stdout",
     "output_type": "stream",
     "text": [
      "Exception at row 5079\n",
      "'ascii' codec can't encode character '\\xe9' in position 28: ordinal not in range(128)\n",
      "Exception at row 5080\n",
      "'ascii' codec can't encode character '\\xfc' in position 23: ordinal not in range(128)\n"
     ]
    },
    {
     "name": "stderr",
     "output_type": "stream",
     "text": [
      "Processing row 5089:  93%|█████████▎| 5087/5456 [39:18<06:18,  1.03s/it]"
     ]
    },
    {
     "name": "stdout",
     "output_type": "stream",
     "text": [
      "Exception at row 5086\n",
      "list index out of range\n",
      "Exception at row 5087\n",
      "'ascii' codec can't encode character '\\xe4' in position 47: ordinal not in range(128)\n"
     ]
    },
    {
     "name": "stderr",
     "output_type": "stream",
     "text": [
      "Processing row 5091:  93%|█████████▎| 5090/5456 [39:20<05:37,  1.08it/s]"
     ]
    },
    {
     "name": "stdout",
     "output_type": "stream",
     "text": [
      "Exception at row 5090\n",
      "'ascii' codec can't encode character '\\xe1' in position 16: ordinal not in range(128)\n"
     ]
    },
    {
     "name": "stderr",
     "output_type": "stream",
     "text": [
      "Processing row 5095:  93%|█████████▎| 5094/5456 [39:25<06:20,  1.05s/it]"
     ]
    },
    {
     "name": "stdout",
     "output_type": "stream",
     "text": [
      "Exception at row 5094\n",
      "'ascii' codec can't encode character '\\xfc' in position 39: ordinal not in range(128)\n"
     ]
    },
    {
     "name": "stderr",
     "output_type": "stream",
     "text": [
      "Processing row 4910:  90%|████████▉ | 4907/5455 [39:52<10:23,  1.14s/it]"
     ]
    },
    {
     "name": "stdout",
     "output_type": "stream",
     "text": [
      "Exception at row 4908\n",
      "'ascii' codec can't encode character '\\xf1' in position 25: ordinal not in range(128)\n"
     ]
    },
    {
     "name": "stderr",
     "output_type": "stream",
     "text": [
      "Processing row 4924:  90%|█████████ | 4913/5455 [39:57<08:32,  1.06it/s]"
     ]
    },
    {
     "name": "stdout",
     "output_type": "stream",
     "text": [
      "Exception at row 4918\n",
      "'ascii' codec can't encode character '\\xe9' in position 29: ordinal not in range(128)\n",
      "Exception at row 4919\n",
      "'ascii' codec can't encode character '\\xf4' in position 36: ordinal not in range(128)\n"
     ]
    },
    {
     "name": "stderr",
     "output_type": "stream",
     "text": [
      "Processing row 4925:  90%|█████████ | 4925/5455 [39:58<03:37,  2.44it/s]"
     ]
    },
    {
     "name": "stdout",
     "output_type": "stream",
     "text": [
      "Exception at row 4924\n",
      "list index out of range\n"
     ]
    },
    {
     "name": "stderr",
     "output_type": "stream",
     "text": [
      "Processing row 4933:  90%|█████████ | 4928/5455 [40:04<07:26,  1.18it/s]"
     ]
    },
    {
     "name": "stdout",
     "output_type": "stream",
     "text": [
      "Exception at row 4927\n",
      "list index out of range\n"
     ]
    },
    {
     "name": "stderr",
     "output_type": "stream",
     "text": [
      "Processing row 5120:  94%|█████████▍| 5119/5456 [40:16<12:05,  2.15s/it]"
     ]
    },
    {
     "name": "stdout",
     "output_type": "stream",
     "text": [
      "Exception at row 5119\n",
      "'ascii' codec can't encode character '\\xe5' in position 58: ordinal not in range(128)\n"
     ]
    },
    {
     "name": "stderr",
     "output_type": "stream",
     "text": [
      "Processing row 4963:  91%|█████████ | 4953/5455 [40:19<05:48,  1.44it/s]"
     ]
    },
    {
     "name": "stdout",
     "output_type": "stream",
     "text": [
      "Exception at row 4952\n",
      "list index out of range\n"
     ]
    },
    {
     "name": "stderr",
     "output_type": "stream",
     "text": [
      "Processing row 5074:  93%|█████████▎| 5074/5456 [40:43<13:05,  2.06s/it]"
     ]
    },
    {
     "name": "stdout",
     "output_type": "stream",
     "text": [
      "Exception at row 5073\n",
      "list index out of range\n"
     ]
    },
    {
     "name": "stderr",
     "output_type": "stream",
     "text": [
      "Processing row 5023:  92%|█████████▏| 5020/5455 [41:01<02:32,  2.85it/s]"
     ]
    },
    {
     "name": "stdout",
     "output_type": "stream",
     "text": [
      "Exception at row 5022\n",
      "'ascii' codec can't encode character '\\xe0' in position 33: ordinal not in range(128)\n"
     ]
    },
    {
     "name": "stderr",
     "output_type": "stream",
     "text": [
      "Processing row 5036:  92%|█████████▏| 5032/5455 [41:11<03:58,  1.77it/s]"
     ]
    },
    {
     "name": "stdout",
     "output_type": "stream",
     "text": [
      "Exception at row 5031\n",
      "list index out of range\n"
     ]
    },
    {
     "name": "stderr",
     "output_type": "stream",
     "text": [
      "Processing row 5143:  94%|█████████▍| 5142/5456 [41:13<12:50,  2.45s/it]"
     ]
    },
    {
     "name": "stdout",
     "output_type": "stream",
     "text": [
      "Exception at row 5142\n",
      "'ascii' codec can't encode character '\\xe6' in position 29: ordinal not in range(128)\n"
     ]
    },
    {
     "name": "stderr",
     "output_type": "stream",
     "text": [
      "Processing row 5043:  92%|█████████▏| 5038/5455 [41:15<04:32,  1.53it/s]"
     ]
    },
    {
     "name": "stdout",
     "output_type": "stream",
     "text": [
      "Exception at row 5039\n",
      "'ascii' codec can't encode character '\\xda' in position 25: ordinal not in range(128)\n"
     ]
    },
    {
     "name": "stderr",
     "output_type": "stream",
     "text": [
      "Processing row 5089:  93%|█████████▎| 5088/5456 [41:18<21:47,  3.55s/it]"
     ]
    },
    {
     "name": "stdout",
     "output_type": "stream",
     "text": [
      "Exception at row 5088\n",
      "'ascii' codec can't encode character '\\xf4' in position 32: ordinal not in range(128)\n"
     ]
    },
    {
     "name": "stderr",
     "output_type": "stream",
     "text": [
      "Processing row 5152:  94%|█████████▍| 5151/5456 [41:31<11:47,  2.32s/it]"
     ]
    },
    {
     "name": "stdout",
     "output_type": "stream",
     "text": [
      "Exception at row 5151\n",
      "'ascii' codec can't encode character '\\xf6' in position 27: ordinal not in range(128)\n"
     ]
    },
    {
     "name": "stderr",
     "output_type": "stream",
     "text": [
      "Processing row 5114:  94%|█████████▎| 5113/5456 [42:17<12:19,  2.16s/it]"
     ]
    },
    {
     "name": "stdout",
     "output_type": "stream",
     "text": [
      "Exception at row 5113\n",
      "'ascii' codec can't encode character '\\xeb' in position 18: ordinal not in range(128)\n"
     ]
    },
    {
     "name": "stderr",
     "output_type": "stream",
     "text": [
      "Processing row 5175:  95%|█████████▍| 5174/5456 [42:18<09:06,  1.94s/it]"
     ]
    },
    {
     "name": "stdout",
     "output_type": "stream",
     "text": [
      "Exception at row 5174\n",
      "'ascii' codec can't encode character '\\xe8' in position 29: ordinal not in range(128)\n"
     ]
    },
    {
     "name": "stderr",
     "output_type": "stream",
     "text": [
      "Processing row 5117:  94%|█████████▍| 5117/5456 [42:24<11:50,  2.10s/it]"
     ]
    },
    {
     "name": "stdout",
     "output_type": "stream",
     "text": [
      "Exception at row 5116\n",
      "IncompleteRead(447456 bytes read)\n"
     ]
    },
    {
     "name": "stderr",
     "output_type": "stream",
     "text": [
      "Processing row 5122:  94%|█████████▍| 5121/5456 [42:34<13:49,  2.48s/it]"
     ]
    },
    {
     "name": "stdout",
     "output_type": "stream",
     "text": [
      "Exception at row 5121\n",
      "'ascii' codec can't encode character '\\xf6' in position 55: ordinal not in range(128)\n"
     ]
    },
    {
     "name": "stderr",
     "output_type": "stream",
     "text": [
      "Processing row 5187:  95%|█████████▌| 5184/5456 [42:39<10:51,  2.40s/it]"
     ]
    },
    {
     "name": "stdout",
     "output_type": "stream",
     "text": [
      "Exception at row 5184\n",
      "'ascii' codec can't encode character '\\xdf' in position 62: ordinal not in range(128)\n",
      "Exception at row 5185\n",
      "'ascii' codec can't encode character '\\xdf' in position 35: ordinal not in range(128)\n",
      "Exception at row 5186\n",
      "'ascii' codec can't encode character '\\xe4' in position 12: ordinal not in range(128)\n"
     ]
    },
    {
     "name": "stderr",
     "output_type": "stream",
     "text": [
      "Processing row 5131:  94%|█████████▍| 5130/5456 [42:47<07:42,  1.42s/it]"
     ]
    },
    {
     "name": "stdout",
     "output_type": "stream",
     "text": [
      "Exception at row 5130\n",
      "'ascii' codec can't encode character '\\xe8' in position 42: ordinal not in range(128)\n"
     ]
    },
    {
     "name": "stderr",
     "output_type": "stream",
     "text": [
      "Processing row 5115:  94%|█████████▍| 5115/5455 [43:05<15:35,  2.75s/it]"
     ]
    },
    {
     "name": "stdout",
     "output_type": "stream",
     "text": [
      "Exception at row 5196\n",
      "'ascii' codec can't encode character '\\xe6' in position 47: ordinal not in range(128)\n"
     ]
    },
    {
     "name": "stderr",
     "output_type": "stream",
     "text": [
      "Processing row 5116:  94%|█████████▍| 5115/5455 [43:05<15:35,  2.75s/it]"
     ]
    },
    {
     "name": "stdout",
     "output_type": "stream",
     "text": [
      "Exception at row 5115\n",
      "'ascii' codec can't encode character '\\xf4' in position 36: ordinal not in range(128)\n"
     ]
    },
    {
     "name": "stderr",
     "output_type": "stream",
     "text": [
      "Processing row 5202:  95%|█████████▌| 5201/5456 [43:13<08:51,  2.09s/it]"
     ]
    },
    {
     "name": "stdout",
     "output_type": "stream",
     "text": [
      "Exception at row 5201\n",
      "'ascii' codec can't encode character '\\xe5' in position 53: ordinal not in range(128)\n"
     ]
    },
    {
     "name": "stderr",
     "output_type": "stream",
     "text": [
      "Processing row 5219:  96%|█████████▌| 5219/5456 [43:45<05:10,  1.31s/it]"
     ]
    },
    {
     "name": "stdout",
     "output_type": "stream",
     "text": [
      "Exception at row 5218\n",
      "list index out of range\n"
     ]
    },
    {
     "name": "stderr",
     "output_type": "stream",
     "text": [
      "Processing row 5144:  94%|█████████▍| 5141/5455 [44:12<15:22,  2.94s/it]"
     ]
    },
    {
     "name": "stdout",
     "output_type": "stream",
     "text": [
      "Exception at row 5142\n",
      "'ascii' codec can't encode characters in position 38-39: ordinal not in range(128)\n"
     ]
    },
    {
     "name": "stderr",
     "output_type": "stream",
     "text": [
      "Processing row 5235:  96%|█████████▌| 5234/5456 [44:27<12:02,  3.25s/it]"
     ]
    },
    {
     "name": "stdout",
     "output_type": "stream",
     "text": [
      "Exception at row 5234\n",
      "'ascii' codec can't encode character '\\xdf' in position 31: ordinal not in range(128)\n"
     ]
    },
    {
     "name": "stderr",
     "output_type": "stream",
     "text": [
      "Processing row 5177:  95%|█████████▍| 5175/5456 [44:51<10:45,  2.30s/it]"
     ]
    },
    {
     "name": "stdout",
     "output_type": "stream",
     "text": [
      "Exception at row 5176\n",
      "'ascii' codec can't encode character '\\xed' in position 23: ordinal not in range(128)\n"
     ]
    },
    {
     "name": "stderr",
     "output_type": "stream",
     "text": [
      "Processing row 5254:  96%|█████████▋| 5253/5456 [45:06<07:26,  2.20s/it]"
     ]
    },
    {
     "name": "stdout",
     "output_type": "stream",
     "text": [
      "Exception at row 5253\n",
      "'ascii' codec can't encode character '\\xe9' in position 10: ordinal not in range(128)\n"
     ]
    },
    {
     "name": "stderr",
     "output_type": "stream",
     "text": [
      "Processing row 5257:  96%|█████████▋| 5257/5456 [45:08<03:18,  1.00it/s]"
     ]
    },
    {
     "name": "stdout",
     "output_type": "stream",
     "text": [
      "Exception at row 5255\n",
      "'ascii' codec can't encode character '\\xf4' in position 46: ordinal not in range(128)\n",
      "Exception at row 5256\n",
      "'ascii' codec can't encode character '\\xe8' in position 42: ordinal not in range(128)\n"
     ]
    },
    {
     "name": "stderr",
     "output_type": "stream",
     "text": [
      "Processing row 5172:  95%|█████████▍| 5172/5455 [45:10<09:32,  2.02s/it]"
     ]
    },
    {
     "name": "stdout",
     "output_type": "stream",
     "text": [
      "Exception at row 5190\n",
      "list index out of range\n"
     ]
    },
    {
     "name": "stderr",
     "output_type": "stream",
     "text": [
      "Processing row 5194:  95%|█████████▌| 5194/5456 [45:15<06:40,  1.53s/it]"
     ]
    },
    {
     "name": "stdout",
     "output_type": "stream",
     "text": [
      "Exception at row 5193\n",
      "list index out of range\n"
     ]
    },
    {
     "name": "stderr",
     "output_type": "stream",
     "text": [
      "Processing row 5197:  95%|█████████▌| 5195/5456 [45:17<07:04,  1.62s/it]"
     ]
    },
    {
     "name": "stdout",
     "output_type": "stream",
     "text": [
      "Exception at row 5196\n",
      "'ascii' codec can't encode character '\\xf4' in position 29: ordinal not in range(128)\n"
     ]
    },
    {
     "name": "stderr",
     "output_type": "stream",
     "text": [
      "Processing row 5204:  95%|█████████▌| 5204/5456 [45:29<06:26,  1.53s/it]"
     ]
    },
    {
     "name": "stdout",
     "output_type": "stream",
     "text": [
      "Exception at row 5182\n",
      "'ascii' codec can't encode character '\\xe1' in position 23: ordinal not in range(128)\n"
     ]
    },
    {
     "name": "stderr",
     "output_type": "stream",
     "text": [
      "Processing row 5210:  95%|█████████▌| 5207/5456 [45:35<07:27,  1.80s/it]"
     ]
    },
    {
     "name": "stdout",
     "output_type": "stream",
     "text": [
      "Exception at row 5186\n",
      "'ascii' codec can't encode character '\\xe4' in position 31: ordinal not in range(128)\n"
     ]
    },
    {
     "name": "stderr",
     "output_type": "stream",
     "text": [
      "Processing row 5280:  97%|█████████▋| 5277/5456 [45:35<03:52,  1.30s/it]"
     ]
    },
    {
     "name": "stdout",
     "output_type": "stream",
     "text": [
      "Exception at row 5277\n",
      "'ascii' codec can't encode character '\\xe0' in position 28: ordinal not in range(128)\n"
     ]
    },
    {
     "name": "stderr",
     "output_type": "stream",
     "text": [
      "Processing row 5198:  95%|█████████▌| 5197/5455 [45:56<08:27,  1.97s/it]"
     ]
    },
    {
     "name": "stdout",
     "output_type": "stream",
     "text": [
      "Exception at row 5197\n",
      "'ascii' codec can't encode character '\\xf3' in position 34: ordinal not in range(128)\n"
     ]
    },
    {
     "name": "stderr",
     "output_type": "stream",
     "text": [
      "Processing row 5243:  96%|█████████▌| 5241/5456 [46:00<02:39,  1.35it/s]"
     ]
    },
    {
     "name": "stdout",
     "output_type": "stream",
     "text": [
      "Exception at row 5242\n",
      "'ascii' codec can't encode character '\\xed' in position 40: ordinal not in range(128)\n"
     ]
    },
    {
     "name": "stderr",
     "output_type": "stream",
     "text": [
      "Processing row 5265:  96%|█████████▋| 5256/5456 [46:04<01:10,  2.84it/s]"
     ]
    },
    {
     "name": "stdout",
     "output_type": "stream",
     "text": [
      "Exception at row 5259\n",
      "'ascii' codec can't encode character '\\xef' in position 31: ordinal not in range(128)\n"
     ]
    },
    {
     "name": "stderr",
     "output_type": "stream",
     "text": [
      "Processing row 5267:  97%|█████████▋| 5266/5456 [46:09<01:15,  2.53it/s]"
     ]
    },
    {
     "name": "stdout",
     "output_type": "stream",
     "text": [
      "Exception at row 5265\n",
      "list index out of range\n"
     ]
    },
    {
     "name": "stderr",
     "output_type": "stream",
     "text": [
      "Processing row 5208:  95%|█████████▌| 5208/5455 [46:20<11:48,  2.87s/it]"
     ]
    },
    {
     "name": "stdout",
     "output_type": "stream",
     "text": [
      "Exception at row 5278\n",
      "'ascii' codec can't encode character '\\xfc' in position 28: ordinal not in range(128)\n"
     ]
    },
    {
     "name": "stderr",
     "output_type": "stream",
     "text": [
      "Processing row 5307:  97%|█████████▋| 5305/5456 [46:38<02:08,  1.17it/s]"
     ]
    },
    {
     "name": "stdout",
     "output_type": "stream",
     "text": [
      "Exception at row 5306\n",
      "'ascii' codec can't encode character '\\xf4' in position 18: ordinal not in range(128)\n"
     ]
    },
    {
     "name": "stderr",
     "output_type": "stream",
     "text": [
      "Processing row 5323:  98%|█████████▊| 5321/5456 [46:51<04:57,  2.21s/it]"
     ]
    },
    {
     "name": "stdout",
     "output_type": "stream",
     "text": [
      "Exception at row 5321\n",
      "'ascii' codec can't encode character '\\xe4' in position 42: ordinal not in range(128)\n",
      "Exception at row 5322\n",
      "'ascii' codec can't encode character '\\xf6' in position 27: ordinal not in range(128)\n"
     ]
    },
    {
     "name": "stderr",
     "output_type": "stream",
     "text": [
      "Processing row 5327:  98%|█████████▊| 5324/5456 [46:58<01:47,  1.23it/s]"
     ]
    },
    {
     "name": "stdout",
     "output_type": "stream",
     "text": [
      "Exception at row 5325\n",
      "'ascii' codec can't encode character '\\xfb' in position 34: ordinal not in range(128)\n"
     ]
    },
    {
     "name": "stderr",
     "output_type": "stream",
     "text": [
      "Processing row 5340:  98%|█████████▊| 5331/5456 [47:02<01:27,  1.42it/s]"
     ]
    },
    {
     "name": "stdout",
     "output_type": "stream",
     "text": [
      "Exception at row 5331\n",
      "'ascii' codec can't encode character '\\xf3' in position 13: ordinal not in range(128)\n",
      "Exception at row 5332\n",
      "'ascii' codec can't encode character '\\xfb' in position 38: ordinal not in range(128)\n",
      "Exception at row 5338\n",
      "'ascii' codec can't encode character '\\xe4' in position 74: ordinal not in range(128)\n"
     ]
    },
    {
     "name": "stderr",
     "output_type": "stream",
     "text": [
      "Processing row 5361:  98%|█████████▊| 5341/5456 [47:08<01:14,  1.54it/s]"
     ]
    },
    {
     "name": "stdout",
     "output_type": "stream",
     "text": [
      "Exception at row 5346\n",
      "'ascii' codec can't encode character '\\xe8' in position 71: ordinal not in range(128)\n",
      "Exception at row 5351\n",
      "'ascii' codec can't encode character '\\xe9' in position 41: ordinal not in range(128)\n"
     ]
    },
    {
     "name": "stderr",
     "output_type": "stream",
     "text": [
      "Processing row 5363:  98%|█████████▊| 5363/5456 [47:14<00:39,  2.35it/s]"
     ]
    },
    {
     "name": "stdout",
     "output_type": "stream",
     "text": [
      "Exception at row 5362\n",
      "list index out of range\n"
     ]
    },
    {
     "name": "stderr",
     "output_type": "stream",
     "text": [
      "Processing row 5380:  99%|█████████▊| 5377/5456 [47:34<01:25,  1.08s/it]"
     ]
    },
    {
     "name": "stdout",
     "output_type": "stream",
     "text": [
      "Exception at row 5377\n",
      "'ascii' codec can't encode character '\\xe8' in position 33: ordinal not in range(128)\n",
      "Exception at row 5378\n",
      "'ascii' codec can't encode character '\\xe9' in position 28: ordinal not in range(128)\n",
      "Exception at row 5379\n",
      "'ascii' codec can't encode character '\\xf4' in position 19: ordinal not in range(128)\n"
     ]
    },
    {
     "name": "stderr",
     "output_type": "stream",
     "text": [
      "Processing row 5383:  98%|█████████▊| 5367/5456 [47:39<01:10,  1.26it/s]"
     ]
    },
    {
     "name": "stdout",
     "output_type": "stream",
     "text": [
      "Exception at row 5382\n",
      "'ascii' codec can't encode character '\\xe2' in position 34: ordinal not in range(128)\n"
     ]
    },
    {
     "name": "stderr",
     "output_type": "stream",
     "text": [
      "Processing row 5242:  96%|█████████▌| 5241/5455 [47:40<10:14,  2.87s/it]"
     ]
    },
    {
     "name": "stdout",
     "output_type": "stream",
     "text": [
      "Exception at row 5241\n",
      "'ascii' codec can't encode character '\\xe0' in position 16: ordinal not in range(128)\n"
     ]
    },
    {
     "name": "stderr",
     "output_type": "stream",
     "text": [
      "Processing row 5389:  99%|█████████▊| 5386/5456 [47:43<00:26,  2.63it/s]"
     ]
    },
    {
     "name": "stdout",
     "output_type": "stream",
     "text": [
      "Exception at row 5388\n",
      "'ascii' codec can't encode character '\\xe8' in position 38: ordinal not in range(128)\n"
     ]
    },
    {
     "name": "stderr",
     "output_type": "stream",
     "text": [
      "Processing row 5392:  99%|█████████▉| 5390/5456 [47:44<00:55,  1.19it/s]"
     ]
    },
    {
     "name": "stdout",
     "output_type": "stream",
     "text": [
      "Exception at row 5390\n",
      "'ascii' codec can't encode character '\\xe9' in position 14: ordinal not in range(128)\n"
     ]
    },
    {
     "name": "stderr",
     "output_type": "stream",
     "text": [
      "Processing row 5397:  99%|█████████▉| 5392/5456 [47:51<00:43,  1.47it/s]"
     ]
    },
    {
     "name": "stdout",
     "output_type": "stream",
     "text": [
      "Exception at row 5396\n",
      "'ascii' codec can't encode character '\\xe8' in position 41: ordinal not in range(128)\n"
     ]
    },
    {
     "name": "stderr",
     "output_type": "stream",
     "text": [
      "Processing row 5249:  96%|█████████▌| 5249/5455 [47:55<08:23,  2.45s/it]"
     ]
    },
    {
     "name": "stdout",
     "output_type": "stream",
     "text": [
      "Exception at row 5400\n",
      "list index out of range\n"
     ]
    },
    {
     "name": "stderr",
     "output_type": "stream",
     "text": [
      "Processing row 5407:  99%|█████████▉| 5402/5456 [48:01<01:01,  1.13s/it]"
     ]
    },
    {
     "name": "stdout",
     "output_type": "stream",
     "text": [
      "Exception at row 5403\n",
      "'ascii' codec can't encode character '\\xea' in position 54: ordinal not in range(128)\n"
     ]
    },
    {
     "name": "stderr",
     "output_type": "stream",
     "text": [
      "Processing row 5420:  99%|█████████▉| 5410/5456 [48:10<00:54,  1.18s/it]"
     ]
    },
    {
     "name": "stdout",
     "output_type": "stream",
     "text": [
      "Exception at row 5416\n",
      "'ascii' codec can't encode character '\\xf4' in position 10: ordinal not in range(128)\n",
      "Exception at row 5417\n",
      "'ascii' codec can't encode character '\\xed' in position 27: ordinal not in range(128)\n"
     ]
    },
    {
     "name": "stderr",
     "output_type": "stream",
     "text": [
      "Processing row 5423:  99%|█████████▉| 5421/5456 [48:12<00:18,  1.91it/s]"
     ]
    },
    {
     "name": "stdout",
     "output_type": "stream",
     "text": [
      "Exception at row 5422\n",
      "'ascii' codec can't encode character '\\xfa' in position 43: ordinal not in range(128)\n"
     ]
    },
    {
     "name": "stderr",
     "output_type": "stream",
     "text": [
      "Processing row 5263:  96%|█████████▋| 5261/5455 [48:24<07:32,  2.33s/it]"
     ]
    },
    {
     "name": "stdout",
     "output_type": "stream",
     "text": [
      "Exception at row 5262\n",
      "'ascii' codec can't encode character '\\xe4' in position 23: ordinal not in range(128)\n"
     ]
    },
    {
     "name": "stderr",
     "output_type": "stream",
     "text": [
      "Processing row 5455: 100%|██████████| 5456/5456 [48:30<00:00,  1.87it/s]\n"
     ]
    },
    {
     "name": "stdout",
     "output_type": "stream",
     "text": [
      "Exception at row 5455\n",
      "'ascii' codec can't encode character '\\xe1' in position 51: ordinal not in range(128)\n"
     ]
    },
    {
     "name": "stderr",
     "output_type": "stream",
     "text": [
      "Processing row 5445: 100%|█████████▉| 5437/5456 [48:35<00:29,  1.55s/it]"
     ]
    },
    {
     "name": "stdout",
     "output_type": "stream",
     "text": [
      "Exception at row 5438\n",
      "'ascii' codec can't encode character '\\xf6' in position 10: ordinal not in range(128)\n"
     ]
    },
    {
     "name": "stderr",
     "output_type": "stream",
     "text": [
      "Processing row 5455: 100%|██████████| 5456/5456 [48:42<00:00,  1.87it/s]\n",
      "Processing row 5287:  97%|█████████▋| 5283/5455 [48:56<05:46,  2.02s/it]"
     ]
    },
    {
     "name": "stdout",
     "output_type": "stream",
     "text": [
      "Exception at row 5286\n",
      "'ascii' codec can't encode character '\\xe1' in position 44: ordinal not in range(128)\n"
     ]
    },
    {
     "name": "stderr",
     "output_type": "stream",
     "text": [
      "Processing row 5329:  98%|█████████▊| 5327/5455 [49:42<02:25,  1.14s/it]"
     ]
    },
    {
     "name": "stdout",
     "output_type": "stream",
     "text": [
      "Exception at row 5326\n",
      "list index out of range\n"
     ]
    },
    {
     "name": "stderr",
     "output_type": "stream",
     "text": [
      "Processing row 5361:  98%|█████████▊| 5360/5455 [50:08<01:39,  1.05s/it]"
     ]
    },
    {
     "name": "stdout",
     "output_type": "stream",
     "text": [
      "Exception at row 5360\n",
      "'ascii' codec can't encode character '\\xfc' in position 32: ordinal not in range(128)\n"
     ]
    },
    {
     "name": "stderr",
     "output_type": "stream",
     "text": [
      "Processing row 5366:  98%|█████████▊| 5363/5455 [50:12<01:49,  1.19s/it]"
     ]
    },
    {
     "name": "stdout",
     "output_type": "stream",
     "text": [
      "Exception at row 5364\n",
      "'ascii' codec can't encode character '\\xf4' in position 41: ordinal not in range(128)\n"
     ]
    },
    {
     "name": "stderr",
     "output_type": "stream",
     "text": [
      "Processing row 5400:  99%|█████████▉| 5394/5455 [50:39<00:41,  1.46it/s]"
     ]
    },
    {
     "name": "stdout",
     "output_type": "stream",
     "text": [
      "Exception at row 5394\n",
      "'ascii' codec can't encode character '\\xe4' in position 29: ordinal not in range(128)\n",
      "Exception at row 5395\n",
      "'ascii' codec can't encode characters in position 28-29: ordinal not in range(128)\n",
      "Exception at row 5396\n",
      "'ascii' codec can't encode character '\\xe9' in position 24: ordinal not in range(128)\n"
     ]
    },
    {
     "name": "stderr",
     "output_type": "stream",
     "text": [
      "Processing row 5437: 100%|█████████▉| 5429/5455 [50:57<00:14,  1.83it/s]"
     ]
    },
    {
     "name": "stdout",
     "output_type": "stream",
     "text": [
      "Exception at row 5432\n",
      "'ascii' codec can't encode character '\\xe8' in position 47: ordinal not in range(128)\n"
     ]
    },
    {
     "name": "stderr",
     "output_type": "stream",
     "text": [
      "Processing row 5441: 100%|█████████▉| 5438/5455 [50:59<00:06,  2.44it/s]"
     ]
    },
    {
     "name": "stdout",
     "output_type": "stream",
     "text": [
      "Exception at row 5439\n",
      "'ascii' codec can't encode character '\\xf3' in position 43: ordinal not in range(128)\n"
     ]
    },
    {
     "name": "stderr",
     "output_type": "stream",
     "text": [
      "Processing row 5447: 100%|█████████▉| 5442/5455 [51:01<00:05,  2.31it/s]"
     ]
    },
    {
     "name": "stdout",
     "output_type": "stream",
     "text": [
      "Exception at row 5444\n",
      "'ascii' codec can't encode character '\\xe9' in position 26: ordinal not in range(128)\n"
     ]
    },
    {
     "name": "stderr",
     "output_type": "stream",
     "text": [
      "Processing row 5454: 100%|██████████| 5455/5455 [51:05<00:00,  1.78it/s]\n"
     ]
    },
    {
     "name": "stdout",
     "output_type": "stream",
     "text": [
      "Exception at row 5450\n",
      "'ascii' codec can't encode character '\\xe0' in position 17: ordinal not in range(128)\n"
     ]
    }
   ],
   "source": [
    "for i in range(WORKERS_NUM):\n",
    "    t = PageUrl(split_list[i])\n",
    "    t.start()"
   ]
  },
  {
   "cell_type": "code",
   "execution_count": 6,
   "metadata": {
    "tags": []
   },
   "outputs": [
    {
     "name": "stderr",
     "output_type": "stream",
     "text": [
      "Processing row 5:   0%|          | 4/5455 [00:08<2:46:55,  1.84s/it]"
     ]
    },
    {
     "name": "stdout",
     "output_type": "stream",
     "text": [
      "Exception at row 3\n",
      "list index out of range\n",
      "Exception at row 4\n",
      "'ascii' codec can't encode character '\\xeb' in position 33: ordinal not in range(128)\n"
     ]
    },
    {
     "name": "stderr",
     "output_type": "stream",
     "text": [
      "Processing row 11:   0%|          | 11/5455 [00:16<1:38:25,  1.08s/it]"
     ]
    },
    {
     "name": "stdout",
     "output_type": "stream",
     "text": [
      "Exception at row 10\n",
      "list index out of range\n"
     ]
    },
    {
     "name": "stderr",
     "output_type": "stream",
     "text": [
      "Processing row 26:   0%|          | 25/5455 [00:33<1:50:57,  1.23s/it]"
     ]
    },
    {
     "name": "stdout",
     "output_type": "stream",
     "text": [
      "Exception at row 25\n",
      "'ascii' codec can't encode character '\\xe9' in position 12: ordinal not in range(128)\n"
     ]
    },
    {
     "name": "stderr",
     "output_type": "stream",
     "text": [
      "Processing row 45:   1%|          | 45/5455 [01:00<1:59:16,  1.32s/it]"
     ]
    },
    {
     "name": "stdout",
     "output_type": "stream",
     "text": [
      "Exception at row 44\n",
      "list index out of range\n"
     ]
    },
    {
     "name": "stderr",
     "output_type": "stream",
     "text": [
      "Processing row 53:   1%|          | 53/5455 [01:12<1:40:35,  1.12s/it]"
     ]
    },
    {
     "name": "stdout",
     "output_type": "stream",
     "text": [
      "Exception at row 52\n",
      "list index out of range\n"
     ]
    },
    {
     "name": "stderr",
     "output_type": "stream",
     "text": [
      "Processing row 80:   1%|▏         | 79/5455 [01:55<2:02:42,  1.37s/it]"
     ]
    },
    {
     "name": "stdout",
     "output_type": "stream",
     "text": [
      "Exception at row 79\n",
      "'ascii' codec can't encode character '\\xe1' in position 16: ordinal not in range(128)\n"
     ]
    },
    {
     "name": "stderr",
     "output_type": "stream",
     "text": [
      "Processing row 86:   2%|▏         | 86/5455 [01:59<1:36:29,  1.08s/it]"
     ]
    }
   ],
   "source": [
    "PageUrl(split_list[4]).start()"
   ]
  },
  {
   "cell_type": "code",
   "execution_count": 3,
   "metadata": {},
   "outputs": [
    {
     "data": {
      "text/plain": [
       "16054"
      ]
     },
     "execution_count": 3,
     "metadata": {},
     "output_type": "execute_result"
    }
   ],
   "source": [
    "cursor.execute('SELECT * FROM prices WHERE pageUrl IS NOT NULL')\n",
    "len(cursor.fetchall())"
   ]
  },
  {
   "cell_type": "code",
   "execution_count": 6,
   "metadata": {},
   "outputs": [
    {
     "data": {
      "text/plain": [
       "27278"
      ]
     },
     "execution_count": 6,
     "metadata": {},
     "output_type": "execute_result"
    }
   ],
   "source": [
    "cursor.execute('SELECT * FROM prices')\n",
    "len(cursor.fetchall())"
   ]
  },
  {
   "cell_type": "code",
   "execution_count": 28,
   "metadata": {
    "tags": []
   },
   "outputs": [
    {
     "data": {
      "text/plain": [
       "24532"
      ]
     },
     "execution_count": 28,
     "metadata": {},
     "output_type": "execute_result"
    },
    {
     "name": "stderr",
     "output_type": "stream",
     "text": [
      "Processing row 5444: 100%|█████████▉| 5444/5455 [2:01:20<00:15,  1.45s/it]"
     ]
    },
    {
     "name": "stdout",
     "output_type": "stream",
     "text": [
      "Exception at row 5443\n",
      "list index out of range\n"
     ]
    },
    {
     "name": "stderr",
     "output_type": "stream",
     "text": [
      "Processing row 5445: 100%|█████████▉| 5445/5455 [2:01:22<00:14,  1.42s/it]"
     ]
    }
   ],
   "source": [
    "cursor.execute('SELECT * FROM prices WHERE pageUrl IS NOT NULL')\n",
    "len(cursor.fetchall())"
   ]
  },
  {
   "cell_type": "code",
   "execution_count": 22,
   "metadata": {},
   "outputs": [
    {
     "name": "stderr",
     "output_type": "stream",
     "text": [
      "Processing row 5387:  99%|█████████▉| 5387/5455 [2:00:20<00:20,  3.28it/s]"
     ]
    },
    {
     "name": "stdout",
     "output_type": "stream",
     "text": [
      "Exception at row 5386\n",
      "list index out of range\n"
     ]
    },
    {
     "name": "stderr",
     "output_type": "stream",
     "text": [
      "Processing row 5388:  99%|█████████▉| 5388/5455 [2:00:20<00:19,  3.40it/s]"
     ]
    },
    {
     "name": "stdout",
     "output_type": "stream",
     "text": [
      "Exception at row 5387\n",
      "list index out of range\n"
     ]
    },
    {
     "ename": "IndexError",
     "evalue": "list index out of range",
     "output_type": "error",
     "traceback": [
      "\u001b[0;31m---------------------------------------------------------------------------\u001b[0m",
      "\u001b[0;31mIndexError\u001b[0m                                Traceback (most recent call last)",
      "\u001b[0;32m<ipython-input-22-c79503fc54a0>\u001b[0m in \u001b[0;36m<module>\u001b[0;34m\u001b[0m\n\u001b[0;32m----> 1\u001b[0;31m \u001b[0mgetMoviePrice\u001b[0m\u001b[0;34m(\u001b[0m\u001b[0;34m\"https://www.amazon.com/Superbad-Unrated-Jonah-Hill/dp/B00EFCHT08/ref=sr_1_1?dchild=1&keywords=Superbad+2007&qid=1619260061&s=movies-tv&sr=1-1\"\u001b[0m\u001b[0;34m)\u001b[0m\u001b[0;34m\u001b[0m\u001b[0;34m\u001b[0m\u001b[0m\n\u001b[0m",
      "\u001b[0;32m<ipython-input-3-586d2f3c8b59>\u001b[0m in \u001b[0;36mgetMoviePrice\u001b[0;34m(url)\u001b[0m\n\u001b[1;32m     28\u001b[0m     \u001b[0mobj\u001b[0m \u001b[0;34m=\u001b[0m \u001b[0mbf\u001b[0m\u001b[0;34m(\u001b[0m\u001b[0mhtml\u001b[0m\u001b[0;34m.\u001b[0m\u001b[0mread\u001b[0m\u001b[0;34m(\u001b[0m\u001b[0;34m)\u001b[0m\u001b[0;34m,\u001b[0m\u001b[0;34m'html.parser'\u001b[0m\u001b[0;34m)\u001b[0m\u001b[0;34m\u001b[0m\u001b[0;34m\u001b[0m\u001b[0m\n\u001b[1;32m     29\u001b[0m     \u001b[0mlst\u001b[0m \u001b[0;34m=\u001b[0m \u001b[0;34m[\u001b[0m\u001b[0mstr\u001b[0m\u001b[0;34m(\u001b[0m\u001b[0mx\u001b[0m\u001b[0;34m)\u001b[0m \u001b[0;32mfor\u001b[0m \u001b[0mx\u001b[0m \u001b[0;32min\u001b[0m \u001b[0mobj\u001b[0m\u001b[0;34m.\u001b[0m\u001b[0mbody\u001b[0m\u001b[0;34m.\u001b[0m\u001b[0mfind_all\u001b[0m\u001b[0;34m(\u001b[0m\u001b[0;34m'button'\u001b[0m\u001b[0;34m)\u001b[0m \u001b[0;32mif\u001b[0m \u001b[0;34m'Buy'\u001b[0m \u001b[0;32min\u001b[0m \u001b[0mstr\u001b[0m\u001b[0;34m(\u001b[0m\u001b[0mx\u001b[0m\u001b[0;34m)\u001b[0m\u001b[0;34m]\u001b[0m\u001b[0;34m\u001b[0m\u001b[0;34m\u001b[0m\u001b[0m\n\u001b[0;32m---> 30\u001b[0;31m     \u001b[0;32mreturn\u001b[0m \u001b[0mfloat\u001b[0m\u001b[0;34m(\u001b[0m\u001b[0mre\u001b[0m\u001b[0;34m.\u001b[0m\u001b[0mfindall\u001b[0m\u001b[0;34m(\u001b[0m\u001b[0;34mr'(?<=\\$)\\d{1,3}(?:[.,]\\d{3})*(?:[.,]\\d{2})'\u001b[0m\u001b[0;34m,\u001b[0m \u001b[0mlst\u001b[0m\u001b[0;34m[\u001b[0m\u001b[0;36m0\u001b[0m\u001b[0;34m]\u001b[0m\u001b[0;34m)\u001b[0m\u001b[0;34m[\u001b[0m\u001b[0;36m0\u001b[0m\u001b[0;34m]\u001b[0m\u001b[0;34m)\u001b[0m\u001b[0;34m\u001b[0m\u001b[0;34m\u001b[0m\u001b[0m\n\u001b[0m\u001b[1;32m     31\u001b[0m \u001b[0;34m\u001b[0m\u001b[0m\n\u001b[1;32m     32\u001b[0m \u001b[0;32mdef\u001b[0m \u001b[0mremoveBrackets\u001b[0m\u001b[0;34m(\u001b[0m\u001b[0mtitle\u001b[0m\u001b[0;34m)\u001b[0m\u001b[0;34m:\u001b[0m\u001b[0;34m\u001b[0m\u001b[0;34m\u001b[0m\u001b[0m\n",
      "\u001b[0;31mIndexError\u001b[0m: list index out of range"
     ]
    },
    {
     "name": "stderr",
     "output_type": "stream",
     "text": [
      "Processing row 5392:  99%|█████████▉| 5390/5455 [2:00:22<00:36,  1.80it/s]"
     ]
    },
    {
     "name": "stdout",
     "output_type": "stream",
     "text": [
      "Exception at row 5389\n",
      "list index out of range\n",
      "Exception at row 5390\n",
      "'ascii' codec can't encode character '\\xfc' in position 10: ordinal not in range(128)\n",
      "Exception at row 5391\n",
      "'ascii' codec can't encode character '\\xfc' in position 20: ordinal not in range(128)\n"
     ]
    }
   ],
   "source": [
    "getMoviePrice(\"https://www.amazon.com/Superbad-Unrated-Jonah-Hill/dp/B00EFCHT08/ref=sr_1_1?dchild=1&keywords=Superbad+2007&qid=1619260061&s=movies-tv&sr=1-1\")"
   ]
  },
  {
   "cell_type": "code",
   "execution_count": 46,
   "metadata": {},
   "outputs": [],
   "source": [
    "lst = [str(x) for x in obj.body.find_all('button') if 'Buy' in ]"
   ]
  },
  {
   "cell_type": "code",
   "execution_count": 58,
   "metadata": {},
   "outputs": [
    {
     "data": {
      "text/plain": [
       "['6.99']"
      ]
     },
     "execution_count": 58,
     "metadata": {},
     "output_type": "execute_result"
    }
   ],
   "source": [
    "re.findall(r'(?<=\\$)\\d{1,3}(?:[.,]\\d{3})*(?:[.,]\\d{2})', \"$6.99\")"
   ]
  },
  {
   "cell_type": "code",
   "execution_count": 8,
   "metadata": {},
   "outputs": [],
   "source": [
    "cursor.execute(\"SELECT * FROM prices;\")\n",
    "movie_list = cursor.fetchall()\n",
    "WORKERS_NUM = 5\n",
    "split_list = np.array_split(movie_list, 5)"
   ]
  },
  {
   "cell_type": "code",
   "execution_count": 13,
   "metadata": {
    "collapsed": true,
    "jupyter": {
     "outputs_hidden": true
    },
    "tags": []
   },
   "outputs": [
    {
     "name": "stderr",
     "output_type": "stream",
     "text": [
      "Processing row 1946:  36%|███▌      | 1939/5455 [00:01<00:05, 596.66it/s] "
     ]
    },
    {
     "name": "stdout",
     "output_type": "stream",
     "text": [
      "Exception at row 0\n",
      "list index out of range\n"
     ]
    },
    {
     "name": "stderr",
     "output_type": "stream",
     "text": [
      "Processing row 2190:  38%|███▊      | 2099/5455 [00:02<00:11, 290.62it/s]"
     ]
    },
    {
     "name": "stdout",
     "output_type": "stream",
     "text": [
      "Exception at row 0\n",
      "list index out of range\n"
     ]
    },
    {
     "name": "stderr",
     "output_type": "stream",
     "text": [
      "Processing row 2519:  46%|████▌     | 2486/5455 [00:03<00:06, 442.97it/s]"
     ]
    },
    {
     "name": "stdout",
     "output_type": "stream",
     "text": [
      "Exception at row 1\n",
      "list index out of range\n"
     ]
    },
    {
     "name": "stderr",
     "output_type": "stream",
     "text": [
      "Processing row 3979:  73%|███████▎  | 3973/5455 [00:05<00:02, 566.90it/s] "
     ]
    },
    {
     "name": "stdout",
     "output_type": "stream",
     "text": [
      "Exception at row 1\n",
      "list index out of range\n"
     ]
    },
    {
     "name": "stderr",
     "output_type": "stream",
     "text": [
      "Processing row 4220:  77%|███████▋  | 4204/5455 [00:05<00:02, 619.61it/s]"
     ]
    },
    {
     "name": "stdout",
     "output_type": "stream",
     "text": [
      "Exception at row 3\n",
      "list index out of range\n"
     ]
    },
    {
     "name": "stderr",
     "output_type": "stream",
     "text": [
      "Processing row 4262:  77%|███████▋  | 4204/5455 [00:06<00:02, 619.61it/s]"
     ]
    },
    {
     "name": "stdout",
     "output_type": "stream",
     "text": [
      "Exception at row 3\n",
      "list index out of range\n",
      "Exception at row 2\n",
      "list index out of range\n"
     ]
    },
    {
     "name": "stderr",
     "output_type": "stream",
     "text": [
      "Processing row 5454: 100%|██████████| 5455/5455 [00:07<00:00, 717.75it/s] \n",
      "Processing row 4:   0%|          | 4/5456 [00:07<2:58:32,  1.96s/it]"
     ]
    },
    {
     "name": "stdout",
     "output_type": "stream",
     "text": [
      "Exception at row 3\n",
      "list index out of range\n"
     ]
    },
    {
     "name": "stderr",
     "output_type": "stream",
     "text": [
      "Processing row 4:   0%|          | 4/5455 [00:08<3:10:27,  2.10s/it]"
     ]
    },
    {
     "name": "stdout",
     "output_type": "stream",
     "text": [
      "Exception at row 4\n",
      "list index out of range\n",
      "Exception at row 3\n",
      "list index out of range\n"
     ]
    },
    {
     "name": "stderr",
     "output_type": "stream",
     "text": [
      "Processing row 5:   0%|          | 5/5455 [00:08<2:28:19,  1.63s/it]"
     ]
    },
    {
     "name": "stdout",
     "output_type": "stream",
     "text": [
      "Exception at row 4\n",
      "list index out of range\n"
     ]
    },
    {
     "name": "stderr",
     "output_type": "stream",
     "text": [
      "Processing row 6:   0%|          | 6/5456 [00:09<2:20:14,  1.54s/it]"
     ]
    },
    {
     "name": "stdout",
     "output_type": "stream",
     "text": [
      "Exception at row 4\n",
      "list index out of range\n",
      "Exception at row 5\n",
      "list index out of range\n"
     ]
    },
    {
     "name": "stderr",
     "output_type": "stream",
     "text": [
      "Processing row 8:   0%|          | 7/5456 [00:09<1:45:58,  1.17s/it]"
     ]
    },
    {
     "name": "stdout",
     "output_type": "stream",
     "text": [
      "Exception at row 6\n",
      "list index out of range\n"
     ]
    },
    {
     "name": "stderr",
     "output_type": "stream",
     "text": [
      "Processing row 7:   0%|          | 7/5456 [00:11<2:25:51,  1.61s/it]"
     ]
    },
    {
     "name": "stdout",
     "output_type": "stream",
     "text": [
      "Exception at row 5\n",
      "list index out of range\n",
      "Exception at row 6\n",
      "list index out of range\n"
     ]
    },
    {
     "name": "stderr",
     "output_type": "stream",
     "text": [
      "Processing row 11:   0%|          | 11/5456 [00:13<1:53:11,  1.25s/it]"
     ]
    },
    {
     "name": "stdout",
     "output_type": "stream",
     "text": [
      "Exception at row 7\n",
      "list index out of range\n",
      "Exception at row 10\n",
      "list index out of range\n"
     ]
    },
    {
     "name": "stderr",
     "output_type": "stream",
     "text": [
      "Processing row 11:   0%|          | 12/5456 [00:14<1:35:58,  1.06s/it]"
     ]
    },
    {
     "name": "stdout",
     "output_type": "stream",
     "text": [
      "Exception at row 8\n",
      "list index out of range\n"
     ]
    },
    {
     "name": "stderr",
     "output_type": "stream",
     "text": [
      "Processing row 7:   0%|          | 7/5455 [00:14<3:18:48,  2.19s/it]t]"
     ]
    },
    {
     "name": "stdout",
     "output_type": "stream",
     "text": [
      "Exception at row 6\n",
      "list index out of range\n"
     ]
    },
    {
     "name": "stderr",
     "output_type": "stream",
     "text": [
      "Processing row 9:   0%|          | 8/5455 [00:15<3:01:51,  2.00s/it]t]"
     ]
    },
    {
     "name": "stdout",
     "output_type": "stream",
     "text": [
      "Exception at row 7\n",
      "list index out of range\n"
     ]
    },
    {
     "name": "stderr",
     "output_type": "stream",
     "text": [
      "Processing row 13:   0%|          | 13/5456 [00:16<2:08:47,  1.42s/it]"
     ]
    },
    {
     "name": "stdout",
     "output_type": "stream",
     "text": [
      "Exception at row 12\n",
      "list index out of range\n",
      "Exception at row 12\n",
      "list index out of range\n"
     ]
    },
    {
     "name": "stderr",
     "output_type": "stream",
     "text": [
      "Processing row 12:   0%|          | 12/5456 [00:16<1:41:02,  1.11s/it]"
     ]
    },
    {
     "name": "stdout",
     "output_type": "stream",
     "text": [
      "Exception at row 11\n",
      "list index out of range\n"
     ]
    },
    {
     "name": "stderr",
     "output_type": "stream",
     "text": [
      "Processing row 10:   0%|          | 10/5455 [00:17<2:26:43,  1.62s/it]"
     ]
    },
    {
     "name": "stdout",
     "output_type": "stream",
     "text": [
      "Exception at row 9\n",
      "list index out of range\n"
     ]
    },
    {
     "name": "stderr",
     "output_type": "stream",
     "text": [
      "Processing row 14:   0%|          | 13/5456 [00:18<2:00:56,  1.33s/it]"
     ]
    },
    {
     "name": "stdout",
     "output_type": "stream",
     "text": [
      "Exception at row 12\n",
      "list index out of range\n"
     ]
    },
    {
     "name": "stderr",
     "output_type": "stream",
     "text": [
      "Processing row 15:   0%|          | 15/5456 [00:19<2:00:11,  1.33s/it]"
     ]
    },
    {
     "name": "stdout",
     "output_type": "stream",
     "text": [
      "Exception at row 13\n",
      "list index out of range\n",
      "Exception at row 14\n",
      "list index out of range\n"
     ]
    },
    {
     "name": "stderr",
     "output_type": "stream",
     "text": [
      "Processing row 16:   0%|          | 16/5456 [00:20<1:59:31,  1.32s/it]"
     ]
    },
    {
     "name": "stdout",
     "output_type": "stream",
     "text": [
      "Exception at row 11\n",
      "list index out of range\n"
     ]
    },
    {
     "name": "stderr",
     "output_type": "stream",
     "text": [
      "Processing row 15:   0%|          | 15/5456 [00:20<1:50:33,  1.22s/it]"
     ]
    },
    {
     "name": "stdout",
     "output_type": "stream",
     "text": [
      "Exception at row 14\n",
      "list index out of range\n"
     ]
    },
    {
     "name": "stderr",
     "output_type": "stream",
     "text": [
      "Processing row 16:   0%|          | 16/5456 [00:20<1:25:18,  1.06it/s]"
     ]
    },
    {
     "name": "stdout",
     "output_type": "stream",
     "text": [
      "Exception at row 15\n",
      "list index out of range\n"
     ]
    },
    {
     "name": "stderr",
     "output_type": "stream",
     "text": [
      "Processing row 16:   0%|          | 16/5456 [00:21<2:08:00,  1.41s/it]"
     ]
    },
    {
     "name": "stdout",
     "output_type": "stream",
     "text": [
      "Exception at row 15\n",
      "list index out of range\n"
     ]
    },
    {
     "name": "stderr",
     "output_type": "stream",
     "text": [
      "Processing row 18:   0%|          | 18/5456 [00:22<1:47:39,  1.19s/it]"
     ]
    },
    {
     "name": "stdout",
     "output_type": "stream",
     "text": [
      "Exception at row 17\n",
      "list index out of range\n"
     ]
    },
    {
     "name": "stderr",
     "output_type": "stream",
     "text": [
      "Processing row 18:   0%|          | 18/5456 [00:23<2:00:58,  1.33s/it]"
     ]
    },
    {
     "name": "stdout",
     "output_type": "stream",
     "text": [
      "Exception at row 17\n",
      "list index out of range\n"
     ]
    },
    {
     "name": "stderr",
     "output_type": "stream",
     "text": [
      "Processing row 15:   0%|          | 15/5455 [00:23<1:59:24,  1.32s/it]"
     ]
    },
    {
     "name": "stdout",
     "output_type": "stream",
     "text": [
      "Exception at row 17\n",
      "list index out of range\n",
      "Exception at row 14\n",
      "list index out of range\n"
     ]
    },
    {
     "name": "stderr",
     "output_type": "stream",
     "text": [
      "Processing row 19:   0%|          | 19/5456 [00:24<1:29:53,  1.01it/s]"
     ]
    },
    {
     "name": "stdout",
     "output_type": "stream",
     "text": [
      "Exception at row 18\n",
      "list index out of range\n"
     ]
    },
    {
     "name": "stderr",
     "output_type": "stream",
     "text": [
      "Processing row 16:   0%|          | 16/5455 [00:25<2:18:20,  1.53s/it]"
     ]
    },
    {
     "name": "stdout",
     "output_type": "stream",
     "text": [
      "Exception at row 18\n",
      "list index out of rangeException at row 19\n",
      "\n",
      "list index out of range\n",
      "Exception at row 15\n",
      "list index out of range\n"
     ]
    },
    {
     "name": "stderr",
     "output_type": "stream",
     "text": [
      "Processing row 19:   0%|          | 20/5456 [00:26<2:10:24,  1.44s/it]"
     ]
    },
    {
     "name": "stdout",
     "output_type": "stream",
     "text": [
      "Exception at row 20\n",
      "list index out of range\n",
      "Exception at row 19\n",
      "list index out of range\n"
     ]
    },
    {
     "name": "stderr",
     "output_type": "stream",
     "text": [
      "Processing row 21:   0%|          | 22/5456 [00:27<1:56:35,  1.29s/it]"
     ]
    },
    {
     "name": "stdout",
     "output_type": "stream",
     "text": [
      "Exception at row 16\n",
      "list index out of range\n"
     ]
    },
    {
     "name": "stderr",
     "output_type": "stream",
     "text": [
      "Processing row 23:   0%|          | 23/5456 [00:29<1:55:18,  1.27s/it]"
     ]
    },
    {
     "name": "stdout",
     "output_type": "stream",
     "text": [
      "Exception at row 21\n",
      "list index out of range\n"
     ]
    },
    {
     "name": "stderr",
     "output_type": "stream",
     "text": [
      "Processing row 23:   0%|          | 23/5456 [00:29<1:49:31,  1.21s/it]"
     ]
    },
    {
     "name": "stdout",
     "output_type": "stream",
     "text": [
      "Exception at row 21\n",
      "list index out of range\n"
     ]
    },
    {
     "name": "stderr",
     "output_type": "stream",
     "text": [
      "Processing row 22:   0%|          | 19/5455 [00:30<2:29:45,  1.65s/it]"
     ]
    },
    {
     "name": "stdout",
     "output_type": "stream",
     "text": [
      "Exception at row 18\n",
      "list index out of range\n"
     ]
    },
    {
     "name": "stderr",
     "output_type": "stream",
     "text": [
      "Processing row 25:   0%|          | 24/5456 [00:31<2:02:06,  1.35s/it]"
     ]
    },
    {
     "name": "stdout",
     "output_type": "stream",
     "text": [
      "Exception at row 23\n",
      "list index out of range\n"
     ]
    },
    {
     "name": "stderr",
     "output_type": "stream",
     "text": [
      "Processing row 23:   0%|          | 23/5455 [00:32<1:54:16,  1.26s/it]"
     ]
    },
    {
     "name": "stdout",
     "output_type": "stream",
     "text": [
      "Exception at row 22\n",
      "list index out of range\n",
      "Exception at row 22\n",
      "list index out of range\n"
     ]
    },
    {
     "name": "stderr",
     "output_type": "stream",
     "text": [
      "Processing row 24:   0%|          | 24/5455 [00:33<2:01:34,  1.34s/it]"
     ]
    },
    {
     "name": "stdout",
     "output_type": "stream",
     "text": [
      "Exception at row 26\n",
      "list index out of range\n",
      "Exception at row 23\n",
      "list index out of range\n"
     ]
    },
    {
     "name": "stderr",
     "output_type": "stream",
     "text": [
      "Processing row 29:   1%|          | 28/5456 [00:35<1:53:01,  1.25s/it]"
     ]
    },
    {
     "name": "stdout",
     "output_type": "stream",
     "text": [
      "Exception at row 24\n",
      "list index out of range\n"
     ]
    },
    {
     "name": "stderr",
     "output_type": "stream",
     "text": [
      "Processing row 28:   1%|          | 28/5456 [00:35<2:03:01,  1.36s/it]"
     ]
    },
    {
     "name": "stdout",
     "output_type": "stream",
     "text": [
      "Exception at row 25\n",
      "list index out of range\n"
     ]
    },
    {
     "name": "stderr",
     "output_type": "stream",
     "text": [
      "Processing row 26:   0%|          | 26/5455 [00:36<1:55:11,  1.27s/it]"
     ]
    },
    {
     "name": "stdout",
     "output_type": "stream",
     "text": [
      "Exception at row 25\n",
      "list index out of range\n"
     ]
    },
    {
     "name": "stderr",
     "output_type": "stream",
     "text": [
      "Processing row 26:   0%|          | 27/5456 [00:36<2:16:34,  1.51s/it]"
     ]
    },
    {
     "name": "stdout",
     "output_type": "stream",
     "text": [
      "Exception at row 26\n",
      "list index out of range\n"
     ]
    },
    {
     "name": "stderr",
     "output_type": "stream",
     "text": [
      "Processing row 29:   1%|          | 29/5456 [00:37<2:04:08,  1.37s/it]"
     ]
    },
    {
     "name": "stdout",
     "output_type": "stream",
     "text": [
      "Exception at row 29\n",
      "list index out of range\n"
     ]
    },
    {
     "name": "stderr",
     "output_type": "stream",
     "text": [
      "Processing row 31:   1%|          | 31/5456 [00:38<1:42:19,  1.13s/it]"
     ]
    },
    {
     "name": "stdout",
     "output_type": "stream",
     "text": [
      "Exception at row 29\n",
      "list index out of range\n"
     ]
    },
    {
     "name": "stderr",
     "output_type": "stream",
     "text": [
      "Processing row 32:   1%|          | 32/5456 [00:38<1:19:44,  1.13it/s]"
     ]
    },
    {
     "name": "stdout",
     "output_type": "stream",
     "text": [
      "Exception at row 30\n",
      "list index out of range\n",
      "Exception at row 31\n",
      "list index out of range\n"
     ]
    },
    {
     "name": "stderr",
     "output_type": "stream",
     "text": [
      "Processing row 30:   1%|          | 30/5455 [00:38<1:23:30,  1.08it/s]"
     ]
    },
    {
     "name": "stdout",
     "output_type": "stream",
     "text": [
      "Exception at row 29\n",
      "list index out of range\n"
     ]
    },
    {
     "name": "stderr",
     "output_type": "stream",
     "text": [
      "Processing row 33:   1%|          | 33/5456 [00:39<1:23:26,  1.08it/s]"
     ]
    },
    {
     "name": "stdout",
     "output_type": "stream",
     "text": [
      "Exception at row 32\n",
      "list index out of range\n"
     ]
    },
    {
     "name": "stderr",
     "output_type": "stream",
     "text": [
      "Processing row 29:   1%|          | 29/5456 [00:39<2:16:29,  1.51s/it]"
     ]
    },
    {
     "name": "stdout",
     "output_type": "stream",
     "text": [
      "Exception at row 28\n",
      "list index out of range\n"
     ]
    },
    {
     "name": "stderr",
     "output_type": "stream",
     "text": [
      "Processing row 33:   1%|          | 34/5456 [00:40<1:29:25,  1.01it/s]"
     ]
    },
    {
     "name": "stdout",
     "output_type": "stream",
     "text": [
      "Exception at row 33\n",
      "list index out of range\n"
     ]
    },
    {
     "name": "stderr",
     "output_type": "stream",
     "text": [
      "Processing row 31:   1%|          | 31/5455 [00:41<1:58:22,  1.31s/it]"
     ]
    },
    {
     "name": "stdout",
     "output_type": "stream",
     "text": [
      "Exception at row 34\n",
      "list index out of rangeException at row 30\n",
      "\n",
      "list index out of range\n"
     ]
    },
    {
     "name": "stderr",
     "output_type": "stream",
     "text": [
      "Processing row 31:   1%|          | 31/5456 [00:42<2:16:33,  1.51s/it]"
     ]
    },
    {
     "name": "stdout",
     "output_type": "stream",
     "text": [
      "Exception at row 30\n",
      "list index out of range\n"
     ]
    },
    {
     "name": "stderr",
     "output_type": "stream",
     "text": [
      "Processing row 32:   1%|          | 32/5455 [00:43<2:26:34,  1.62s/it]"
     ]
    },
    {
     "name": "stdout",
     "output_type": "stream",
     "text": [
      "Exception at row 31\n",
      "list index out of range\n"
     ]
    },
    {
     "name": "stderr",
     "output_type": "stream",
     "text": [
      "Processing row 37:   1%|          | 37/5456 [00:43<1:38:30,  1.09s/it]"
     ]
    },
    {
     "name": "stdout",
     "output_type": "stream",
     "text": [
      "Exception at row 36\n",
      "list index out of range\n"
     ]
    },
    {
     "name": "stderr",
     "output_type": "stream",
     "text": [
      "Processing row 32:   1%|          | 32/5456 [00:43<2:13:44,  1.48s/it]"
     ]
    },
    {
     "name": "stdout",
     "output_type": "stream",
     "text": [
      "Exception at row 31\n",
      "list index out of range\n"
     ]
    },
    {
     "name": "stderr",
     "output_type": "stream",
     "text": [
      "Processing row 37:   1%|          | 37/5456 [00:44<1:54:19,  1.27s/it]"
     ]
    },
    {
     "name": "stdout",
     "output_type": "stream",
     "text": [
      "Exception at row 36\n",
      "list index out of range\n"
     ]
    },
    {
     "name": "stderr",
     "output_type": "stream",
     "text": [
      "Processing row 33:   1%|          | 33/5456 [00:45<2:08:14,  1.42s/it]"
     ]
    },
    {
     "name": "stdout",
     "output_type": "stream",
     "text": [
      "Exception at row 32\n",
      "list index out of range\n"
     ]
    },
    {
     "name": "stderr",
     "output_type": "stream",
     "text": [
      "Processing row 38:   1%|          | 38/5456 [00:45<1:57:59,  1.31s/it]"
     ]
    },
    {
     "name": "stdout",
     "output_type": "stream",
     "text": [
      "Exception at row 37\n",
      "list index out of range\n"
     ]
    },
    {
     "name": "stderr",
     "output_type": "stream",
     "text": [
      "Processing row 33:   1%|          | 33/5455 [00:45<2:46:47,  1.85s/it]"
     ]
    },
    {
     "name": "stdout",
     "output_type": "stream",
     "text": [
      "Exception at row 32\n",
      "list index out of range\n"
     ]
    },
    {
     "name": "stderr",
     "output_type": "stream",
     "text": [
      "Processing row 34:   1%|          | 34/5456 [00:46<2:08:22,  1.42s/it]"
     ]
    },
    {
     "name": "stdout",
     "output_type": "stream",
     "text": [
      "Exception at row 37\n",
      "list index out of range\n",
      "Exception at row 33\n",
      "list index out of range\n"
     ]
    },
    {
     "name": "stderr",
     "output_type": "stream",
     "text": [
      "Processing row 39:   1%|          | 39/5456 [00:47<2:05:26,  1.39s/it]"
     ]
    },
    {
     "name": "stdout",
     "output_type": "stream",
     "text": [
      "Exception at row 38\n",
      "list index out of range\n"
     ]
    },
    {
     "name": "stderr",
     "output_type": "stream",
     "text": [
      "Processing row 35:   1%|          | 35/5456 [00:48<2:16:50,  1.51s/it]"
     ]
    },
    {
     "name": "stdout",
     "output_type": "stream",
     "text": [
      "Exception at row 34\n",
      "list index out of range\n"
     ]
    },
    {
     "name": "stderr",
     "output_type": "stream",
     "text": [
      "Processing row 40:   1%|          | 40/5456 [00:48<2:11:32,  1.46s/it]"
     ]
    },
    {
     "name": "stdout",
     "output_type": "stream",
     "text": [
      "Exception at row 39\n",
      "list index out of range\n"
     ]
    },
    {
     "name": "stderr",
     "output_type": "stream",
     "text": [
      "Processing row 40:   1%|          | 41/5456 [00:51<2:21:53,  1.57s/it]"
     ]
    },
    {
     "name": "stdout",
     "output_type": "stream",
     "text": [
      "Exception at row 35\n",
      "list index out of range\n",
      "Exception at row 40\n",
      "list index out of range\n"
     ]
    },
    {
     "name": "stderr",
     "output_type": "stream",
     "text": [
      "Processing row 42:   1%|          | 42/5456 [00:51<2:06:45,  1.40s/it]"
     ]
    },
    {
     "name": "stdout",
     "output_type": "stream",
     "text": [
      "Exception at row 41\n",
      "list index out of range\n"
     ]
    },
    {
     "name": "stderr",
     "output_type": "stream",
     "text": [
      "Processing row 37:   1%|          | 37/5455 [00:52<2:28:22,  1.64s/it]"
     ]
    },
    {
     "name": "stdout",
     "output_type": "stream",
     "text": [
      "Exception at row 36\n",
      "list index out of range\n"
     ]
    },
    {
     "name": "stderr",
     "output_type": "stream",
     "text": [
      "Processing row 37:   1%|          | 37/5456 [00:52<2:47:16,  1.85s/it]"
     ]
    },
    {
     "name": "stdout",
     "output_type": "stream",
     "text": [
      "Exception at row 36\n",
      "list index out of range\n"
     ]
    },
    {
     "name": "stderr",
     "output_type": "stream",
     "text": [
      "Processing row 44:   1%|          | 44/5456 [00:54<1:50:24,  1.22s/it]"
     ]
    },
    {
     "name": "stdout",
     "output_type": "stream",
     "text": [
      "Exception at row 37\n",
      "list index out of range\n"
     ]
    },
    {
     "name": "stderr",
     "output_type": "stream",
     "text": [
      "Processing row 45:   1%|          | 45/5456 [00:54<1:45:12,  1.17s/it]"
     ]
    },
    {
     "name": "stdout",
     "output_type": "stream",
     "text": [
      "Exception at row 44\n",
      "list index out of range\n"
     ]
    },
    {
     "name": "stderr",
     "output_type": "stream",
     "text": [
      "Processing row 39:   1%|          | 39/5455 [00:55<2:27:38,  1.64s/it]"
     ]
    },
    {
     "name": "stdout",
     "output_type": "stream",
     "text": [
      "Exception at row 38\n",
      "list index out of range\n"
     ]
    },
    {
     "name": "stderr",
     "output_type": "stream",
     "text": [
      "Processing row 40:   1%|          | 40/5456 [00:55<1:51:06,  1.23s/it]"
     ]
    },
    {
     "name": "stdout",
     "output_type": "stream",
     "text": [
      "Exception at row 39\n",
      "list index out of range\n"
     ]
    },
    {
     "name": "stderr",
     "output_type": "stream",
     "text": [
      "Processing row 46:   1%|          | 46/5456 [00:56<1:47:01,  1.19s/it]"
     ]
    },
    {
     "name": "stdout",
     "output_type": "stream",
     "text": [
      "Exception at row 39\n",
      "list index out of range\n"
     ]
    },
    {
     "name": "stderr",
     "output_type": "stream",
     "text": [
      "Processing row 41:   1%|          | 41/5455 [00:57<2:02:08,  1.35s/it]"
     ]
    },
    {
     "name": "stdout",
     "output_type": "stream",
     "text": [
      "Exception at row 40\n",
      "list index out of range\n"
     ]
    },
    {
     "name": "stderr",
     "output_type": "stream",
     "text": [
      "Processing row 42:   1%|          | 42/5455 [00:59<2:01:50,  1.35s/it]"
     ]
    },
    {
     "name": "stdout",
     "output_type": "stream",
     "text": [
      "Exception at row 41\n",
      "list index out of range\n"
     ]
    },
    {
     "name": "stderr",
     "output_type": "stream",
     "text": [
      "Processing row 49:   1%|          | 49/5456 [01:00<2:18:04,  1.53s/it]"
     ]
    },
    {
     "name": "stdout",
     "output_type": "stream",
     "text": [
      "Exception at row 42\n",
      "list index out of range\n",
      "Exception at row 48\n",
      "list index out of range\n"
     ]
    },
    {
     "name": "stderr",
     "output_type": "stream",
     "text": [
      "Processing row 50:   1%|          | 50/5456 [01:01<1:57:00,  1.30s/it]"
     ]
    },
    {
     "name": "stdout",
     "output_type": "stream",
     "text": [
      "Exception at row 49\n",
      "list index out of range\n"
     ]
    },
    {
     "name": "stderr",
     "output_type": "stream",
     "text": [
      "Processing row 50:   1%|          | 50/5456 [01:02<2:22:36,  1.58s/it]"
     ]
    },
    {
     "name": "stdout",
     "output_type": "stream",
     "text": [
      "Exception at row 44\n",
      "list index out of range\n",
      "Exception at row 49\n",
      "list index out of range\n"
     ]
    },
    {
     "name": "stderr",
     "output_type": "stream",
     "text": [
      "Processing row 51:   1%|          | 51/5456 [01:03<2:06:24,  1.40s/it]"
     ]
    },
    {
     "name": "stdout",
     "output_type": "stream",
     "text": [
      "Exception at row 50\n",
      "list index out of range\n"
     ]
    },
    {
     "name": "stderr",
     "output_type": "stream",
     "text": [
      "Processing row 45:   1%|          | 45/5455 [01:04<2:39:10,  1.77s/it]"
     ]
    },
    {
     "name": "stdout",
     "output_type": "stream",
     "text": [
      "Exception at row 44\n",
      "list index out of range\n"
     ]
    },
    {
     "name": "stderr",
     "output_type": "stream",
     "text": [
      "Processing row 51:   1%|          | 51/5456 [01:05<2:49:35,  1.88s/it]"
     ]
    },
    {
     "name": "stdout",
     "output_type": "stream",
     "text": [
      "Exception at row 50\n",
      "list index out of range\n"
     ]
    },
    {
     "name": "stderr",
     "output_type": "stream",
     "text": [
      "Processing row 52:   1%|          | 52/5456 [01:05<2:32:48,  1.70s/it]"
     ]
    },
    {
     "name": "stdout",
     "output_type": "stream",
     "text": [
      "Exception at row 51\n",
      "list index out of range\n"
     ]
    },
    {
     "name": "stderr",
     "output_type": "stream",
     "text": [
      "Processing row 53:   1%|          | 53/5456 [01:05<1:54:02,  1.27s/it]"
     ]
    },
    {
     "name": "stdout",
     "output_type": "stream",
     "text": [
      "Exception at row 52\n",
      "list index out of range\n"
     ]
    },
    {
     "name": "stderr",
     "output_type": "stream",
     "text": [
      "Processing row 47:   1%|          | 47/5456 [01:06<2:47:37,  1.86s/it]"
     ]
    },
    {
     "name": "stdout",
     "output_type": "stream",
     "text": [
      "Exception at row 46\n",
      "list index out of range\n"
     ]
    },
    {
     "name": "stderr",
     "output_type": "stream",
     "text": [
      "Processing row 54:   1%|          | 54/5456 [01:07<2:01:22,  1.35s/it]"
     ]
    },
    {
     "name": "stdout",
     "output_type": "stream",
     "text": [
      "Exception at row 45\n",
      "list index out of range\n"
     ]
    },
    {
     "name": "stderr",
     "output_type": "stream",
     "text": [
      "Processing row 53:   1%|          | 52/5456 [01:07<3:11:18,  2.12s/it]"
     ]
    },
    {
     "name": "stdout",
     "output_type": "stream",
     "text": [
      "Exception at row 51\n",
      "list index out of range\n"
     ]
    },
    {
     "name": "stderr",
     "output_type": "stream",
     "text": [
      "Processing row 49:   1%|          | 49/5456 [01:09<2:32:01,  1.69s/it]"
     ]
    },
    {
     "name": "stdout",
     "output_type": "stream",
     "text": [
      "Exception at row 54\n",
      "list index out of range\n",
      "Exception at row 48\n",
      "list index out of range\n"
     ]
    },
    {
     "name": "stderr",
     "output_type": "stream",
     "text": [
      "Processing row 54:   1%|          | 54/5456 [01:10<2:46:55,  1.85s/it]"
     ]
    },
    {
     "name": "stdout",
     "output_type": "stream",
     "text": [
      "Exception at row 53\n",
      "list index out of range\n"
     ]
    },
    {
     "name": "stderr",
     "output_type": "stream",
     "text": [
      "Processing row 50:   1%|          | 50/5456 [01:11<2:25:34,  1.62s/it]"
     ]
    },
    {
     "name": "stdout",
     "output_type": "stream",
     "text": [
      "Exception at row 49\n",
      "list index out of range\n"
     ]
    },
    {
     "name": "stderr",
     "output_type": "stream",
     "text": [
      "Processing row 48:   1%|          | 48/5455 [01:11<3:08:30,  2.09s/it]"
     ]
    },
    {
     "name": "stdout",
     "output_type": "stream",
     "text": [
      "Exception at row 47\n",
      "list index out of range\n"
     ]
    },
    {
     "name": "stderr",
     "output_type": "stream",
     "text": [
      "Processing row 51:   1%|          | 51/5456 [01:12<2:16:33,  1.52s/it]"
     ]
    },
    {
     "name": "stdout",
     "output_type": "stream",
     "text": [
      "Exception at row 50\n",
      "list index out of range\n"
     ]
    },
    {
     "name": "stderr",
     "output_type": "stream",
     "text": [
      "Processing row 49:   1%|          | 49/5455 [01:12<2:52:07,  1.91s/it]"
     ]
    },
    {
     "name": "stdout",
     "output_type": "stream",
     "text": [
      "Exception at row 54\n",
      "list index out of range\n"
     ]
    },
    {
     "name": "stderr",
     "output_type": "stream",
     "text": [
      "Processing row 56:   1%|          | 56/5456 [01:13<3:23:25,  2.26s/it]"
     ]
    },
    {
     "name": "stdout",
     "output_type": "stream",
     "text": [
      "Exception at row 55\n",
      "list index out of range\n"
     ]
    },
    {
     "name": "stderr",
     "output_type": "stream",
     "text": [
      "Processing row 52:   1%|          | 52/5456 [01:14<2:46:08,  1.84s/it]"
     ]
    },
    {
     "name": "stdout",
     "output_type": "stream",
     "text": [
      "Exception at row 56\n",
      "list index out of range\n",
      "Exception at row 51\n",
      "list index out of range\n"
     ]
    },
    {
     "name": "stderr",
     "output_type": "stream",
     "text": [
      "Processing row 50:   1%|          | 50/5455 [01:15<3:03:16,  2.03s/it]"
     ]
    },
    {
     "name": "stdout",
     "output_type": "stream",
     "text": [
      "Exception at row 49\n",
      "list index out of range\n"
     ]
    },
    {
     "name": "stderr",
     "output_type": "stream",
     "text": [
      "Processing row 58:   1%|          | 58/5456 [01:17<3:16:17,  2.18s/it]"
     ]
    },
    {
     "name": "stdout",
     "output_type": "stream",
     "text": [
      "Exception at row 57\n",
      "list index out of range\n"
     ]
    },
    {
     "name": "stderr",
     "output_type": "stream",
     "text": [
      "Processing row 51:   1%|          | 51/5455 [01:17<3:13:37,  2.15s/it]"
     ]
    },
    {
     "name": "stdout",
     "output_type": "stream",
     "text": [
      "Exception at row 50\n",
      "list index out of range\n"
     ]
    },
    {
     "name": "stderr",
     "output_type": "stream",
     "text": [
      "Processing row 57:   1%|          | 57/5456 [01:18<3:43:06,  2.48s/it]"
     ]
    },
    {
     "name": "stdout",
     "output_type": "stream",
     "text": [
      "Exception at row 52\n",
      "list index out of range\n",
      "Exception at row 56\n",
      "list index out of range\n"
     ]
    },
    {
     "name": "stderr",
     "output_type": "stream",
     "text": [
      "Processing row 54:   1%|          | 54/5456 [01:18<2:29:25,  1.66s/it]"
     ]
    },
    {
     "name": "stdout",
     "output_type": "stream",
     "text": [
      "Exception at row 53\n",
      "list index out of range\n"
     ]
    },
    {
     "name": "stderr",
     "output_type": "stream",
     "text": [
      "Processing row 59:   1%|          | 59/5456 [01:20<3:52:27,  2.58s/it]"
     ]
    },
    {
     "name": "stdout",
     "output_type": "stream",
     "text": [
      "Exception at row 58\n",
      "list index out of range\n",
      "Exception at row 51\n",
      "list index out of range\n"
     ]
    },
    {
     "name": "stderr",
     "output_type": "stream",
     "text": [
      "Processing row 58:   1%|          | 58/5456 [01:21<4:08:01,  2.76s/it]"
     ]
    },
    {
     "name": "stdout",
     "output_type": "stream",
     "text": [
      "Exception at row 57\n",
      "list index out of range\n"
     ]
    },
    {
     "name": "stderr",
     "output_type": "stream",
     "text": [
      "Processing row 54:   1%|          | 53/5455 [01:22<3:19:13,  2.21s/it]"
     ]
    },
    {
     "name": "stdout",
     "output_type": "stream",
     "text": [
      "Exception at row 52\n",
      "list index out of range\n"
     ]
    },
    {
     "name": "stderr",
     "output_type": "stream",
     "text": [
      "Processing row 59:   1%|          | 59/5456 [01:23<3:40:40,  2.45s/it]"
     ]
    },
    {
     "name": "stdout",
     "output_type": "stream",
     "text": [
      "Exception at row 54\n",
      "list index out of range\n"
     ]
    },
    {
     "name": "stderr",
     "output_type": "stream",
     "text": [
      "Processing row 55:   1%|          | 55/5455 [01:25<2:55:34,  1.95s/it]"
     ]
    },
    {
     "name": "stdout",
     "output_type": "stream",
     "text": [
      "Exception at row 54\n",
      "list index out of range\n"
     ]
    },
    {
     "name": "stderr",
     "output_type": "stream",
     "text": [
      "Processing row 60:   1%|          | 60/5456 [01:25<3:34:12,  2.38s/it]"
     ]
    },
    {
     "name": "stdout",
     "output_type": "stream",
     "text": [
      "Exception at row 59\n",
      "list index out of range\n"
     ]
    },
    {
     "name": "stderr",
     "output_type": "stream",
     "text": [
      "Processing row 62:   1%|          | 62/5456 [01:26<3:10:53,  2.12s/it]"
     ]
    },
    {
     "name": "stdout",
     "output_type": "stream",
     "text": [
      "Exception at row 61\n",
      "list index out of range\n"
     ]
    },
    {
     "name": "stderr",
     "output_type": "stream",
     "text": [
      "Processing row 63:   1%|          | 63/5456 [01:28<3:19:56,  2.22s/it]"
     ]
    },
    {
     "name": "stdout",
     "output_type": "stream",
     "text": [
      "Exception at row 62\n",
      "list index out of range\n"
     ]
    },
    {
     "name": "stderr",
     "output_type": "stream",
     "text": [
      "Processing row 57:   1%|          | 57/5455 [01:29<2:58:11,  1.98s/it]"
     ]
    },
    {
     "name": "stdout",
     "output_type": "stream",
     "text": [
      "Exception at row 56\n",
      "list index out of range\n"
     ]
    },
    {
     "name": "stderr",
     "output_type": "stream",
     "text": [
      "Processing row 58:   1%|          | 58/5456 [01:30<3:47:45,  2.53s/it]"
     ]
    },
    {
     "name": "stdout",
     "output_type": "stream",
     "text": [
      "Exception at row 61\n",
      "list index out of range\n"
     ]
    },
    {
     "name": "stderr",
     "output_type": "stream",
     "text": [
      "Processing row 58:   1%|          | 58/5455 [01:31<3:13:51,  2.16s/it]"
     ]
    },
    {
     "name": "stdout",
     "output_type": "stream",
     "text": [
      "Exception at row 57\n",
      "list index out of range\n"
     ]
    },
    {
     "name": "stderr",
     "output_type": "stream",
     "text": [
      "Processing row 64:   1%|          | 64/5456 [01:32<3:52:02,  2.58s/it]"
     ]
    },
    {
     "name": "stdout",
     "output_type": "stream",
     "text": [
      "Exception at row 63\n",
      "list index out of range\n"
     ]
    },
    {
     "name": "stderr",
     "output_type": "stream",
     "text": [
      "Processing row 59:   1%|          | 59/5455 [01:32<2:49:49,  1.89s/it]"
     ]
    },
    {
     "name": "stdout",
     "output_type": "stream",
     "text": [
      "Exception at row 58\n",
      "list index out of range\n"
     ]
    },
    {
     "name": "stderr",
     "output_type": "stream",
     "text": [
      "Processing row 63:   1%|          | 63/5456 [01:33<3:47:34,  2.53s/it]"
     ]
    },
    {
     "name": "stdout",
     "output_type": "stream",
     "text": [
      "Exception at row 62\n",
      "list index out of range\n"
     ]
    },
    {
     "name": "stderr",
     "output_type": "stream",
     "text": [
      "Processing row 60:   1%|          | 60/5455 [01:34<2:44:47,  1.83s/it]"
     ]
    },
    {
     "name": "stdout",
     "output_type": "stream",
     "text": [
      "Exception at row 59\n",
      "list index out of range\n"
     ]
    },
    {
     "name": "stderr",
     "output_type": "stream",
     "text": [
      "Processing row 66:   1%|          | 66/5456 [01:35<3:02:11,  2.03s/it]"
     ]
    },
    {
     "name": "stdout",
     "output_type": "stream",
     "text": [
      "Exception at row 58\n",
      "list index out of range\n"
     ]
    },
    {
     "name": "stderr",
     "output_type": "stream",
     "text": [
      "Processing row 64:   1%|          | 64/5456 [01:35<3:35:28,  2.40s/it]"
     ]
    },
    {
     "name": "stdout",
     "output_type": "stream",
     "text": [
      "Exception at row 63\n",
      "list index out of range\n"
     ]
    },
    {
     "name": "stderr",
     "output_type": "stream",
     "text": [
      "Processing row 61:   1%|          | 61/5455 [01:36<2:34:27,  1.72s/it]"
     ]
    },
    {
     "name": "stdout",
     "output_type": "stream",
     "text": [
      "Exception at row 60\n",
      "list index out of range\n"
     ]
    },
    {
     "name": "stderr",
     "output_type": "stream",
     "text": [
      "Processing row 65:   1%|          | 65/5456 [01:36<3:10:42,  2.12s/it]"
     ]
    },
    {
     "name": "stdout",
     "output_type": "stream",
     "text": [
      "Exception at row 64\n",
      "list index out of range\n"
     ]
    },
    {
     "name": "stderr",
     "output_type": "stream",
     "text": [
      "Processing row 60:   1%|          | 60/5456 [01:38<4:34:59,  3.06s/it]"
     ]
    },
    {
     "name": "stdout",
     "output_type": "stream",
     "text": [
      "Exception at row 59\n",
      "list index out of range\n"
     ]
    },
    {
     "name": "stderr",
     "output_type": "stream",
     "text": [
      "Processing row 66:   1%|          | 66/5456 [01:38<2:57:52,  1.98s/it]"
     ]
    },
    {
     "name": "stdout",
     "output_type": "stream",
     "text": [
      "Exception at row 61\n",
      "list index out of range\n"
     ]
    },
    {
     "name": "stderr",
     "output_type": "stream",
     "text": [
      "Processing row 62:   1%|          | 62/5456 [01:40<3:20:08,  2.23s/it]"
     ]
    },
    {
     "name": "stdout",
     "output_type": "stream",
     "text": [
      "Exception at row 62\n",
      "list index out of range\n",
      "Exception at row 61\n",
      "list index out of range\n"
     ]
    },
    {
     "name": "stderr",
     "output_type": "stream",
     "text": [
      "Processing row 69:   1%|▏         | 69/5456 [01:43<2:38:37,  1.77s/it]"
     ]
    },
    {
     "name": "stdout",
     "output_type": "stream",
     "text": [
      "Exception at row 63\n",
      "list index out of range\n",
      "Exception at row 68\n",
      "list index out of range\n"
     ]
    },
    {
     "name": "stderr",
     "output_type": "stream",
     "text": [
      "Processing row 70:   1%|▏         | 70/5456 [01:44<2:32:56,  1.70s/it]"
     ]
    },
    {
     "name": "stdout",
     "output_type": "stream",
     "text": [
      "Exception at row 64\n",
      "list index out of range\n",
      "Exception at row 69\n",
      "list index out of range\n"
     ]
    },
    {
     "name": "stderr",
     "output_type": "stream",
     "text": [
      "Processing row 64:   1%|          | 64/5456 [01:45<3:20:46,  2.23s/it]"
     ]
    },
    {
     "name": "stdout",
     "output_type": "stream",
     "text": [
      "Exception at row 63\n",
      "list index out of range\n"
     ]
    },
    {
     "name": "stderr",
     "output_type": "stream",
     "text": [
      "Processing row 65:   1%|          | 65/5456 [01:45<2:27:35,  1.64s/it]"
     ]
    },
    {
     "name": "stdout",
     "output_type": "stream",
     "text": [
      "Exception at row 64\n",
      "list index out of range\n"
     ]
    },
    {
     "name": "stderr",
     "output_type": "stream",
     "text": [
      "Processing row 71:   1%|▏         | 71/5456 [01:46<3:14:40,  2.17s/it]"
     ]
    },
    {
     "name": "stdout",
     "output_type": "stream",
     "text": [
      "Exception at row 70\n",
      "list index out of range\n"
     ]
    },
    {
     "name": "stderr",
     "output_type": "stream",
     "text": [
      "Processing row 67:   1%|          | 67/5455 [01:49<3:12:14,  2.14s/it]"
     ]
    },
    {
     "name": "stdout",
     "output_type": "stream",
     "text": [
      "Exception at row 66\n",
      "list index out of range\n"
     ]
    },
    {
     "name": "stderr",
     "output_type": "stream",
     "text": [
      "Processing row 74:   1%|▏         | 74/5456 [01:50<1:53:01,  1.26s/it]"
     ]
    },
    {
     "name": "stdout",
     "output_type": "stream",
     "text": [
      "Exception at row 67\n",
      "list index out of range\n",
      "Exception at row 73\n",
      "list index out of range\n"
     ]
    },
    {
     "name": "stderr",
     "output_type": "stream",
     "text": [
      "Processing row 69:   1%|▏         | 69/5456 [01:52<2:30:32,  1.68s/it]"
     ]
    },
    {
     "name": "stdout",
     "output_type": "stream",
     "text": [
      "Exception at row 67\n",
      "list index out of range\n",
      "Exception at row 68\n",
      "list index out of range\n"
     ]
    },
    {
     "name": "stderr",
     "output_type": "stream",
     "text": [
      "Processing row 75:   1%|▏         | 75/5456 [01:52<2:28:46,  1.66s/it]"
     ]
    },
    {
     "name": "stdout",
     "output_type": "stream",
     "text": [
      "Exception at row 74\n",
      "list index out of range\n"
     ]
    },
    {
     "name": "stderr",
     "output_type": "stream",
     "text": [
      "Processing row 70:   1%|▏         | 70/5456 [01:53<2:27:33,  1.64s/it]"
     ]
    },
    {
     "name": "stdout",
     "output_type": "stream",
     "text": [
      "Exception at row 72\n",
      "list index out of range\n"
     ]
    },
    {
     "name": "stderr",
     "output_type": "stream",
     "text": [
      "Processing row 71:   1%|▏         | 71/5456 [01:55<2:24:58,  1.62s/it]"
     ]
    },
    {
     "name": "stdout",
     "output_type": "stream",
     "text": [
      "Exception at row 73\n",
      "list index out of range\n"
     ]
    },
    {
     "name": "stderr",
     "output_type": "stream",
     "text": [
      "Processing row 76:   1%|▏         | 76/5456 [01:55<2:59:12,  2.00s/it]"
     ]
    },
    {
     "name": "stdout",
     "output_type": "stream",
     "text": [
      "Exception at row 71\n",
      "list index out of range\n",
      "Exception at row 75\n",
      "list index out of range\n"
     ]
    },
    {
     "name": "stderr",
     "output_type": "stream",
     "text": [
      "Processing row 69:   1%|▏         | 69/5455 [01:55<4:08:28,  2.77s/it]"
     ]
    },
    {
     "name": "stdout",
     "output_type": "stream",
     "text": [
      "Exception at row 68\n",
      "list index out of range\n"
     ]
    },
    {
     "name": "stderr",
     "output_type": "stream",
     "text": [
      "Processing row 70:   1%|▏         | 70/5455 [01:57<3:28:43,  2.33s/it]"
     ]
    },
    {
     "name": "stdout",
     "output_type": "stream",
     "text": [
      "Exception at row 69\n",
      "list index out of range\n"
     ]
    },
    {
     "name": "stderr",
     "output_type": "stream",
     "text": [
      "Processing row 73:   1%|▏         | 73/5456 [01:58<2:32:47,  1.70s/it]"
     ]
    },
    {
     "name": "stdout",
     "output_type": "stream",
     "text": [
      "Exception at row 76\n",
      "list index out of range\n",
      "Exception at row 72\n",
      "list index out of range\n"
     ]
    },
    {
     "name": "stderr",
     "output_type": "stream",
     "text": [
      "Processing row 76:   1%|▏         | 76/5456 [01:59<3:28:44,  2.33s/it]"
     ]
    },
    {
     "name": "stdout",
     "output_type": "stream",
     "text": [
      "Exception at row 75\n",
      "list index out of range\n"
     ]
    },
    {
     "name": "stderr",
     "output_type": "stream",
     "text": [
      "Processing row 71:   1%|▏         | 71/5455 [01:59<3:31:01,  2.35s/it]"
     ]
    },
    {
     "name": "stdout",
     "output_type": "stream",
     "text": [
      "Exception at row 70\n",
      "list index out of range\n"
     ]
    },
    {
     "name": "stderr",
     "output_type": "stream",
     "text": [
      "Processing row 74:   1%|▏         | 74/5456 [02:00<2:55:59,  1.96s/it]"
     ]
    },
    {
     "name": "stdout",
     "output_type": "stream",
     "text": [
      "Exception at row 73\n",
      "list index out of range\n"
     ]
    },
    {
     "name": "stderr",
     "output_type": "stream",
     "text": [
      "Processing row 77:   1%|▏         | 77/5456 [02:01<3:28:30,  2.33s/it]"
     ]
    },
    {
     "name": "stdout",
     "output_type": "stream",
     "text": [
      "Exception at row 76\n",
      "list index out of range\n"
     ]
    },
    {
     "name": "stderr",
     "output_type": "stream",
     "text": [
      "Processing row 72:   1%|▏         | 72/5455 [02:01<3:30:52,  2.35s/it]"
     ]
    },
    {
     "name": "stdout",
     "output_type": "stream",
     "text": [
      "Exception at row 71\n",
      "list index out of range\n"
     ]
    },
    {
     "name": "stderr",
     "output_type": "stream",
     "text": [
      "Processing row 75:   1%|▏         | 75/5456 [02:02<2:54:10,  1.94s/it]"
     ]
    },
    {
     "name": "stdout",
     "output_type": "stream",
     "text": [
      "Exception at row 74\n",
      "list index out of range\n"
     ]
    },
    {
     "name": "stderr",
     "output_type": "stream",
     "text": [
      "Processing row 79:   1%|▏         | 79/5456 [02:03<3:32:23,  2.37s/it]"
     ]
    },
    {
     "name": "stdout",
     "output_type": "stream",
     "text": [
      "Exception at row 78\n",
      "list index out of range\n"
     ]
    },
    {
     "name": "stderr",
     "output_type": "stream",
     "text": [
      "Processing row 81:   1%|▏         | 80/5456 [02:03<2:36:31,  1.75s/it]"
     ]
    },
    {
     "name": "stdout",
     "output_type": "stream",
     "text": [
      "Exception at row 78\n",
      "list index out of range\n",
      "Exception at row 79\n",
      "list index out of range\n"
     ]
    },
    {
     "name": "stderr",
     "output_type": "stream",
     "text": [
      "Processing row 80:   1%|▏         | 80/5456 [02:03<1:48:11,  1.21s/it]"
     ]
    },
    {
     "name": "stdout",
     "output_type": "stream",
     "text": [
      "Exception at row 79\n",
      "list index out of range\n"
     ]
    },
    {
     "name": "stderr",
     "output_type": "stream",
     "text": [
      "Processing row 82:   2%|▏         | 82/5456 [02:05<2:09:09,  1.44s/it]"
     ]
    },
    {
     "name": "stdout",
     "output_type": "stream",
     "text": [
      "Exception at row 81\n",
      "list index out of range\n"
     ]
    },
    {
     "name": "stderr",
     "output_type": "stream",
     "text": [
      "Processing row 74:   1%|▏         | 74/5455 [02:05<3:02:09,  2.03s/it]"
     ]
    },
    {
     "name": "stdout",
     "output_type": "stream",
     "text": [
      "Exception at row 73\n",
      "list index out of range\n"
     ]
    },
    {
     "name": "stderr",
     "output_type": "stream",
     "text": [
      "Processing row 77:   1%|▏         | 77/5456 [02:06<2:42:55,  1.82s/it]"
     ]
    },
    {
     "name": "stdout",
     "output_type": "stream",
     "text": [
      "Exception at row 76\n",
      "list index out of range\n"
     ]
    },
    {
     "name": "stderr",
     "output_type": "stream",
     "text": [
      "Processing row 75:   1%|▏         | 75/5455 [02:08<3:07:32,  2.09s/it]"
     ]
    },
    {
     "name": "stdout",
     "output_type": "stream",
     "text": [
      "Exception at row 74\n",
      "list index out of range\n"
     ]
    },
    {
     "name": "stderr",
     "output_type": "stream",
     "text": [
      "Processing row 77:   1%|▏         | 77/5455 [02:09<2:07:52,  1.43s/it]"
     ]
    },
    {
     "name": "stdout",
     "output_type": "stream",
     "text": [
      "Exception at row 83\n",
      "list index out of range\n",
      "Exception at row 76\n",
      "list index out of range\n"
     ]
    },
    {
     "name": "stderr",
     "output_type": "stream",
     "text": [
      "Processing row 85:   2%|▏         | 85/5456 [02:11<2:43:43,  1.83s/it]"
     ]
    },
    {
     "name": "stdout",
     "output_type": "stream",
     "text": [
      "Exception at row 84\n",
      "list index out of range\n"
     ]
    },
    {
     "name": "stderr",
     "output_type": "stream",
     "text": [
      "Processing row 79:   1%|▏         | 78/5455 [02:11<2:24:29,  1.61s/it]"
     ]
    },
    {
     "name": "stdout",
     "output_type": "stream",
     "text": [
      "Exception at row 80\n",
      "list index out of range\n",
      "Exception at row 77\n",
      "list index out of range\n"
     ]
    },
    {
     "name": "stderr",
     "output_type": "stream",
     "text": [
      "Processing row 80:   1%|▏         | 80/5455 [02:12<1:44:39,  1.17s/it]"
     ]
    },
    {
     "name": "stdout",
     "output_type": "stream",
     "text": [
      "Exception at row 79\n",
      "list index out of range\n",
      "Exception at row 79\n",
      "list index out of range\n"
     ]
    },
    {
     "name": "stderr",
     "output_type": "stream",
     "text": [
      "Processing row 81:   1%|▏         | 81/5455 [02:12<1:20:11,  1.12it/s]"
     ]
    },
    {
     "name": "stdout",
     "output_type": "stream",
     "text": [
      "Exception at row 80\n",
      "list index out of range\n"
     ]
    },
    {
     "name": "stderr",
     "output_type": "stream",
     "text": [
      "Processing row 86:   2%|▏         | 86/5456 [02:12<2:34:04,  1.72s/it]"
     ]
    },
    {
     "name": "stdout",
     "output_type": "stream",
     "text": [
      "Exception at row 81\n",
      "list index out of range\n"
     ]
    },
    {
     "name": "stderr",
     "output_type": "stream",
     "text": [
      "Processing row 82:   2%|▏         | 82/5456 [02:14<4:26:50,  2.98s/it]"
     ]
    },
    {
     "name": "stdout",
     "output_type": "stream",
     "text": [
      "Exception at row 81\n",
      "list index out of range\n"
     ]
    },
    {
     "name": "stderr",
     "output_type": "stream",
     "text": [
      "Processing row 83:   2%|▏         | 83/5455 [02:14<1:45:08,  1.17s/it]"
     ]
    },
    {
     "name": "stdout",
     "output_type": "stream",
     "text": [
      "Exception at row 82\n",
      "list index out of range\n"
     ]
    },
    {
     "name": "stderr",
     "output_type": "stream",
     "text": [
      "Processing row 84:   2%|▏         | 84/5455 [02:15<1:26:43,  1.03it/s]"
     ]
    },
    {
     "name": "stdout",
     "output_type": "stream",
     "text": [
      "Exception at row 83\n",
      "list index out of range\n"
     ]
    },
    {
     "name": "stderr",
     "output_type": "stream",
     "text": [
      "Processing row 87:   2%|▏         | 87/5456 [02:16<3:16:38,  2.20s/it]"
     ]
    },
    {
     "name": "stdout",
     "output_type": "stream",
     "text": [
      "Exception at row 86\n",
      "list index out of range\n"
     ]
    },
    {
     "name": "stderr",
     "output_type": "stream",
     "text": [
      "Processing row 88:   2%|▏         | 88/5456 [02:16<2:24:38,  1.62s/it]"
     ]
    },
    {
     "name": "stdout",
     "output_type": "stream",
     "text": [
      "Exception at row 87\n",
      "list index out of range\n"
     ]
    },
    {
     "name": "stderr",
     "output_type": "stream",
     "text": [
      "Processing row 89:   2%|▏         | 89/5456 [02:16<1:48:25,  1.21s/it]"
     ]
    },
    {
     "name": "stdout",
     "output_type": "stream",
     "text": [
      "Exception at row 88\n",
      "list index out of range\n"
     ]
    },
    {
     "name": "stderr",
     "output_type": "stream",
     "text": [
      "Processing row 83:   2%|▏         | 83/5456 [02:17<2:29:19,  1.67s/it]"
     ]
    },
    {
     "name": "stdout",
     "output_type": "stream",
     "text": [
      "Exception at row 89\n",
      "list index out of range\n",
      "Exception at row 82\n",
      "list index out of range\n"
     ]
    },
    {
     "name": "stderr",
     "output_type": "stream",
     "text": [
      "Processing row 86:   2%|▏         | 84/5456 [02:17<1:52:01,  1.25s/it]"
     ]
    },
    {
     "name": "stdout",
     "output_type": "stream",
     "text": [
      "Exception at row 82\n",
      "list index out of range\n",
      "Exception at row 83\n",
      "list index out of range\n"
     ]
    },
    {
     "name": "stderr",
     "output_type": "stream",
     "text": [
      "Processing row 87:   2%|▏         | 87/5456 [02:17<1:20:44,  1.11it/s]"
     ]
    },
    {
     "name": "stdout",
     "output_type": "stream",
     "text": [
      "Exception at row 83\n",
      "list index out of range\n",
      "Exception at row 86\n",
      "list index out of range\n"
     ]
    },
    {
     "name": "stderr",
     "output_type": "stream",
     "text": [
      "Processing row 88:   2%|▏         | 88/5456 [02:19<1:45:18,  1.18s/it]"
     ]
    },
    {
     "name": "stdout",
     "output_type": "stream",
     "text": [
      "Exception at row 85\n",
      "list index out of range\n"
     ]
    },
    {
     "name": "stderr",
     "output_type": "stream",
     "text": [
      "Processing row 87:   2%|▏         | 87/5455 [02:19<1:48:46,  1.22s/it]"
     ]
    },
    {
     "name": "stdout",
     "output_type": "stream",
     "text": [
      "Exception at row 91\n",
      "list index out of range\n",
      "Exception at row 86\n",
      "list index out of range\n"
     ]
    },
    {
     "name": "stderr",
     "output_type": "stream",
     "text": [
      "Processing row 85:   2%|▏         | 85/5456 [02:20<3:25:11,  2.29s/it]"
     ]
    },
    {
     "name": "stdout",
     "output_type": "stream",
     "text": [
      "Exception at row 84\n",
      "list index out of range\n"
     ]
    },
    {
     "name": "stderr",
     "output_type": "stream",
     "text": [
      "Processing row 89:   2%|▏         | 89/5455 [02:21<1:29:56,  1.01s/it]"
     ]
    },
    {
     "name": "stdout",
     "output_type": "stream",
     "text": [
      "Exception at row 88\n",
      "list index out of range\n"
     ]
    },
    {
     "name": "stderr",
     "output_type": "stream",
     "text": [
      "Processing row 87:   2%|▏         | 87/5456 [02:22<2:30:21,  1.68s/it]"
     ]
    },
    {
     "name": "stdout",
     "output_type": "stream",
     "text": [
      "Exception at row 86\n",
      "list index out of range\n"
     ]
    },
    {
     "name": "stderr",
     "output_type": "stream",
     "text": [
      "Processing row 90:   2%|▏         | 90/5455 [02:23<1:50:19,  1.23s/it]"
     ]
    },
    {
     "name": "stdout",
     "output_type": "stream",
     "text": [
      "Exception at row 88\n",
      "list index out of range\n"
     ]
    },
    {
     "name": "stderr",
     "output_type": "stream",
     "text": [
      "Processing row 91:   2%|▏         | 91/5455 [02:23<1:24:11,  1.06it/s]"
     ]
    },
    {
     "name": "stdout",
     "output_type": "stream",
     "text": [
      "Exception at row 89\n",
      "list index out of range\n",
      "Exception at row 90\n",
      "list index out of range\n"
     ]
    },
    {
     "name": "stderr",
     "output_type": "stream",
     "text": [
      "Processing row 88:   2%|▏         | 88/5456 [02:24<2:24:44,  1.62s/it]"
     ]
    },
    {
     "name": "stdout",
     "output_type": "stream",
     "text": [
      "Exception at row 90\n",
      "list index out of range\n"
     ]
    },
    {
     "name": "stderr",
     "output_type": "stream",
     "text": [
      "Processing row 92:   2%|▏         | 92/5455 [02:25<1:38:35,  1.10s/it]"
     ]
    },
    {
     "name": "stdout",
     "output_type": "stream",
     "text": [
      "Exception at row 95\n",
      "list index out of range\n"
     ]
    },
    {
     "name": "stderr",
     "output_type": "stream",
     "text": [
      "Processing row 93:   2%|▏         | 93/5455 [02:25<1:16:43,  1.16it/s]"
     ]
    },
    {
     "name": "stdout",
     "output_type": "stream",
     "text": [
      "Exception at row 96\n",
      "list index out of range\n",
      "Exception at row 92\n",
      "list index out of range\n"
     ]
    },
    {
     "name": "stderr",
     "output_type": "stream",
     "text": [
      "Processing row 89:   2%|▏         | 89/5456 [02:25<2:26:50,  1.64s/it]"
     ]
    },
    {
     "name": "stdout",
     "output_type": "stream",
     "text": [
      "Exception at row 88\n",
      "list index out of range\n"
     ]
    },
    {
     "name": "stderr",
     "output_type": "stream",
     "text": [
      "Processing row 94:   2%|▏         | 94/5455 [02:26<1:08:47,  1.30it/s]"
     ]
    },
    {
     "name": "stdout",
     "output_type": "stream",
     "text": [
      "Exception at row 93\n",
      "list index out of range\n"
     ]
    },
    {
     "name": "stderr",
     "output_type": "stream",
     "text": [
      "Processing row 95:   2%|▏         | 95/5455 [02:26<55:14,  1.62it/s]  "
     ]
    },
    {
     "name": "stdout",
     "output_type": "stream",
     "text": [
      "Exception at row 94\n",
      "list index out of range\n"
     ]
    },
    {
     "name": "stderr",
     "output_type": "stream",
     "text": [
      "Processing row 97:   2%|▏         | 96/5455 [02:26<45:46,  1.95it/s]"
     ]
    },
    {
     "name": "stdout",
     "output_type": "stream",
     "text": [
      "Exception at row 95\n",
      "list index out of range\n"
     ]
    },
    {
     "name": "stderr",
     "output_type": "stream",
     "text": [
      "Processing row 93:   2%|▏         | 93/5456 [02:27<1:59:19,  1.33s/it]"
     ]
    },
    {
     "name": "stdout",
     "output_type": "stream",
     "text": [
      "Exception at row 92\n",
      "list index out of range\n"
     ]
    },
    {
     "name": "stderr",
     "output_type": "stream",
     "text": [
      "Processing row 90:   2%|▏         | 90/5456 [02:28<2:42:05,  1.81s/it]"
     ]
    },
    {
     "name": "stdout",
     "output_type": "stream",
     "text": [
      "Exception at row 89\n",
      "list index out of range\n"
     ]
    },
    {
     "name": "stderr",
     "output_type": "stream",
     "text": [
      "Processing row 91:   2%|▏         | 91/5456 [02:28<2:02:11,  1.37s/it]"
     ]
    },
    {
     "name": "stdout",
     "output_type": "stream",
     "text": [
      "Exception at row 90\n",
      "list index out of range\n",
      "Exception at row 93\n",
      "list index out of range\n"
     ]
    },
    {
     "name": "stderr",
     "output_type": "stream",
     "text": [
      "Processing row 92:   2%|▏         | 92/5456 [02:28<1:33:06,  1.04s/it]"
     ]
    },
    {
     "name": "stdout",
     "output_type": "stream",
     "text": [
      "Exception at row 94\n",
      "list index out of range\n",
      "Exception at row 91\n",
      "list index out of range\n"
     ]
    },
    {
     "name": "stderr",
     "output_type": "stream",
     "text": [
      "Processing row 96:   2%|▏         | 96/5456 [02:29<1:09:18,  1.29it/s]"
     ]
    },
    {
     "name": "stdout",
     "output_type": "stream",
     "text": [
      "Exception at row 95\n",
      "list index out of range\n"
     ]
    },
    {
     "name": "stderr",
     "output_type": "stream",
     "text": [
      "Processing row 98:   2%|▏         | 98/5456 [02:29<2:37:50,  1.77s/it]"
     ]
    },
    {
     "name": "stdout",
     "output_type": "stream",
     "text": [
      "Exception at row 96\n",
      "list index out of range\n",
      "Exception at row 97\n",
      "list index out of range\n"
     ]
    },
    {
     "name": "stderr",
     "output_type": "stream",
     "text": [
      "Processing row 98:   2%|▏         | 98/5455 [02:30<1:18:34,  1.14it/s]"
     ]
    },
    {
     "name": "stdout",
     "output_type": "stream",
     "text": [
      "Exception at row 97\n",
      "list index out of range\n"
     ]
    },
    {
     "name": "stderr",
     "output_type": "stream",
     "text": [
      "Processing row 100:   2%|▏         | 99/5455 [02:30<1:01:56,  1.44it/s]"
     ]
    },
    {
     "name": "stdout",
     "output_type": "stream",
     "text": [
      "Exception at row 98\n",
      "list index out of range\n"
     ]
    },
    {
     "name": "stderr",
     "output_type": "stream",
     "text": [
      "Processing row 101:   2%|▏         | 101/5455 [02:30<46:54,  1.90it/s] "
     ]
    },
    {
     "name": "stdout",
     "output_type": "stream",
     "text": [
      "Exception at row 93\n",
      "list index out of range\n",
      "Exception at row 100\n",
      "list index out of range\n"
     ]
    },
    {
     "name": "stderr",
     "output_type": "stream",
     "text": [
      "Processing row 102:   2%|▏         | 102/5455 [02:30<39:57,  2.23it/s]"
     ]
    },
    {
     "name": "stdout",
     "output_type": "stream",
     "text": [
      "Exception at row 94\n",
      "list index out of range\n",
      "Exception at row 101\n",
      "list index out of range\n"
     ]
    },
    {
     "name": "stderr",
     "output_type": "stream",
     "text": [
      "Processing row 103:   2%|▏         | 103/5455 [02:31<34:58,  2.55it/s]"
     ]
    },
    {
     "name": "stdout",
     "output_type": "stream",
     "text": [
      "Exception at row 95\n",
      "list index out of range\n",
      "Exception at row 102\n",
      "list index out of range\n"
     ]
    },
    {
     "name": "stderr",
     "output_type": "stream",
     "text": [
      "Processing row 97:   2%|▏         | 97/5456 [02:31<44:19,  2.02it/s]"
     ]
    },
    {
     "name": "stdout",
     "output_type": "stream",
     "text": [
      "Exception at row 96\n",
      "list index out of range\n"
     ]
    },
    {
     "name": "stderr",
     "output_type": "stream",
     "text": [
      "Processing row 103:   2%|▏         | 104/5455 [02:31<42:59,  2.07it/s]"
     ]
    },
    {
     "name": "stdout",
     "output_type": "stream",
     "text": [
      "Exception at row 97\n",
      "list index out of range\n",
      "Exception at row 103\n",
      "list index out of range\n",
      "Exception at row 97\n",
      "list index out of range\n"
     ]
    },
    {
     "name": "stderr",
     "output_type": "stream",
     "text": [
      "Processing row 98:   2%|▏         | 98/5456 [02:32<1:53:01,  1.27s/it]"
     ]
    },
    {
     "name": "stdout",
     "output_type": "stream",
     "text": [
      "Exception at row 98\n",
      "list index out of range\n"
     ]
    },
    {
     "name": "stderr",
     "output_type": "stream",
     "text": [
      "Processing row 100:   2%|▏         | 100/5456 [02:32<2:15:33,  1.52s/it]"
     ]
    },
    {
     "name": "stdout",
     "output_type": "stream",
     "text": [
      "Exception at row 104\n",
      "list index out of range\n",
      "Exception at row 99\n",
      "list index out of range\n"
     ]
    },
    {
     "name": "stderr",
     "output_type": "stream",
     "text": [
      "Processing row 101:   2%|▏         | 101/5456 [02:32<1:41:50,  1.14s/it]"
     ]
    },
    {
     "name": "stdout",
     "output_type": "stream",
     "text": [
      "Exception at row 105\n",
      "list index out of range\n",
      "Exception at row 100\n",
      "list index out of range\n"
     ]
    },
    {
     "name": "stderr",
     "output_type": "stream",
     "text": [
      "Processing row 102:   2%|▏         | 102/5456 [02:32<1:18:34,  1.14it/s]"
     ]
    },
    {
     "name": "stdout",
     "output_type": "stream",
     "text": [
      "Exception at row 101\n",
      "list index out of range\n"
     ]
    },
    {
     "name": "stderr",
     "output_type": "stream",
     "text": [
      "Processing row 99:   2%|▏         | 99/5456 [02:33<1:23:56,  1.06it/s]t]"
     ]
    },
    {
     "name": "stdout",
     "output_type": "stream",
     "text": [
      "Exception at row 99\n",
      "list index out of range\n"
     ]
    },
    {
     "name": "stderr",
     "output_type": "stream",
     "text": [
      "Processing row 103:   2%|▏         | 103/5456 [02:34<1:35:17,  1.07s/it]"
     ]
    },
    {
     "name": "stdout",
     "output_type": "stream",
     "text": [
      "Exception at row 100\n",
      "list index out of range\n",
      "Exception at row 99\n",
      "list index out of range\n",
      "Exception at row 102\n",
      "list index out of range\n"
     ]
    },
    {
     "name": "stderr",
     "output_type": "stream",
     "text": [
      "Processing row 104:   2%|▏         | 104/5456 [02:34<1:14:43,  1.19it/s]"
     ]
    },
    {
     "name": "stdout",
     "output_type": "stream",
     "text": [
      "Exception at row 101\n",
      "list index out of range\n",
      "Exception at row 103\n",
      "list index out of range\n"
     ]
    },
    {
     "name": "stderr",
     "output_type": "stream",
     "text": [
      "Processing row 105:   2%|▏         | 105/5456 [02:34<59:09,  1.51it/s]  "
     ]
    },
    {
     "name": "stdout",
     "output_type": "stream",
     "text": [
      "Exception at row 104\n",
      "list index out of range\n"
     ]
    },
    {
     "name": "stderr",
     "output_type": "stream",
     "text": [
      "Processing row 110:   2%|▏         | 108/5455 [02:35<1:12:24,  1.23it/s]"
     ]
    },
    {
     "name": "stdout",
     "output_type": "stream",
     "text": [
      "Exception at row 107\n",
      "list index out of range\n"
     ]
    },
    {
     "name": "stderr",
     "output_type": "stream",
     "text": [
      "Processing row 111:   2%|▏         | 111/5455 [02:35<53:00,  1.68it/s]  "
     ]
    },
    {
     "name": "stdout",
     "output_type": "stream",
     "text": [
      "Exception at row 110\n",
      "list index out of range\n"
     ]
    },
    {
     "name": "stderr",
     "output_type": "stream",
     "text": [
      "Processing row 103:   2%|▏         | 103/5456 [02:36<1:25:46,  1.04it/s]"
     ]
    },
    {
     "name": "stdout",
     "output_type": "stream",
     "text": [
      "Exception at row 101\n",
      "list index out of range\n"
     ]
    },
    {
     "name": "stderr",
     "output_type": "stream",
     "text": [
      "Processing row 104:   2%|▏         | 104/5456 [02:36<1:07:22,  1.32it/s]"
     ]
    },
    {
     "name": "stdout",
     "output_type": "stream",
     "text": [
      "Exception at row 105\n",
      "list index out of range\n",
      "Exception at row 102\n",
      "list index out of range\n",
      "Exception at row 103\n",
      "list index out of range\n"
     ]
    },
    {
     "name": "stderr",
     "output_type": "stream",
     "text": [
      "Processing row 105:   2%|▏         | 105/5456 [02:36<54:12,  1.65it/s]  "
     ]
    },
    {
     "name": "stdout",
     "output_type": "stream",
     "text": [
      "Exception at row 106\n",
      "list index out of range\n",
      "Exception at row 103\n",
      "list index out of range\n",
      "Exception at row 104\n",
      "list index out of range\n"
     ]
    },
    {
     "name": "stderr",
     "output_type": "stream",
     "text": [
      "Processing row 106:   2%|▏         | 106/5456 [02:37<45:08,  1.98it/s]  "
     ]
    },
    {
     "name": "stdout",
     "output_type": "stream",
     "text": [
      "Exception at row 107\n",
      "list index out of range\n",
      "Exception at row 105\n",
      "list index out of range\n"
     ]
    },
    {
     "name": "stderr",
     "output_type": "stream",
     "text": [
      "Processing row 107:   2%|▏         | 107/5456 [02:37<38:37,  2.31it/s]"
     ]
    },
    {
     "name": "stdout",
     "output_type": "stream",
     "text": [
      "Exception at row 106\n",
      "list index out of range\n"
     ]
    },
    {
     "name": "stderr",
     "output_type": "stream",
     "text": [
      "Processing row 112:   2%|▏         | 112/5455 [02:38<2:09:32,  1.45s/it]"
     ]
    },
    {
     "name": "stdout",
     "output_type": "stream",
     "text": [
      "Exception at row 111\n",
      "list index out of range\n"
     ]
    },
    {
     "name": "stderr",
     "output_type": "stream",
     "text": [
      "Processing row 109:   2%|▏         | 109/5456 [02:39<1:34:56,  1.07s/it]"
     ]
    },
    {
     "name": "stdout",
     "output_type": "stream",
     "text": [
      "Exception at row 112Exception at row 108\n",
      "list index out of range\n",
      "\n",
      "list index out of range\n"
     ]
    },
    {
     "name": "stderr",
     "output_type": "stream",
     "text": [
      "Processing row 109:   2%|▏         | 109/5456 [02:39<1:04:22,  1.38it/s]"
     ]
    },
    {
     "name": "stdout",
     "output_type": "stream",
     "text": [
      "Exception at row 113\n",
      "list index out of range\n",
      "Exception at row 108\n",
      "list index out of range\n"
     ]
    },
    {
     "name": "stderr",
     "output_type": "stream",
     "text": [
      "Processing row 110:   2%|▏         | 110/5456 [02:39<52:01,  1.71it/s]  "
     ]
    },
    {
     "name": "stdout",
     "output_type": "stream",
     "text": [
      "Exception at row 109\n",
      "list index out of range\n"
     ]
    },
    {
     "name": "stderr",
     "output_type": "stream",
     "text": [
      "Processing row 111:   2%|▏         | 111/5456 [02:40<43:29,  2.05it/s]"
     ]
    },
    {
     "name": "stdout",
     "output_type": "stream",
     "text": [
      "Exception at row 110\n",
      "list index out of range\n"
     ]
    },
    {
     "name": "stderr",
     "output_type": "stream",
     "text": [
      "Processing row 110:   2%|▏         | 110/5456 [02:40<1:51:57,  1.26s/it]"
     ]
    },
    {
     "name": "stdout",
     "output_type": "stream",
     "text": [
      "Exception at row 114\n",
      "list index out of range\n"
     ]
    },
    {
     "name": "stderr",
     "output_type": "stream",
     "text": [
      "Processing row 111:   2%|▏         | 111/5456 [02:41<1:25:29,  1.04it/s]"
     ]
    }
   ],
   "source": [
    "for i in range(WORKERS_NUM):\n",
    "    t = Price(split_list[i])\n",
    "    t.start()"
   ]
  },
  {
   "cell_type": "code",
   "execution_count": 49,
   "metadata": {},
   "outputs": [
    {
     "data": {
      "text/plain": [
       "'<button class=\"_1ovr-S _15Ikr8 _20uSE4 _2X_Irl tvod-button av-button\" type=\"submit\"><span class=\"_36qUej\">Buy <span class=\"dv-conditional-linebreak\"><br/></span><strong>HD</strong> $6.99</span></button>'"
      ]
     },
     "execution_count": 49,
     "metadata": {},
     "output_type": "execute_result"
    }
   ],
   "source": []
  },
  {
   "cell_type": "code",
   "execution_count": null,
   "metadata": {},
   "outputs": [],
   "source": []
  }
 ],
 "metadata": {
  "kernelspec": {
   "display_name": "Python 3",
   "language": "python",
   "name": "python3"
  },
  "language_info": {
   "codemirror_mode": {
    "name": "ipython",
    "version": 3
   },
   "file_extension": ".py",
   "mimetype": "text/x-python",
   "name": "python",
   "nbconvert_exporter": "python",
   "pygments_lexer": "ipython3",
   "version": "3.8.5"
  }
 },
 "nbformat": 4,
 "nbformat_minor": 5
}
